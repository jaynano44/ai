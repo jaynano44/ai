{
 "cells": [
  {
   "cell_type": "code",
   "execution_count": null,
   "id": "22e13eb9",
   "metadata": {},
   "outputs": [],
   "source": [
    "from IPython.display import display, HTML\n",
    "display(HTML(\"\"\"\n",
    "<style>\n",
    "div.container{width:90% !important;}\n",
    "div.cell.code_cell.rendered{width:100%;}\n",
    "div.input_prompt{padding:0px;}\n",
    "div.CodeMirror {font-family:Consolas; font-size:12pt;}\n",
    "div.text_cell_render.rendered_html{font-size:12pt;}\n",
    "div.output {font-size:12pt; font-weight:bold;}\n",
    "div.input {font-family:Consolas; font-size:12pt;}\n",
    "div.prompt {min-width:70px;}\n",
    "div#toc-wrapper{padding-top:120px;}\n",
    "div.text_cell_render ul li{font-size:12pt;padding:5px;}\n",
    "table.dataframe{font-size:12px;}\n",
    "</style>\n",
    "\"\"\"))"
   ]
  },
  {
   "cell_type": "markdown",
   "id": "e8a3733f",
   "metadata": {},
   "source": [
    "<b><font size=\"6\"  color=\"red\">ch01. 파이썬  개요 및 환경 설정 </font></b>\n",
    "\n",
    "# 1. 마크다운이란?\n",
    "- 코드와 함께 문서환 할 수 있음\n",
    "- 다양한 문서화 문법  ex. README.md   \n",
    "# 2.  주피터 노트북 사용법\n",
    "-shift+Enter : 포커스된 셀이 실행되고, 커서가 다음셀로 이동\n",
    "-alt+Enter: 포커스된 셀이 실행되고, 다음 셀이 생성된 후, 다음셀로 이동\n",
    "-ctrl+Enter: 포커스된 셀이 실행되고, 포커스 이동이 없음\n",
    "-Enter: 다시 편집상태로 돌아감"
   ]
  },
  {
   "cell_type": "code",
   "execution_count": null,
   "id": "d0d441b0",
   "metadata": {},
   "outputs": [],
   "source": [
    "# 셀 하나하나에 파이썬 소스 입력 --> 실행"
   ]
  },
  {
   "cell_type": "code",
   "execution_count": null,
   "id": "a37fa383",
   "metadata": {},
   "outputs": [],
   "source": [
    "# print()함수를 이용해서 출력 (블럭잡고 ctrl+/ : 블럭주석 토글)\n",
    "# print('Hello, Python')\n",
    "# print('홍길동')\n",
    "print(\"Hello. Python\\n홍길동\")"
   ]
  },
  {
   "cell_type": "code",
   "execution_count": null,
   "id": "145e97ff",
   "metadata": {},
   "outputs": [],
   "source": [
    "age = 25  #숫자\n",
    "duration = \"2\" #문자\n",
    "print(age + int(duration))\n",
    "print(str(age) + duration)\n",
    "# view 메뉴 -> toggle Line Number 선택"
   ]
  },
  {
   "cell_type": "code",
   "execution_count": null,
   "id": "c5c11ac5",
   "metadata": {},
   "outputs": [],
   "source": [
    "# for i in range(1000000000000000000000000000000000000000000):\n",
    "#     print(i)\n",
    "# stop 기능\n",
    "# kernel 메뉴의 restart\n"
   ]
  },
  {
   "cell_type": "code",
   "execution_count": null,
   "id": "87b558c9",
   "metadata": {},
   "outputs": [],
   "source": [
    "print = 5\n",
    "print"
   ]
  },
  {
   "cell_type": "code",
   "execution_count": null,
   "id": "a4dc55b7",
   "metadata": {},
   "outputs": [],
   "source": [
    "print('Hello')"
   ]
  },
  {
   "cell_type": "code",
   "execution_count": null,
   "id": "ccfc5bea",
   "metadata": {},
   "outputs": [],
   "source": [
    "# 실수로 할당된 print 변수를 삭제1\n",
    "del print \n",
    "# 실수로 할당된 print 변수를 삭제2 : kernel 재시작"
   ]
  },
  {
   "cell_type": "code",
   "execution_count": null,
   "id": "2a541cb7",
   "metadata": {},
   "outputs": [],
   "source": [
    "print('Hello')"
   ]
  },
  {
   "cell_type": "markdown",
   "id": "15ee51e4",
   "metadata": {},
   "source": [
    "# 3. ESC 키 누르구 \n",
    "dd : 셀삭제\n",
    "a : 윗셀 추가\n",
    "b  : 아래셀 추가\n",
    "m  : 마크,다운 셀로 변경\n",
    "y : 코드셀로 변경\n",
    "h : 핫키(단축키) 안내\n",
    "o : 해당셀의 실행결과 접기/펴기 "
   ]
  },
  {
   "cell_type": "code",
   "execution_count": 2,
   "id": "6543598a",
   "metadata": {
    "collapsed": true
   },
   "outputs": [
    {
     "name": "stdout",
     "output_type": "stream",
     "text": [
      " C 드라이브의 볼륨에는 이름이 없습니다.\n",
      " 볼륨 일련 번호: A014-DCD6\n",
      "\n",
      " C:\\ai\\source\\01_python 디렉터리\n",
      "\n",
      "2025-09-12  오전 10:52    <DIR>          .\n",
      "2025-09-12  오전 10:52    <DIR>          ..\n",
      "2025-09-11  오후 05:29    <DIR>          .ipynb_checkpoints\n",
      "2025-09-12  오전 10:52             6,755 ch01_파이썬 개요 및 환경 설정.ipynb\n",
      "               1개 파일               6,755 바이트\n",
      "               3개 디렉터리  156,443,500,544 바이트 남음\n"
     ]
    }
   ],
   "source": [
    "# ! 주피터노트북에서 cmd명령어 수행\n",
    "!dir\n"
   ]
  },
  {
   "cell_type": "code",
   "execution_count": 1,
   "id": "2a042fb0",
   "metadata": {},
   "outputs": [
    {
     "name": "stdout",
     "output_type": "stream",
     "text": [
      " C 드라이브의 볼륨에는 이름이 없습니다.\n",
      " 볼륨 일련 번호: A014-DCD6\n",
      "\n",
      " C:\\ai\\source\\01_python 디렉터리\n",
      "\n",
      "2025-09-12  오전 10:52    <DIR>          .\n",
      "2025-09-12  오전 10:52    <DIR>          ..\n",
      "2025-09-11  오후 05:29    <DIR>          .ipynb_checkpoints\n",
      "2025-09-12  오전 10:52             6,755 ch01_파이썬 개요 및 환경 설정.ipynb\n",
      "               1개 파일               6,755 바이트\n",
      "               3개 디렉터리  156,443,516,928 바이트 남음\n"
     ]
    }
   ],
   "source": [
    "# 매직 명령어(주피터노트북 자체 명령어)\n",
    "%ls"
   ]
  },
  {
   "cell_type": "code",
   "execution_count": null,
   "id": "87760aae",
   "metadata": {},
   "outputs": [],
   "source": []
  },
  {
   "cell_type": "code",
   "execution_count": null,
   "id": "77d51514",
   "metadata": {},
   "outputs": [],
   "source": []
  },
  {
   "cell_type": "code",
   "execution_count": null,
   "id": "6265f3de",
   "metadata": {},
   "outputs": [],
   "source": []
  },
  {
   "cell_type": "code",
   "execution_count": null,
   "id": "1b7f979a",
   "metadata": {},
   "outputs": [],
   "source": []
  }
 ],
 "metadata": {
  "kernelspec": {
   "display_name": "Python 3 (ipykernel)",
   "language": "python",
   "name": "python3"
  },
  "language_info": {
   "codemirror_mode": {
    "name": "ipython",
    "version": 3
   },
   "file_extension": ".py",
   "mimetype": "text/x-python",
   "name": "python",
   "nbconvert_exporter": "python",
   "pygments_lexer": "ipython3",
   "version": "3.10.9"
  },
  "toc": {
   "base_numbering": 1,
   "nav_menu": {},
   "number_sections": false,
   "sideBar": true,
   "skip_h1_title": false,
   "title_cell": "Table of Contents",
   "title_sidebar": "Contents",
   "toc_cell": false,
   "toc_position": {},
   "toc_section_display": true,
   "toc_window_display": true
  }
 },
 "nbformat": 4,
 "nbformat_minor": 5
}
