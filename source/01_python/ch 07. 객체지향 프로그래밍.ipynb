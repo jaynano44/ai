{
 "cells": [
  {
   "cell_type": "code",
   "execution_count": 1,
   "id": "e636b641",
   "metadata": {},
   "outputs": [
    {
     "data": {
      "text/html": [
       "\n",
       "<style>\n",
       "div.container{width:90% !important;}\n",
       "div.cell.code_cell.rendered{width:100%;}\n",
       "div.input_prompt{padding:0px;}\n",
       "div.CodeMirror {font-family:Consolas; font-size:12pt;}\n",
       "div.text_cell_render.rendered_html{font-size:12pt;}\n",
       "div.output {font-size:12pt; font-weight:bold;}\n",
       "div.input {font-family:Consolas; font-size:12pt;}\n",
       "div.prompt {min-width:70px;}\n",
       "div#toc-wrapper{padding-top:120px;}\n",
       "div.text_cell_render ul li{font-size:12pt;padding:5px;}\n",
       "table.dataframe{font-size:12px;}\n",
       "</style>\n"
      ],
      "text/plain": [
       "<IPython.core.display.HTML object>"
      ]
     },
     "metadata": {},
     "output_type": "display_data"
    }
   ],
   "source": [
    "from IPython.display import display, HTML\n",
    "display(HTML(\"\"\"\n",
    "<style>\n",
    "div.container{width:90% !important;}\n",
    "div.cell.code_cell.rendered{width:100%;}\n",
    "div.input_prompt{padding:0px;}\n",
    "div.CodeMirror {font-family:Consolas; font-size:12pt;}\n",
    "div.text_cell_render.rendered_html{font-size:12pt;}\n",
    "div.output {font-size:12pt; font-weight:bold;}\n",
    "div.input {font-family:Consolas; font-size:12pt;}\n",
    "div.prompt {min-width:70px;}\n",
    "div#toc-wrapper{padding-top:120px;}\n",
    "div.text_cell_render ul li{font-size:12pt;padding:5px;}\n",
    "table.dataframe{font-size:12px;}\n",
    "</style>\n",
    "\"\"\"))"
   ]
  },
  {
   "cell_type": "markdown",
   "id": "2583ce16",
   "metadata": {},
   "source": [
    "<b><font size=\"6\"  color=\"red\">ch07. 객체지향 프로그래밍 </font></b>"
   ]
  },
  {
   "cell_type": "markdown",
   "id": "b0fe1d47",
   "metadata": {},
   "source": [
    "### *클래스 생성"
   ]
  },
  {
   "cell_type": "code",
   "execution_count": 2,
   "id": "760fc8eb",
   "metadata": {},
   "outputs": [
    {
     "name": "stdout",
     "output_type": "stream",
     "text": [
      "홍길동 남자\n",
      "{'name': '홍낄뚱', 'gender': '남자', 'academy': 'MBC'}\n",
      "{'name': '김길숙', 'gender': '여자', 'academy': 'MBC'}\n"
     ]
    }
   ],
   "source": [
    "person1={'name':'홍길동','gender':'남자','academy':'MBC'}\n",
    "person2={'name':'김길숙','gender':'여자','academy':'MBC'}\n",
    "print(person1['name'],person1.get('gender'))\n",
    "person1['name']=\"홍낄뚱\"\n",
    "print(person1)\n",
    "print(person2)\n",
    "#person1.my_function()"
   ]
  },
  {
   "cell_type": "code",
   "execution_count": 3,
   "id": "b5732ea5",
   "metadata": {},
   "outputs": [
    {
     "name": "stdout",
     "output_type": "stream",
     "text": [
      "MBC의 김길숙님은 여자입니다\n",
      "MBC의 홍길동님은 남자입니다\n",
      "============================\n",
      "MBC의 홍홍홍님은 여자입니다\n",
      "MBC의 홍길동님은 남자입니다\n",
      "<__main__.Person object at 0x000001BA8F0943A0>\n"
     ]
    }
   ],
   "source": [
    "class Person:\n",
    "    academy='MBC' #클래스변수\n",
    "    def __init__(self,name,gender): #생성자 함수 / self 필수.\n",
    "        self.name=name\n",
    "        self.gender=gender\n",
    "    def print_info(self):\n",
    "        print(\"{}의 {}님은 {}입니다\".format(self.academy,self.name,self.gender))\n",
    "        \n",
    "p1=Person(\"김길숙\",\"여자\") #객체변수(인스턴스) 생성\n",
    "p1.print_info()\n",
    "p2=Person(\"홍길동\",\"남자\")\n",
    "p2.print_info()\n",
    "print(\"============================\")\n",
    "p1.name=\"홍홍홍\"\n",
    "p1.print_info()\n",
    "p2.print_info()\n",
    "print(p1)"
   ]
  },
  {
   "cell_type": "code",
   "execution_count": 4,
   "id": "ff81fda3",
   "metadata": {},
   "outputs": [
    {
     "name": "stdout",
     "output_type": "stream",
     "text": [
      "SBS의 홍길동님은 남자입니다\n",
      "MBC의 홍홍홍님은 여자입니다\n"
     ]
    }
   ],
   "source": [
    "p2.academy='SBS'\n",
    "p2.print_info()\n",
    "p1.print_info()"
   ]
  },
  {
   "cell_type": "markdown",
   "id": "5cedcc13",
   "metadata": {},
   "source": [
    "# 1절 객체와 클래스\n",
    "\n",
    "```\n",
    "class 클래스명(상속받을 클래스명):\n",
    "    \"독스트링\"\n",
    "    변수나 함수들을 선언\n",
    "```"
   ]
  },
  {
   "cell_type": "code",
   "execution_count": 5,
   "id": "b1434a0c",
   "metadata": {},
   "outputs": [
    {
     "data": {
      "text/plain": [
       "__main__.Person"
      ]
     },
     "execution_count": 5,
     "metadata": {},
     "output_type": "execute_result"
    }
   ],
   "source": [
    "class Person:\n",
    "    \"Person 클래스는 어쩌구 어쩌구 여러줄 설명하는 독스트링\"\n",
    "    pass \n",
    "#     def __init__(self,name): #생성자 함수 / self 필수.\n",
    "#         self.name=name\n",
    "                          \n",
    "#     def __init__(self,name): # 생성자 함수가 없을때 ,memory에 로딩될때 자동적으로 생성\n",
    "#        pass \n",
    "        \n",
    "p1 =Person()\n",
    "type(p1)"
   ]
  },
  {
   "cell_type": "code",
   "execution_count": 6,
   "id": "b4c5ed82",
   "metadata": {},
   "outputs": [
    {
     "name": "stdout",
     "output_type": "stream",
     "text": [
      "<__main__.Person object at 0x000001BA8F097250>\n",
      "<__main__.Person object at 0x000001BA8F097250>\n"
     ]
    }
   ],
   "source": [
    "print(p1)\n",
    "print(p1.__str__())"
   ]
  },
  {
   "cell_type": "code",
   "execution_count": 7,
   "id": "909c41f3",
   "metadata": {},
   "outputs": [
    {
     "data": {
      "text/plain": [
       "True"
      ]
     },
     "execution_count": 7,
     "metadata": {},
     "output_type": "execute_result"
    }
   ],
   "source": [
    "isinstance(p1,Person)"
   ]
  },
  {
   "cell_type": "code",
   "execution_count": 8,
   "id": "60424912",
   "metadata": {},
   "outputs": [
    {
     "data": {
      "text/plain": [
       "'Person 클래스는 어쩌구 어쩌구 여러줄 설명하는 독스트링'"
      ]
     },
     "execution_count": 8,
     "metadata": {},
     "output_type": "execute_result"
    }
   ],
   "source": [
    "p1.__doc__"
   ]
  },
  {
   "cell_type": "markdown",
   "id": "88c6c197",
   "metadata": {},
   "source": [
    "# 2절 생성자(`__init__()`)와 소멸자(`__del__()`)\n",
    "\n",
    "- 생성자 : __init__(self,[매개변수1,매개변수2..]) - 객체가 생성될 때 자동 실행\n",
    "          객체 생성시 필요한 코드(인스턴스 변수 생성과 초기화)를 포함한다.\n",
    "- 소멸자 : __del__(self)  - 객체가 소멸될 때 자동실행.\n",
    "          객체 소멸시 필요한 코드를 포함\n",
    "          인스턴스(객체)의 레퍼런스 카운트가 0이 될 때 실행"
   ]
  },
  {
   "cell_type": "code",
   "execution_count": 9,
   "id": "afc2e533",
   "metadata": {},
   "outputs": [],
   "source": [
    "class Person:\n",
    "    def __init__(self,name,gender):\n",
    "        self.name=name       #인스턴스 변수를 초기화\n",
    "        self.gender=gender\n",
    "        print(\"Person형 객체를 생성\")\n",
    "    def __del__(self):\n",
    "        print(\"Person형 객체 소멸\")\n",
    "    def print_info(self):\n",
    "        print(\"{}님은 {}입니다\".format(self.name,self.gender))\n",
    "    def __str__(self):         #오버라이딩(함수의 재정의)\n",
    "        return \"{}님은 {}입니다\".format(self.name,self.gender)"
   ]
  },
  {
   "cell_type": "code",
   "execution_count": 10,
   "id": "ae6e62e1",
   "metadata": {},
   "outputs": [
    {
     "name": "stdout",
     "output_type": "stream",
     "text": [
      "Person형 객체를 생성\n"
     ]
    }
   ],
   "source": [
    "p1=Person(\"신사임당\",\"여자\")\n"
   ]
  },
  {
   "cell_type": "code",
   "execution_count": 11,
   "id": "c2593623",
   "metadata": {},
   "outputs": [
    {
     "name": "stdout",
     "output_type": "stream",
     "text": [
      "신사임당님은 여자입니다\n"
     ]
    }
   ],
   "source": [
    "p1.print_info()"
   ]
  },
  {
   "cell_type": "code",
   "execution_count": 12,
   "id": "16ed95b8",
   "metadata": {},
   "outputs": [
    {
     "name": "stdout",
     "output_type": "stream",
     "text": [
      "신사임당님은 여자입니다\n",
      "신사임당님은 여자입니다\n"
     ]
    }
   ],
   "source": [
    "print(p1)\n",
    "print(p1.__str__())"
   ]
  },
  {
   "cell_type": "code",
   "execution_count": 13,
   "id": "8e2e6194",
   "metadata": {},
   "outputs": [
    {
     "data": {
      "text/plain": [
       "(__main__.Person, True)"
      ]
     },
     "execution_count": 13,
     "metadata": {},
     "output_type": "execute_result"
    }
   ],
   "source": [
    "type(p1),isinstance(p1,Person)"
   ]
  },
  {
   "cell_type": "code",
   "execution_count": 14,
   "id": "b3cc9d84",
   "metadata": {},
   "outputs": [
    {
     "name": "stdout",
     "output_type": "stream",
     "text": [
      "Person형 객체 소멸\n"
     ]
    }
   ],
   "source": [
    "del p1"
   ]
  },
  {
   "cell_type": "code",
   "execution_count": 15,
   "id": "2a1382ef",
   "metadata": {},
   "outputs": [
    {
     "name": "stdout",
     "output_type": "stream",
     "text": [
      "Person형 객체를 생성\n"
     ]
    }
   ],
   "source": [
    "p2=Person(\"홍길동\",\"남자\")"
   ]
  },
  {
   "cell_type": "code",
   "execution_count": 16,
   "id": "4594cc5d",
   "metadata": {},
   "outputs": [],
   "source": [
    "p3=p2"
   ]
  },
  {
   "cell_type": "code",
   "execution_count": 17,
   "id": "5cbafe01",
   "metadata": {},
   "outputs": [],
   "source": [
    "del p2"
   ]
  },
  {
   "cell_type": "code",
   "execution_count": 18,
   "id": "991b1b84",
   "metadata": {},
   "outputs": [
    {
     "name": "stdout",
     "output_type": "stream",
     "text": [
      "Person형 객체 소멸\n"
     ]
    }
   ],
   "source": [
    "del p3"
   ]
  },
  {
   "cell_type": "markdown",
   "id": "a0b6b25e",
   "metadata": {},
   "source": [
    "## **오버라이딩** **오버로딩**\n",
    "- 파이썬은 **오버라이딩** (함수의 재정의)   불가  \n",
    "- 생성자함수 **오버로딩**   (함수의 중복정의) 불가"
   ]
  },
  {
   "cell_type": "code",
   "execution_count": 19,
   "id": "08d1eb3f",
   "metadata": {},
   "outputs": [],
   "source": [
    "class Person:\n",
    "    #생성자함수의 오러로딩 불가. 대신 기본값을 갖는 매개변수 이용\n",
    "    def __init__(self,name,gender=\"남자\"):\n",
    "        self.name=name       #인스턴스 변수를 초기화\n",
    "        self.gender=gender\n",
    "        print(\"Person형 객체를 생성\")\n",
    "#     def __init__(self,name):\n",
    "#         self.name=name\n",
    "#         self.gender=\"남자\"\n",
    "\n",
    "    def print_info(self):\n",
    "        print(\"{}님은 {}입니다\".format(self.name,self.gender))\n",
    "    def __str__(self):         #오버라이딩(함수의 재정의)\n",
    "        return \"{}님은 {}입니다\".format(self.name,self.gender)"
   ]
  },
  {
   "cell_type": "code",
   "execution_count": 20,
   "id": "3cc1d8a2",
   "metadata": {},
   "outputs": [
    {
     "name": "stdout",
     "output_type": "stream",
     "text": [
      "Person형 객체를 생성\n",
      "Person형 객체를 생성\n",
      "Person형 객체를 생성\n",
      "p1= 홍길동님은 남자입니다\n",
      "p2= 홍길동님은 남자입니다\n",
      "p3= 강감찬님은 남자입니다\n"
     ]
    }
   ],
   "source": [
    "p1=Person(\"홍길동\",\"남자\")\n",
    "p2=Person(gender=\"남자\",name=\"홍길동\")\n",
    "p3=Person(\"강감찬\")\n",
    "print('p1=',p1)\n",
    "print('p2=',p2)\n",
    "print('p3=',p3)"
   ]
  },
  {
   "cell_type": "code",
   "execution_count": 21,
   "id": "ffc030b9",
   "metadata": {},
   "outputs": [
    {
     "ename": "SyntaxError",
     "evalue": "invalid syntax (400846415.py, line 3)",
     "output_type": "error",
     "traceback": [
      "\u001b[1;36m  Cell \u001b[1;32mIn[21], line 3\u001b[1;36m\u001b[0m\n\u001b[1;33m    def __init__(self,gender,,name='홍길동'): # 순서인수가 먼저 기재해야함\u001b[0m\n\u001b[1;37m                             ^\u001b[0m\n\u001b[1;31mSyntaxError\u001b[0m\u001b[1;31m:\u001b[0m invalid syntax\n"
     ]
    }
   ],
   "source": [
    "class Person:\n",
    "    \n",
    "    def __init__(self,gender,,name='홍길동'): # 순서인수가 먼저 기재해야함\n",
    "        self.name=name       #인스턴스 변수를 초기화\n",
    "        self.gender=gender\n",
    "        print(\"Person형 객체를 생성\")\n",
    "#     def __init__(self,name):\n",
    "#         self.name=name\n",
    "#         self.gender=\"남자\"\n",
    "\n",
    "    def print_info(self):\n",
    "        print(\"{}님은 {}입니다\".format(self.name,self.gender))\n",
    "    def __str__(self):         #오버라이딩(함수의 재정의)\n",
    "        return \"{}님은 {}입니다\".format(self.name,self.gender)"
   ]
  },
  {
   "cell_type": "code",
   "execution_count": 2,
   "id": "c4c8758c",
   "metadata": {},
   "outputs": [],
   "source": [
    "class Person:\n",
    "    \n",
    "    def __init__(self,name='홍길동',gender=\"남자\"):\n",
    "        self.name=name       #인스턴스 변수를 초기화\n",
    "        self.gender=gender\n",
    "        print(\"Person형 객체를 생성\")\n",
    "#     def __init__(self,name):\n",
    "#         self.name=name\n",
    "#         self.gender=\"남자\"\n",
    "\n",
    "    def print_info(self):\n",
    "        print(\"{}님은 {}입니다\".format(self.name,self.gender))\n",
    "    def __str__(self):         #오버라이딩(함수의 재정의)\n",
    "        return \"{}님은 {}입니다\".format(self.name,self.gender)"
   ]
  },
  {
   "cell_type": "code",
   "execution_count": 3,
   "id": "8dfa62a5",
   "metadata": {},
   "outputs": [
    {
     "name": "stdout",
     "output_type": "stream",
     "text": [
      "Person형 객체를 생성\n",
      "Person형 객체를 생성\n",
      "Person형 객체를 생성\n",
      "Person형 객체를 생성\n",
      "Person형 객체를 생성\n",
      "Person형 객체를 생성\n"
     ]
    }
   ],
   "source": [
    "p1=Person(\"김길숙\",\"여자\")\n",
    "p2=Person(\"강감찬\")\n",
    "p3=Person()\n",
    "p4=Person(\"여자\")\n",
    "p5=Person(gender=\"여자\")\n",
    "p6=Person(gender=\"여자\",name=\"홍이쁨\")"
   ]
  },
  {
   "cell_type": "code",
   "execution_count": 4,
   "id": "569bfb29",
   "metadata": {},
   "outputs": [
    {
     "name": "stdout",
     "output_type": "stream",
     "text": [
      "p1= 김길숙님은 여자입니다\n",
      "p2= 강감찬님은 남자입니다\n",
      "p3= 홍길동님은 남자입니다\n",
      "p4= 여자님은 남자입니다\n",
      "p5= 홍길동님은 여자입니다\n",
      "p6= 홍이쁨님은 여자입니다\n"
     ]
    }
   ],
   "source": [
    "print('p1=',p1)\n",
    "print('p2=',p2)\n",
    "print('p3=',p3)\n",
    "print('p4=',p4)\n",
    "print('p5=',p5)\n",
    "print('p6=',p6)"
   ]
  },
  {
   "cell_type": "markdown",
   "id": "c857e745",
   "metadata": {},
   "source": [
    "# 3절 변수와 메소드(함수)\n",
    "\n",
    "- 인스턴스변수 vs 클래스변수 vs static변수(정적변수)\n",
    "- 인스턴스메소드(self) vs 클래스메소드(cls) vs static메소드()\n"
   ]
  },
  {
   "cell_type": "markdown",
   "id": "ae753cf5",
   "metadata": {},
   "source": [
    "## <b><font size=\"2\"  color=\"red\">※ 주의 ※ 인스턴스(객체).클래스변수 </font></b>"
   ]
  },
  {
   "cell_type": "code",
   "execution_count": 5,
   "id": "c7f77e8c",
   "metadata": {},
   "outputs": [
    {
     "name": "stdout",
     "output_type": "stream",
     "text": [
      "MBC\n",
      "p1객체변수(인스턴스)= MBC의 홍길동님은 남자입니다\n",
      "p2객체변수(인스턴스)= MBC의 홍길동님은 남자입니다\n",
      "p1객체변수(인스턴스)= SBS의 홍길동님은 남자입니다\n",
      "p2객체변수(인스턴스)= MBC의 홍길동님은 남자입니다\n",
      "p1객체변수(인스턴스)= SBS의 홍길동님은 남자입니다\n",
      "p2객체변수(인스턴스)= 다른데의 홍길동님은 남자입니다\n"
     ]
    }
   ],
   "source": [
    "# 클래스 변수는 클래스 내부에 선언되며, 생성된 모든 인스턴스 (객체)에 동일한 값을 가진다.\n",
    "# 인스턴스(객체).클래스변수로 수정하면 해당 인스턴스(객체)만 반영\n",
    "# 클래스명.클래스변수로 수정하면 모든 인스턴스에 반영\n",
    "class Person:\n",
    "    academy='MBC' #클래스변수\n",
    "    def __init__(self,name=\"홍길동\",gender=\"남자\"): #생성자 함수 / self 필수.\n",
    "        self.name=name\n",
    "        self.gender=gender\n",
    "    def __str__(self):\n",
    "        return \"{}의 {}님은 {}입니다\".format(self.academy,self.name,self.gender)\n",
    "        \n",
    "print(Person.academy)\n",
    "# print(Person.name)\n",
    "p1=Person()\n",
    "p2=Person()\n",
    "print('p1객체변수(인스턴스)=',p1.__str__())\n",
    "print('p2객체변수(인스턴스)=',p2)\n",
    "p1.academy=\"SBS\"                #인스턴스(객체).클래스변수로 수정하면 해당 인스턴스(객체)만 반영\n",
    "print('p1객체변수(인스턴스)=',p1)\n",
    "print('p2객체변수(인스턴스)=',p2)\n",
    "Person.academy=\"다른데\"          # 클래스명.클래스변수로 수정하면 모든 인스턴스에 반영\n",
    "print('p1객체변수(인스턴스)=',p1)\n",
    "print('p2객체변수(인스턴스)=',p2)\n",
    "#print(Person.__str__())"
   ]
  },
  {
   "cell_type": "markdown",
   "id": "25a83a78",
   "metadata": {},
   "source": [
    "## ※ 인스턴스 메소드 vs 클래스 메소드 vs static 메소드"
   ]
  },
  {
   "cell_type": "markdown",
   "id": "28a6c38f",
   "metadata": {},
   "source": [
    "※ 인스턴스 메소드 vs 클래스 메소드 vs static 메소드\n",
    "- 인스턴스메소드 : 첫번째 인자에 self를 꼭 명시. 객체를 통해서만 호출할 수 있는 메소드\n",
    "- 클래스메소드  : 메소드 위에 @classmethod를 명시. 첫번째 인자에 clz(cls: 아무거나)를 명시\n",
    "- static메소드 : 메소드 위에 @staticmethod를 명시. 디폴트인자가 없음."
   ]
  },
  {
   "cell_type": "code",
   "execution_count": 6,
   "id": "0a9568dc",
   "metadata": {},
   "outputs": [],
   "source": [
    "class Person:\n",
    "    academy = 'MBC' # 클래스 변수\n",
    "    def __init__(self,name=\"홍길동\",gender=\"남자\"):\n",
    "        self.name = name\n",
    "        self.gender = gender\n",
    "    def print_info(self):       #인스턴스메소드 :객체변수.print_info()로 호출\n",
    "        print(\"일반(인스턴스)메소드 - {}의 {}님은 {}입니다.\".format(self.academy,self.name,self.gender))\n",
    "    def change_info(self,name='익명',gender='여자'):\n",
    "        self.name =name\n",
    "        self.gender=gender\n",
    "        print(\"일반(인스턴스)메소드를 통해 {}로 이름변경. {}로 성별변경\".format(self.name,self.gender))\n",
    "    @classmethod\n",
    "    def do_(clz): # clz :Person의 의미. 클래스 변수를 이용한 로직\n",
    "        clz.academy = 'classAcademy'\n",
    "        print(\"클래스 메소드에서 {}로 클래스변수 변경\".format(clz.academy))\n",
    "    @classmethod\n",
    "    def done_(clz,academy): # clz :Person의 의미. 클래스 변수를 이용한 로직\n",
    "        clz.academy = academy\n",
    "        print(\"클래스 메소드에서 {}로 클래스변수 변경\".format(clz.academy))\n",
    "    @staticmethod\n",
    "    def that_():  #클래스변수보다는 로직이 우선일 경우\n",
    "        Person.academy= \"staticAcademy\"\n",
    "        print(\"static 메소드에서 {}로 클래스 변수 변경\".format(Person.academy))"
   ]
  },
  {
   "cell_type": "code",
   "execution_count": 7,
   "id": "465c0706",
   "metadata": {},
   "outputs": [
    {
     "name": "stdout",
     "output_type": "stream",
     "text": [
      "일반(인스턴스)메소드 - MBC의 홍길동님은 남자입니다.\n"
     ]
    }
   ],
   "source": [
    "p1=Person()\n",
    "p1.print_info()"
   ]
  },
  {
   "cell_type": "code",
   "execution_count": 8,
   "id": "4f119532",
   "metadata": {},
   "outputs": [
    {
     "name": "stdout",
     "output_type": "stream",
     "text": [
      "static 메소드에서 staticAcademy로 클래스 변수 변경\n"
     ]
    }
   ],
   "source": [
    "Person.that_()"
   ]
  },
  {
   "cell_type": "code",
   "execution_count": 9,
   "id": "a77cf9aa",
   "metadata": {},
   "outputs": [
    {
     "name": "stdout",
     "output_type": "stream",
     "text": [
      "일반(인스턴스)메소드를 통해 익명로 이름변경. 여자로 성별변경\n",
      "일반(인스턴스)메소드 - staticAcademy의 익명님은 여자입니다.\n"
     ]
    }
   ],
   "source": [
    "p1.change_info()\n",
    "p1.print_info()"
   ]
  },
  {
   "cell_type": "code",
   "execution_count": 10,
   "id": "aaaf1891",
   "metadata": {},
   "outputs": [
    {
     "name": "stdout",
     "output_type": "stream",
     "text": [
      "일반(인스턴스)메소드 - staticAcademy의 홍길동님은 남자입니다.\n"
     ]
    }
   ],
   "source": [
    "p2=Person()\n",
    "p2.print_info()"
   ]
  },
  {
   "cell_type": "code",
   "execution_count": 11,
   "id": "24111fe1",
   "metadata": {},
   "outputs": [
    {
     "name": "stdout",
     "output_type": "stream",
     "text": [
      "클래스 메소드에서 classAcademy로 클래스변수 변경\n",
      "일반(인스턴스)메소드 - classAcademy의 익명님은 여자입니다.\n",
      "일반(인스턴스)메소드 - classAcademy의 홍길동님은 남자입니다.\n"
     ]
    }
   ],
   "source": [
    "Person.do_()\n",
    "p1.print_info()\n",
    "p2.print_info()"
   ]
  },
  {
   "cell_type": "code",
   "execution_count": 12,
   "id": "c632625e",
   "metadata": {},
   "outputs": [
    {
     "name": "stdout",
     "output_type": "stream",
     "text": [
      "클래스 메소드에서 SBS로 클래스변수 변경\n",
      "일반(인스턴스)메소드 - SBS의 익명님은 여자입니다.\n",
      "일반(인스턴스)메소드 - SBS의 홍길동님은 남자입니다.\n"
     ]
    }
   ],
   "source": [
    "Person.done_(\"SBS\")\n",
    "p1.print_info()\n",
    "p2.print_info()"
   ]
  },
  {
   "cell_type": "markdown",
   "id": "c7162f8d",
   "metadata": {},
   "source": [
    "# 4절 상속과 재정의\n",
    "\n",
    "- 클래스 재사용\n",
    "- 상속을 이용하면 부모클래스의 모든 속성을 자식클래스로 물려줄 수 있음.\n",
    "```\n",
    "class 자식클래스명(부모클래스명):\n",
    "```\n"
   ]
  },
  {
   "cell_type": "code",
   "execution_count": 13,
   "id": "cfeffb06",
   "metadata": {},
   "outputs": [],
   "source": [
    "class Person:\n",
    "    def __init__(self,name,gender):\n",
    "        self.name=name       #인스턴스 변수를 초기화\n",
    "        self.gender=gender\n",
    "        print(\"Person 객체를 생성합니다.(부모클래스)\")\n",
    "    def print_info(self):\n",
    "        print(self)\n",
    "    def __str__(self):         #오버라이딩(함수의 재정의)\n",
    "        return \"{}님은 {}입니다\".format(self.name,self.gender)"
   ]
  },
  {
   "cell_type": "code",
   "execution_count": 14,
   "id": "61465f5e",
   "metadata": {},
   "outputs": [],
   "source": [
    "class Student(Person): # __init__는 상속되지않고 나머지 함수 상속\n",
    "    def __init__(self,name,gender,major):\n",
    "        self.name=name\n",
    "        self.gender=gender\n",
    "        self.major=major\n",
    "        print(\"Student 객체 생성합니다(자식클래스)\")\n",
    "    # 재정의(override) :부모클래스에서 정의한 함수를 잫식클래스에서 다시 정의\n",
    "    def __str__(self):         #오버라이딩(함수의 재정의)\n",
    "        return \"{}님은 {}입니다. 전공은 {}입니다\".format(self.name,self.gender,self.major)"
   ]
  },
  {
   "cell_type": "code",
   "execution_count": 15,
   "id": "7418a76a",
   "metadata": {},
   "outputs": [
    {
     "name": "stdout",
     "output_type": "stream",
     "text": [
      "Person 객체를 생성합니다.(부모클래스)\n",
      "홍길동님은 남자입니다\n",
      "True\n"
     ]
    }
   ],
   "source": [
    "p1=Person(\"홍길동\",\"남자\")\n",
    "print(p1)\n",
    "print(isinstance(p1,Person))"
   ]
  },
  {
   "cell_type": "code",
   "execution_count": 16,
   "id": "3ba3ec88",
   "metadata": {},
   "outputs": [
    {
     "name": "stdout",
     "output_type": "stream",
     "text": [
      "Student 객체 생성합니다(자식클래스)\n",
      "홍길숙님은 여자입니다. 전공은 AI입니다\n"
     ]
    }
   ],
   "source": [
    "s1=Student(\"홍길숙\",\"여자\",\"AI\")\n",
    "print(s1)"
   ]
  },
  {
   "cell_type": "code",
   "execution_count": 17,
   "id": "a789ff4b",
   "metadata": {},
   "outputs": [
    {
     "name": "stdout",
     "output_type": "stream",
     "text": [
      "홍길숙님은 여자입니다. 전공은 AI입니다\n"
     ]
    }
   ],
   "source": [
    "s1.print_info()"
   ]
  },
  {
   "cell_type": "code",
   "execution_count": 18,
   "id": "7b8c8d04",
   "metadata": {},
   "outputs": [
    {
     "name": "stdout",
     "output_type": "stream",
     "text": [
      "True\n",
      "True\n"
     ]
    }
   ],
   "source": [
    "print(isinstance(s1,Student))\n",
    "print(isinstance(s1,Person))"
   ]
  },
  {
   "cell_type": "markdown",
   "id": "090bc017",
   "metadata": {},
   "source": [
    "### super() 이용\n",
    "- super() : '부모클래스의'를 의미"
   ]
  },
  {
   "cell_type": "code",
   "execution_count": 19,
   "id": "5b2bc08f",
   "metadata": {},
   "outputs": [],
   "source": [
    "class Person:\n",
    "    def __init__(self,name,gender):\n",
    "        self.name=name       #인스턴스 변수를 초기화\n",
    "        self.gender=gender\n",
    "        print(\"Person 객체를 생성합니다.(부모클래스)\")\n",
    "    def print_info(self):\n",
    "        print(self)\n",
    "    def __str__(self):         #오버라이딩(함수의 재정의)\n",
    "        return \"{}님은 {}입니다\".format(self.name,self.gender)\n",
    "class Student(Person): # __init__는 상속되지않고 나머지 함수 상속\n",
    "    def __init__(self,name,gender,major):\n",
    "        super().__init__(name,gender)\n",
    "        self.major=major\n",
    "        print(\"Student 객체 생성합니다(자식클래스)\")\n",
    "    # 재정의(override) :부모클래스에서 정의한 함수를 잫식클래스에서 다시 정의\n",
    "    def __str__(self):         #오버라이딩(함수의 재정의)\n",
    "        return super().__str__() + \".  전공은 {}입니다\".format(self.major)"
   ]
  },
  {
   "cell_type": "code",
   "execution_count": 20,
   "id": "f436c6a3",
   "metadata": {},
   "outputs": [
    {
     "name": "stdout",
     "output_type": "stream",
     "text": [
      "Person 객체를 생성합니다.(부모클래스)\n",
      "Student 객체 생성합니다(자식클래스)\n",
      "아무개님은 여자입니다.  전공은 AI입니다\n",
      "아무개님은 여자입니다.  전공은 AI입니다\n"
     ]
    }
   ],
   "source": [
    "s2=Student(\"아무개\",\"여자\",\"AI\")\n",
    "print(s2)\n",
    "s2.print_info()"
   ]
  },
  {
   "cell_type": "markdown",
   "id": "e1d249bf",
   "metadata": {},
   "source": [
    "### static 변수(정적변수) : 여러 객체들 사이에 데이터를 공유하고 싶을 때 사용\n",
    "\n",
    "- static 변수 :  앞에 under score 2개(__) 붙임.<b><font size=\"2\"  color=\"yello\"> 클래스명._클래스명__static변수명 </font></b>  으로 참조\n",
    "- static변수는 클래스 내부에서만 접근하도록 하려는 용도"
   ]
  },
  {
   "cell_type": "code",
   "execution_count": 21,
   "id": "2f82555d",
   "metadata": {},
   "outputs": [],
   "source": [
    "class Student(Person):\n",
    "    'name, gender에 major변수를 갖는 Student 타입. Stuent객체를 몇번 생성되어 있는지 공유'\n",
    "    __count = 0 # static변수\n",
    "    def __init__(self, name, gender, major):\n",
    "        super().__init__(name, gender)\n",
    "        self.major = major\n",
    "        Student._Student__count += 1 # 객체가 생성될 때마다 __count 1 증가\n",
    "    def __del__(self):\n",
    "        Student._Student__count -= 1 # 객체가 소멸될 때마다 __count 1 감소\n",
    "    def __str__(self):\n",
    "        return super().__str__() + \", 전공은 {} - 객체 {} 생성\".format(self.major,\n",
    "                                                        Student._Student__count)\n",
    "    @classmethod\n",
    "    def get_count(cls): # 클래스변수나 static변수를 이용하는 로직\n",
    "        return cls.__count\n",
    "        #return Student._Student__count"
   ]
  },
  {
   "cell_type": "code",
   "execution_count": 22,
   "id": "f87781a8",
   "metadata": {},
   "outputs": [
    {
     "name": "stdout",
     "output_type": "stream",
     "text": [
      "Person 객체를 생성합니다.(부모클래스)\n",
      "홍길동님은 남자입니다, 전공은 컴공 - 객체 1 생성\n",
      "객체 갯수 : 1\n",
      "객체 갯수 : 1\n"
     ]
    }
   ],
   "source": [
    "s1 = Student(\"홍길동\",\"남자\",\"컴공\")\n",
    "print(s1)\n",
    "print(\"객체 갯수 :\",Student.get_count())\n",
    "print(\"객체 갯수 :\",s1.get_count())  # 클래스 메소드는 클래스명.클래스메소드()추천"
   ]
  },
  {
   "cell_type": "code",
   "execution_count": 23,
   "id": "7e5257d2",
   "metadata": {},
   "outputs": [
    {
     "name": "stdout",
     "output_type": "stream",
     "text": [
      "Person 객체를 생성합니다.(부모클래스)\n",
      "홍길숙님은 여자입니다, 전공은 컴공 - 객체 2 생성\n",
      "객체 갯수 : 2\n"
     ]
    }
   ],
   "source": [
    "s2 = Student(\"홍길숙\", \"여자\", \"컴공\")\n",
    "print(s2)\n",
    "print(\"객체 갯수 :\", Student.get_count())"
   ]
  },
  {
   "cell_type": "code",
   "execution_count": 24,
   "id": "8ebeacd8",
   "metadata": {},
   "outputs": [],
   "source": [
    "del s1"
   ]
  },
  {
   "cell_type": "code",
   "execution_count": 25,
   "id": "5356da41",
   "metadata": {},
   "outputs": [
    {
     "name": "stdout",
     "output_type": "stream",
     "text": [
      "객체 갯수 : 1\n"
     ]
    }
   ],
   "source": [
    "print(\"객체 갯수 :\", Student.get_count())"
   ]
  },
  {
   "cell_type": "code",
   "execution_count": 26,
   "id": "c406e799",
   "metadata": {},
   "outputs": [],
   "source": [
    "del s2"
   ]
  },
  {
   "cell_type": "code",
   "execution_count": 27,
   "id": "1cfbc8cf",
   "metadata": {},
   "outputs": [
    {
     "name": "stdout",
     "output_type": "stream",
     "text": [
      "객체 갯수 : 0\n"
     ]
    }
   ],
   "source": [
    "\n",
    "print(\"객체 갯수 :\", Student.get_count())"
   ]
  },
  {
   "cell_type": "markdown",
   "id": "ff3a38c4",
   "metadata": {},
   "source": [
    "# 5절 연습문제\n",
    "## 실습형"
   ]
  },
  {
   "cell_type": "code",
   "execution_count": 34,
   "id": "f041029b",
   "metadata": {},
   "outputs": [],
   "source": [
    "# 1.다음 조건을 만족하는 클래스를 작성하세요\n",
    "\n",
    "# *도형 (Shape) 클래스와 삼각형 (Triangle) 클래스를 만들어야 합니다\n",
    "\n",
    "# *도형 (Shape) 클래스\n",
    "# •생성자를 통해 x, y 좌표를 초기화할 수 있습니다 . x, y 좌표의 기본값은 0, 0 입니다\n",
    "# •x, y 좌표를 이동시킬 수 있는 move 함수가 있습니다\n",
    "# •x, y 좌표값 정보를 문자열로 리턴하는 __str__ 함수가 있습니다\n",
    "# •도형의 면적을 구하는 함수 (calc_area) 가 있습니다 . \n",
    "#     다만 도형 클래스의 calc_area()는구현되어 있지 않아 호출하면 오류가 발생합니다 \n",
    "#     (파이썬은 추상메소드가 없음 추상메소드 역할을 구현)\n",
    "# •정적메소드 (staticmethod)를 하나 이상 구현합니다\n",
    "\n",
    "# *'삼각형 (Triangle) 클래스는 도형 (Shape) 클래스이다' 관계가 성립해야 합니다\n",
    "# ▼생성자를 통해 , width, height, x, y 좌표를 초기화하고 x, y 좌표의 기본값은 0, 0 입니다\n",
    "# ▼삼각형의 면적을 구하는 메소드 calc_area 를 재정의합니다\n",
    "# ▼삼각형의 정보를 문자열로 반환하는 __str __() 함수가 있습니다\n",
    "# ▼삼각형 객체가 몇 개가 만들어져 있는지 정보를 저장하는 클래스 변수를 추가하고 \n",
    "#  생성자에서 객체를 만들 때마다 증가시키고 소멸자에서 객체를 소멸시킬 때마다 감소합니다\n",
    "\n",
    "# 도형클래스\n",
    "class Shape:\n",
    "    def __init__(self,x=0,y=0):\n",
    "        self.x=x\n",
    "        self.y=y\n",
    "        print(\"Shape 객체 (x좌표= {}, y좌표= {}) 생성.\".format(self.x,self.y))\n",
    "    def move(self,dx,dy): # x축으로\n",
    "        self.x+=dx\n",
    "        self.y+=dy\n",
    "        print(\"도형이 ({}, {})만큼 이동한 새로운 좌표: ({}, {})\".format(dx,dy,self.x,self.y))\n",
    "    def cal_area(self): # 호출시 강제로 예외발생\n",
    "        raise Exception(\"예외메세지\")\n",
    "    def __str__(self):\n",
    "        return \"x좌표값:{}, y좌표값:{}\".format(self.x, self.y)\n",
    "    @staticmethod\n",
    "    def staticmethod_():\n",
    "        print('도형 클래스의 staticmethod 호출')\n",
    "         "
   ]
  },
  {
   "cell_type": "code",
   "execution_count": 36,
   "id": "35e89023",
   "metadata": {},
   "outputs": [
    {
     "name": "stdout",
     "output_type": "stream",
     "text": [
      "Shape 객체 (x좌표= 10, y좌표= 10) 생성.\n"
     ]
    },
    {
     "ename": "Exception",
     "evalue": "예외메세지",
     "output_type": "error",
     "traceback": [
      "\u001b[1;31m---------------------------------------------------------------------------\u001b[0m",
      "\u001b[1;31mException\u001b[0m                                 Traceback (most recent call last)",
      "Cell \u001b[1;32mIn[36], line 2\u001b[0m\n\u001b[0;32m      1\u001b[0m s\u001b[38;5;241m=\u001b[39m Shape(\u001b[38;5;241m10\u001b[39m,\u001b[38;5;241m10\u001b[39m)\n\u001b[1;32m----> 2\u001b[0m \u001b[43ms\u001b[49m\u001b[38;5;241;43m.\u001b[39;49m\u001b[43mcal_area\u001b[49m\u001b[43m(\u001b[49m\u001b[43m)\u001b[49m\n",
      "Cell \u001b[1;32mIn[34], line 32\u001b[0m, in \u001b[0;36mShape.cal_area\u001b[1;34m(self)\u001b[0m\n\u001b[0;32m     31\u001b[0m \u001b[38;5;28;01mdef\u001b[39;00m \u001b[38;5;21mcal_area\u001b[39m(\u001b[38;5;28mself\u001b[39m): \u001b[38;5;66;03m# 호출시 강제로 예외발생\u001b[39;00m\n\u001b[1;32m---> 32\u001b[0m     \u001b[38;5;28;01mraise\u001b[39;00m \u001b[38;5;167;01mException\u001b[39;00m(\u001b[38;5;124m\"\u001b[39m\u001b[38;5;124m예외메세지\u001b[39m\u001b[38;5;124m\"\u001b[39m)\n",
      "\u001b[1;31mException\u001b[0m: 예외메세지"
     ]
    }
   ],
   "source": [
    "s= Shape(10,10)\n",
    "s.cal_area()"
   ]
  },
  {
   "cell_type": "code",
   "execution_count": 29,
   "id": "d067ae71",
   "metadata": {},
   "outputs": [],
   "source": [
    "# 삼각형 (Triangle) 클래스\n",
    "class Triangle(Shape):\n",
    "    __count = 0\n",
    "    def __init__(self, width, height, x=0, y=0):\n",
    "        Triangle._Triangle__count += 1\n",
    "        super().__init__(x, y)\n",
    "        self.width = width\n",
    "        self.height = height    \n",
    "    def __del__(self):\n",
    "        Triangle._Triangle__count -= 1        \n",
    "    def __str__(self):\n",
    "        return super().__str__() + \", width:{}, height:{}, area:{}\".\\\n",
    "                            format(self.width, self.height, self.calc_area()) \n",
    "    #오버라이드\n",
    "    def calc_area(self):\n",
    "        return (self.width*self.height)/2    \n",
    "    @classmethod\n",
    "    def get_count(cls):\n",
    "        return cls.__count"
   ]
  },
  {
   "cell_type": "code",
   "execution_count": 30,
   "id": "d9823506",
   "metadata": {},
   "outputs": [
    {
     "name": "stdout",
     "output_type": "stream",
     "text": [
      "Shape 객체 (x좌표= 10, y좌표= 20) 생성.\n",
      " 초기값 위치 :x좌표값:10, y좌표값:20\n",
      " 이동 후 위치 :(5, -3)\n"
     ]
    }
   ],
   "source": [
    "# Shape class  Test\n",
    "s= Shape(10,20)\n",
    "print(f\" 초기값 위치 :{s}\")\n",
    "s=(5,-3)\n",
    "print(f\" 이동 후 위치 :{s}\")"
   ]
  },
  {
   "cell_type": "code",
   "execution_count": 31,
   "id": "eded02c0",
   "metadata": {},
   "outputs": [
    {
     "name": "stdout",
     "output_type": "stream",
     "text": [
      "Shape 객체 (x좌표= 0, y좌표= 0) 생성.\n",
      "Shape 객체 (x좌표= 5, y좌표= 5) 생성.\n",
      "x좌표값:0, y좌표값:0, width:10, height:20, area:100.0\n",
      "x좌표값:5, y좌표값:5, width:3, height:4, area:6.0\n",
      "객체 갯수 : 2\n"
     ]
    }
   ],
   "source": [
    "t1 = Triangle(10, 20)\n",
    "t2 = Triangle(3, 4, 5, 5)\n",
    "print(t1)\n",
    "print(t2)\n",
    "print('객체 갯수 :', Triangle.get_count())"
   ]
  },
  {
   "cell_type": "code",
   "execution_count": 32,
   "id": "8ff25482",
   "metadata": {},
   "outputs": [
    {
     "name": "stdout",
     "output_type": "stream",
     "text": [
      "도형이 (50, 50)만큼 이동한 새로운 좌표: (50, 50)\n",
      "x좌표값:50, y좌표값:50, width:10, height:20, area:100.0\n"
     ]
    }
   ],
   "source": [
    "t1.move(50,50)\n",
    "print(t1)"
   ]
  },
  {
   "cell_type": "code",
   "execution_count": 33,
   "id": "07e673e4",
   "metadata": {},
   "outputs": [
    {
     "name": "stdout",
     "output_type": "stream",
     "text": [
      "객체 갯수 : 0\n"
     ]
    }
   ],
   "source": [
    "del t1, t2\n",
    "print('객체 갯수 :', Triangle.get_count())"
   ]
  },
  {
   "cell_type": "code",
   "execution_count": null,
   "id": "0f13ebb9",
   "metadata": {},
   "outputs": [],
   "source": []
  },
  {
   "cell_type": "markdown",
   "id": "98d916cd",
   "metadata": {},
   "source": [
    "## 서술형"
   ]
  },
  {
   "cell_type": "code",
   "execution_count": 37,
   "id": "24f4d951",
   "metadata": {},
   "outputs": [],
   "source": [
    "# 7번 2는 비추  3이 답"
   ]
  },
  {
   "cell_type": "code",
   "execution_count": null,
   "id": "3f6de360",
   "metadata": {},
   "outputs": [],
   "source": [
    "# 8번 Super().do_(a) /Super.do(self,a)  이건 비추 / 답은 3"
   ]
  },
  {
   "cell_type": "code",
   "execution_count": null,
   "id": "ac2adfc6",
   "metadata": {},
   "outputs": [],
   "source": [
    "# 9번 "
   ]
  },
  {
   "cell_type": "code",
   "execution_count": null,
   "id": "c5bcdab1",
   "metadata": {},
   "outputs": [],
   "source": []
  },
  {
   "cell_type": "code",
   "execution_count": null,
   "id": "9230c465",
   "metadata": {},
   "outputs": [],
   "source": []
  },
  {
   "cell_type": "code",
   "execution_count": null,
   "id": "4e8649ab",
   "metadata": {},
   "outputs": [],
   "source": []
  },
  {
   "cell_type": "code",
   "execution_count": null,
   "id": "6d8bac79",
   "metadata": {},
   "outputs": [],
   "source": []
  },
  {
   "cell_type": "code",
   "execution_count": null,
   "id": "3e76a5f2",
   "metadata": {},
   "outputs": [],
   "source": []
  }
 ],
 "metadata": {
  "kernelspec": {
   "display_name": "Python 3 (ipykernel)",
   "language": "python",
   "name": "python3"
  },
  "language_info": {
   "codemirror_mode": {
    "name": "ipython",
    "version": 3
   },
   "file_extension": ".py",
   "mimetype": "text/x-python",
   "name": "python",
   "nbconvert_exporter": "python",
   "pygments_lexer": "ipython3",
   "version": "3.10.9"
  },
  "toc": {
   "base_numbering": 1,
   "nav_menu": {},
   "number_sections": false,
   "sideBar": true,
   "skip_h1_title": false,
   "title_cell": "Table of Contents",
   "title_sidebar": "Contents",
   "toc_cell": false,
   "toc_position": {
    "height": "calc(100% - 180px)",
    "left": "10px",
    "top": "150px",
    "width": "165px"
   },
   "toc_section_display": true,
   "toc_window_display": true
  }
 },
 "nbformat": 4,
 "nbformat_minor": 5
}
