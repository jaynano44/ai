{
 "cells": [
  {
   "cell_type": "code",
   "execution_count": null,
   "id": "f06784c5",
   "metadata": {},
   "outputs": [],
   "source": [
    "from IPython.display import display, HTML\n",
    "display(HTML(\"\"\"\n",
    "<style>\n",
    "div.container{width:90% !important;}\n",
    "div.cell.code_cell.rendered{width:100%;}\n",
    "div.input_prompt{padding:0px;}\n",
    "div.CodeMirror {font-family:Consolas; font-size:12pt;}\n",
    "div.text_cell_render.rendered_html{font-size:12pt;}\n",
    "div.output {font-size:12pt; font-weight:bold;}\n",
    "div.input {font-family:Consolas; font-size:12pt;}\n",
    "div.prompt {min-width:70px;}\n",
    "div#toc-wrapper{padding-top:120px;}\n",
    "div.text_cell_render ul li{font-size:12pt;padding:5px;}\n",
    "table.dataframe{font-size:12px;}\n",
    "</style>\n",
    "\"\"\"))"
   ]
  },
  {
   "cell_type": "markdown",
   "id": "91f58e9a",
   "metadata": {},
   "source": [
    "<b><font size=\"6\"  color=\"red\">ch02. 자료형과 연산자 </font></b>\n",
    "# 1절. 변수\n",
    "- 변수: 프로그램 작업 처리를 위해, 값을 저장할 수 있는 메모리 공간\n",
    "- 파이썬은 변수 선언을 위한 타입이 없고, 별도의 선언 과정도 없음\n",
    "\n",
    "## 1.1 변수할당\n",
    "- 할당연산자(=)을 이용해서 값을 할당하면 자료형(타입)이 셋팅\n",
    "- **파이썬에서의 모든 변수는 객체로 저장"
   ]
  },
  {
   "cell_type": "code",
   "execution_count": null,
   "id": "8ef43845",
   "metadata": {},
   "outputs": [],
   "source": [
    "r = 5\n",
    "area = 3.14 * r * r\n",
    "print(\"넓이:\",area)"
   ]
  },
  {
   "cell_type": "code",
   "execution_count": null,
   "id": "7a87b9a4",
   "metadata": {},
   "outputs": [],
   "source": [
    "import numpy as np #numpy패키지를 np라는 이름으로 사용\n",
    "#pypi.org\n",
    "area = np.pi * r * r\n",
    "print('넓이 : ', area)"
   ]
  },
  {
   "cell_type": "code",
   "execution_count": null,
   "id": "11a3f5f7",
   "metadata": {},
   "outputs": [],
   "source": [
    "print('area의 주소:', id(area))\n",
    "print('arwa의 타입:', type(area))"
   ]
  },
  {
   "cell_type": "code",
   "execution_count": null,
   "id": "4c76dd3d",
   "metadata": {},
   "outputs": [],
   "source": [
    "area.is_integer()"
   ]
  },
  {
   "cell_type": "code",
   "execution_count": null,
   "id": "cd31fe5c",
   "metadata": {},
   "outputs": [],
   "source": [
    "area = 10\n",
    "print('area의 주소:', id(area))\n",
    "print('arwa의 타입:', type(area))"
   ]
  },
  {
   "cell_type": "code",
   "execution_count": null,
   "id": "9ca9e5a6",
   "metadata": {},
   "outputs": [],
   "source": [
    "area = \"파이썬\"\n",
    "print('area의 주소:', id(area))\n",
    "print('arwa의 타입:', type(area))"
   ]
  },
  {
   "cell_type": "markdown",
   "id": "a58bec94",
   "metadata": {},
   "source": [
    "## 1.2 변수(함수) 이름 규칙\n",
    "- 문자로 시작\n",
    "- 문자(특수문자는 _ 외애는 불가), 숫자, _로 변수명 작성\n",
    "- 함수명은 변수명으로 가능하나 피한다. 꼭 써야한다면 str_식으로 사용한다.\n",
    "- 파이썬 예약어(for, if,...)는 변수명 사용 불가\n",
    "- 한글 변수는 꼭 필요시에만 사용"
   ]
  },
  {
   "cell_type": "code",
   "execution_count": null,
   "id": "c7a7bd4a",
   "metadata": {},
   "outputs": [],
   "source": [
    "이름 = '홍길동' #비추\n",
    "print(이름)"
   ]
  },
  {
   "cell_type": "code",
   "execution_count": null,
   "id": "40061105",
   "metadata": {},
   "outputs": [],
   "source": [
    "for = 5"
   ]
  },
  {
   "cell_type": "code",
   "execution_count": null,
   "id": "6792f94f",
   "metadata": {},
   "outputs": [],
   "source": [
    "# member.name = \"홍길동\"\n",
    "member_name = \"홍길동\"\n",
    "memberName = \"홍길동\"\n",
    "print(member_name,memberName)"
   ]
  },
  {
   "cell_type": "code",
   "execution_count": null,
   "id": "5f4cd6b8",
   "metadata": {},
   "outputs": [],
   "source": [
    "# 숫자 : 정수, 실수, 복소수\n",
    "i = 1 + 3j  #복소수\n",
    "print(type(i))"
   ]
  },
  {
   "cell_type": "code",
   "execution_count": null,
   "id": "5dd14766",
   "metadata": {},
   "outputs": [],
   "source": [
    " isinstance(i, complex)  #변수가 complex  타입의 객체인지?"
   ]
  },
  {
   "cell_type": "code",
   "execution_count": null,
   "id": "227f01ff",
   "metadata": {},
   "outputs": [],
   "source": [
    "isinstance(i, int) #i변수가 int타입의 갹체인지?"
   ]
  },
  {
   "cell_type": "markdown",
   "id": "ebf99f1c",
   "metadata": {},
   "source": [
    "## 1.3 다중 변수 선언"
   ]
  },
  {
   "cell_type": "code",
   "execution_count": null,
   "id": "ebd7de65",
   "metadata": {},
   "outputs": [],
   "source": [
    "a =10\n",
    "b= 20"
   ]
  },
  {
   "cell_type": "code",
   "execution_count": null,
   "id": "9859013e",
   "metadata": {},
   "outputs": [],
   "source": [
    "a,b = 10, 20\n",
    "print(a,b)"
   ]
  },
  {
   "cell_type": "code",
   "execution_count": null,
   "id": "6b664c7c",
   "metadata": {},
   "outputs": [],
   "source": [
    "a, b = b, a+b  #다중 변수 할당시 순차적 할당이 아니고, 일괄 동시 할당\n",
    "print(a,b)"
   ]
  },
  {
   "cell_type": "markdown",
   "id": "0bbb0a34",
   "metadata": {},
   "source": [
    "\n",
    "## 1.4 도움말\n"
   ]
  },
  {
   "cell_type": "code",
   "execution_count": null,
   "id": "bae2e81c",
   "metadata": {},
   "outputs": [],
   "source": [
    "help(print)"
   ]
  },
  {
   "cell_type": "code",
   "execution_count": null,
   "id": "bb7546ae",
   "metadata": {},
   "outputs": [],
   "source": [
    "help() # help 빠져나오기 : q /  결과접기/펴기: esc+o"
   ]
  },
  {
   "cell_type": "code",
   "execution_count": null,
   "id": "0865b949",
   "metadata": {},
   "outputs": [],
   "source": [
    "#도움말 기능 : shift + tab\n",
    "print()"
   ]
  },
  {
   "cell_type": "code",
   "execution_count": null,
   "id": "b90be94b",
   "metadata": {},
   "outputs": [],
   "source": [
    "def add(x,y=0):\n",
    "    '''\n",
    "    매개변수 2개를 받아 두자리 숫자로 만드는 함수\n",
    "    x = 10의 자리수가 되고\n",
    "    y = 1의 자리수가 됨(default값 0)\n",
    "    '''\n",
    "    return x*10 +y"
   ]
  },
  {
   "cell_type": "code",
   "execution_count": null,
   "id": "206e6bad",
   "metadata": {},
   "outputs": [],
   "source": [
    "add(3,4)"
   ]
  },
  {
   "cell_type": "code",
   "execution_count": null,
   "id": "4841e4b0",
   "metadata": {},
   "outputs": [],
   "source": [
    "add(3)"
   ]
  },
  {
   "cell_type": "markdown",
   "id": "78f519bc",
   "metadata": {},
   "source": [
    "# 2절. 화면 i/o"
   ]
  },
  {
   "cell_type": "code",
   "execution_count": null,
   "id": "48e96ae8",
   "metadata": {},
   "outputs": [],
   "source": [
    "#input() 사용자로부터 값을 입력받기 위한 함수, 입력값은 문자(str)로 받음\n",
    "first = input()\n",
    "print(first)"
   ]
  },
  {
   "cell_type": "code",
   "execution_count": null,
   "id": "0a1ae238",
   "metadata": {},
   "outputs": [],
   "source": [
    "first = input('첫번째 숫자는?')\n",
    "second = input('두번째 숫자는?')"
   ]
  },
  {
   "cell_type": "code",
   "execution_count": null,
   "id": "80751afd",
   "metadata": {},
   "outputs": [],
   "source": [
    "print('두 수의 합은',first+second)"
   ]
  },
  {
   "cell_type": "code",
   "execution_count": null,
   "id": "46709e76",
   "metadata": {},
   "outputs": [],
   "source": [
    "first = int(input('첫번째 숫자는?'))\n",
    "second = int(input('두번째 숫자는?'))"
   ]
  },
  {
   "cell_type": "code",
   "execution_count": null,
   "id": "7752c1ec",
   "metadata": {},
   "outputs": [],
   "source": [
    "print('두 수의 합은',first+second)"
   ]
  },
  {
   "cell_type": "code",
   "execution_count": null,
   "id": "847985cd",
   "metadata": {},
   "outputs": [],
   "source": [
    "print('first',first,'second',second, sep=' - ', end='\\t')\n",
    "print('Hello','Python',sep=' ')"
   ]
  },
  {
   "cell_type": "markdown",
   "id": "dff05bba",
   "metadata": {},
   "source": [
    "# 3절. 기본 자료형\n",
    "- 자료형 : 변수가 가져야할 값의 형식. 자료형에 따라 값의 크기와 저장 방식이 달라짐.\n",
    "- 자료형에 따라 수행할 수 있는 명령어들이 달라짐.\n",
    "\n",
    "    * `숫자` : int, float(소수점 4.0), complex(허수부 j)\n",
    "    * `문자` : str(\"\", '')\n",
    "    * `논리` : bool(True/False)\n",
    "    \n",
    "## 3.1 숫자형"
   ]
  },
  {
   "cell_type": "code",
   "execution_count": null,
   "id": "1b978bbe",
   "metadata": {},
   "outputs": [],
   "source": [
    " import sys \n",
    " print(sys.maxsize) # 정수의 최대값 : 2**63 -1"
   ]
  },
  {
   "cell_type": "code",
   "execution_count": null,
   "id": "7e92e359",
   "metadata": {},
   "outputs": [],
   "source": [
    "2**63 -1"
   ]
  },
  {
   "cell_type": "code",
   "execution_count": null,
   "id": "a7a91ed6",
   "metadata": {},
   "outputs": [],
   "source": [
    "i = sys.maxsize + 100000000000000000000000000\n",
    "print(i)\n",
    "print(type(i))\n"
   ]
  },
  {
   "cell_type": "code",
   "execution_count": null,
   "id": "11355033",
   "metadata": {},
   "outputs": [],
   "source": [
    "# f=0.00000000000000000012\n",
    "f = 1.2e-20 #지수형  1.2*10의 -20승\n",
    "print(f)\n",
    "b = 1.2e20 #지수형 1.2의 10의 20승\n",
    "print(b)"
   ]
  },
  {
   "cell_type": "code",
   "execution_count": null,
   "id": "301a2895",
   "metadata": {},
   "outputs": [],
   "source": [
    "#파이썬에서는 /의 결과는 무조건 실수\n",
    "f = 4/2\n",
    "print('f=',f)"
   ]
  },
  {
   "cell_type": "code",
   "execution_count": null,
   "id": "2f143261",
   "metadata": {},
   "outputs": [],
   "source": [
    "# 자바나 C,C++처럼 정수/정수 결과를 정수로\n",
    "f = int(3/2)  #int() : int로 형변화(내림)\n",
    "print('f=',f)\n",
    "f = 3//2 #몫연산자\n",
    "print('f=',f)"
   ]
  },
  {
   "cell_type": "markdown",
   "id": "cb48aff9",
   "metadata": {},
   "source": [
    "## 3.2 문자형\n",
    "겹따옴표(\"~\")sk ghxEkdhavy('-')이용"
   ]
  },
  {
   "cell_type": "code",
   "execution_count": null,
   "id": "6c987a9a",
   "metadata": {},
   "outputs": [],
   "source": [
    "# name = '홍길동\\'짱\\''   #홍길동 '짱'\n",
    "name = \"홍길동'짱'\"\n",
    "address = '서울시 관악구 \"신림\"동'  # 서울시 관악구 \"신림\"동\n",
    "print(name, address)"
   ]
  },
  {
   "cell_type": "code",
   "execution_count": null,
   "id": "b69e89db",
   "metadata": {},
   "outputs": [],
   "source": [
    "# escape 문자(탈출문자) : \\n \\t\n",
    "text = '여러줄\\t짜리 내용을 저장\\n줄바꿈 문자를 쓰면  됨\\n줄바꿈'\n",
    "print(text)"
   ]
  },
  {
   "cell_type": "code",
   "execution_count": null,
   "id": "ecfbe20d",
   "metadata": {},
   "outputs": [],
   "source": [
    "text ='''여러줄\\t짜리 내용을 저장\n",
    "줄바꿈 문자를 쓰면 됨\n",
    "줄바꿈'''\n",
    "print(text)"
   ]
  },
  {
   "cell_type": "markdown",
   "id": "fd952f2f",
   "metadata": {},
   "source": [
    "### ※ 문자열 연산(+,*)"
   ]
  },
  {
   "cell_type": "code",
   "execution_count": null,
   "id": "7ee24c02",
   "metadata": {},
   "outputs": [],
   "source": [
    "'''\n",
    "    여러 줄 주석 용도\n",
    "    2025.09.12 문자열 연산 by 아무개\n",
    "'''\n",
    "name1 = \"홍길동\"\n",
    "name2 = \"동해번쩍\"\n",
    "print(name1 + name2)\n",
    "print(name1, name2)"
   ]
  },
  {
   "cell_type": "code",
   "execution_count": null,
   "id": "9aa8edd5",
   "metadata": {},
   "outputs": [],
   "source": [
    "print(name1 * 3)"
   ]
  },
  {
   "cell_type": "markdown",
   "id": "db1cd06a",
   "metadata": {},
   "source": [
    "### ※ raw 데이터\n",
    "- 용도 : 정규표현식 이용, 디렉토리 경로를 표현 시 이용"
   ]
  },
  {
   "cell_type": "code",
   "execution_count": null,
   "id": "fb80d475",
   "metadata": {},
   "outputs": [],
   "source": [
    "# raw데이터 : 데이터 처리시 이스케이프 문자(\\n,\\t,\\',\\\")를 그대로 저장\n",
    "print('Hello\\nWorld')\n",
    "print(r'Hello\\nWorld')"
   ]
  },
  {
   "cell_type": "markdown",
   "id": "53b9248b",
   "metadata": {},
   "source": [
    "정규표현식(regex)\n",
    "\n",
    "    1. 참조 : https://ko.wikipedia.org/wiki/%EC%A0%95%EA%B7%9C_%ED%91%9C%ED%98%84%EC%8B%9D\n",
    "    2. 간략문법\n",
    "        \\d (숫자와 매치. .[0-9]와 동일)\n",
    "        \\D (숫자가 아닌 것)\n",
    "        \\w (영문자나 숫자 .[A-Za-z0-9]와 동일)\n",
    "        \\W (영문자나 숫자가 아닌 문자)\n",
    "        .  (문자)\n",
    "        \\. (.)\n",
    "        \\- (-)\n",
    "        {2,} (2번 이상 반복)\n",
    "        {2,4} (2~4회 반복)\n",
    "        ?     (0번이나 1번 의미)\n",
    "        +     (1번 이상 반복)\n",
    "        *     (0번 이상 반복)\n",
    "        # \\d{2,3}[\\-]?\\d{3,4}[\\-]?\\d{3,4}\n",
    "    3. 정규표현식 연습장 : https://regexr.com/\n",
    "        ex1. 전화번호 : 02 888 7777 / 028887777 / 010-9999-9999 / 010.9999.9999 / 02)999-9999\n",
    "                        => 0\\d{1,2}[ \\-\\.)]?\\d{3,4}[ \\-\\.]?\\d{4}\n",
    "        ex2. 이메일   : abc12@naver.com / abc12@sns.co.kr\n",
    "                        => \\w+@\\w+(\\.\\w+){1,2}\n",
    "        ex3. 주민번호 : 981212-1052525\n",
    "                        => (\\d{2}0[1-9][0-3]\\d\\-[0-4]\\d{6})|(\\d{2}1[0-2][0-3]\\d\\-[0-4]\\d{6})\n",
    "    4. 소스 구현"
   ]
  },
  {
   "cell_type": "code",
   "execution_count": null,
   "id": "9ec42424",
   "metadata": {},
   "outputs": [],
   "source": [
    "import re\n",
    "data = \"이름:홍길동, 주소:서울, 전화:02-888-8888, \\\n",
    "핸드폰:010-9999-9999, 특징:동해번쩍 서해번쩍\\\n",
    "혈액형:Bㅋㅋ ㅋㅋzz\"\n",
    "print(data)"
   ]
  },
  {
   "cell_type": "code",
   "execution_count": null,
   "id": "d68eb8ce",
   "metadata": {},
   "outputs": [],
   "source": [
    "# 정규표현식 처리에서는 raw대이ㅏ터 처리를 하지 않아도 실행은 되나\n",
    "# 실수를 줄이고, 가독성을 높이는 용도로 raw 데이터 처리를 사용\n",
    "tel_pattern = r\"0\\d{1,2}[ \\-\\.)]?\\d{3,4}[ \\-\\.]?\\d{4}\"\n",
    "tels = re.findall(tel_pattern, data) #해당 패턴을 다 찾아줌, 없으면 빈 list"
   ]
  },
  {
   "cell_type": "code",
   "execution_count": null,
   "id": "6d1749c4",
   "metadata": {},
   "outputs": [],
   "source": [
    "email_pattern = r\"\\w+@\\w+(\\.\\w+){1,2}\"\n",
    "email = re.findall(email_pattern,data)"
   ]
  },
  {
   "cell_type": "code",
   "execution_count": null,
   "id": "5d79cd74",
   "metadata": {},
   "outputs": [],
   "source": [
    "# 정규표현식 패턴과 처음 match 되는 것을 찾아줘\n",
    "firstTel = re.search(tel_pattern, data)\n",
    "firstTel"
   ]
  },
  {
   "cell_type": "code",
   "execution_count": null,
   "id": "b3a37c2b",
   "metadata": {},
   "outputs": [],
   "source": [
    "print(data[18:29]) #문자열 슬라이스\n",
    "print(firstTel.group(0))"
   ]
  },
  {
   "cell_type": "code",
   "execution_count": null,
   "id": "3e117050",
   "metadata": {},
   "outputs": [],
   "source": [
    "tel_pattern = r\"(\\d{2,3})-(\\d{3,4})-(\\d{4})\"\n",
    "\n",
    "firstPhone = re.search(tel_pattern, data)\n",
    "firstPhone"
   ]
  },
  {
   "cell_type": "code",
   "execution_count": null,
   "id": "381eebfa",
   "metadata": {},
   "outputs": [],
   "source": [
    "print('전체 전화번호:', firstPhone.group(0))\n",
    "print('국번:',firstPhone.group(1))\n",
    "print('중간번호:',firstPhone.group(2))\n",
    "print('끝번호:',firstPhone.group(3))"
   ]
  },
  {
   "cell_type": "code",
   "execution_count": null,
   "id": "741b9785",
   "metadata": {},
   "outputs": [],
   "source": [
    "# data에서 특정한 데이터 없애기\n",
    "re.sub(\"[^가-힣0-9A-Z\\s]\", '', data)"
   ]
  },
  {
   "cell_type": "code",
   "execution_count": null,
   "id": "0e7cf7bb",
   "metadata": {},
   "outputs": [],
   "source": []
  }
 ],
 "metadata": {
  "kernelspec": {
   "display_name": "Python 3 (ipykernel)",
   "language": "python",
   "name": "python3"
  },
  "language_info": {
   "codemirror_mode": {
    "name": "ipython",
    "version": 3
   },
   "file_extension": ".py",
   "mimetype": "text/x-python",
   "name": "python",
   "nbconvert_exporter": "python",
   "pygments_lexer": "ipython3",
   "version": "3.10.9"
  },
  "toc": {
   "base_numbering": 1,
   "nav_menu": {},
   "number_sections": false,
   "sideBar": true,
   "skip_h1_title": false,
   "title_cell": "Table of Contents",
   "title_sidebar": "Contents",
   "toc_cell": false,
   "toc_position": {},
   "toc_section_display": true,
   "toc_window_display": true
  }
 },
 "nbformat": 4,
 "nbformat_minor": 5
}
