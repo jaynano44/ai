{
 "cells": [
  {
   "cell_type": "code",
   "execution_count": 1,
   "id": "7fc0e3f3",
   "metadata": {},
   "outputs": [
    {
     "data": {
      "text/html": [
       "\n",
       "<style>\n",
       "div.container{width:90% !important;}\n",
       "div.cell.code_cell.rendered{width:100%;}\n",
       "div.input_prompt{padding:0px;}\n",
       "div.CodeMirror {font-family:Consolas; font-size:12pt;}\n",
       "div.text_cell_render.rendered_html{font-size:12pt;}\n",
       "div.output {font-size:12pt; font-weight:bold;}\n",
       "div.input {font-family:Consolas; font-size:12pt;}\n",
       "div.prompt {min-width:70px;}\n",
       "div#toc-wrapper{padding-top:120px;}\n",
       "div.text_cell_render ul li{font-size:12pt;padding:5px;}\n",
       "table.dataframe{font-size:12px;}\n",
       "</style>\n"
      ],
      "text/plain": [
       "<IPython.core.display.HTML object>"
      ]
     },
     "metadata": {},
     "output_type": "display_data"
    }
   ],
   "source": [
    "from IPython.display import display, HTML\n",
    "display(HTML(\"\"\"\n",
    "<style>\n",
    "div.container{width:90% !important;}\n",
    "div.cell.code_cell.rendered{width:100%;}\n",
    "div.input_prompt{padding:0px;}\n",
    "div.CodeMirror {font-family:Consolas; font-size:12pt;}\n",
    "div.text_cell_render.rendered_html{font-size:12pt;}\n",
    "div.output {font-size:12pt; font-weight:bold;}\n",
    "div.input {font-family:Consolas; font-size:12pt;}\n",
    "div.prompt {min-width:70px;}\n",
    "div#toc-wrapper{padding-top:120px;}\n",
    "div.text_cell_render ul li{font-size:12pt;padding:5px;}\n",
    "table.dataframe{font-size:12px;}\n",
    "</style>\n",
    "\"\"\"))"
   ]
  },
  {
   "cell_type": "markdown",
   "id": "0b0d65ad",
   "metadata": {},
   "source": [
    "<b><font size=\"6\"  color=\"red\">ch02. 자료형과 연산자(5절~8절) </font></b>\n",
    "# 5절. 연산자\n",
    "## 5.1 산술연산자: +,-,*,/(결과 float),//(몫), %(나머지),**(제곱)"
   ]
  },
  {
   "cell_type": "code",
   "execution_count": null,
   "id": "2efe03ee",
   "metadata": {},
   "outputs": [],
   "source": [
    "print(\"10*5승=\",10**5)\n",
    "print(\"5/2(/결과는 실수)=\",5/2)\n",
    "print(\"5//2(몫)=\",5//2)\n",
    "print(\"5%2(나머지)=\",5%2)"
   ]
  },
  {
   "cell_type": "code",
   "execution_count": null,
   "id": "32603383",
   "metadata": {},
   "outputs": [],
   "source": [
    "#정수끼리 연산은 결과가 정수(단 /제외)\n",
    "#정수와 실수, 실수끼리 연산결과는 실수\n",
    "print(\"4+2=\",4+2,\"4-2=\",4-2,\"4*2=\",4*2,)\n",
    "print(\"4**2=\",4**2.0)"
   ]
  },
  {
   "cell_type": "code",
   "execution_count": 6,
   "id": "2733fb9f",
   "metadata": {},
   "outputs": [
    {
     "name": "stdout",
     "output_type": "stream",
     "text": [
      "정수를 입력하세요:12\n",
      "입력하신 수는 12, 2로 나눈 나머지는 0라서 짝수를 입력하셨습니다\n"
     ]
    }
   ],
   "source": [
    "# quiz1. 정수를 입력받아 짝수인지 홀수인지 여부를 출력\n",
    "\n",
    "num = int(input(\"정수를 입력하세요:\"))\n",
    "result = num%2 # -1,0,1\n",
    "if result:\n",
    "    temp = \"홀수\"\n",
    "else:\n",
    "    temp = \"짝수\"\n",
    "print(f\"입력하신 수는 {num}, 2로 나눈 나머지는 {result}라서 {temp}를 입력하셨습니다\")"
   ]
  },
  {
   "cell_type": "code",
   "execution_count": 8,
   "id": "8ce8273f",
   "metadata": {},
   "outputs": [
    {
     "name": "stdout",
     "output_type": "stream",
     "text": [
      "정수를 입력하세요:25\n",
      "5의 배수입니다.\n"
     ]
    }
   ],
   "source": [
    "# quiz2. 정수를 입력받아 5의 배수인지 여부를 출력\n",
    "num = int(input(\"정수를 입력하세요:\"))\n",
    "if num%5:\n",
    "    print(\"5의 배수가 아닙니다.\")\n",
    "else:\n",
    "    print(\"5의 배수입니다.\")\n",
    "# num = int(input(\"정수를 입력하세요:\"))\n",
    "# result = num%5 # 0,1,2,3,4\n",
    "# if result:\n",
    "#     temp = \"5의 배수가 아님\"\n",
    "# else:\n",
    "#     temp = \"5의 배수입니다\"\n",
    "# print(f\"입력하신 수는 {num}, 5로 나눈 나머지는 {num%}라서 {temp}\")"
   ]
  },
  {
   "cell_type": "code",
   "execution_count": 9,
   "id": "70b9087e",
   "metadata": {},
   "outputs": [
    {
     "name": "stdout",
     "output_type": "stream",
     "text": [
      "국어?99\n",
      "영어?100\n",
      "수학?99\n"
     ]
    }
   ],
   "source": [
    "# quiz3. 국, 영, 수 점수를 입력받아 다음셀에서 다음과 같이 출력하도록 구현하시오\n",
    "# 국어: 99 \\t 영어:100 \\t수학:99\n",
    "#총점:298  \\t 평균:99.7\n",
    "kor = int(input(\"국어?\"))\n",
    "eng = int(input(\"영어?\"))\n",
    "mat = int(input(\"수학?\"))\n",
    "sum = kor+eng + mat\n",
    "avg =sum/3\n",
    "\n",
    "# first = int(input('국어 점수는?'))\n",
    "# second = int(input('영어점수는?'))\n",
    "# third = int(input('수학점수는?'))\n",
    "# total =first+second+third\n",
    "# average=total/3\n",
    "# print(\"국어:\", first, \"영어:\",second,\"수학:\",third)\n",
    "# print(\"총점:\",total,\"평균:\",average)\n"
   ]
  },
  {
   "cell_type": "code",
   "execution_count": 12,
   "id": "3a754c55",
   "metadata": {},
   "outputs": [
    {
     "name": "stdout",
     "output_type": "stream",
     "text": [
      "국어: 99\t영어:100\t수학: 99\n",
      "총점:298\t평균: 99.3\n"
     ]
    }
   ],
   "source": [
    "print(\"국어:{:3d}\\t영어:{:3d}\\t수학:{:3d}\".format(kor,eng,mat))\n",
    "print(\"총점:{:3d}\\t평균:{:5.1f}\".format(sum,avg))"
   ]
  },
  {
   "cell_type": "markdown",
   "id": "db8ff3ab",
   "metadata": {},
   "source": [
    "## 5.2 할당연산자:=,+=,-=,/=,*=,//=,%="
   ]
  },
  {
   "cell_type": "code",
   "execution_count": 17,
   "id": "f1777d8a",
   "metadata": {},
   "outputs": [
    {
     "name": "stdout",
     "output_type": "stream",
     "text": [
      "a=15\n"
     ]
    }
   ],
   "source": [
    "a= 10\n",
    "a+=5 # a=a+5와 동일\n",
    "print(f\"a={a}\")"
   ]
  },
  {
   "cell_type": "code",
   "execution_count": 18,
   "id": "8113bf67",
   "metadata": {},
   "outputs": [
    {
     "name": "stdout",
     "output_type": "stream",
     "text": [
      "5빼기: 10\n",
      "10배: 100\n",
      "5나눈 몫: 20\n"
     ]
    }
   ],
   "source": [
    "a-=5 # a=a-5\n",
    "print(\"5빼기:\",a) #10\n",
    "a*=10 #a=a*10\n",
    "print(\"10배:\",a) #100\n",
    "a//=5 #a=a//5\n",
    "print(\"5나눈 몫:\",a)"
   ]
  },
  {
   "cell_type": "markdown",
   "id": "428c11a2",
   "metadata": {},
   "source": [
    "## 5.3 논리연산자: &,and,|,or,not"
   ]
  },
  {
   "cell_type": "code",
   "execution_count": 25,
   "id": "3fe38f18",
   "metadata": {},
   "outputs": [
    {
     "name": "stdout",
     "output_type": "stream",
     "text": [
      "True\n",
      "0\n",
      "1100\n"
     ]
    }
   ],
   "source": [
    "# & : 논리연산자, 비트연산자\n",
    "print((10>3) & ((10>5))) #논리연산 True & True\n",
    "print(12 & 1) #비트연산 1100(12)\n",
    "               #         0001(1)\n",
    "                #     &: 0000\n",
    "print(\"{:4b}\".format(12))"
   ]
  },
  {
   "cell_type": "code",
   "execution_count": 31,
   "id": "28b6cac3",
   "metadata": {},
   "outputs": [
    {
     "name": "stdout",
     "output_type": "stream",
     "text": [
      "True\n",
      "True\n",
      "0\n",
      "4\n"
     ]
    }
   ],
   "source": [
    "# and : 논리연산자 . False로 판별되는 첫번째 항의 결과 반환\n",
    "#모든 항이 True면, 마지막항의 결과 반환\n",
    "print((10>3) and (10>5))\n",
    "print(10>3 and 10>5) #and가 우선순위가 더 높음\n",
    "print(0 and 1)\n",
    "print(12 and 4) "
   ]
  },
  {
   "cell_type": "code",
   "execution_count": 37,
   "id": "1bbb074f",
   "metadata": {},
   "outputs": [
    {
     "name": "stdout",
     "output_type": "stream",
     "text": [
      "논리연산(연산자 앞뒤에 논리형일때): True\n",
      "비트연산(연산자 앞이나 뒤에 숫자일 때): 3\n"
     ]
    }
   ],
   "source": [
    "# | or :논리연산, 비트연산\n",
    "#print(\"홍길동\" | 1)\n",
    "result =True|False\n",
    "print('논리연산(연산자 앞뒤에 논리형일때):',result)\n",
    "result=False|3   #0000(0)\n",
    "                  #0011(3)\n",
    "print('비트연산(연산자 앞이나 뒤에 숫자일 때):',result)"
   ]
  },
  {
   "cell_type": "code",
   "execution_count": 41,
   "id": "cb1b040c",
   "metadata": {},
   "outputs": [
    {
     "name": "stdout",
     "output_type": "stream",
     "text": [
      "[]\n",
      "Hong\n",
      "True\n"
     ]
    }
   ],
   "source": [
    "# or  :논리연산. 참으로 판별되는 첫번째 항의 결과 반환\n",
    "# 모든 항이 거짓이면 마지막항의 결과 반환\n",
    "print(False or 0 or '' or None or [])\n",
    "print(False or 0 or 'Hong' or None or [])\n",
    "print(False or 0 or True or None or [])"
   ]
  },
  {
   "cell_type": "code",
   "execution_count": 42,
   "id": "28cee835",
   "metadata": {},
   "outputs": [
    {
     "data": {
      "text/plain": [
       "False"
      ]
     },
     "execution_count": 42,
     "metadata": {},
     "output_type": "execute_result"
    }
   ],
   "source": [
    "not 10>5"
   ]
  },
  {
   "cell_type": "markdown",
   "id": "bf442a68",
   "metadata": {},
   "source": [
    "## 5.4 비교연산자: >,>=,<,<=,==(같다),!=(다르다)"
   ]
  },
  {
   "cell_type": "code",
   "execution_count": 46,
   "id": "8f99b6e0",
   "metadata": {},
   "outputs": [
    {
     "name": "stdout",
     "output_type": "stream",
     "text": [
      "True\n",
      "True\n",
      "True\n"
     ]
    }
   ],
   "source": [
    "#비교연산자는 이항,삼항, 사항,..., 다항연산자\n",
    "x = 95\n",
    "print((90<=x)&(x<=100))\n",
    "# print(x>=90&x<=100)    비교연산자는 비트연산자보다 우선순위가 낮음\n",
    "print(90<=x<=100)\n",
    "print(90<=x<=100>10)\n"
   ]
  },
  {
   "cell_type": "code",
   "execution_count": 49,
   "id": "a66c52ea",
   "metadata": {},
   "outputs": [
    {
     "name": "stdout",
     "output_type": "stream",
     "text": [
      "True\n",
      "False\n",
      "False\n"
     ]
    }
   ],
   "source": [
    "# 비교연산자의 우선순위가 비트연산자(|,&)의 우선 순위가보다 낮다\n",
    "print((10>5)&(10>7))\n",
    "print(10>5&10>7)  #괄호를 없애면 우선순위가 높은 5&10부터 실행\n",
    "print(10>0>7)\n",
    "#  0101(5) & 1010  (10)  0000(0)"
   ]
  },
  {
   "cell_type": "code",
   "execution_count": 53,
   "id": "25d657d3",
   "metadata": {},
   "outputs": [
    {
     "name": "stdout",
     "output_type": "stream",
     "text": [
      "True\n",
      "True\n"
     ]
    }
   ],
   "source": [
    "address = \"목동\"\n",
    "age = 29\n",
    "print((address==\"목동\")&(age<=30))\n",
    "#print(address==\"목동\"&age<=30)\n",
    "print((address==\"목동\") and (age<=30))"
   ]
  },
  {
   "cell_type": "code",
   "execution_count": 55,
   "id": "512c45c3",
   "metadata": {},
   "outputs": [
    {
     "data": {
      "text/plain": [
       "True"
      ]
     },
     "execution_count": 55,
     "metadata": {},
     "output_type": "execute_result"
    }
   ],
   "source": [
    "#문자는 ASCII 코드 순으로 비교 : 특수문자<숫자문자<대문자<소문자(abc순)\n",
    "\"scott\"<\"tiger\""
   ]
  },
  {
   "cell_type": "code",
   "execution_count": 56,
   "id": "bc045a21",
   "metadata": {},
   "outputs": [
    {
     "data": {
      "text/plain": [
       "True"
      ]
     },
     "execution_count": 56,
     "metadata": {},
     "output_type": "execute_result"
    }
   ],
   "source": [
    "\"김길동\"<\"홍길동\""
   ]
  },
  {
   "cell_type": "markdown",
   "id": "1c114a3e",
   "metadata": {},
   "source": [
    "## 5.5 비트연산 : &, |, ^(XOR), ~(반대)\n",
    "'''\n",
    "x        y        x&y        x|y        x^y        ~x\n",
    "-----------------------------------------------------------\n",
    "0       0        0           0          0          1\n",
    "0       1        0           1          1          1\n",
    "1       0        0           1          1          0\n",
    "1       1        1           1          0          0\n",
    "\n",
    "'''\n"
   ]
  },
  {
   "cell_type": "code",
   "execution_count": 11,
   "id": "c54f8ba4",
   "metadata": {},
   "outputs": [
    {
     "name": "stdout",
     "output_type": "stream",
     "text": [
      "  a=15:1111\n",
      "  b= 2:0010\n",
      "a&b= 2:0010\n",
      "a|b=15:1111\n",
      "a^b=13:1101\n"
     ]
    }
   ],
   "source": [
    "a = 15 # 1111(8+4+2+1)\n",
    "b =  2 # 0010\n",
    "print(\"  a={0:2}:{0:04b}\".format(a))\n",
    "print(\"  b={0:2}:{0:04b}\".format(b))\n",
    "print(\"a&b={0:2}:{0:04b}\".format(a&b))\n",
    "print(\"a|b={0:2}:{0:04b}\".format(a|b))\n",
    "print(\"a^b={0:2}:{0:04b}\".format(a^b))"
   ]
  },
  {
   "cell_type": "markdown",
   "id": "0951b874",
   "metadata": {},
   "source": [
    "# 6절. 문자열 다루기\n",
    "- 문자열변수[from:to:step] : 일부 문자 추출\n",
    "- len(문자열변수) : 문자수\n",
    "\n",
    "- upper() : 대문자로 바꿔서 \n",
    "- lower() : 소문자로\n",
    "- title() : 각 어절의 앞글자만 대문자로\n",
    "- capitalize() : 첫문자만 대문자로\n",
    "- count(\"찾을문자\") : '찾을문자'가 몇개 들어있는지 갯수 반환\n",
    "- find(\"찾을문자\") : \"찾을문자\"가 왼쪽부터 몇번째에 있는 지 index를 반환      (없으면 -1)\n",
    "- rfind(\"찾을문자) : \"찾을문자\"가 오른쪽부터 몇번째에 있는 지 index를 반환    (없으면 -1)\n",
    "  \n",
    "  \n",
    "  cf. index(\"찾을문자\") : \"찾을문자\"가 왼쪽부터 몇번째에 있는 지 index를 반환 (없으면 에러)\n",
    "- startswith(\"특정문자\") : \"특정문자\"로 시작하는지 여부 반환\n",
    "- endswith(\"특정문자\") : \"특정문자\"로 끝나는지 여부 반환\n",
    "\n",
    "- strip() : 좌우공백제거(오라클: trim)\n",
    "- lstrip() : 왼쪽 공백 제거\n",
    "- rstrip() : 오른쪽 공백 제거\n",
    "- <span style=\"color:red\">**split() : 문자열을 공백이나 다른 문자 기준으로 나누어 리스트로 반환**</span>\n",
    "- isdigit() : 문자열이 숫자문자열인지 여부 반환\n",
    "- islower() : 문자열이 소문자인지 여부 반환\n",
    "- isupper() : 문자열이 대문자인지 여부 반환\n",
    "- replace(oldStr, newStr) : oldStr을 newStr로 변경"
   ]
  },
  {
   "cell_type": "code",
   "execution_count": 14,
   "id": "f80bdaa2",
   "metadata": {},
   "outputs": [
    {
     "data": {
      "text/plain": [
       "('python is easy. python is smart. python', 39)"
      ]
     },
     "execution_count": 14,
     "metadata": {},
     "output_type": "execute_result"
    }
   ],
   "source": [
    "temp = \"python is easy. python is smart. python\"\n",
    "temp,len(temp)"
   ]
  },
  {
   "cell_type": "code",
   "execution_count": 13,
   "id": "4436261a",
   "metadata": {},
   "outputs": [
    {
     "data": {
      "text/plain": [
       "1000"
      ]
     },
     "execution_count": 13,
     "metadata": {},
     "output_type": "execute_result"
    }
   ],
   "source": [
    "int(\"1,000\".replace(\",\",\"\"))"
   ]
  },
  {
   "cell_type": "code",
   "execution_count": 45,
   "id": "68d23106",
   "metadata": {},
   "outputs": [
    {
     "name": "stdout",
     "output_type": "stream",
     "text": [
      "upper() - 대문자로: PYTHON IS EASY. PYTHON IS SMART. PYTHON\n",
      "lower() - 소문자로: python is easy. python is smart. python\n",
      "title(): Python Is Easy. Python Is Smart. Python\n",
      "capitalize(): Python is easy. python is smart. python\n",
      "python이 몇번 나오는지 : 2\n",
      "C이 몇번 나오는지 : 0\n",
      "대소문자 구분없이 python이 몇번 나오는지 : 3\n",
      "대소문자 구분없이 python이 몇번 나오는지 : 3\n",
      "대소문자 구분없이 python이 몇번 나오는지 : 3\n",
      "python이 나오는 첫index 위치 :  0\n",
      "python이 나오는 마지막index 위치 :  33\n",
      "C가 나오는 index 위치 :  -1\n",
      "python이 나오는 첫 index 위치 :  0\n",
      "python으로 시작하는 지 여부 :  True\n",
      "python으로 시작하는 지 여부 :  False\n",
      "대소문자 구분없이 python으로 시작하는 지 여부 :  True\n",
      "pYthon으로 끝나는지 여부 :  True\n",
      "n으로 끝나는지 여부 :  True\n",
      "python을 R로 변경 :  R is easy. Python is smart. R\n",
      "python is easy. Python is smart. python\n"
     ]
    }
   ],
   "source": [
    "temp = \"python is easy. Python is smart. python\"\n",
    "      # 0123456789012345678901234567890123456789\n",
    "    \n",
    "print(\"upper() - 대문자로:\", temp.upper())\n",
    "print(\"lower() - 소문자로:\", temp.lower())\n",
    "print(\"title():\", temp.title())\n",
    "print(\"capitalize():\", temp.capitalize())\n",
    "print(\"python이 몇번 나오는지 :\", temp.count(\"python\"))\n",
    "print(\"C이 몇번 나오는지 :\", temp.count(\"C\"))\n",
    "print(\"대소문자 구분없이 python이 몇번 나오는지 :\", temp.lower().count(\"python\"))\n",
    "print(\"대소문자 구분없이 python이 몇번 나오는지 :\", temp.upper().count(\"PYTHON\"))\n",
    "print(\"대소문자 구분없이 python이 몇번 나오는지 :\", temp.title().count(\"Python\"))\n",
    "print(\"python이 나오는 첫index 위치 : \",temp.find(\"python\"))\n",
    "print(\"python이 나오는 마지막index 위치 : \",temp.rfind(\"python\"))\n",
    "print(\"C가 나오는 index 위치 : \",  temp.find(\"C\"))          #찾을 문자가 없을 경우 -1\n",
    "print(\"python이 나오는 첫 index 위치 : \",temp.index(\"python\"))\n",
    "# print(\"java이 나오는 첫 index 위치 : \",temp.index(\"java\")) 찾을 문자가 없을 경우 에러반환\n",
    "print(\"python으로 시작하는 지 여부 : \", temp.startswith(\"python\"))\n",
    "print(\"python으로 시작하는 지 여부 : \", temp.startswith(\"Python\"))\n",
    "print(\"대소문자 구분없이 python으로 시작하는 지 여부 : \", temp.lower().startswith(\"python\"))\n",
    "print(\"pYthon으로 끝나는지 여부 : \", temp.endswith(\"python\"))\n",
    "print(\"n으로 끝나는지 여부 : \", temp.endswith(\"n\"))\n",
    "print(\"python을 R로 변경 : \", temp.replace(\"python\",\"R\"))\n",
    "print(temp)"
   ]
  },
  {
   "cell_type": "code",
   "execution_count": 62,
   "id": "1feba858",
   "metadata": {},
   "outputs": [
    {
     "name": "stdout",
     "output_type": "stream",
     "text": [
      "좌우 공백 제거 : [python is easy]\n",
      "좌우 공백 제거 : [python is easy    ]\n",
      "좌우 공백 제거 : [      python is easy]\n",
      "isdigit(숫자문자)인지 여부 : False\n",
      "replace후 isdigit : True\n",
      "대문자인지 여부 : False\n",
      "대문자인지 여부 : True\n"
     ]
    }
   ],
   "source": [
    "temp = \"      python is easy    \"\n",
    "notdigit = \"1,000\"\n",
    "print(\"좌우 공백 제거 : [{}]\".format(temp.strip()))\n",
    "print(\"좌우 공백 제거 : [{}]\".format(temp.lstrip()))\n",
    "print(\"좌우 공백 제거 : [{}]\".format(temp.rstrip()))\n",
    "print(\"isdigit(숫자문자)인지 여부 :\", notdigit.isdigit())\n",
    "print(\"replace후 isdigit :\", notdigit.replace(\",\",\"\").isdigit())\n",
    "print(\"대문자인지 여부 :\",temp.isupper())\n",
    "print(\"대문자인지 여부 :\",temp.islower())"
   ]
  },
  {
   "cell_type": "code",
   "execution_count": 65,
   "id": "b6ba2698",
   "metadata": {},
   "outputs": [
    {
     "name": "stdout",
     "output_type": "stream",
     "text": [
      "space단위로 names 분리(list로 반환) : ['홍길동', '김길동', '박길동', '주길동', '고길동']\n",
      "홍길동 김길동\n"
     ]
    }
   ],
   "source": [
    "names = \"홍길동 김길동      박길동 주길동 고길동\"\n",
    "name_list = names.split()\n",
    "print(\"space단위로 names 분리(list로 반환) :\", names.split())\n",
    "print(name_list[0],name_list[1])"
   ]
  },
  {
   "cell_type": "code",
   "execution_count": 77,
   "id": "3dcb42a7",
   "metadata": {},
   "outputs": [
    {
     "name": "stdout",
     "output_type": "stream",
     "text": [
      "['2025', '09', '17']\n",
      "년도 : 2025\n",
      "  월 : 09\n",
      "  일 : 17\n"
     ]
    }
   ],
   "source": [
    "date_str = \"2025-09-17\"\n",
    "date_list = date_str.split('-')\n",
    "print(date_list)\n",
    "print(\"년도 :\",date_list[0])\n",
    "print(\"  월 :\",date_list[1])\n",
    "print(\"  일 :\",date_list[2])"
   ]
  },
  {
   "cell_type": "code",
   "execution_count": 80,
   "id": "53269962",
   "metadata": {},
   "outputs": [
    {
     "data": {
      "text/plain": [
       "('A', 'B', 'C')"
      ]
     },
     "execution_count": 80,
     "metadata": {},
     "output_type": "execute_result"
    }
   ],
   "source": [
    "str_=\"ABC\"\n",
    "str_=[\"A\",\"B\",\"C\"]\n",
    "str_[0],str_[1],str_[2]"
   ]
  },
  {
   "cell_type": "code",
   "execution_count": 88,
   "id": "e03c8c0b",
   "metadata": {},
   "outputs": [
    {
     "name": "stdout",
     "output_type": "stream",
     "text": [
      "분리된 temp : ['Python', '웹(HTML/CSS/JS)', 'Oracle/MySQL(DBMS)', 'DL/ML(M/DNN/CNN/RNN)', 'LLM(RAG)']\n",
      "join temp : Python/웹(HTML/CSS/JS)/Oracle/MySQL(DBMS)/DL/ML(M/DNN/CNN/RNN)/LLM(RAG)\n"
     ]
    }
   ],
   "source": [
    "# '-'을 \"/\"로 바꾸기\n",
    "temp=\"Python - 웹(HTML/CSS/JS) - Oracle/MySQL(DBMS) - DL/ML(M/DNN/CNN/RNN) - LLM(RAG)\"\n",
    "#temp.replace(\" - \",\"/\")\n",
    "#split()와 join() 이용하여 replace역할\n",
    "splited_temp=temp.split(\" - \")\n",
    "splited_temp\n",
    "print(\"분리된 temp :\" , splited_temp)\n",
    "joined_temp = \"/\".join(splited_temp) # \"/\"로 매개변수 list를 연결\n",
    "print(\"join temp :\", joined_temp)"
   ]
  },
  {
   "cell_type": "code",
   "execution_count": 90,
   "id": "8138d27f",
   "metadata": {},
   "outputs": [],
   "source": [
    "# 문자열을 다룰 수 있는 함수들 목록\n",
    "temp = \"a\"\n",
    "# dir(str) : 목록보기"
   ]
  },
  {
   "cell_type": "markdown",
   "id": "b67b07cb",
   "metadata": {},
   "source": [
    "# 7절. 시간,날짜 다루기\n"
   ]
  },
  {
   "cell_type": "code",
   "execution_count": 1,
   "id": "745f4c43",
   "metadata": {},
   "outputs": [
    {
     "data": {
      "text/plain": [
       "'C:\\\\Users\\\\Admin\\\\anaconda3\\\\lib\\\\datetime.py'"
      ]
     },
     "execution_count": 1,
     "metadata": {},
     "output_type": "execute_result"
    }
   ],
   "source": [
    "import datetime\n",
    "datetime.__file__"
   ]
  },
  {
   "cell_type": "code",
   "execution_count": 2,
   "id": "fb72a51a",
   "metadata": {},
   "outputs": [],
   "source": [
    "# datetime모듈(datetime.py) 안의 datetime,date, time만 load\n",
    "from datetime import datetime,date, time"
   ]
  },
  {
   "cell_type": "markdown",
   "id": "aa0a2b65",
   "metadata": {},
   "source": [
    "## 7.1 시간과 날짜"
   ]
  },
  {
   "cell_type": "code",
   "execution_count": 5,
   "id": "c70ea7ed",
   "metadata": {},
   "outputs": [
    {
     "data": {
      "text/plain": [
       "datetime.datetime(2025, 9, 11, 9, 30)"
      ]
     },
     "execution_count": 5,
     "metadata": {},
     "output_type": "execute_result"
    }
   ],
   "source": [
    "# 특정 시점을 갖는 datetime 객체 생성\n",
    "thatday = datetime(2025,9,11,9,30)\n",
    "thatday"
   ]
  },
  {
   "cell_type": "code",
   "execution_count": 9,
   "id": "66bd039e",
   "metadata": {},
   "outputs": [
    {
     "name": "stdout",
     "output_type": "stream",
     "text": [
      "25년09월11일(Thursday) 09:3000\n",
      "25년09월11일(Thursday) 09:3000\n",
      "Thu Sep 11 09:30:00 2025\n"
     ]
    }
   ],
   "source": [
    "# 날짜를 문자열로 전환\n",
    "print(\"{:%y년%m월%d일(%A) %H:%M%S}\".format(thatday))\n",
    "print(thatday.strftime(\"%y년%m월%d일(%A) %H:%M%S\"))\n",
    "print(thatday.ctime()) # ctime() : 사람이 읽기 쉬운 형태로 convert"
   ]
  },
  {
   "cell_type": "code",
   "execution_count": 14,
   "id": "1b57f722",
   "metadata": {},
   "outputs": [
    {
     "name": "stdout",
     "output_type": "stream",
     "text": [
      "2025-09-17 14:24:24.840353\n",
      "Wed Sep 17 14:24:24 2025\n",
      "2025년09월17일 PM 02:24:24\n"
     ]
    }
   ],
   "source": [
    "# 지금을 저장하는 datetime 객체 생성\n",
    "now = datetime.now()\n",
    "print(now)\n",
    "print(now.ctime())\n",
    "print(now.strftime(\"%Y년%m월%d일 %p %I:%M:%S\"))"
   ]
  },
  {
   "cell_type": "code",
   "execution_count": 16,
   "id": "2617510f",
   "metadata": {},
   "outputs": [
    {
     "name": "stdout",
     "output_type": "stream",
     "text": [
      "6 days, 4:54:24.840353\n",
      "6\n"
     ]
    }
   ],
   "source": [
    "diff = now - thatday\n",
    "print(diff)\n",
    "print(diff.days)"
   ]
  },
  {
   "cell_type": "markdown",
   "id": "487e82cc",
   "metadata": {},
   "source": [
    "## 7.2 날짜"
   ]
  },
  {
   "cell_type": "code",
   "execution_count": 18,
   "id": "9d2e46bd",
   "metadata": {},
   "outputs": [
    {
     "data": {
      "text/plain": [
       "datetime.date(2025, 9, 11)"
      ]
     },
     "execution_count": 18,
     "metadata": {},
     "output_type": "execute_result"
    }
   ],
   "source": [
    "# 특정한 날짜를 갖는 date 객체 생성\n",
    "# someday = date(2025,9,11,9) 시간 기입시 에러\n",
    "someday = date(2025,9,11)\n",
    "someday"
   ]
  },
  {
   "cell_type": "code",
   "execution_count": 20,
   "id": "9b72321c",
   "metadata": {},
   "outputs": [
    {
     "name": "stdout",
     "output_type": "stream",
     "text": [
      "2025-09-11\n",
      "2025년 09월 11일 00 :00\n"
     ]
    }
   ],
   "source": [
    "print(someday)\n",
    "print(someday.strftime(\"%Y년 %m월 %d일 %H :%M\"))"
   ]
  },
  {
   "cell_type": "code",
   "execution_count": 28,
   "id": "94677eb6",
   "metadata": {},
   "outputs": [
    {
     "name": "stdout",
     "output_type": "stream",
     "text": [
      "True\n",
      "2025-09-17\n",
      "2025-09-17\n"
     ]
    }
   ],
   "source": [
    "# 오늘을 갖는 date 객체 생성\n",
    "today1 = date.today()\n",
    "today2 = datetime.now().date()\n",
    "print(today1 == today2)\n",
    "print(today1)\n",
    "print(today2)"
   ]
  },
  {
   "cell_type": "code",
   "execution_count": 29,
   "id": "277d42af",
   "metadata": {},
   "outputs": [
    {
     "name": "stdout",
     "output_type": "stream",
     "text": [
      "2025년09월17일 00:00\n",
      "2025년09월17일 00:00\n"
     ]
    }
   ],
   "source": [
    "print(today1.strftime(\"%Y년%m월%d일 %H:%M\"))\n",
    "print(today2.strftime(\"%Y년%m월%d일 %H:%M\"))"
   ]
  },
  {
   "cell_type": "code",
   "execution_count": 31,
   "id": "7aa2c516",
   "metadata": {},
   "outputs": [
    {
     "name": "stdout",
     "output_type": "stream",
     "text": [
      "-6 days, 0:00:00\n",
      "-6\n"
     ]
    }
   ],
   "source": [
    "diff = someday - today1\n",
    "print(diff)\n",
    "print(diff.days)"
   ]
  },
  {
   "cell_type": "markdown",
   "id": "c0ffe306",
   "metadata": {},
   "source": [
    "## 7.3 시간"
   ]
  },
  {
   "cell_type": "code",
   "execution_count": 33,
   "id": "a4f89db1",
   "metadata": {},
   "outputs": [
    {
     "data": {
      "text/plain": [
       "datetime.time(14, 39)"
      ]
     },
     "execution_count": 33,
     "metadata": {},
     "output_type": "execute_result"
    }
   ],
   "source": [
    "# 특정한 시간을 저장하는 time 객체 생성\n",
    "# t = time(2025,9,11,9) \n",
    "t = time(14,39,0)\n",
    "t"
   ]
  },
  {
   "cell_type": "code",
   "execution_count": 37,
   "id": "e17634f3",
   "metadata": {},
   "outputs": [
    {
     "name": "stdout",
     "output_type": "stream",
     "text": [
      "PM 02:39\n",
      "\n"
     ]
    }
   ],
   "source": [
    "print(t.strftime(\"%p %I:%M\"))\n",
    "# print(t.strftime(\"%Y년 %m월 %d일 %p %I:%M\"))"
   ]
  },
  {
   "cell_type": "code",
   "execution_count": 38,
   "id": "33032080",
   "metadata": {},
   "outputs": [
    {
     "name": "stdout",
     "output_type": "stream",
     "text": [
      "14:43:45.281475\n"
     ]
    }
   ],
   "source": [
    "# 현재 시간\n",
    "nowtime = datetime.now().time()\n",
    "print(nowtime)"
   ]
  },
  {
   "cell_type": "code",
   "execution_count": 39,
   "id": "b18f60e7",
   "metadata": {},
   "outputs": [
    {
     "data": {
      "text/plain": [
       "datetime.datetime(1752, 1, 12, 13, 3)"
      ]
     },
     "execution_count": 39,
     "metadata": {},
     "output_type": "execute_result"
    }
   ],
   "source": [
    "datetime(1752,1,12,13,3)"
   ]
  },
  {
   "cell_type": "markdown",
   "id": "978e3945",
   "metadata": {},
   "source": [
    "# 8절. 연습문제"
   ]
  },
  {
   "cell_type": "code",
   "execution_count": 99,
   "id": "fa5c7926",
   "metadata": {},
   "outputs": [
    {
     "name": "stdout",
     "output_type": "stream",
     "text": [
      "[출력형식:홍길동님의 나이는  23 살입니다.]\n"
     ]
    }
   ],
   "source": [
    "#1.이름과 나이 변수를 다음 형식으로 출력하도록 format() 함수를 이용해 형식화하세요\n",
    "#[출력형식 : 홍길동님의 나이는 23 살입니다.]\n",
    "name = \"홍길동\"\n",
    "age = 23\n",
    "print(\"[출력형식:\"+ name+'님의 나이는  '+str(age)+' 살입니다.'+\"]\")"
   ]
  },
  {
   "cell_type": "code",
   "execution_count": 104,
   "id": "aa982dc1",
   "metadata": {},
   "outputs": [
    {
     "name": "stdout",
     "output_type": "stream",
     "text": [
      "첫번째 숫자는?10\n",
      "두번째 숫자는?0\n"
     ]
    },
    {
     "ename": "ZeroDivisionError",
     "evalue": "division by zero",
     "output_type": "error",
     "traceback": [
      "\u001b[1;31m---------------------------------------------------------------------------\u001b[0m",
      "\u001b[1;31mZeroDivisionError\u001b[0m                         Traceback (most recent call last)",
      "Cell \u001b[1;32mIn[104], line 6\u001b[0m\n\u001b[0;32m      4\u001b[0m p\u001b[38;5;241m=\u001b[39m\u001b[38;5;28mint\u001b[39m(first)\u001b[38;5;241m+\u001b[39m\u001b[38;5;28mint\u001b[39m(second)\n\u001b[0;32m      5\u001b[0m m\u001b[38;5;241m=\u001b[39m\u001b[38;5;28mint\u001b[39m(first)\u001b[38;5;241m-\u001b[39m\u001b[38;5;28mint\u001b[39m(second)\n\u001b[1;32m----> 6\u001b[0m x\u001b[38;5;241m=\u001b[39m\u001b[38;5;28;43mint\u001b[39;49m\u001b[43m(\u001b[49m\u001b[43mfirst\u001b[49m\u001b[43m)\u001b[49m\u001b[38;5;241;43m/\u001b[39;49m\u001b[38;5;28;43mint\u001b[39;49m\u001b[43m(\u001b[49m\u001b[43msecond\u001b[49m\u001b[43m)\u001b[49m\n\u001b[0;32m      7\u001b[0m y\u001b[38;5;241m=\u001b[39m\u001b[38;5;28mint\u001b[39m(first)\u001b[38;5;241m/\u001b[39m\u001b[38;5;241m/\u001b[39m\u001b[38;5;28mint\u001b[39m(second)\n\u001b[0;32m      8\u001b[0m z\u001b[38;5;241m=\u001b[39m\u001b[38;5;28mint\u001b[39m(first)\u001b[38;5;241m%\u001b[39m\u001b[38;5;28mint\u001b[39m(second)\n",
      "\u001b[1;31mZeroDivisionError\u001b[0m: division by zero"
     ]
    }
   ],
   "source": [
    "# 2.두 정수를 입력받아 두 수의 덧셈 , 뺄셈 , 곱셈 , 나눗셈 , 몫 , 나머지를 출력하세요\n",
    "first = input('첫번째 숫자는?')\n",
    "second = input('두번째 숫자는?')\n",
    "p=int(first)+int(second)\n",
    "m=int(first)-int(second)\n",
    "x=int(first)/int(second)\n",
    "y=int(first)//int(second)\n",
    "z=int(first)%int(second)\n",
    "print(\"두수의 덧셈은: \",p)\n",
    "print(\"두수의 뺄셈은: \",m)\n",
    "if second!=0:\n",
    "    print(\"두수의 나눗셈은: \",x)\n",
    "    print(\"두수의 몫은: \",y)\n",
    "    print(\"두수의 나머지는: \",z)\n",
    "else:\n",
    "    print(\"second가 0이라서 나눗셈 불가.\")"
   ]
  },
  {
   "cell_type": "code",
   "execution_count": 98,
   "id": "24ff2416",
   "metadata": {},
   "outputs": [
    {
     "name": "stdout",
     "output_type": "stream",
     "text": [
      "분리된 temp : ['Hello', 'World']\n",
      "교체된 temp : ('World', 'Hello')\n",
      "join temp : World Hello\n"
     ]
    }
   ],
   "source": [
    "# 3.문자열의 분리하기와 합치기 기능을 이용하여 ‘Hello World\" 가 할당된 변수를 이용하여 ‘World Hello\" 로 출력하세요\n",
    "temp=\"Hello World\"\n",
    "\n",
    "splited_temp=temp.split(\" \")\n",
    "splited_temp\n",
    "print(\"분리된 temp :\" , splited_temp)\n",
    "replaced_temp=(splited_temp[1],splited_temp[0])\n",
    "print(\"교체된 temp :\", replaced_temp)\n",
    "joined_temp = \" \".join(replaced_temp) # \" \"로 매개변수 list를 연결\n",
    "print(\"join temp :\", joined_temp)"
   ]
  },
  {
   "cell_type": "code",
   "execution_count": 78,
   "id": "e33a71a2",
   "metadata": {},
   "outputs": [
    {
     "name": "stdout",
     "output_type": "stream",
     "text": [
      "a\n",
      "bcdef\n",
      "bcdefa\n"
     ]
    }
   ],
   "source": [
    "# 4.x = 'abcdef'를 이용하여 'bcdefa' 로 출력하세요 (문자 슬라이싱이용)\n",
    "x = 'abcdef'\n",
    "str_=x\n",
    "\n",
    "x1=str_[0]\n",
    "x1\n",
    "print(x1)\n",
    "x2=str_[1:6]\n",
    "print(x2)\n",
    "print(x2+x1)\n"
   ]
  },
  {
   "cell_type": "code",
   "execution_count": 79,
   "id": "26891088",
   "metadata": {},
   "outputs": [
    {
     "name": "stdout",
     "output_type": "stream",
     "text": [
      "fedcba\n"
     ]
    }
   ],
   "source": [
    "# 5. x = ‘abcdef' 를 이용하여 'fedcba' 로 출력하세요\n",
    "x='abcdef'\n",
    "print(str_[-1::-1])"
   ]
  },
  {
   "cell_type": "code",
   "execution_count": 101,
   "id": "669cd401",
   "metadata": {},
   "outputs": [
    {
     "name": "stdout",
     "output_type": "stream",
     "text": [
      "섭씨 온도를 입력하세요: 5\n",
      "화씨 온도: 41°F\n"
     ]
    }
   ],
   "source": [
    "# 6.오늘의 온도를 섭씨온도로 입력받아 화씨 온도로 변환하는 프로그램을 작성하세요 . \n",
    "# 화씨 온도는 소수점이 있을 경우만 두번째 자리까지 출력되고 , 소수점이하 값이 없는 경우 소수점을 출력하지 않도록 합니다 \n",
    "# 다음은 섭씨와 화씨의 변환 공식입니다 . C 는 섭씨 ,F 는 화씨\n",
    "# C = (F-32) / 1.8\n",
    "# F = (C*1.8) + 32\n",
    "# 섭씨 온도를 입력받습니다.\n",
    "c_input = input(\"섭씨 온도를 입력하세요: \")\n",
    "\n",
    "# 입력받은 섭씨 온도를 실수(float)로 변환합니다.\n",
    "c = float(c_input)\n",
    "\n",
    "# 화씨로 변환합니다. (C * 1.8) + 32\n",
    "f = (c * 1.8) + 32\n",
    "\n",
    "# 화씨 온도 출력: 소수점이 있을 경우 두 번째 자리까지, 없을 경우 소수점 없이 출력합니다.\n",
    "if f == int(f):\n",
    "    # 소수점 이하 값이 없으면 정수로 출력합니다.\n",
    "    print(f\"화씨 온도: {int(f)}°F\")\n",
    "else:\n",
    "    # 소수점 이하 값이 있으면 두 번째 자리까지 출력합니다.\n",
    "    print(f\"화씨 온도: {f:.2f}°F\")"
   ]
  },
  {
   "cell_type": "code",
   "execution_count": 105,
   "id": "84082f88",
   "metadata": {},
   "outputs": [
    {
     "name": "stdout",
     "output_type": "stream",
     "text": [
      "정답: 1,2,3\n"
     ]
    }
   ],
   "source": [
    "# 7.다음 중 변수 선언으로 잘못된 것을 모두 고르시오\n",
    "print(\"정답: 1,2,3\")\n",
    "# ①for ②10th ③Student.name ④_1234"
   ]
  },
  {
   "cell_type": "code",
   "execution_count": 85,
   "id": "aeaca28e",
   "metadata": {},
   "outputs": [
    {
     "name": "stdout",
     "output_type": "stream",
     "text": [
      "SeounSeoul\n",
      "Seou n Seoul\n",
      "text[:4]+text[-1]+text.split()[0] 정답은  : SeounSeoul \n",
      "text[:4],text[-1],text.split()[0] 정답은  : Seou n Seoul \n"
     ]
    }
   ],
   "source": [
    "# 8.다음의 코드의 실행결과는\n",
    "text = \"Seoul A001 - programming with python\"\n",
    "print(text[:4]+text[-1]+text.split()[0])\n",
    "print(text[:4],text[-1],text.split()[0])\n",
    "print(\"text[:4]+text[-1]+text.split()[0] 정답은  : SeounSeoul \")\n",
    "print(\"text[:4],text[-1],text.split()[0] 정답은  : Seou n Seoul \")"
   ]
  },
  {
   "cell_type": "code",
   "execution_count": 89,
   "id": "51afb8f4",
   "metadata": {},
   "outputs": [
    {
     "name": "stdout",
     "output_type": "stream",
     "text": [
      "8//2:  4\n",
      "8/2:  4.0\n",
      "8**2:  64\n",
      "문제의 정답은 : 수식 8/2는 실수 4.0이므로 2번\n"
     ]
    }
   ],
   "source": [
    "# 9. 다음 중 파이썬 3.x 버전에서 연산식과 그 결과의 출력이 잘못된 것은?\n",
    "# ①수식 8//2 결과 4\n",
    "# ②수식 8/2 결과 4\n",
    "# ③수식 8 **2 결과 64\n",
    "print(\"8//2: \", 8//2)\n",
    "print(\"8/2: \", 8/2)\n",
    "print(\"8**2: \", 8**2)\n",
    "print(\"문제의 정답은 : 수식 8/2는 실수 4.0이므로 2번\")"
   ]
  },
  {
   "cell_type": "code",
   "execution_count": 92,
   "id": "a7ed3bb6",
   "metadata": {},
   "outputs": [
    {
     "name": "stdout",
     "output_type": "stream",
     "text": [
      "x+y의 답은 : TypeError\n"
     ]
    }
   ],
   "source": [
    "# 10. 아래 프로그램의 결과는? \n",
    "x = 5\n",
    "y = \"John\"\n",
    "# print(x + y)\n",
    "print(\"x+y의 답은 : TypeError\")"
   ]
  },
  {
   "cell_type": "code",
   "execution_count": 95,
   "id": "b9a326fd",
   "metadata": {},
   "outputs": [
    {
     "name": "stdout",
     "output_type": "stream",
     "text": [
      "['우리', '나라', '대한', '민국']\n",
      "나라\n"
     ]
    }
   ],
   "source": [
    "# 11. 11.split() 함수를 이용하여 str_ 의 값 중 나라 를 출력하는 프로그램을 완성하시오\n",
    "str_=\"우리 나라 대한 민국\"\n",
    "str_list=str_.split()\n",
    "print(str_list)\n",
    "print(str_list[1])\n",
    "print"
   ]
  },
  {
   "cell_type": "code",
   "execution_count": null,
   "id": "3e2caa10",
   "metadata": {},
   "outputs": [],
   "source": []
  }
 ],
 "metadata": {
  "kernelspec": {
   "display_name": "Python 3 (ipykernel)",
   "language": "python",
   "name": "python3"
  },
  "language_info": {
   "codemirror_mode": {
    "name": "ipython",
    "version": 3
   },
   "file_extension": ".py",
   "mimetype": "text/x-python",
   "name": "python",
   "nbconvert_exporter": "python",
   "pygments_lexer": "ipython3",
   "version": "3.10.9"
  },
  "toc": {
   "base_numbering": 1,
   "nav_menu": {},
   "number_sections": false,
   "sideBar": true,
   "skip_h1_title": false,
   "title_cell": "Table of Contents",
   "title_sidebar": "Contents",
   "toc_cell": false,
   "toc_position": {
    "height": "calc(100% - 180px)",
    "left": "10px",
    "top": "150px",
    "width": "165px"
   },
   "toc_section_display": true,
   "toc_window_display": true
  }
 },
 "nbformat": 4,
 "nbformat_minor": 5
}
