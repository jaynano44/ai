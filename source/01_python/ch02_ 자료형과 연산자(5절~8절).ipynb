{
 "cells": [
  {
   "cell_type": "code",
   "execution_count": null,
   "id": "7fc0e3f3",
   "metadata": {},
   "outputs": [],
   "source": [
    "from IPython.display import display, HTML\n",
    "display(HTML(\"\"\"\n",
    "<style>\n",
    "div.container{width:90% !important;}\n",
    "div.cell.code_cell.rendered{width:100%;}\n",
    "div.input_prompt{padding:0px;}\n",
    "div.CodeMirror {font-family:Consolas; font-size:12pt;}\n",
    "div.text_cell_render.rendered_html{font-size:12pt;}\n",
    "div.output {font-size:12pt; font-weight:bold;}\n",
    "div.input {font-family:Consolas; font-size:12pt;}\n",
    "div.prompt {min-width:70px;}\n",
    "div#toc-wrapper{padding-top:120px;}\n",
    "div.text_cell_render ul li{font-size:12pt;padding:5px;}\n",
    "table.dataframe{font-size:12px;}\n",
    "</style>\n",
    "\"\"\"))"
   ]
  },
  {
   "cell_type": "markdown",
   "id": "0b0d65ad",
   "metadata": {},
   "source": [
    "<b><font size=\"6\"  color=\"red\">ch02. 자료형과 연산자(5절~8절 </font></b>\n",
    "# 5절. 연산자\n",
    "## 5.1 산술연산자: +,-,*,/(결과 float),//(몫), %(나머지),**(제곱)"
   ]
  },
  {
   "cell_type": "code",
   "execution_count": null,
   "id": "2efe03ee",
   "metadata": {},
   "outputs": [],
   "source": [
    "print(\"10*5승=\",10**5)\n",
    "print(\"5/2(/결과는 실수)=\",5/2)\n",
    "print(\"5//2(몫)=\",5//2)\n",
    "print(\"5%2(나머지)=\",5%2)"
   ]
  },
  {
   "cell_type": "code",
   "execution_count": null,
   "id": "32603383",
   "metadata": {},
   "outputs": [],
   "source": [
    "#정수끼리 연산은 결과가 정수(단 /제외)\n",
    "#정수와 실수, 실수끼리 연산결과는 실수\n",
    "print(\"4+2=\",4+2,\"4-2=\",4-2,\"4*2=\",4*2,)\n",
    "print(\"4**2=\",4**2.0)"
   ]
  },
  {
   "cell_type": "code",
   "execution_count": 6,
   "id": "2733fb9f",
   "metadata": {},
   "outputs": [
    {
     "name": "stdout",
     "output_type": "stream",
     "text": [
      "정수를 입력하세요:12\n",
      "입력하신 수는 12, 2로 나눈 나머지는 0라서 짝수를 입력하셨습니다\n"
     ]
    }
   ],
   "source": [
    "# quiz1. 정수를 입력받아 짝수인지 홀수인지 여부를 출력\n",
    "\n",
    "num = int(input(\"정수를 입력하세요:\"))\n",
    "result = num%2 # -1,0,1\n",
    "if result:\n",
    "    temp = \"홀수\"\n",
    "else:\n",
    "    temp = \"짝수\"\n",
    "print(f\"입력하신 수는 {num}, 2로 나눈 나머지는 {result}라서 {temp}를 입력하셨습니다\")"
   ]
  },
  {
   "cell_type": "code",
   "execution_count": 8,
   "id": "8ce8273f",
   "metadata": {},
   "outputs": [
    {
     "name": "stdout",
     "output_type": "stream",
     "text": [
      "정수를 입력하세요:25\n",
      "5의 배수입니다.\n"
     ]
    }
   ],
   "source": [
    "# quiz2. 정수를 입력받아 5의 배수인지 여부를 출력\n",
    "num = int(input(\"정수를 입력하세요:\"))\n",
    "if num%5:\n",
    "    print(\"5의 배수가 아닙니다.\")\n",
    "else:\n",
    "    print(\"5의 배수입니다.\")\n",
    "# num = int(input(\"정수를 입력하세요:\"))\n",
    "# result = num%5 # 0,1,2,3,4\n",
    "# if result:\n",
    "#     temp = \"5의 배수가 아님\"\n",
    "# else:\n",
    "#     temp = \"5의 배수입니다\"\n",
    "# print(f\"입력하신 수는 {num}, 5로 나눈 나머지는 {num%}라서 {temp}\")"
   ]
  },
  {
   "cell_type": "code",
   "execution_count": 9,
   "id": "70b9087e",
   "metadata": {},
   "outputs": [
    {
     "name": "stdout",
     "output_type": "stream",
     "text": [
      "국어?99\n",
      "영어?100\n",
      "수학?99\n"
     ]
    }
   ],
   "source": [
    "# quiz3. 국, 영, 수 점수를 입력받아 다음셀에서 다음과 같이 출력하도록 구현하시오\n",
    "# 국어: 99 \\t 영어:100 \\t수학:99\n",
    "#총점:298  \\t 평균:99.7\n",
    "kor = int(input(\"국어?\"))\n",
    "eng = int(input(\"영어?\"))\n",
    "mat = int(input(\"수학?\"))\n",
    "sum = kor+eng + mat\n",
    "avg =sum/3\n",
    "\n",
    "# first = int(input('국어 점수는?'))\n",
    "# second = int(input('영어점수는?'))\n",
    "# third = int(input('수학점수는?'))\n",
    "# total =first+second+third\n",
    "# average=total/3\n",
    "# print(\"국어:\", first, \"영어:\",second,\"수학:\",third)\n",
    "# print(\"총점:\",total,\"평균:\",average)\n"
   ]
  },
  {
   "cell_type": "code",
   "execution_count": 12,
   "id": "3a754c55",
   "metadata": {},
   "outputs": [
    {
     "name": "stdout",
     "output_type": "stream",
     "text": [
      "국어: 99\t영어:100\t수학: 99\n",
      "총점:298\t평균: 99.3\n"
     ]
    }
   ],
   "source": [
    "print(\"국어:{:3d}\\t영어:{:3d}\\t수학:{:3d}\".format(kor,eng,mat))\n",
    "print(\"총점:{:3d}\\t평균:{:5.1f}\".format(sum,avg))"
   ]
  },
  {
   "cell_type": "markdown",
   "id": "db8ff3ab",
   "metadata": {},
   "source": [
    "## 5.2 할당연산자:=,+=,-=,/=,*=,//=,%="
   ]
  },
  {
   "cell_type": "code",
   "execution_count": 17,
   "id": "f1777d8a",
   "metadata": {},
   "outputs": [
    {
     "name": "stdout",
     "output_type": "stream",
     "text": [
      "a=15\n"
     ]
    }
   ],
   "source": [
    "a= 10\n",
    "a+=5 # a=a+5와 동일\n",
    "print(f\"a={a}\")"
   ]
  },
  {
   "cell_type": "code",
   "execution_count": 18,
   "id": "8113bf67",
   "metadata": {},
   "outputs": [
    {
     "name": "stdout",
     "output_type": "stream",
     "text": [
      "5빼기: 10\n",
      "10배: 100\n",
      "5나눈 몫: 20\n"
     ]
    }
   ],
   "source": [
    "a-=5 # a=a-5\n",
    "print(\"5빼기:\",a) #10\n",
    "a*=10 #a=a*10\n",
    "print(\"10배:\",a) #100\n",
    "a//=5 #a=a//5\n",
    "print(\"5나눈 몫:\",a)"
   ]
  },
  {
   "cell_type": "markdown",
   "id": "428c11a2",
   "metadata": {},
   "source": [
    "## 5.3 논리연산자: &,and,|,or,not"
   ]
  },
  {
   "cell_type": "code",
   "execution_count": 25,
   "id": "3fe38f18",
   "metadata": {},
   "outputs": [
    {
     "name": "stdout",
     "output_type": "stream",
     "text": [
      "True\n",
      "0\n",
      "1100\n"
     ]
    }
   ],
   "source": [
    "# & : 논리연산자, 비트연산자\n",
    "print((10>3) & ((10>5))) #논리연산 True & True\n",
    "print(12 & 1) #비트연산 1100(12)\n",
    "               #         0001(1)\n",
    "                #     &: 0000\n",
    "print(\"{:4b}\".format(12))"
   ]
  },
  {
   "cell_type": "code",
   "execution_count": 31,
   "id": "28b6cac3",
   "metadata": {},
   "outputs": [
    {
     "name": "stdout",
     "output_type": "stream",
     "text": [
      "True\n",
      "True\n",
      "0\n",
      "4\n"
     ]
    }
   ],
   "source": [
    "# and : 논리연산자 . False로 판별되는 첫번째 항의 결과 반환\n",
    "#모든 항이 True면, 마지막항의 결과 반환\n",
    "print((10>3) and (10>5))\n",
    "print(10>3 and 10>5) #and가 우선순위가 더 높음\n",
    "print(0 and 1)\n",
    "print(12 and 4) "
   ]
  },
  {
   "cell_type": "code",
   "execution_count": 37,
   "id": "1bbb074f",
   "metadata": {},
   "outputs": [
    {
     "name": "stdout",
     "output_type": "stream",
     "text": [
      "논리연산(연산자 앞뒤에 논리형일때): True\n",
      "비트연산(연산자 앞이나 뒤에 숫자일 때): 3\n"
     ]
    }
   ],
   "source": [
    "# | or :논리연산, 비트연산\n",
    "#print(\"홍길동\" | 1)\n",
    "result =True|False\n",
    "print('논리연산(연산자 앞뒤에 논리형일때):',result)\n",
    "result=False|3   #0000(0)\n",
    "                  #0011(3)\n",
    "print('비트연산(연산자 앞이나 뒤에 숫자일 때):',result)"
   ]
  },
  {
   "cell_type": "code",
   "execution_count": 41,
   "id": "cb1b040c",
   "metadata": {},
   "outputs": [
    {
     "name": "stdout",
     "output_type": "stream",
     "text": [
      "[]\n",
      "Hong\n",
      "True\n"
     ]
    }
   ],
   "source": [
    "# or  :논리연산. 참으로 판별되는 첫번째 항의 결과 반환\n",
    "# 모든 항이 거짓이면 마지막항의 결과 반환\n",
    "print(False or 0 or '' or None or [])\n",
    "print(False or 0 or 'Hong' or None or [])\n",
    "print(False or 0 or True or None or [])"
   ]
  },
  {
   "cell_type": "code",
   "execution_count": 42,
   "id": "28cee835",
   "metadata": {},
   "outputs": [
    {
     "data": {
      "text/plain": [
       "False"
      ]
     },
     "execution_count": 42,
     "metadata": {},
     "output_type": "execute_result"
    }
   ],
   "source": [
    "not 10>5"
   ]
  },
  {
   "cell_type": "markdown",
   "id": "bf442a68",
   "metadata": {},
   "source": [
    "## 5.4 비교연산자: >,>=,<,<=,==(같다),!=(다르다)"
   ]
  },
  {
   "cell_type": "code",
   "execution_count": 46,
   "id": "8f99b6e0",
   "metadata": {},
   "outputs": [
    {
     "name": "stdout",
     "output_type": "stream",
     "text": [
      "True\n",
      "True\n",
      "True\n"
     ]
    }
   ],
   "source": [
    "#비교연산자는 이항,삼항, 사항,..., 다항연산자\n",
    "x = 95\n",
    "print((90<=x)&(x<=100))\n",
    "# print(x>=90&x<=100)    비교연산자는 비트연산자보다 우선순위가 낮음\n",
    "print(90<=x<=100)\n",
    "print(90<=x<=100>10)\n"
   ]
  },
  {
   "cell_type": "code",
   "execution_count": 49,
   "id": "a66c52ea",
   "metadata": {},
   "outputs": [
    {
     "name": "stdout",
     "output_type": "stream",
     "text": [
      "True\n",
      "False\n",
      "False\n"
     ]
    }
   ],
   "source": [
    "# 비교연산자의 우선순위가 비트연산자(|,&)의 우선 순위가보다 낮다\n",
    "print((10>5)&(10>7))\n",
    "print(10>5&10>7)  #괄호를 없애면 우선순위가 높은 5&10부터 실행\n",
    "print(10>0>7)\n",
    "#  0101(5) & 1010  (10)  0000(0)"
   ]
  },
  {
   "cell_type": "code",
   "execution_count": 53,
   "id": "25d657d3",
   "metadata": {},
   "outputs": [
    {
     "name": "stdout",
     "output_type": "stream",
     "text": [
      "True\n",
      "True\n"
     ]
    }
   ],
   "source": [
    "address = \"목동\"\n",
    "age = 29\n",
    "print((address==\"목동\")&(age<=30))\n",
    "#print(address==\"목동\"&age<=30)\n",
    "print((address==\"목동\") and (age<=30))"
   ]
  },
  {
   "cell_type": "code",
   "execution_count": 55,
   "id": "512c45c3",
   "metadata": {},
   "outputs": [
    {
     "data": {
      "text/plain": [
       "True"
      ]
     },
     "execution_count": 55,
     "metadata": {},
     "output_type": "execute_result"
    }
   ],
   "source": [
    "#문자는 ASCII 코드 순으로 비교 : 특수문자<숫자문자<대문자<소문자(abc순)\n",
    "\"scott\"<\"tiger\""
   ]
  },
  {
   "cell_type": "code",
   "execution_count": 56,
   "id": "bc045a21",
   "metadata": {},
   "outputs": [
    {
     "data": {
      "text/plain": [
       "True"
      ]
     },
     "execution_count": 56,
     "metadata": {},
     "output_type": "execute_result"
    }
   ],
   "source": [
    "\"김길동\"<\"홍길동\""
   ]
  },
  {
   "cell_type": "markdown",
   "id": "1c114a3e",
   "metadata": {},
   "source": [
    "## 5.5 비트연산 : &, |, ^(XOR), ~(반대)"
   ]
  },
  {
   "cell_type": "code",
   "execution_count": null,
   "id": "c54f8ba4",
   "metadata": {},
   "outputs": [],
   "source": []
  },
  {
   "cell_type": "code",
   "execution_count": null,
   "id": "b6ba2698",
   "metadata": {},
   "outputs": [],
   "source": []
  },
  {
   "cell_type": "code",
   "execution_count": null,
   "id": "3dcb42a7",
   "metadata": {},
   "outputs": [],
   "source": []
  },
  {
   "cell_type": "code",
   "execution_count": null,
   "id": "53269962",
   "metadata": {},
   "outputs": [],
   "source": []
  },
  {
   "cell_type": "code",
   "execution_count": null,
   "id": "e03c8c0b",
   "metadata": {},
   "outputs": [],
   "source": []
  },
  {
   "cell_type": "code",
   "execution_count": null,
   "id": "a4f89db1",
   "metadata": {},
   "outputs": [],
   "source": []
  },
  {
   "cell_type": "code",
   "execution_count": null,
   "id": "e33a71a2",
   "metadata": {},
   "outputs": [],
   "source": []
  },
  {
   "cell_type": "code",
   "execution_count": null,
   "id": "26891088",
   "metadata": {},
   "outputs": [],
   "source": []
  }
 ],
 "metadata": {
  "kernelspec": {
   "display_name": "Python 3 (ipykernel)",
   "language": "python",
   "name": "python3"
  },
  "language_info": {
   "codemirror_mode": {
    "name": "ipython",
    "version": 3
   },
   "file_extension": ".py",
   "mimetype": "text/x-python",
   "name": "python",
   "nbconvert_exporter": "python",
   "pygments_lexer": "ipython3",
   "version": "3.10.9"
  },
  "toc": {
   "base_numbering": 1,
   "nav_menu": {},
   "number_sections": false,
   "sideBar": true,
   "skip_h1_title": false,
   "title_cell": "Table of Contents",
   "title_sidebar": "Contents",
   "toc_cell": false,
   "toc_position": {
    "height": "calc(100% - 180px)",
    "left": "10px",
    "top": "150px",
    "width": "165px"
   },
   "toc_section_display": true,
   "toc_window_display": true
  }
 },
 "nbformat": 4,
 "nbformat_minor": 5
}
