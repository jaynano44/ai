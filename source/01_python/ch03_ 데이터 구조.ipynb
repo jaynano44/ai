{
 "cells": [
  {
   "cell_type": "code",
   "execution_count": null,
   "id": "d8ac4722",
   "metadata": {},
   "outputs": [],
   "source": [
    "from IPython.display import display, HTML\n",
    "display(HTML(\"\"\"\n",
    "<style>\n",
    "div.container{width:90% !important;}\n",
    "div.cell.code_cell.rendered{width:100%;}\n",
    "div.input_prompt{padding:0px;}\n",
    "div.CodeMirror {font-family:Consolas; font-size:12pt;}\n",
    "div.text_cell_render.rendered_html{font-size:12pt;}\n",
    "div.output {font-size:12pt; font-weight:bold;}\n",
    "div.input {font-family:Consolas; font-size:12pt;}\n",
    "div.prompt {min-width:70px;}\n",
    "div#toc-wrapper{padding-top:120px;}\n",
    "div.text_cell_render ul li{font-size:12pt;padding:5px;}\n",
    "table.dataframe{font-size:12px;}\n",
    "</style>\n",
    "\"\"\"))"
   ]
  },
  {
   "cell_type": "markdown",
   "id": "b9ab3923",
   "metadata": {},
   "source": [
    "<b><font size=\"6\"  color=\"red\">ch03. 데이터 구조 </font></b>\n",
    "- 리스트[80,20], 튜플(90,20),딕셔너리{\"name\":\"홍\",\"score\":99},셋{10,20}\n",
    "\n",
    "# 1절. 리스트\n",
    "## 1.1 리스트 만들기\n",
    "- []를 이용해서 만들며, 여러 개 값(여러 타입)을 하나의 변수에 저장/관리할 수 있음\n",
    "- list()함수 이용도 가능\n",
    "- 인덱스 : 각 요소의 위치. 인덱스는 0부터 시작. 맨마지막 인덱스는 -1\n",
    "- 슬라이싱([from:to:step]) :부분 데이터셋 추출\n",
    "- 인덱스와 슬라이싱을 이용해서 쓰기와 읽기 지원\n",
    "                                              "
   ]
  },
  {
   "cell_type": "code",
   "execution_count": null,
   "id": "f4bb023a",
   "metadata": {},
   "outputs": [],
   "source": [
    "fruit='banana'\n",
    "fruits=['banana','apple','orange','grape']\n",
    "type(fruits)"
   ]
  },
  {
   "cell_type": "code",
   "execution_count": null,
   "id": "2d2864ca",
   "metadata": {},
   "outputs": [],
   "source": [
    "print(fruits)\n",
    "print(fruits[2]) # 인덱싱을 이용한 읽기\n",
    "# print(fruits[4]) #없는 인덱싱시 에러"
   ]
  },
  {
   "cell_type": "code",
   "execution_count": null,
   "id": "1960bc5b",
   "metadata": {},
   "outputs": [],
   "source": [
    "fruits[0]='mango' #인덱싱을 이용한 쓰기\n",
    "print(fruits)"
   ]
  },
  {
   "cell_type": "code",
   "execution_count": null,
   "id": "bb53a61e",
   "metadata": {},
   "outputs": [],
   "source": [
    "fruits=['mango','apple','orange']\n",
    "x,y,z=['mango','apple','orange']\n",
    "print(\"x={}\".format(x))\n",
    "print(f\"y={y}\")\n",
    "print(f\"z={z}\")"
   ]
  },
  {
   "cell_type": "code",
   "execution_count": null,
   "id": "95426dc8",
   "metadata": {},
   "outputs": [],
   "source": [
    "#range(from,to,by) : from부터 to 앞까지 by씩 증가하는 나열 가능한 자료\n",
    "    #숫자를 순차적으로 사용할 수 있게\n",
    "    #from 생력시 0,by생략시 1\n",
    "range(0,10,1)\n",
    "range(10) #[0,1,2,3,4,5,6,7,8,9]"
   ]
  },
  {
   "cell_type": "code",
   "execution_count": null,
   "id": "0788b450",
   "metadata": {},
   "outputs": [],
   "source": [
    "list(range(10))"
   ]
  },
  {
   "cell_type": "code",
   "execution_count": null,
   "id": "f7ba7290",
   "metadata": {},
   "outputs": [],
   "source": [
    "list(range(10,-1,-2))"
   ]
  },
  {
   "cell_type": "code",
   "execution_count": null,
   "id": "cfd2e64b",
   "metadata": {},
   "outputs": [],
   "source": [
    "for i in [0,1,2]:\n",
    "    print(i)"
   ]
  },
  {
   "cell_type": "code",
   "execution_count": null,
   "id": "2fda405d",
   "metadata": {},
   "outputs": [],
   "source": [
    "for i in range(3):\n",
    "    print(i)"
   ]
  },
  {
   "cell_type": "code",
   "execution_count": null,
   "id": "7fad3098",
   "metadata": {},
   "outputs": [],
   "source": [
    "fruits=['mango', 'apple', 'orange']\n",
    "# print(\"{}번째 과일은 {} \".format(0,fruits[0]))\n",
    "# print(\"{}번째 과일은 {} \".format(1,fruits[1]))\n",
    "# print(\"{}번째 과일은 {} \".format(2,fruits[2]))\n",
    "for idx in range(len(fruits)):\n",
    "    print(\"{}번째 과일은 {} \".format(idx,fruits[idx]))"
   ]
  },
  {
   "cell_type": "markdown",
   "id": "44273c1f",
   "metadata": {},
   "source": [
    "### *enumerate 활용"
   ]
  },
  {
   "cell_type": "code",
   "execution_count": null,
   "id": "97b6f530",
   "metadata": {},
   "outputs": [],
   "source": [
    "list(enumerate(fruits))"
   ]
  },
  {
   "cell_type": "code",
   "execution_count": null,
   "id": "b8915c24",
   "metadata": {},
   "outputs": [],
   "source": [
    "# for index,value in enumerate(fruits):\n",
    "#       print(f\"{index}번째 과일은 {value}\")\n",
    "# for i,fruit in [(0, 'mango'), (1, 'apple'), (2, 'orange')]:\n",
    "#     print(f\"{i}번째 과일은 {fruit}\")\n",
    "for i,fruit in enumerate(fruits):\n",
    "      print(f\"{i}번째 과일은 {fruit}\")\n"
   ]
  },
  {
   "cell_type": "code",
   "execution_count": null,
   "id": "5ae4312a",
   "metadata": {},
   "outputs": [],
   "source": [
    "# 몇번째를 알 필요 없을 때\n",
    "for x in fruits: #['mango', 'apple', 'orange']\n",
    "    print(f\"{x}입니다\")"
   ]
  },
  {
   "cell_type": "code",
   "execution_count": null,
   "id": "703ab7d0",
   "metadata": {},
   "outputs": [],
   "source": [
    "# 리스트는 여러 타입의 데이터를 담을 수 있음\n",
    "numbers=[0,True,\"2\",[2,3],[4,5,6]]\n",
    "numbers[2],numbers[4][1]"
   ]
  },
  {
   "cell_type": "code",
   "execution_count": null,
   "id": "c9d4ebb2",
   "metadata": {},
   "outputs": [],
   "source": [
    "#2차원 리스트\n",
    "numbers=[1,2,3,4,5]\n",
    "         #0열 1열 2열 3열 4열\n",
    "numbers_2d=[[1,2,3,4,5],         #0행\n",
    "            [10,20,30,40,50],    #1행\n",
    "            [1,3,5,7,9],         #2행\n",
    "            [2,4,6,8,10]]        #3행\n",
    "print(numbers_2d)"
   ]
  },
  {
   "cell_type": "code",
   "execution_count": null,
   "id": "0fdd2c51",
   "metadata": {},
   "outputs": [],
   "source": [
    "numbers_2d[1][4]\n",
    "print(numbers_2d[1][4])\n",
    "# numbers_2d[1,4]  : 에러"
   ]
  },
  {
   "cell_type": "code",
   "execution_count": null,
   "id": "2efbaad1",
   "metadata": {},
   "outputs": [],
   "source": [
    "len(numbers_2d),len(numbers_2d[3])"
   ]
  },
  {
   "cell_type": "code",
   "execution_count": null,
   "id": "3476e45c",
   "metadata": {},
   "outputs": [],
   "source": [
    "\n",
    "for row in numbers_2d:\n",
    "    for item in row:\n",
    "        print(item,end='\\t')\n",
    "    print()  # end='\\n' "
   ]
  },
  {
   "cell_type": "code",
   "execution_count": null,
   "id": "42754b80",
   "metadata": {},
   "outputs": [],
   "source": [
    "for i in range(len(numbers_2d)): #i:행\n",
    "    for j in range(len(numbers_2d[i])): #j:열\n",
    "        print(f\"{i}행{j}열 : {numbers_2d[i][j]}\",end=\"\\t\")\n",
    "    print()"
   ]
  },
  {
   "cell_type": "code",
   "execution_count": null,
   "id": "835d39b7",
   "metadata": {},
   "outputs": [],
   "source": [
    "list(enumerate(numbers_2d)),list(enumerate(numbers_2d[0]))"
   ]
  },
  {
   "cell_type": "code",
   "execution_count": null,
   "id": "7992ccb5",
   "metadata": {},
   "outputs": [],
   "source": [
    "#for 데이터변수 in enumerate(numbers_2d):\n",
    "for i,row in enumerate(numbers_2d):\n",
    "    for j,item in enumerate(numbers_2d[i]):\n",
    "        print(\"{}행{}열:{}\".format(i,j,numbers_2d[i][j]),end=\"\\t\")\n",
    "    print()"
   ]
  },
  {
   "cell_type": "code",
   "execution_count": null,
   "id": "3d77eba3",
   "metadata": {},
   "outputs": [],
   "source": [
    "len(numbers_2d),len(numbers_2d[0]),len(numbers_2d[1]),len(numbers_2d[2])"
   ]
  },
  {
   "cell_type": "code",
   "execution_count": null,
   "id": "6f567412",
   "metadata": {},
   "outputs": [],
   "source": [
    "numbers_2d_v=[[1,2,3],[10,20,30,40],[1,3,5,7,9],[2,4,6,8,10,12]]"
   ]
  },
  {
   "cell_type": "markdown",
   "id": "59429190",
   "metadata": {},
   "source": [
    "## 1.2 기본 정보 조회"
   ]
  },
  {
   "cell_type": "code",
   "execution_count": null,
   "id": "0dd32762",
   "metadata": {},
   "outputs": [],
   "source": [
    "numbers=[1,12,3,4,5]\n",
    "numbers_2d=[[100,0,1,],\n",
    "           [9,100,100],\n",
    "           [59,100,130]]"
   ]
  },
  {
   "cell_type": "code",
   "execution_count": null,
   "id": "736964f3",
   "metadata": {},
   "outputs": [],
   "source": [
    "#item수\n",
    "len(numbers),len(numbers_2d)"
   ]
  },
  {
   "cell_type": "code",
   "execution_count": null,
   "id": "7f12f012",
   "metadata": {},
   "outputs": [],
   "source": [
    "#최소값, 최대값\n",
    "#2차원 list의 최소/최대값: 부분 리스트 중 첫요소가 가장 작은값/큰값\n",
    "min(numbers),min(numbers_2d), max(numbers),max(numbers_2d)"
   ]
  },
  {
   "cell_type": "code",
   "execution_count": null,
   "id": "c0d7e6a4",
   "metadata": {},
   "outputs": [],
   "source": [
    "# list의 데이터가 문자일 경우 ascii 코드값으로 min과 max적용\n",
    "fruits=['mango','apple','orange']\n",
    "min(fruits),max(fruits)"
   ]
  },
  {
   "cell_type": "markdown",
   "id": "3d95c36a",
   "metadata": {},
   "source": [
    "###  *정렬하기"
   ]
  },
  {
   "cell_type": "code",
   "execution_count": null,
   "id": "9b5a4eb8",
   "metadata": {},
   "outputs": [],
   "source": [
    "# 정렬하기 (동일한 type일때)\n",
    "numbers=[1,12,3,4,5]\n",
    "print(\"오름차순 정렬:\",sorted(numbers))\n",
    "print(\"내림차순 정렬:\",sorted(numbers,reverse=True))\n",
    "print(\"합 :\",sum(numbers))\n",
    "print(\"평균 :\",sum(numbers)/len(numbers)) \n",
    "print(\"sorted함수 사용시 리스트의 내용이 바뀌지 않음 :\", numbers)"
   ]
  },
  {
   "cell_type": "markdown",
   "id": "835d1b82",
   "metadata": {},
   "source": [
    "## 1.3 요소추가\n",
    "- '+' :  두 리스트 연결\n",
    "- '*' : 리스트를 곱한 수만큼 반복\n",
    "- 'append()' : 요소 맨 뒤에 추가\n",
    "- 'extend(리스트)' : 리스트를 요소별로 맨 뒤에 추가\n",
    "- 'insert(idx,값)' : idx번째 인덱스 위치에 값 추가"
   ]
  },
  {
   "cell_type": "code",
   "execution_count": null,
   "id": "6eb1d5ad",
   "metadata": {},
   "outputs": [],
   "source": [
    "numbers=[1,2,3]\n",
    "numbers=numbers+numbers #리스트 연결\n",
    "numbers"
   ]
  },
  {
   "cell_type": "code",
   "execution_count": null,
   "id": "49ac6b0b",
   "metadata": {},
   "outputs": [],
   "source": [
    "numbers=[1,2,3]\n",
    "print(numbers*3) #곱한수만큼 반복\n",
    "print(3*numbers)"
   ]
  },
  {
   "cell_type": "code",
   "execution_count": null,
   "id": "209fa8e2",
   "metadata": {},
   "outputs": [],
   "source": [
    "numbers.append(4) #맨 뒤에 4추가\n",
    "print(numbers)"
   ]
  },
  {
   "cell_type": "code",
   "execution_count": null,
   "id": "4500981a",
   "metadata": {},
   "outputs": [],
   "source": [
    "numbers.append([5,6,7]) # 맨 뒤 요소에 [5,6,7] 추가\n",
    "print(numbers)"
   ]
  },
  {
   "cell_type": "code",
   "execution_count": null,
   "id": "0850b3bd",
   "metadata": {},
   "outputs": [],
   "source": [
    "numbers=[1,2,3]\n",
    "numbers.extend([4,5,6]) # 맨 뒤에 요소별로 4,5,6 각각 추가\n",
    "numbers"
   ]
  },
  {
   "cell_type": "code",
   "execution_count": null,
   "id": "8a9cc8be",
   "metadata": {},
   "outputs": [],
   "source": [
    "lst=['a','b','c']\n",
    "lst.append('d')\n",
    "lst"
   ]
  },
  {
   "cell_type": "code",
   "execution_count": null,
   "id": "5632cb2e",
   "metadata": {},
   "outputs": [],
   "source": [
    "lst.append('hello')\n",
    "lst"
   ]
  },
  {
   "cell_type": "code",
   "execution_count": null,
   "id": "7663aa4f",
   "metadata": {},
   "outputs": [],
   "source": [
    "lst.extend('hello')\n",
    "lst"
   ]
  },
  {
   "cell_type": "code",
   "execution_count": null,
   "id": "c2b99315",
   "metadata": {},
   "outputs": [],
   "source": [
    "numbers=[1,2,3,4,5]\n",
    "numbers.insert(1,'xx') #1번째 인덱스에 'xx'추가\n",
    "numbers"
   ]
  },
  {
   "cell_type": "markdown",
   "id": "46bfdf65",
   "metadata": {},
   "source": [
    "## 1.4 인덱싱과 요소 갯수\n",
    "- list변수[index] : 인덱스를 이용한 접근\n",
    "- index(찾을데이터) : 해당 착을 데이터가 있는 요소의 index를 반환\n",
    "- 찾을데이터 in 변수 : 찾을 데이터가 리스트 변수의 요소 인지 여부\n",
    "- count(찾을데이터) : list에서 해당 찾을 데이터의 갯수 반환"
   ]
  },
  {
   "cell_type": "code",
   "execution_count": null,
   "id": "cf8337cd",
   "metadata": {},
   "outputs": [],
   "source": [
    "numbers=[1,2,3,[1,2,3],1,2,3]\n",
    "numbers.count(2),numbers.count([1,2,3])"
   ]
  },
  {
   "cell_type": "code",
   "execution_count": null,
   "id": "90a6324f",
   "metadata": {},
   "outputs": [],
   "source": [
    "numbers.count(5)"
   ]
  },
  {
   "cell_type": "code",
   "execution_count": null,
   "id": "d3206755",
   "metadata": {},
   "outputs": [],
   "source": [
    "print(2 in numbers) #2가 numbers의 요소인지 여부\n",
    "print(5 in numbers)"
   ]
  },
  {
   "cell_type": "code",
   "execution_count": null,
   "id": "e26c1264",
   "metadata": {},
   "outputs": [],
   "source": [
    "numbers.index(5)"
   ]
  },
  {
   "cell_type": "code",
   "execution_count": null,
   "id": "ce0fca52",
   "metadata": {},
   "outputs": [],
   "source": [
    "if 5 in numbers:\n",
    "    print(numbers.index(5))\n",
    "else:\n",
    "    print('5가 요소에 포함되지 않습니다.')"
   ]
  },
  {
   "cell_type": "code",
   "execution_count": null,
   "id": "c9ef7917",
   "metadata": {},
   "outputs": [],
   "source": [
    "if numbers.count(5):\n",
    "    print(numbers.index(5))\n",
    "else:\n",
    "    print('5가 요소에 포함되지 않습니다.')"
   ]
  },
  {
   "cell_type": "markdown",
   "id": "314851c7",
   "metadata": {},
   "source": [
    "### *안전한 index사용자함수"
   ]
  },
  {
   "cell_type": "code",
   "execution_count": null,
   "id": "36b20831",
   "metadata": {},
   "outputs": [],
   "source": [
    "def safe_index(lst,item):\n",
    "    \"\"\"첫번째 매개변수 lst에서 item 요소가 있는 index를 반환. item 요소가 없으면 -1 반환\"\"\"\n",
    "    if item in lst:\n",
    "        return lst.index(item)\n",
    "    return -1"
   ]
  },
  {
   "cell_type": "code",
   "execution_count": null,
   "id": "7e8915ae",
   "metadata": {},
   "outputs": [],
   "source": [
    "from lst import safe_index #lst.py(모듈)안의 safe_index를 메모리에 load\n",
    "numbers=[1,2,3]\n",
    "safe_index(numbers,5),safe_index(numbers,2)"
   ]
  },
  {
   "cell_type": "code",
   "execution_count": null,
   "id": "c5c5cc9c",
   "metadata": {},
   "outputs": [],
   "source": [
    "numbers[5] # 벗어난 인덱스로 인덱싱 시 에러"
   ]
  },
  {
   "cell_type": "code",
   "execution_count": null,
   "id": "aab1d474",
   "metadata": {},
   "outputs": [],
   "source": [
    "numbers[2:5],numbers[4:5]  #벗어난 인덱스로 슬라이싱 시 에러가 안남."
   ]
  },
  {
   "cell_type": "markdown",
   "id": "57fd1ca8",
   "metadata": {},
   "source": [
    "## 1.5 원하는 요소 추출\n",
    "1. 리스트 슬라이싱 \n",
    "    - [from:to:step]  from번째부터 to앞까지 step씩 증가하는 index값을 추출\n",
    "        *from 생력시 처음, to생력시 끝, step 생략 시 1\n",
    "    - 인덱스의 범위를 벗어난 값도 에러나지 않음\n",
    "    - 인덱스는 음수 가능\n",
    "    \n",
    "2. <font color=\"red\">**리스트컴프리헨션**</font> : 원하는 조건의 데이터 추출"
   ]
  },
  {
   "cell_type": "code",
   "execution_count": null,
   "id": "f2c239b1",
   "metadata": {},
   "outputs": [],
   "source": [
    "numbers=[1,3,5,9,10,12,13,18,19,20]\n",
    "print(numbers[::-1]) #꺼꾸로 출력\n",
    "print(numbers[0::2]) # 짝수 index값 출력\n",
    "print(numbers[2:100]) #인덱스를 벗어난 슬라이싱 가능\n"
   ]
  },
  {
   "cell_type": "markdown",
   "id": "7aa4f0bf",
   "metadata": {},
   "source": [
    "### * 리스트컴프리헨션"
   ]
  },
  {
   "cell_type": "code",
   "execution_count": null,
   "id": "1172a028",
   "metadata": {},
   "outputs": [],
   "source": [
    "# 모든 데이터 출력\n",
    "numbers=[1,3,5,9,10,12,13,18,19,20]\n",
    "# for data in numbers:\n",
    "#     print(data,end=\"\\t\")\n",
    "[data for data in numbers]"
   ]
  },
  {
   "cell_type": "code",
   "execution_count": null,
   "id": "92511db9",
   "metadata": {},
   "outputs": [],
   "source": [
    "# 짝수 데이터 추출\n",
    "# for data in numbers:\n",
    "#     if data%2==0:\n",
    "#         print(data,end=\" \")\n",
    "\n",
    "[data for data in numbers if data%2==0]       "
   ]
  },
  {
   "cell_type": "markdown",
   "id": "f0aeadc8",
   "metadata": {},
   "source": [
    "### * [연습문제] 리스트컴프리헨션 "
   ]
  },
  {
   "cell_type": "code",
   "execution_count": null,
   "id": "621e17a8",
   "metadata": {},
   "outputs": [],
   "source": [
    "# ex1. numbers애서 10이상인 요소만 추출\n",
    "[data for data in numbers if data>=10]  "
   ]
  },
  {
   "cell_type": "code",
   "execution_count": null,
   "id": "77ed1c6c",
   "metadata": {},
   "outputs": [],
   "source": [
    "# ex2. fruits에서 과일의 글자가 5글자 이상인 과일만 추출\n",
    "fruits=['orange','apple','mango','kiwi']\n",
    "[item for item in fruits if len(item)>=5]  "
   ]
  },
  {
   "cell_type": "code",
   "execution_count": null,
   "id": "f091db39",
   "metadata": {},
   "outputs": [],
   "source": [
    "# ex2-1.  fruits 리스트의 과일 글자수\n",
    "[len(fruit) for fruit in fruits ]"
   ]
  },
  {
   "cell_type": "code",
   "execution_count": null,
   "id": "9ca8939d",
   "metadata": {},
   "outputs": [],
   "source": [
    "# ex3. 3이상인 요소들의 제곱을 추출 \n",
    "L=[1,2,3,4,5]\n",
    "[data**2 for data in L if data>=3]"
   ]
  },
  {
   "cell_type": "code",
   "execution_count": null,
   "id": "74c236b5",
   "metadata": {},
   "outputs": [],
   "source": [
    "# ex4. 리스트(L) 요소의 값의 2배를 추출\n",
    "[item*2 for item in L ]"
   ]
  },
  {
   "cell_type": "markdown",
   "id": "04d48945",
   "metadata": {},
   "source": [
    "## 1.6 요소 수정하기\n",
    "- 인덱스, 슬라이싱을 이용해서 수정"
   ]
  },
  {
   "cell_type": "code",
   "execution_count": 3,
   "id": "61c81566",
   "metadata": {},
   "outputs": [
    {
     "data": {
      "text/plain": [
       "[0, 1, 222, 3, 4, 5, 6, 7, 8, 9]"
      ]
     },
     "execution_count": 3,
     "metadata": {},
     "output_type": "execute_result"
    }
   ],
   "source": [
    "numbers=[0,1,2,3,4,5,6,7,8,9]\n",
    "numbers[2]=222\n",
    "numbers"
   ]
  },
  {
   "cell_type": "code",
   "execution_count": 4,
   "id": "091c1860",
   "metadata": {},
   "outputs": [
    {
     "data": {
      "text/plain": [
       "['xx', 'xx', 'xx', 'xx', 'xx', 'xx', 'xx', 222, 3, 4, 5, 6, 7, 8, 9]"
      ]
     },
     "execution_count": 4,
     "metadata": {},
     "output_type": "execute_result"
    }
   ],
   "source": [
    "# 슬라이싱(step부분 미포함)을 이용하여 부분 리스트를 통째로 수정\n",
    "numbers[0:2]=['xx','xx','xx','xx','xx','xx','xx']\n",
    "numbers"
   ]
  },
  {
   "cell_type": "code",
   "execution_count": 9,
   "id": "638c830a",
   "metadata": {},
   "outputs": [
    {
     "name": "stdout",
     "output_type": "stream",
     "text": [
      "수정전: [0, 0, 0, 0, 0, 0, 0, 0, 0, 0]\n",
      "수정후: [9, 0, 9, 0, 9, 0, 9, 0, 9, 0]\n"
     ]
    }
   ],
   "source": [
    "# 슬라이싱(step부분 포함)\n",
    "numbers=[0]*10\n",
    "print('수정전:',numbers)\n",
    "numbers[0::2]=[9,9,9,9,9]\n",
    "print('수정후:',numbers)"
   ]
  },
  {
   "cell_type": "code",
   "execution_count": 6,
   "id": "9daa906c",
   "metadata": {},
   "outputs": [
    {
     "ename": "ValueError",
     "evalue": "attempt to assign sequence of size 2 to extended slice of size 8",
     "output_type": "error",
     "traceback": [
      "\u001b[1;31m---------------------------------------------------------------------------\u001b[0m",
      "\u001b[1;31mValueError\u001b[0m                                Traceback (most recent call last)",
      "Cell \u001b[1;32mIn[6], line 1\u001b[0m\n\u001b[1;32m----> 1\u001b[0m numbers[::\u001b[38;5;241m2\u001b[39m]\u001b[38;5;241m=\u001b[39m[\u001b[38;5;241m1\u001b[39m,\u001b[38;5;241m1\u001b[39m]\n",
      "\u001b[1;31mValueError\u001b[0m: attempt to assign sequence of size 2 to extended slice of size 8"
     ]
    }
   ],
   "source": [
    "numbers[::2]=[1,1] # 갯수가 5개 이어야 함"
   ]
  },
  {
   "cell_type": "markdown",
   "id": "625ba434",
   "metadata": {},
   "source": [
    "## 1.7 요소 삭제\n",
    "- pop() : 가장 마지막 인덱스의 요소가 반환되고 삭제\n",
    "- pop(idx) : idx째 요소가 반환되고 삭제\n",
    "- remove(data) :list안의 data가 삭제\n",
    "- del  리스트변수[idx] :idx번째 요소가 삭제"
   ]
  },
  {
   "cell_type": "code",
   "execution_count": 20,
   "id": "ebc27092",
   "metadata": {},
   "outputs": [
    {
     "name": "stdout",
     "output_type": "stream",
     "text": [
      "삭제한 데이터: 5\n",
      "삭제 후 numbers: [1, 2, 3, 4]\n",
      "1번째 삭제한 데이터: 2\n",
      "1번째 삭제 후 numbers: [1, 3, 4]\n",
      "데이터 1 삭제\n",
      "데이터 1 삭제후 number: [3, 4]\n",
      "[3]\n"
     ]
    }
   ],
   "source": [
    "numbers=[1,2,3,4,5]\n",
    "print(\"삭제한 데이터:\",numbers.pop())\n",
    "print(\"삭제 후 numbers:\",numbers)\n",
    "print(\"1번째 삭제한 데이터:\",numbers.pop(1))\n",
    "print(\"1번째 삭제 후 numbers:\",numbers)\n",
    "#print(\"데이터1삭제\",numbers.remove(1))\n",
    "print(\"데이터 1 삭제\")\n",
    "# numbers.remove(9)  없는 것 확인 후\n",
    "numbers.remove(1)\n",
    "print(\"데이터 1 삭제후 number:\",numbers)\n",
    "del numbers[1]\n",
    "print(numbers)"
   ]
  },
  {
   "cell_type": "markdown",
   "id": "ba418ec2",
   "metadata": {},
   "source": [
    "###  *remove는 체크 필요"
   ]
  },
  {
   "cell_type": "code",
   "execution_count": 22,
   "id": "d0a593d5",
   "metadata": {},
   "outputs": [
    {
     "name": "stdout",
     "output_type": "stream",
     "text": [
      "해당 데이터는 없는 item입니다\n"
     ]
    }
   ],
   "source": [
    "#numbers.remove(9)\n",
    "if 9 in numbers:\n",
    "    numbers.remove(9)\n",
    "else:\n",
    "    print(\"해당 데이터는 없는 item입니다\")"
   ]
  },
  {
   "cell_type": "code",
   "execution_count": 24,
   "id": "8ceaabf5",
   "metadata": {},
   "outputs": [
    {
     "data": {
      "text/plain": [
       "[]"
      ]
     },
     "execution_count": 24,
     "metadata": {},
     "output_type": "execute_result"
    }
   ],
   "source": [
    "numbers.clear() # 모든 요소를 삭제  / numbers를 삭제하는게 아니라 numbers 안의 요소를 전부 삭제\n",
    "numbers"
   ]
  },
  {
   "cell_type": "markdown",
   "id": "3a19501f",
   "metadata": {},
   "source": [
    "## 1.8 정렬하기"
   ]
  },
  {
   "cell_type": "code",
   "execution_count": 25,
   "id": "19e41eae",
   "metadata": {},
   "outputs": [
    {
     "name": "stdout",
     "output_type": "stream",
     "text": [
      "numbers는 변경하지 않고, 정렬결과 :  [0, 5, 6, 8, 9]\n",
      "numbers : [9, 5, 0, 8, 6]\n"
     ]
    }
   ],
   "source": [
    "numbers=[9,5,0,8,6]\n",
    "print(\"numbers는 변경하지 않고, 정렬결과 : \", sorted(numbers))\n",
    "print(\"numbers :\",numbers)"
   ]
  },
  {
   "cell_type": "code",
   "execution_count": 26,
   "id": "f682dff6",
   "metadata": {},
   "outputs": [
    {
     "data": {
      "text/plain": [
       "[0, 5, 6, 8, 9]"
      ]
     },
     "execution_count": 26,
     "metadata": {},
     "output_type": "execute_result"
    }
   ],
   "source": [
    "numbers.sort()  #numbers 자체가 오름차순 정렬한 결과로 바뀜\n",
    "numbers"
   ]
  },
  {
   "cell_type": "code",
   "execution_count": 27,
   "id": "9d54003d",
   "metadata": {},
   "outputs": [
    {
     "data": {
      "text/plain": [
       "[9, 8, 6, 5, 0]"
      ]
     },
     "execution_count": 27,
     "metadata": {},
     "output_type": "execute_result"
    }
   ],
   "source": [
    "numbers.sort(reverse=True)  #numbers 자체가 내림차순 정렬한 결과로 바뀜\n",
    "numbers"
   ]
  },
  {
   "cell_type": "code",
   "execution_count": 29,
   "id": "7166bf65",
   "metadata": {},
   "outputs": [
    {
     "data": {
      "text/plain": [
       "[0, 5, 6, 8, 9]"
      ]
     },
     "execution_count": 29,
     "metadata": {},
     "output_type": "execute_result"
    }
   ],
   "source": [
    "numbers.reverse() #리스트를 역순으로 변경\n",
    "# numbers=numbers[::-1]\n",
    "numbers"
   ]
  },
  {
   "cell_type": "markdown",
   "id": "e46844bc",
   "metadata": {},
   "source": [
    "## 1.9 리스트복제\n"
   ]
  },
  {
   "cell_type": "code",
   "execution_count": 34,
   "id": "cc35d800",
   "metadata": {},
   "outputs": [
    {
     "name": "stdout",
     "output_type": "stream",
     "text": [
      "원본i = 10, 복사본copied_i=10 / 원본주소=2882712306192, 복사본주소=2882712306192\n",
      "원본i = 10, 복사본copied_i=99 / 원본주소=2882712306192, 복사본주소=2882712309040\n"
     ]
    }
   ],
   "source": [
    "# 스칼라 데이터의 복제\n",
    "i = 10\n",
    "copied_i=i\n",
    "print(f\"원본i = {i}, 복사본copied_i={copied_i} / 원본주소={id(i)}, 복사본주소={id(copied_i)}\")\n",
    "copied_i=99\n",
    "print(f\"원본i = {i}, 복사본copied_i={copied_i} / 원본주소={id(i)}, 복사본주소={id(copied_i)}\")"
   ]
  },
  {
   "cell_type": "code",
   "execution_count": 44,
   "id": "cfc4bb8f",
   "metadata": {},
   "outputs": [
    {
     "name": "stdout",
     "output_type": "stream",
     "text": [
      "원본내용                  :  [5, 6, 1, 9]\n",
      "원본주소                  :  2882835507008\n",
      "복제본주소                :  2882835507008\n",
      "복제본 변경 후,원본내용   :  [99, 6, 1, 9]\n",
      "복제본 변경 후,복제본내용 :  [99, 6, 1, 9]\n",
      "원본주소                  :  2882835507008\n",
      "복제본주소                :  2882835507008\n"
     ]
    }
   ],
   "source": [
    "# 데이터 구조의 복제\n",
    "# 할당\n",
    "numbers = [5,6,1,9]\n",
    "print('원본내용                  : ',numbers)\n",
    "new_numbers = numbers #할당\n",
    "print('원본주소                  : ',id(numbers))\n",
    "print('복제본주소                : ',id(new_numbers))\n",
    "new_numbers[0]=99\n",
    "print('복제본 변경 후,원본내용   : ',numbers)\n",
    "print('복제본 변경 후,복제본내용 : ',new_numbers)\n",
    "print('원본주소                  : ',id(numbers))\n",
    "print('복제본주소                : ',id(new_numbers))"
   ]
  },
  {
   "cell_type": "code",
   "execution_count": 43,
   "id": "097e13ff",
   "metadata": {},
   "outputs": [
    {
     "name": "stdout",
     "output_type": "stream",
     "text": [
      "원본내용                  :  [5, 6, 1, 9]\n",
      "원본주소                  :  2882828297856\n",
      "복제본주소                :  2882828297856\n",
      "복제본 변경 후,원본내용   :  [1, 5, 6, 9]\n",
      "복제본 변경 후,복제본내용 :  [1, 5, 6, 9]\n",
      "원본주소                  :  2882828297856\n",
      "복제본주소                :  2882828297856\n"
     ]
    }
   ],
   "source": [
    "#할당\n",
    "numbers=[5,6,1,9]\n",
    "print('원본내용                  : ',numbers)\n",
    "new_numbers=numbers\n",
    "print('원본주소                  : ',id(numbers))\n",
    "print('복제본주소                : ',id(new_numbers))\n",
    "new_numbers.sort()\n",
    "print('복제본 변경 후,원본내용   : ',numbers)\n",
    "print('복제본 변경 후,복제본내용 : ',new_numbers)\n",
    "print('원본주소                  : ',id(numbers))\n",
    "print('복제본주소                : ',id(new_numbers))"
   ]
  },
  {
   "cell_type": "markdown",
   "id": "d201b17f",
   "metadata": {},
   "source": [
    "\n",
    "### <b><font   color=\"red\"> *스칼라복제 이외는 할당이 아니라 복제를 해야함 / copy()사용 / <font   color=\"blue\">numbers.copy()</font></b>"
   ]
  },
  {
   "cell_type": "code",
   "execution_count": 46,
   "id": "5af917f0",
   "metadata": {},
   "outputs": [
    {
     "name": "stdout",
     "output_type": "stream",
     "text": [
      "원본내용                  :  [5, 6, 1, 9]\n",
      "원본주소                  :  2882827348160\n",
      "복제본주소                :  2882828493184\n",
      "복제본 변경 후,원본내용   :  [5, 6, 1, 9]\n",
      "복제본 변경 후,복제본내용 :  [9, 6, 5, 1]\n",
      "원본주소                  :  2882827348160\n",
      "복제본주소                :  2882828493184\n"
     ]
    }
   ],
   "source": [
    "#리스트 복제(깊은 복사)\n",
    "numbers=[5,6,1,9]\n",
    "print('원본내용                  : ',numbers)\n",
    "new_numbers=numbers.copy()       # numbers를 복제(깊은 복사)\n",
    "\n",
    "print('원본주소                  : ',id(numbers))\n",
    "print('복제본주소                : ',id(new_numbers))\n",
    "new_numbers.sort(reverse=True)   #내림차순 정렬\n",
    "print('복제본 변경 후,원본내용   : ',numbers)\n",
    "print('복제본 변경 후,복제본내용 : ',new_numbers)\n",
    "print('원본주소                  : ',id(numbers))\n",
    "print('복제본주소                : ',id(new_numbers))"
   ]
  },
  {
   "cell_type": "code",
   "execution_count": 48,
   "id": "5e675b91",
   "metadata": {},
   "outputs": [
    {
     "name": "stdout",
     "output_type": "stream",
     "text": [
      "정렬전 : ['서울', '대전', '대구', '부산', '하남', '수원', '제주']\n",
      "정렬후 : ['대구', '대전', '부산', '서울', '수원', '제주', '하남']\n"
     ]
    }
   ],
   "source": [
    "city=['서울','대전','대구','부산','하남','수원','제주']\n",
    "temp=city.copy()\n",
    "temp.sort()\n",
    "print(\"정렬전 :\", city)\n",
    "print(\"정렬후 :\", temp)"
   ]
  },
  {
   "cell_type": "code",
   "execution_count": 49,
   "id": "cbd0e2ad",
   "metadata": {},
   "outputs": [
    {
     "name": "stdout",
     "output_type": "stream",
     "text": [
      "정렬전 : ['서울', '대전', '대구', '부산', '하남', '수원', '제주']\n",
      "정렬후 : []\n"
     ]
    }
   ],
   "source": [
    "temp.clear()\n",
    "print(\"정렬전 :\", city)\n",
    "print(\"정렬후 :\", temp)"
   ]
  },
  {
   "cell_type": "markdown",
   "id": "b956dd70",
   "metadata": {},
   "source": [
    "# 2절 튜플\n",
    "- 리스트([])와 유사하지만 읽기전용. 수정이 필요없는 데이터에서 사용\n",
    "- 수정이 불가하므로, 튜플에서는 데이터 수정, 추가, 삭제 불가\n",
    "- 제공되는 함수도 많지 않음\n",
    "- ()이용해서 생성"
   ]
  },
  {
   "cell_type": "code",
   "execution_count": 52,
   "id": "e7dcb8ea",
   "metadata": {},
   "outputs": [
    {
     "name": "stdout",
     "output_type": "stream",
     "text": [
      "<class 'tuple'>\n",
      "('서울', '대전', '대구', '부산', '하남')\n"
     ]
    }
   ],
   "source": [
    "# city=('서울','대전','대구','부산','하남')\n",
    "#파이썬은 여러개의 값이 전달될때 튜플 타입으로 전달\n",
    "city='서울','대전','대구','부산','하남'\n",
    "print(type(city))\n",
    "print(city)"
   ]
  },
  {
   "cell_type": "code",
   "execution_count": 53,
   "id": "58d50a5f",
   "metadata": {},
   "outputs": [
    {
     "data": {
      "text/plain": [
       "'서울, 대전, 대구, 부산, 하남'"
      ]
     },
     "execution_count": 53,
     "metadata": {},
     "output_type": "execute_result"
    }
   ],
   "source": [
    "# 매개변수로 list가 오는 함수는 tuple 매개변수로 함수 사용 \n",
    "\", \".join(city) "
   ]
  },
  {
   "cell_type": "code",
   "execution_count": 54,
   "id": "cf60d64f",
   "metadata": {},
   "outputs": [
    {
     "data": {
      "text/plain": [
       "1"
      ]
     },
     "execution_count": 54,
     "metadata": {},
     "output_type": "execute_result"
    }
   ],
   "source": [
    "from lst import safe_index\n",
    "safe_index(city,'대전')"
   ]
  },
  {
   "cell_type": "code",
   "execution_count": 57,
   "id": "64be0e7c",
   "metadata": {},
   "outputs": [
    {
     "name": "stdout",
     "output_type": "stream",
     "text": [
      "<class 'list'>\n",
      "['서울']\n",
      "1\n"
     ]
    }
   ],
   "source": [
    "l=['서울']  #요소가 하나 있는 리스트\n",
    "print(type(l))\n",
    "print(l)\n",
    "print(len(l))"
   ]
  },
  {
   "cell_type": "code",
   "execution_count": 60,
   "id": "5bb40448",
   "metadata": {},
   "outputs": [
    {
     "name": "stdout",
     "output_type": "stream",
     "text": [
      "<class 'str'>\n",
      "서울\n",
      "2\n"
     ]
    }
   ],
   "source": [
    "city=('서울')  #요소가 하나 있는 튜플(x) -> str\n",
    "print(type(city))\n",
    "print(city)\n",
    "print(len(city))"
   ]
  },
  {
   "cell_type": "markdown",
   "id": "b4bb22f1",
   "metadata": {},
   "source": [
    "### *요소가 하나 있는 튜플"
   ]
  },
  {
   "cell_type": "code",
   "execution_count": 62,
   "id": "ac14fe72",
   "metadata": {},
   "outputs": [
    {
     "name": "stdout",
     "output_type": "stream",
     "text": [
      "<class 'tuple'>\n",
      "('서울',)\n",
      "1\n"
     ]
    }
   ],
   "source": [
    "city=('서울',)  #요소가 하나 있는 튜플(o) \n",
    "print(type(city))\n",
    "print(city)\n",
    "print(len(city))"
   ]
  },
  {
   "cell_type": "code",
   "execution_count": 61,
   "id": "5d8a9873",
   "metadata": {},
   "outputs": [
    {
     "name": "stdout",
     "output_type": "stream",
     "text": [
      "<class 'tuple'>\n",
      "('서울', '하남')\n",
      "2\n"
     ]
    }
   ],
   "source": [
    "city=('서울','하남')  #요소가 둘  이상있는 튜플\n",
    "print(type(city))\n",
    "print(city)\n",
    "print(len(city))"
   ]
  },
  {
   "cell_type": "code",
   "execution_count": 63,
   "id": "d437e590",
   "metadata": {},
   "outputs": [],
   "source": [
    "numbers=(1,2,3)\n",
    "# numbers.append(4) 수정하기 위한 함수는 제공되지 않음"
   ]
  },
  {
   "cell_type": "code",
   "execution_count": 64,
   "id": "4559d7fd",
   "metadata": {},
   "outputs": [
    {
     "data": {
      "text/plain": [
       "(1, 3, 6)"
      ]
     },
     "execution_count": 64,
     "metadata": {},
     "output_type": "execute_result"
    }
   ],
   "source": [
    "min(numbers),max(numbers),sum(numbers)"
   ]
  },
  {
   "cell_type": "code",
   "execution_count": 65,
   "id": "2c49fe16",
   "metadata": {},
   "outputs": [
    {
     "data": {
      "text/plain": [
       "1"
      ]
     },
     "execution_count": 65,
     "metadata": {},
     "output_type": "execute_result"
    }
   ],
   "source": [
    "numbers.count(2)"
   ]
  },
  {
   "cell_type": "code",
   "execution_count": 66,
   "id": "746f52ba",
   "metadata": {},
   "outputs": [
    {
     "data": {
      "text/plain": [
       "2"
      ]
     },
     "execution_count": 66,
     "metadata": {},
     "output_type": "execute_result"
    }
   ],
   "source": [
    "numbers.index(3)"
   ]
  },
  {
   "cell_type": "code",
   "execution_count": 68,
   "id": "6219dc94",
   "metadata": {},
   "outputs": [
    {
     "name": "stdout",
     "output_type": "stream",
     "text": [
      "해당하는 데이터 없음\n"
     ]
    }
   ],
   "source": [
    "#numbers.index(4)\n",
    "if 4 in numbers:\n",
    "    numbers.index(4)\n",
    "else:\n",
    "    print('해당하는 데이터 없음')"
   ]
  },
  {
   "cell_type": "code",
   "execution_count": 69,
   "id": "b3363b81",
   "metadata": {},
   "outputs": [
    {
     "data": {
      "text/plain": [
       "-1"
      ]
     },
     "execution_count": 69,
     "metadata": {},
     "output_type": "execute_result"
    }
   ],
   "source": [
    "safe_index(numbers,4)"
   ]
  },
  {
   "cell_type": "code",
   "execution_count": null,
   "id": "c488e244",
   "metadata": {},
   "outputs": [],
   "source": []
  },
  {
   "cell_type": "code",
   "execution_count": null,
   "id": "8ff8c70a",
   "metadata": {},
   "outputs": [],
   "source": []
  },
  {
   "cell_type": "code",
   "execution_count": null,
   "id": "4ee08a03",
   "metadata": {},
   "outputs": [],
   "source": []
  }
 ],
 "metadata": {
  "kernelspec": {
   "display_name": "Python 3 (ipykernel)",
   "language": "python",
   "name": "python3"
  },
  "language_info": {
   "codemirror_mode": {
    "name": "ipython",
    "version": 3
   },
   "file_extension": ".py",
   "mimetype": "text/x-python",
   "name": "python",
   "nbconvert_exporter": "python",
   "pygments_lexer": "ipython3",
   "version": "3.10.9"
  },
  "toc": {
   "base_numbering": 1,
   "nav_menu": {},
   "number_sections": false,
   "sideBar": true,
   "skip_h1_title": false,
   "title_cell": "Table of Contents",
   "title_sidebar": "Contents",
   "toc_cell": false,
   "toc_position": {
    "height": "calc(100% - 180px)",
    "left": "10px",
    "top": "150px",
    "width": "165px"
   },
   "toc_section_display": true,
   "toc_window_display": true
  }
 },
 "nbformat": 4,
 "nbformat_minor": 5
}
