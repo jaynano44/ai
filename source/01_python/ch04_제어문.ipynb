{
 "cells": [
  {
   "cell_type": "code",
   "execution_count": 5,
   "id": "a0c4ccda",
   "metadata": {},
   "outputs": [
    {
     "data": {
      "text/html": [
       "\n",
       "<style>\n",
       "div.container{width:90% !important;}\n",
       "div.cell.code_cell.rendered{width:100%;}\n",
       "div.input_prompt{padding:0px;}\n",
       "div.CodeMirror {font-family:Consolas; font-size:12pt;}\n",
       "div.text_cell_render.rendered_html{font-size:12pt;}\n",
       "div.output {font-size:12pt; font-weight:bold;}\n",
       "div.input {font-family:Consolas; font-size:12pt;}\n",
       "div.prompt {min-width:70px;}\n",
       "div#toc-wrapper{padding-top:120px;}\n",
       "div.text_cell_render ul li{font-size:12pt;padding:5px;}\n",
       "table.dataframe{font-size:12px;}\n",
       "</style>\n"
      ],
      "text/plain": [
       "<IPython.core.display.HTML object>"
      ]
     },
     "metadata": {},
     "output_type": "display_data"
    }
   ],
   "source": [
    "from IPython.display import display, HTML\n",
    "display(HTML(\"\"\"\n",
    "<style>\n",
    "div.container{width:90% !important;}\n",
    "div.cell.code_cell.rendered{width:100%;}\n",
    "div.input_prompt{padding:0px;}\n",
    "div.CodeMirror {font-family:Consolas; font-size:12pt;}\n",
    "div.text_cell_render.rendered_html{font-size:12pt;}\n",
    "div.output {font-size:12pt; font-weight:bold;}\n",
    "div.input {font-family:Consolas; font-size:12pt;}\n",
    "div.prompt {min-width:70px;}\n",
    "div#toc-wrapper{padding-top:120px;}\n",
    "div.text_cell_render ul li{font-size:12pt;padding:5px;}\n",
    "table.dataframe{font-size:12px;}\n",
    "</style>\n",
    "\"\"\"))"
   ]
  },
  {
   "cell_type": "markdown",
   "id": "66c48149",
   "metadata": {},
   "source": [
    "<b><font size=\"6\"  color=\"red\">ch04.제어문 </font></b>\n",
    "- 조건문 : if문\n",
    "- 반복문 : for문(반복 횟수), while문(조건)\n",
    "** 모두 중첩가능**\n",
    "\n",
    "# 1절 조건문(if)\n",
    "```\n",
    "if 조건1:\n",
    "    조건1이 True일 경우 수행할 명령어들(들여쓰기 중요. if절 단독 가능)\n",
    "elif 조건2:\n",
    "    조건1이 False이고, 조건2가 True일 경우 수행할 명령어들\n",
    "else:\n",
    "    모든 조건이 False일 경우 수행할 명령어들(elif나 else는 단독 사용 불가)\n",
    "```"
   ]
  },
  {
   "cell_type": "code",
   "execution_count": null,
   "id": "bf79f826",
   "metadata": {},
   "outputs": [],
   "source": [
    "score = int(input('Enter your score >'))\n",
    "if score>=80:\n",
    "    print('참 잘했어요')\n",
    "    print('다음에도 기대할께요')\n",
    "elif score >=60:\n",
    "    print('분발하세요')\n",
    "    print('뭐 그런대로 고생하셨어요')\n",
    "else:\n",
    "    print('재시험 응시하셔야 합니다')\n",
    "    print('화이팅')"
   ]
  },
  {
   "cell_type": "code",
   "execution_count": null,
   "id": "285a701f",
   "metadata": {},
   "outputs": [],
   "source": [
    "# ex. 점수를 입력받아 학점을 출력(A,B,C,D,F,유효하지 않은 점수)합니다\n",
    "score = int(input('Enter your score >'))\n",
    "if score < 0 or score > 100:\n",
    "        print(f'입력하신 점수 {score}점은 유효하지 않은 점수입니다.')\n",
    "        print('0점 이상 100점 이하의 점수를 재입력하세요.')\n",
    "elif score>=90:\n",
    "    print(f'입력하신 점수 {score}점은 A학점입니다.')\n",
    "elif score >=80:\n",
    "    print(f'입력하신 점수 {score}점은 B학점입니다.')\n",
    "elif score >=70:\n",
    "    print(f'입력하신 점수 {score}점은 C학점입니다.')\n",
    "elif score >=0:\n",
    "    print('입력하신 점수 {score}점은 F학점입니다.')"
   ]
  },
  {
   "cell_type": "code",
   "execution_count": null,
   "id": "1042817c",
   "metadata": {},
   "outputs": [],
   "source": [
    "# ex. 점수를 입력받아 학점을 출력(A,B,C,D,F,유효하지 않은 점수)합니다\n",
    "score = int(input('Enter your score >'))\n",
    "if 90<=score<=100:\n",
    "    grade='A학점'\n",
    "elif 80<=score<=90:\n",
    "    grade='B학점'\n",
    "elif 70<=score<=80:\n",
    "    grade='C학점'\n",
    "elif 60<=score<=70:\n",
    "    grade='D학점'\n",
    "elif 0<=score<=60: \n",
    "    grade='F학점'\n",
    "else:\n",
    "    grade='유효하지 않는 점수'\n",
    "print(\"입력하신 점수 {}점은 {}\".format(score,grade))\n",
    "print(f\"입력하신 점수 {score}점은 {grade}\")"
   ]
  },
  {
   "cell_type": "markdown",
   "id": "25755b44",
   "metadata": {},
   "source": [
    "# 2절 반복문\n",
    "## 2.1 for-in문\n",
    "```\n",
    "for 임시변수 in 나열가능한 자료:\n",
    "    반복할 문장1\n",
    "    반복할 문장2\n",
    "else:\n",
    "    나열가능한 자료를 다 소용하여 for블록을 다 수행한 후, 최종 한번 실행할 문장들\n",
    "    for문 안의 break를 수행할 경우, else블록을 수행하지 않음.(else는 선택)\n",
    "\n",
    "```"
   ]
  },
  {
   "cell_type": "markdown",
   "id": "c4a33041",
   "metadata": {},
   "source": [
    "for i in range(5,0,-1):\n",
    "    print(i, end=\"\\t\")\n",
    "else:\n",
    "    print('DONE')\n",
    "print('END')    "
   ]
  },
  {
   "cell_type": "code",
   "execution_count": null,
   "id": "d69824df",
   "metadata": {},
   "outputs": [],
   "source": [
    "for i in range(10): # range(0,10,1)\n",
    "    if i==5:\n",
    "        break #현재 반복문을 빠져나감\n",
    "    print(i,end=\"\\t\")\n",
    "else:\n",
    "    print(\"\\nDONE\")\n",
    "print('END') \n",
    "\n",
    "for i in range(10): # range(0,10,1)\n",
    "    print(i,end=\"\\t\")\n",
    "else:\n",
    "    print(\"\\nDONE\")\n",
    "print('END')"
   ]
  },
  {
   "cell_type": "code",
   "execution_count": null,
   "id": "9fa3ce95",
   "metadata": {},
   "outputs": [],
   "source": [
    "# 1~100까지 합을 계산하고 출력하시오(for문)\n",
    "sum=0 # 누적변수\n",
    "for i in range(1,101):\n",
    "    sum += i #sum=sum+1\n",
    "else:\n",
    "    print(\"1~100까지의 합은\", sum)"
   ]
  },
  {
   "cell_type": "code",
   "execution_count": null,
   "id": "ca7699fb",
   "metadata": {},
   "outputs": [],
   "source": [
    "# 1~100까지 짝수들의 합을 계산하고 출력하시오(for문)\n",
    "sum=0 # 누적변수\n",
    "for i in range(1,101):\n",
    "    if i%2==0:\n",
    "        sum += i #sum=sum+1\n",
    "else:\n",
    "    print(\"1~100까지의 짝수들의 합은\", sum)"
   ]
  },
  {
   "cell_type": "markdown",
   "id": "a6ec08ec",
   "metadata": {},
   "source": [
    "## 2.2 while문\n",
    "```\n",
    "while 조건:\n",
    "    조건이 True일 경우 반복할 문장들\n",
    "else:\n",
    "    조건이 False일 경우 한번 실행할 문장들(else구문 선택사항)\n",
    "    while문 내의 break 수행할 경우 else 구문은 실행되지 않음\n",
    "```"
   ]
  },
  {
   "cell_type": "code",
   "execution_count": null,
   "id": "2f791c12",
   "metadata": {},
   "outputs": [],
   "source": [
    "# 1~100까지 짝수들의 합을 계산하고 출력하시오(while문)\n",
    "sum = 0 #누적변수\n",
    "i = 1 #for문과 다르게 i값 초기화 필수\n",
    "while i<=100 :\n",
    "    if i%2==0:\n",
    "        sum+=i # sum=sum+i\n",
    "    i+=1                    \n",
    "else:\n",
    "    print('1~100까지 짝수의 합은',sum)\n",
    "\n"
   ]
  },
  {
   "cell_type": "code",
   "execution_count": null,
   "id": "3c3374cd",
   "metadata": {},
   "outputs": [],
   "source": [
    "# ex1. 사용자에게 두 정수를 입력받아, 작은수부터 큰수까지 홀수의 합을 누적해서 출력\n",
    "# 두 정수를 입력\n",
    "first = int(input('첫번째 정수를 입력해 주세요 > '))\n",
    "second = int(input('두번째 정수를 입력해 주세요 > '))\n",
    "# first에 작은값, second 큰값 :두 정수중 작은 수와 큰 수 \n",
    "if first > second:\n",
    "    #바꿔\n",
    "#     temp=first\n",
    "#     first=second\n",
    "#     second=first\n",
    "    first,second=second,first\n",
    "#누적\n",
    "sum=0\n",
    "for i in range(first,second+1):\n",
    "    if i%2: #(i%2==1) | (i%2=-1):\n",
    "        sum+=i\n",
    "print(\"{}~{}까지 홀수들의 누적합은 {}\".format(first,second,sum))"
   ]
  },
  {
   "cell_type": "code",
   "execution_count": null,
   "id": "da53f5aa",
   "metadata": {},
   "outputs": [],
   "source": [
    "# ex2. 로또번호 6개를 추출 후, 정렬하여 출력\n",
    "import random\n",
    "#random.seed(3) #seed를 맞추면 동일한 random결과 나옴.\n",
    "# random.random() #0이상 1 미만의 실수 난수\n",
    "# \"{:.30f}\".format(random.random()) \n",
    "# random.randint(1,45) #1~45의 정수난수\n",
    "# random.choice(['남자','여자']) #남자나 여자를 선택(확률일치)\n",
    "# random.choices(['사기꾼','비사기꾼'], weights=[0.01,0.9])\n",
    "lotto_lst=[] #추출된 로또번호를 담을 변수\n",
    "cnt=0 #임의의 수 발생 횟수\n",
    "while len(lotto_lst)<6:\n",
    "    temp=random.randint(1,45) # 임의의 수를 temp변수\n",
    "    cnt+=1\n",
    "    if  temp not in lotto_lst:\n",
    "        lotto_lst.append(temp)\n",
    "print(\"{}번 로또번호 추출함:{}\".format(cnt,lotto_lst))\n",
    "# 정렬 알고리즘\n",
    "for i in range(len(lotto_lst)-1):\n",
    "    for j in range(i+1,len(lotto_lst)):\n",
    "        if lotto_lst[i]>lotto_lst[j]:\n",
    "            lotto_lst[i],lotto_lst[j]=lotto_lst[j],lotto_lst[i]\n",
    "print(\"정렬후 :\",lotto_lst)"
   ]
  },
  {
   "cell_type": "code",
   "execution_count": null,
   "id": "aaad6ace",
   "metadata": {},
   "outputs": [],
   "source": [
    "# 위의 ex2를 set 이용\n",
    "lotto_set=set()  #빈 셋\n",
    "while len(lotto_set)<6:\n",
    "    lotto_set.add(random.randint(1,45))\n",
    "sorted(lotto_set)  "
   ]
  },
  {
   "cell_type": "code",
   "execution_count": null,
   "id": "25f063b4",
   "metadata": {},
   "outputs": [],
   "source": [
    "# 1~45 중 6개를 뽑아 정렬\n",
    "#random.sample([1,2,3,4,5,6,7,8,9,10],2)\n",
    "sorted(random.sample(range(1,46),6))"
   ]
  },
  {
   "cell_type": "markdown",
   "id": "328e0ed1",
   "metadata": {},
   "source": [
    "## 2.3 break,continue\n",
    "- break : 현재 반복문 탈출\n",
    "- continue : 수행중인 반복문을 멈추고 조건절로"
   ]
  },
  {
   "cell_type": "code",
   "execution_count": null,
   "id": "1101fe87",
   "metadata": {},
   "outputs": [],
   "source": [
    "num=0\n",
    "while num<10:\n",
    "    num+=1\n",
    "    if num==5:\n",
    "        #break\n",
    "        continue\n",
    "    print(num,end=' ')\n",
    "print('END')    "
   ]
  },
  {
   "cell_type": "markdown",
   "id": "fd293d08",
   "metadata": {},
   "source": [
    "## ** 숫자 찾기 게임 1단계"
   ]
  },
  {
   "cell_type": "code",
   "execution_count": null,
   "id": "517d5538",
   "metadata": {},
   "outputs": [],
   "source": [
    "# 숫자 찾기 게임\n",
    "\n",
    "# 1~100 사이의 정수 맞추기 프로그램\n",
    "# (프로그램 안에서 random수가 만들어지고 , 그 random 수 맞추기)\n",
    "# 1단계 : 숫자를 못맞추면  UP/DOWN을 출력하고, 맞추면 축하메세지 출력하고 프로그램 종료.\n",
    "# 2단계 : 숫자를 못맞추면 min(0),max(100)를 조정하고, 맞추면 축하메세지 출력하고 종료\n",
    "# 3단계 : 2단계의 기회를 5회로 제한. 5회의 기회가 지나면 실패 메세지 출력하고 종료.\n",
    "#        5회 이내에 맞추면 축하메세지 출력하고 종료\n",
    "#         (2단계와 3단계는 연습문제)\n",
    "\n",
    "import random\n",
    "randomNum=random.randint(1,100)\n",
    "print(\"컴퓨터가 발생한 random수 :\",randomNum)\n",
    "while True:\n",
    "    inputNum=int(input(\"1~100사이의 수를 맞춰보세요: \"))\n",
    "    if (inputNum<1)|(inputNum>100):\n",
    "        print('수의 범위를 벗어났습니다')\n",
    "    elif randomNum < inputNum:\n",
    "        print('DOWN ↓')\n",
    "    elif randomNum > inputNum:\n",
    "        print('UP ↑')\n",
    "    else:\n",
    "        print(\" 축하 축하 맞추셨습니다\")\n",
    "        break\n",
    "print(\"BYE\")        \n",
    "    "
   ]
  },
  {
   "cell_type": "code",
   "execution_count": 4,
   "id": "14150218",
   "metadata": {},
   "outputs": [
    {
     "name": "stdout",
     "output_type": "stream",
     "text": [
      "컴퓨터가 발생한 random수 : 31\n",
      "1~100사이의 수를 맞춰보세요: 45\n",
      "DOWN ↓\n",
      "1~100사이의 수를 맞춰보세요: 33\n",
      "DOWN ↓\n",
      "1~100사이의 수를 맞춰보세요: 22\n",
      "UP ↑\n",
      "1~100사이의 수를 맞춰보세요: 25\n",
      "UP ↑\n",
      "1~100사이의 수를 맞춰보세요: 30\n",
      "UP ↑\n",
      "1~100사이의 수를 맞춰보세요: 31\n",
      " 축하 축하 맞추셨습니다\n",
      "BYE\n"
     ]
    }
   ],
   "source": [
    "import random\n",
    "randomNum=random.randint(1,100)\n",
    "print(\"컴퓨터가 발생한 random수 :\",randomNum)\n",
    "inputNum=-1\n",
    "while randomNum!=inputNum:\n",
    "    inputNum=int(input(\"1~100사이의 수를 맞춰보세요: \"))\n",
    "    if (inputNum<1)|(inputNum>100):\n",
    "        print('수의 범위를 벗어났습니다')\n",
    "    elif randomNum < inputNum:\n",
    "        print('DOWN ↓')\n",
    "    elif randomNum > inputNum:\n",
    "        print('UP ↑')\n",
    "    else:\n",
    "        print(\" 축하 축하 맞추셨습니다\")\n",
    "        break\n",
    "print(\"BYE\")        \n",
    "    "
   ]
  },
  {
   "cell_type": "markdown",
   "id": "6be9b501",
   "metadata": {},
   "source": [
    "# 3절 중첩루프\n",
    "(반복문 안의 반복문)"
   ]
  },
  {
   "cell_type": "code",
   "execution_count": 15,
   "id": "9ad10913",
   "metadata": {},
   "outputs": [
    {
     "name": "stdout",
     "output_type": "stream",
     "text": [
      "  2단  \t  3단  \t  4단  \t  5단  \t  6단  \t  7단  \t  8단  \t  9단  \t\n",
      "2*1= 2\t3*1= 3\t4*1= 4\t5*1= 5\t6*1= 6\t7*1= 7\t8*1= 8\t9*1= 9\t\n",
      "2*2= 4\t3*2= 6\t4*2= 8\t5*2=10\t6*2=12\t7*2=14\t8*2=16\t9*2=18\t\n",
      "2*3= 6\t3*3= 9\t4*3=12\t5*3=15\t6*3=18\t7*3=21\t8*3=24\t9*3=27\t\n",
      "2*4= 8\t3*4=12\t4*4=16\t5*4=20\t6*4=24\t7*4=28\t8*4=32\t9*4=36\t\n",
      "2*5=10\t3*5=15\t4*5=20\t5*5=25\t6*5=30\t7*5=35\t8*5=40\t9*5=45\t\n",
      "2*6=12\t3*6=18\t4*6=24\t5*6=30\t6*6=36\t7*6=42\t8*6=48\t9*6=54\t\n",
      "2*7=14\t3*7=21\t4*7=28\t5*7=35\t6*7=42\t7*7=49\t8*7=56\t9*7=63\t\n",
      "2*8=16\t3*8=24\t4*8=32\t5*8=40\t6*8=48\t7*8=56\t8*8=64\t9*8=72\t\n",
      "2*9=18\t3*9=27\t4*9=36\t5*9=45\t6*9=54\t7*9=63\t8*9=72\t9*9=81\t\n"
     ]
    }
   ],
   "source": [
    "# 2~9단 구구단 출력\n",
    "for i in range(2,10):\n",
    "    print(\"{:^6}\".format(str(i)+'단'),end=\"\\t\")\n",
    "print() #개행\n",
    "for i in range(1,10):\n",
    "    for j in range(2,10):\n",
    "        print(\"{}*{}={:2}\".format(j,i,i*j),end=\"\\t\")\n",
    "    print()"
   ]
  },
  {
   "cell_type": "code",
   "execution_count": 19,
   "id": "cfab260d",
   "metadata": {},
   "outputs": [
    {
     "name": "stdout",
     "output_type": "stream",
     "text": [
      "0행 0열  : 1\t0행 1열  : 2\t0행 2열  : 3\t0행 3열  : 4\t\n",
      "1행 0열  : 5\t1행 1열  : 6\t1행 2열  : 7\t1행 3열  : 8\t\n"
     ]
    }
   ],
   "source": [
    "lst_2d=[[1,2,3,4,],\n",
    "       [5,6,7,8]]\n",
    "for i in range(len(lst_2d)):        #행\n",
    "    for j in range(len(lst_2d[i])): #열\n",
    "        print(\"{}행 {}열  : {}\".format(i,j,lst_2d[i][j]),end=\"\\t\")\n",
    "    print()"
   ]
  },
  {
   "cell_type": "markdown",
   "id": "fc7d4e0b",
   "metadata": {},
   "source": [
    "# 4절 중첩 루프 탈출"
   ]
  },
  {
   "cell_type": "code",
   "execution_count": 23,
   "id": "77fae00b",
   "metadata": {},
   "outputs": [
    {
     "name": "stdout",
     "output_type": "stream",
     "text": [
      "0 1\n",
      "0 2\n",
      "a=1,b=1일때 break함\n",
      "2 1\n",
      "a=2,b=2일때 break함\n",
      "DONE\n"
     ]
    }
   ],
   "source": [
    "# 내부루프 탈출\n",
    "for a in range(0,3): # a=0 일 때, 1일 때, 2일 때\n",
    "    for b in range(1,3):  # b=1일때, 2일때\n",
    "        if a==b:\n",
    "            print(\"a={},b={}일때 break함\".format(a,b))\n",
    "            break\n",
    "        print(a,b)\n",
    "    #break를 만나면 오는 곳\n",
    "print('DONE')"
   ]
  },
  {
   "cell_type": "markdown",
   "id": "f7dc7a3c",
   "metadata": {},
   "source": [
    "## *중첩루프 탈출 방법1(flag변수 이용)"
   ]
  },
  {
   "cell_type": "code",
   "execution_count": 25,
   "id": "181dd5b6",
   "metadata": {},
   "outputs": [
    {
     "name": "stdout",
     "output_type": "stream",
     "text": [
      "0 1\n",
      "0 2\n",
      "DONE\n"
     ]
    }
   ],
   "source": [
    "#중첩루프 탈출 방법1 flag변수 이용\n",
    "flag=False #break를 만나면 True\n",
    "for a in range(0,3): # a=0 일 때, 1일 때, 2일 때\n",
    "    for b in range(1,3):  # b=1일때, 2일때\n",
    "        if a==b:\n",
    "            flag=True\n",
    "            break\n",
    "        print(a,b)\n",
    "    #break를 만나면 오는 곳\n",
    "    if flag:\n",
    "        break\n",
    "print('DONE')"
   ]
  },
  {
   "cell_type": "markdown",
   "id": "a98b87a8",
   "metadata": {},
   "source": [
    "## *중첩루프 탈출 방법2. 예외(Exception)처리 이용\n"
   ]
  },
  {
   "cell_type": "code",
   "execution_count": 9,
   "id": "fc75d463",
   "metadata": {},
   "outputs": [
    {
     "name": "stdout",
     "output_type": "stream",
     "text": [
      "0 1\n",
      "0 2\n",
      "a=1,b=1일때 raise로 탈출함\n",
      "DONE\n"
     ]
    }
   ],
   "source": [
    "#예외(Exception)처리 이용\n",
    "\n",
    "try:    \n",
    "    for a in range(0,3): # a=0 일 때, 1일 때, 2일 때\n",
    "        for b in range(1,3):  # b=1일때, 2일때\n",
    "            if a==b:\n",
    "                print(\"a={},b={}일때 raise로 탈출함\".format(a,b))\n",
    "                # 중첩반복문 탈출(강제로 예외발생)\n",
    "                raise Exception(\"중첩반복문 탈출\")\n",
    "            print(a,b)\n",
    "except:\n",
    "    print('DONE')"
   ]
  },
  {
   "cell_type": "code",
   "execution_count": 10,
   "id": "3cfc67a4",
   "metadata": {},
   "outputs": [],
   "source": [
    "# Exception을 상속받은 class\n",
    "class BreakOutLoopException(Exception):\n",
    "    pass"
   ]
  },
  {
   "cell_type": "code",
   "execution_count": 11,
   "id": "367df3dc",
   "metadata": {},
   "outputs": [
    {
     "name": "stdout",
     "output_type": "stream",
     "text": [
      "0 1\n",
      "0 2\n",
      "a=1,b=1일때 raise로 탈출함\n",
      "DONE\n"
     ]
    }
   ],
   "source": [
    "try:    \n",
    "    for a in range(0,3): # a=0 일 때, 1일 때, 2일 때\n",
    "        for b in range(1,3):  # b=1일때, 2일때\n",
    "            if a==b:\n",
    "                print(\"a={},b={}일때 raise로 탈출함\".format(a,b))\n",
    "                # 중첩반복문 탈출(강제로 예외발생)\n",
    "                raise BreakOutLoopException(\"중첩반복문 탈출\")\n",
    "            print(a,b)\n",
    "except:\n",
    "    print('DONE')"
   ]
  },
  {
   "cell_type": "markdown",
   "id": "134c7b9d",
   "metadata": {},
   "source": [
    "# 5절 연습문제"
   ]
  },
  {
   "cell_type": "markdown",
   "id": "ccf03154",
   "metadata": {},
   "source": [
    "## *** 체크"
   ]
  },
  {
   "cell_type": "code",
   "execution_count": 12,
   "id": "e3cf38f2",
   "metadata": {},
   "outputs": [
    {
     "name": "stdout",
     "output_type": "stream",
     "text": [
      "inputStr이 0 이상 정수인지 여부 :  False\n"
     ]
    }
   ],
   "source": [
    "inputStr=\"\"\n",
    "print('inputStr이 0 이상 정수인지 여부 : ',inputStr.isdigit())"
   ]
  },
  {
   "cell_type": "code",
   "execution_count": null,
   "id": "7ddcc2c1",
   "metadata": {},
   "outputs": [],
   "source": [
    "# 1.양의 정수를 입력 받아 홀수인지 짝수인지를 판별하는 프로그램을 작성하세요 . 양의 정수가 아니면 숫자를 다시 입력 받아야 합니다\n",
    "inputStr=''\n",
    "while (inputStr.isdigit()==False)|(inputStr=='0'):\n",
    "    inputStr=input(\"양의 정수를 입력하세요.\")\n",
    "inputNum=int(inputStr)\n",
    "even_odd='홀수' if inputNum%2 else '짝수'\n",
    "# if inputNum%2:\n",
    "#     even_odd='홀수'\n",
    "# else:\n",
    "#     even_odd='짝수'\n",
    "print('입력하신 양의 정수는 {}이고 {}입니다'.format(inputNum,even_odd))"
   ]
  },
  {
   "cell_type": "code",
   "execution_count": 6,
   "id": "a74cc038",
   "metadata": {},
   "outputs": [
    {
     "name": "stdout",
     "output_type": "stream",
     "text": [
      "2-1번 문제\n",
      "*****\n",
      "*****\n",
      "*****\n",
      "*****\n",
      "*****\n",
      "2-2번 문제\n",
      "\n",
      "*\t\n",
      "*\t*\t\n",
      "*\t*\t*\t\n",
      "*\t*\t*\t*\t\n",
      "side : 이어서 출력 \n",
      " (1) \t (2) \n",
      "*****\t*\n",
      "*****\t**\n",
      "*****\t***\n",
      "*****\t****\n",
      "*****\t*****\n"
     ]
    }
   ],
   "source": [
    "# 2.중첩 for 문을 이용하여 아래 패턴의 별을 출력하는 프로그램을 작성하세요\n",
    "print('2-1번 문제')\n",
    "for i in range(5):\n",
    "    for j in range(5):\n",
    "        print(\"*\",end=\"\")\n",
    "    print()\n",
    "print('2-2번 문제')\n",
    "for i in range(5):\n",
    "    for j in range(1,i+1):\n",
    "        print(\"*\",end=\"\\t\")\n",
    "    print()\n",
    "print('side : 이어서 출력 ')\n",
    "print(\"{:^5}\\t{:^5}\".format(\"(1)\", \"(2)\"))\n",
    "for i in range(5):\n",
    "    print('*'*5, end='\\t')\n",
    "    for j in range(i+1):\n",
    "        print('*', end='')\n",
    "    print()\n",
    "# for i in range(5):\n",
    "#     print('*'*(i+1))\n",
    "# star =\"*\"\n",
    "# for j in range(5):\n",
    "#     print(star)\n",
    "#     star += \"*\""
   ]
  },
  {
   "cell_type": "code",
   "execution_count": 7,
   "id": "81106fa3",
   "metadata": {},
   "outputs": [
    {
     "name": "stdout",
     "output_type": "stream",
     "text": [
      "165\n"
     ]
    }
   ],
   "source": [
    "#3.다음 코드는 1 부터 30까지 (30 포함 ) 자연수 중에서 3 의 배수의 총 합을 출력하는 프로그램입니다 . 빈칸의 코드를 완성하시오\n",
    "sum = 0\n",
    "for i in range(1,31):\n",
    "    if i%3==0: #if not i%3:\n",
    "        sum = sum + i\n",
    "    else:\n",
    "        pass\n",
    "print(sum)"
   ]
  },
  {
   "cell_type": "code",
   "execution_count": 52,
   "id": "9299c3b2",
   "metadata": {},
   "outputs": [
    {
     "name": "stdout",
     "output_type": "stream",
     "text": [
      "13579"
     ]
    }
   ],
   "source": [
    "#4.다음 코드의 실행결과가 “1 3 5 7 가 되도록 빈칸을 완성하시오\n",
    "num = 0\n",
    "while num <=10:\n",
    "    if num%2 :\n",
    "        print(num, end='')\n",
    "    num += 1"
   ]
  },
  {
   "cell_type": "code",
   "execution_count": 48,
   "id": "5b0f04bc",
   "metadata": {},
   "outputs": [
    {
     "name": "stdout",
     "output_type": "stream",
     "text": [
      "1 2 3 \n",
      "4 5 6 7 \n",
      "8 9 \n"
     ]
    }
   ],
   "source": [
    "# 5.다음 2 차원 리스트의 모든 값을 출력하는 코드입니다 . 빈칸을 완성하시오\n",
    "list2d = [ [1,2,3],[4,5,6,7],[8,9]]\n",
    "for row in list2d:\n",
    "    for data in row:\n",
    "        print(data, end=' ')\n",
    "    print()\n",
    "# 결과\n",
    "# 1 2 3\n",
    "# 4 5 6 7\n",
    "# 8 9"
   ]
  },
  {
   "cell_type": "code",
   "execution_count": 9,
   "id": "94689f78",
   "metadata": {},
   "outputs": [
    {
     "name": "stdout",
     "output_type": "stream",
     "text": [
      "0 apple\n",
      "1 banana\n",
      "0 apple\n",
      "1 banana\n"
     ]
    }
   ],
   "source": [
    "# 6.다음 빈칸에 들어갈 함수 이름은\n",
    "colors = {\"red\":'apple', \"yellow\":'banana'}\n",
    "for i,v in enumerate(colors.values()):\n",
    "    print(i,v)\n",
    "# 참고\n",
    "for i, (key,value) in enumerate(colors.items()):\n",
    "    print(i, value)"
   ]
  },
  {
   "cell_type": "code",
   "execution_count": 33,
   "id": "38d31af9",
   "metadata": {},
   "outputs": [
    {
     "name": "stdout",
     "output_type": "stream",
     "text": [
      "1 0\n"
     ]
    }
   ],
   "source": [
    "# 7.다음 코드의 실행결과는\n",
    "for i in range(0,2):\n",
    "    for j in range(0,2):\n",
    "        if i ==j:\n",
    "            break\n",
    "        print(i,j)"
   ]
  },
  {
   "cell_type": "code",
   "execution_count": 39,
   "id": "11741f26",
   "metadata": {},
   "outputs": [
    {
     "name": "stdout",
     "output_type": "stream",
     "text": [
      "0 0\n",
      "1 0\n",
      "1 1\n",
      "정답은 2번\n"
     ]
    }
   ],
   "source": [
    "# 8.다음 코드의 실행 결과로 출력될 수 없는 것은\n",
    "for i in range(0, 2):\n",
    "    for j in range(0,2):\n",
    "        print(i,j)\n",
    "        if i == j:\n",
    "            break\n",
    "print('정답은 2번')"
   ]
  },
  {
   "cell_type": "code",
   "execution_count": 11,
   "id": "b7902904",
   "metadata": {},
   "outputs": [
    {
     "name": "stdout",
     "output_type": "stream",
     "text": [
      "3579\n",
      "3579"
     ]
    }
   ],
   "source": [
    "# 9.다음 코드의 실행결과는\n",
    "L = [3, 4, 5, 6, 7, 8, 9, 10]\n",
    "for i, data in enumerate(L):\n",
    "    if i%2 == 0:\n",
    "        print(data, end='')\n",
    "#참고\n",
    "print() #개행\n",
    "for data in L[0::2]:\n",
    "    print(data,end='')"
   ]
  },
  {
   "cell_type": "code",
   "execution_count": null,
   "id": "0dd3073c",
   "metadata": {},
   "outputs": [],
   "source": [
    "# 10. 1~100사이의 정수를 맞추는 프로그램을 구현하시오\n",
    "# (프로그램안에 임의의 숫자가 만들어지고 그 숫자를 맞추도록 합니다\n",
    "# 1단계 . 입력된 숫자가 틀리면 UP/DOWN 메시지를 출력하고 숫자를 맞추면 축하메세지와 함꼐 종료합니다 맞출 때까지 반복)"
   ]
  },
  {
   "cell_type": "code",
   "execution_count": 3,
   "id": "38932755",
   "metadata": {},
   "outputs": [
    {
     "name": "stdout",
     "output_type": "stream",
     "text": [
      "컴퓨터가 발생한 random 수 : 38\n",
      "1~100 사이의 수를 맞춰 보세요 :33\n",
      "UP ↑\n",
      "34~100 사이의 수를 맞춰 보세요 :38\n",
      "축하 축하 맞추셨습니다\n",
      "BYE\n"
     ]
    }
   ],
   "source": [
    "# 10. 숫자 찾기 게임 1단계\n",
    "'''\n",
    "1~100 사이의 정수 맞추기 프로그램\n",
    "(프로그램 안에서 random수가 만들어지고, 그 random수 맞추기)\n",
    "1단계 : 숫자를 못 맞추면 UP/DOWN을 출력하고, 맞추면 축하메세지 출력하고, 종료\n",
    "2단계 : 숫자를 못 맞추면 min(0), max(100)를 조정하고, 맞추면 축하메세지 출력하고 종료\n",
    "3단계 : 2단계의 기회를 5회로 제한. 5회의 기회가 지나면 실패메세지 출력하고 종료.\n",
    "        5회 이내에 맞추면 축하메세지 출력하고 종료\n",
    "    (2단계와 3단계는 연습문제)\n",
    "'''\n",
    "import random\n",
    "randomNum = random.randint(1, 100)\n",
    "fRom, to = 1, 100\n",
    "print(\"컴퓨터가 발생한 random 수 :\", randomNum)\n",
    "while True:\n",
    "    inputNum = int(input(f\"{fRom}~{to} 사이의 수를 맞춰 보세요 :\"))\n",
    "    if (inputNum<fRom) | (inputNum>to):\n",
    "        print('수의 범위를 벗어났습니다')\n",
    "    elif randomNum < inputNum :\n",
    "        print('DOWN ↓')\n",
    "        to = inputNum - 1\n",
    "    elif randomNum > inputNum:\n",
    "        print('UP ↑')\n",
    "        fRom = inputNum + 1\n",
    "    else:\n",
    "        print(\"축하 축하 맞추셨습니다\")\n",
    "        break\n",
    "print(\"BYE\")"
   ]
  },
  {
   "cell_type": "code",
   "execution_count": null,
   "id": "67ccbc2f",
   "metadata": {},
   "outputs": [],
   "source": [
    "# 10. 1~100사이의 정수를 맞추는 프로그램을 구현하시오\n",
    "# (프로그램안에 임의의 숫자가 만들어지고 그 숫자를 맞추도록 합니다\n",
    "# 2단계 . 입력된 숫자가 틀리면 min~max 사이의 수라고 알려주고 숫자를 맞추면 축하 메시지와 함께 종료합니다 맞출 때까지 반복)\n",
    "# 3단계 . 숫자를 맞출 수 있는 기회를 5 회로 제한하고 5 회 이내에 맞추지 않으면 실패메세지를 출력합니다"
   ]
  },
  {
   "cell_type": "code",
   "execution_count": 4,
   "id": "bb0659cb",
   "metadata": {},
   "outputs": [
    {
     "name": "stdout",
     "output_type": "stream",
     "text": [
      "컴퓨터가 발생한 random 수 : 22\n",
      "1~100 사이의 수를 맞춰 보세요 :45\n",
      "DOWN ↓\n",
      "1~44 사이의 수를 맞춰 보세요 :34\n",
      "DOWN ↓\n",
      "1~33 사이의 수를 맞춰 보세요 :23\n",
      "DOWN ↓\n",
      "1~22 사이의 수를 맞춰 보세요 :15\n",
      "UP ↑\n",
      "16~22 사이의 수를 맞춰 보세요 :18\n",
      "UP ↑\n",
      "19~22 사이의 수를 맞춰 보세요 :22\n",
      "축하 축하 맞추셨습니다\n",
      "BYE\n"
     ]
    }
   ],
   "source": [
    "# 10. 숫자 찾기 게임 2단계\n",
    "import random\n",
    "randomNum = random.randint(1, 100)\n",
    "print(\"컴퓨터가 발생한 random 수 :\", randomNum)\n",
    "inputNum = -1\n",
    "fRom, to = 1, 100\n",
    "while randomNum != inputNum:\n",
    "    inputNum = int(input(f\"{fRom}~{to} 사이의 수를 맞춰 보세요 :\"))\n",
    "    if (inputNum<fRom) | (inputNum>to):\n",
    "        print('수의 범위를 벗어났습니다')\n",
    "    elif randomNum < inputNum :\n",
    "        print('DOWN ↓')\n",
    "        to = inputNum - 1\n",
    "    elif randomNum > inputNum:\n",
    "        print('UP ↑')\n",
    "        fRom = inputNum + 1\n",
    "    else:\n",
    "        print(\"축하 축하 맞추셨습니다\")    \n",
    "print(\"BYE\")"
   ]
  },
  {
   "cell_type": "code",
   "execution_count": 5,
   "id": "5ac34615",
   "metadata": {},
   "outputs": [
    {
     "name": "stdout",
     "output_type": "stream",
     "text": [
      "컴퓨터가 발생한 random 수 : 69\n",
      "1~100 사이의 수를 맞춰 보세요(남은기회는 5):43\n",
      "UP ↑\n",
      "44~100 사이의 수를 맞춰 보세요(남은기회는 4):80\n",
      "DOWN ↓\n",
      "44~79 사이의 수를 맞춰 보세요(남은기회는 3):66\n",
      "UP ↑\n",
      "67~79 사이의 수를 맞춰 보세요(남은기회는 2):77\n",
      "DOWN ↓\n",
      "67~76 사이의 수를 맞춰 보세요(남은기회는 1):70\n",
      "DOWN ↓\n",
      "기회를 모두 사용하셨습니다. 실패하셨습니다\n",
      "BYE\n"
     ]
    }
   ],
   "source": [
    "# 10. 숫자 찾기 게임 3단계\n",
    "'''\n",
    "1~100 사이의 정수 맞추기 프로그램\n",
    "(프로그램 안에서 random수가 만들어지고, 그 random수 맞추기)\n",
    "1단계 : 숫자를 못 맞추면 UP/DOWN을 출력하고, 맞추면 축하메세지 출력하고, 종료\n",
    "2단계 : 숫자를 못 맞추면 min(0), max(100)를 조정하고, 맞추면 축하메세지 출력하고 종료\n",
    "3단계 : 2단계의 기회를 5회로 제한. 5회의 기회가 지나면 실패메세지 출력하고 종료.\n",
    "        5회 이내에 맞추면 축하메세지 출력하고 종료\n",
    "    (2단계와 3단계는 연습문제)\n",
    "'''\n",
    "import random\n",
    "randomNum = random.randint(1, 100)\n",
    "fRom, to = 1, 100\n",
    "print(\"컴퓨터가 발생한 random 수 :\", randomNum)\n",
    "for cnt in range(5, 0, -1):\n",
    "    inputNum = int(input(f\"{fRom}~{to} 사이의 수를 맞춰 보세요(남은기회는 {cnt}):\"))\n",
    "    if (inputNum<fRom) | (inputNum>to):\n",
    "        print('수의 범위를 벗어났습니다')\n",
    "    elif randomNum < inputNum :\n",
    "        print('DOWN ↓')\n",
    "        to = inputNum - 1\n",
    "    elif randomNum > inputNum:\n",
    "        print('UP ↑')\n",
    "        fRom = inputNum + 1\n",
    "    else:\n",
    "        print(\"축하 축하 맞추셨습니다\")\n",
    "        break\n",
    "else:\n",
    "    print('기회를 모두 사용하셨습니다. 실패하셨습니다')\n",
    "print(\"BYE\")"
   ]
  },
  {
   "cell_type": "markdown",
   "id": "14346821",
   "metadata": {},
   "source": [
    "## **숫자 찾기 게임(1->2단계)"
   ]
  },
  {
   "cell_type": "code",
   "execution_count": 12,
   "id": "50ad8026",
   "metadata": {},
   "outputs": [
    {
     "name": "stdout",
     "output_type": "stream",
     "text": [
      "컴퓨터가 발생한 random수 : 16\n",
      "1~100사이의 수를 맞춰보세요: 23\n",
      "DOWN ↓\n",
      "1~22사이의 수를 맞춰보세요: 10\n",
      "UP ↑\n",
      "11~22사이의 수를 맞춰보세요: 20\n",
      "DOWN ↓\n",
      "11~19사이의 수를 맞춰보세요: 16\n",
      " 축하 축하 맞추셨습니다\n",
      "BYE\n"
     ]
    }
   ],
   "source": [
    "# 숫자 찾기 게임(1->2단계)\n",
    "\n",
    "# 1~100 사이의 정수 맞추기 프로그램\n",
    "# (프로그램 안에서 random수가 만들어지고 , 그 random 수 맞추기)\n",
    "# 1단계 : 숫자를 못맞추면  UP/DOWN을 출력하고, 맞추면 축하메세지 출력하고 프로그램 종료.\n",
    "# 2단계 : 숫자를 못맞추면 min(0),max(100)를 조정하고, 맞추면 축하메세지 출력하고 종료\n",
    "# 3단계 : 2단계의 기회를 5회로 제한. 5회의 기회가 지나면 실패 메세지 출력하고 종료.\n",
    "#        5회 이내에 맞추면 축하메세지 출력하고 종료\n",
    "#         (2단계와 3단계는 연습문제)\n",
    "\n",
    "import random\n",
    "randomNum=random.randint(1,100)\n",
    "print(\"컴퓨터가 발생한 random수 :\",randomNum)\n",
    "min_=1\n",
    "max_=100\n",
    "while True:\n",
    "    inputNum=int(input(f\"{min_}~{max_}사이의 수를 맞춰보세요: \"))\n",
    "    if (inputNum<min_)|(inputNum>max_):\n",
    "        print('수의 범위를 벗어났습니다')\n",
    "    elif randomNum < inputNum:\n",
    "        print('DOWN ↓')\n",
    "        max_=inputNum-1\n",
    "    elif randomNum > inputNum:\n",
    "        print('UP ↑')\n",
    "        min_=inputNum+1\n",
    "    else:\n",
    "        print(\" 축하 축하 맞추셨습니다\")\n",
    "        break\n",
    "print(\"BYE\")  "
   ]
  },
  {
   "cell_type": "code",
   "execution_count": 13,
   "id": "d927a668",
   "metadata": {},
   "outputs": [
    {
     "name": "stdout",
     "output_type": "stream",
     "text": [
      "컴퓨터가 발생한 random수 : 2\n",
      "1~100사이의 수를 맞춰보세요(남은 기회5회): 45\n",
      "DOWN ↓\n",
      "1~44사이의 수를 맞춰보세요(남은 기회4회): 23\n",
      "DOWN ↓\n",
      "1~22사이의 수를 맞춰보세요(남은 기회3회): 11\n",
      "DOWN ↓\n",
      "1~10사이의 수를 맞춰보세요(남은 기회2회): 5\n",
      "DOWN ↓\n",
      "1~4사이의 수를 맞춰보세요(남은 기회1회): 3\n",
      "DOWN ↓\n",
      "기회를 모두 사용하셨습니다. 실패하셨습니다.\n",
      "BYE\n"
     ]
    }
   ],
   "source": [
    "# 숫자 찾기 게임(1->2->3단계)\n",
    "\n",
    "# 1~100 사이의 정수 맞추기 프로그램\n",
    "# (프로그램 안에서 random수가 만들어지고 , 그 random 수 맞추기)\n",
    "# 1단계 : 숫자를 못맞추면  UP/DOWN을 출력하고, 맞추면 축하메세지 출력하고 프로그램 종료.\n",
    "# 2단계 : 숫자를 못맞추면 min(0),max(100)를 조정하고, 맞추면 축하메세지 출력하고 종료\n",
    "# 3단계 : 2단계의 기회를 5회로 제한. 5회의 기회가 지나면 실패 메세지 출력하고 종료.\n",
    "#        5회 이내에 맞추면 축하메세지 출력하고 종료\n",
    "#         (2단계와 3단계는 연습문제)\n",
    "\n",
    "import random\n",
    "randomNum=random.randint(1,100)\n",
    "print(\"컴퓨터가 발생한 random수 :\",randomNum)\n",
    "min_=1\n",
    "max_=100\n",
    "for cnt in range(5,0,-1):\n",
    "    inputNum=int(input(f\"{min_}~{max_}사이의 수를 맞춰보세요(남은 기회 {cnt}회): \"))\n",
    "    if (inputNum<min_)|(inputNum>max_):\n",
    "        print('수의 범위를 벗어났습니다')\n",
    "    elif randomNum < inputNum:\n",
    "        print('DOWN ↓')\n",
    "        max_=inputNum-1\n",
    "    elif randomNum > inputNum:\n",
    "        print('UP ↑')\n",
    "        min_=inputNum+1\n",
    "    else:\n",
    "        print(\" 축하 축하 맞추셨습니다\")\n",
    "        break\n",
    "else:\n",
    "    print(\"기회를 모두 사용하셨습니다. 실패하셨습니다.\")\n",
    "print(\"BYE\")  "
   ]
  },
  {
   "cell_type": "code",
   "execution_count": null,
   "id": "22abdbf4",
   "metadata": {},
   "outputs": [],
   "source": []
  }
 ],
 "metadata": {
  "kernelspec": {
   "display_name": "Python 3 (ipykernel)",
   "language": "python",
   "name": "python3"
  },
  "language_info": {
   "codemirror_mode": {
    "name": "ipython",
    "version": 3
   },
   "file_extension": ".py",
   "mimetype": "text/x-python",
   "name": "python",
   "nbconvert_exporter": "python",
   "pygments_lexer": "ipython3",
   "version": "3.10.9"
  },
  "toc": {
   "base_numbering": 1,
   "nav_menu": {},
   "number_sections": false,
   "sideBar": true,
   "skip_h1_title": false,
   "title_cell": "Table of Contents",
   "title_sidebar": "Contents",
   "toc_cell": false,
   "toc_position": {
    "height": "calc(100% - 180px)",
    "left": "10px",
    "top": "150px",
    "width": "165px"
   },
   "toc_section_display": true,
   "toc_window_display": true
  }
 },
 "nbformat": 4,
 "nbformat_minor": 5
}
