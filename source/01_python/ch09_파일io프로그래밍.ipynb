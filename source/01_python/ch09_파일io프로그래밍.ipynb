{
 "cells": [
  {
   "cell_type": "code",
   "execution_count": 1,
   "id": "534946f0",
   "metadata": {},
   "outputs": [
    {
     "data": {
      "text/html": [
       "\n",
       "<style>\n",
       "div.container{width:90% !important;}\n",
       "div.cell.code_cell.rendered{width:100%;}\n",
       "div.input_prompt{padding:0px;}\n",
       "div.CodeMirror {font-family:Consolas; font-size:12pt;}\n",
       "div.text_cell_render.rendered_html{font-size:12pt;}\n",
       "div.output {font-size:12pt; font-weight:bold;}\n",
       "div.input {font-family:Consolas; font-size:12pt;}\n",
       "div.prompt {min-width:70px;}\n",
       "div#toc-wrapper{padding-top:120px;}\n",
       "div.text_cell_render ul li{font-size:12pt;padding:5px;}\n",
       "table.dataframe{font-size:12px;}\n",
       "</style>\n"
      ],
      "text/plain": [
       "<IPython.core.display.HTML object>"
      ]
     },
     "metadata": {},
     "output_type": "display_data"
    }
   ],
   "source": [
    "from IPython.display import display, HTML\n",
    "display(HTML(\"\"\"\n",
    "<style>\n",
    "div.container{width:90% !important;}\n",
    "div.cell.code_cell.rendered{width:100%;}\n",
    "div.input_prompt{padding:0px;}\n",
    "div.CodeMirror {font-family:Consolas; font-size:12pt;}\n",
    "div.text_cell_render.rendered_html{font-size:12pt;}\n",
    "div.output {font-size:12pt; font-weight:bold;}\n",
    "div.input {font-family:Consolas; font-size:12pt;}\n",
    "div.prompt {min-width:70px;}\n",
    "div#toc-wrapper{padding-top:120px;}\n",
    "div.text_cell_render ul li{font-size:12pt;padding:5px;}\n",
    "table.dataframe{font-size:12px;}\n",
    "</style>\n",
    "\"\"\"))"
   ]
  },
  {
   "cell_type": "markdown",
   "id": "922e7c1c",
   "metadata": {},
   "source": [
    "<b><font size=\"6\"  color=\"red\">ch09. 파일 입/출력 프로그래밍 </font></b>\n",
    "\n",
    "- 파일 : txt, pickle(머신러닝모델저장,), csv, json, h5(딥러닝모델저장)\n",
    "\n",
    "# 1절 txt파일에 데이터 저장하고 불러오기\n"
   ]
  },
  {
   "cell_type": "code",
   "execution_count": 15,
   "id": "ffa9943e",
   "metadata": {},
   "outputs": [
    {
     "name": "stdout",
     "output_type": "stream",
     "text": [
      "쓰기 가능한지 : True\n"
     ]
    }
   ],
   "source": [
    "# mode = 'r' 또는 'rt' : 텍스트 읽기모드로 열기. 파일이 없을 경우 예외 발생\n",
    "# mode = 'w' 또는 'wt' : 텍스트 쓰기모드로 열기. 폴더가 없을 경우 예외 발생\n",
    "                    # 파일이 없으면 생성. 파일이 있으면 덮어씀.\n",
    "# mode = 'a' 또는 'at' : 텍스트 쓰기모드로 열기. 폴더 없을 경우 예외 발생\n",
    "                    # 파일이 없으면 생성. 파일이 있으면 뒤에 append\n",
    "f = open('data/ch09.txt','w') # encoding = 'cp949'(win)\n",
    "print('쓰기 가능한지 :', f.writable())\n",
    "f.write('Hello\\nWorld\\n')\n",
    "f.close()"
   ]
  },
  {
   "cell_type": "code",
   "execution_count": 17,
   "id": "3f0fafe9",
   "metadata": {},
   "outputs": [
    {
     "name": "stdout",
     "output_type": "stream",
     "text": [
      "쓰기 가능한지 :  True\n"
     ]
    }
   ],
   "source": [
    "# with 구문을 사용하면 매번 close()하는 코드가 불필요.\n",
    "with open('data/ch09.txt','wt') as f:\n",
    "    print('쓰기 가능한지 : ',f.writable())\n",
    "    f.write('Python is ease.\\nPython is smart.\\n')"
   ]
  },
  {
   "cell_type": "code",
   "execution_count": 21,
   "id": "16cb33ec",
   "metadata": {},
   "outputs": [
    {
     "name": "stdout",
     "output_type": "stream",
     "text": [
      "프린트 함수로 파일 쓰기가 가능합니다.- 콘솔출력\n"
     ]
    }
   ],
   "source": [
    "with open('data/ch09.txt','a')  as file: # cp949 주피터는 안열리고 메모장에서 열림\n",
    "    print('프린트 함수로 파일 쓰기가 가능합니다.-파일출력',file=file)\n",
    "    print('프린트 함수로 파일 쓰기가 가능합니다.- 콘솔출력')"
   ]
  },
  {
   "cell_type": "markdown",
   "id": "bbb49111",
   "metadata": {},
   "source": [
    "### - 한글 읽기 /쓰기\n",
    "\n",
    "    *cp949(한글완성형확장형) : open함수의 기본 인코딩(win)\n",
    "    *utf-8(한글조합형)      : 주피터노트북에서 열기"
   ]
  },
  {
   "cell_type": "code",
   "execution_count": 8,
   "id": "1999e306",
   "metadata": {},
   "outputs": [],
   "source": [
    "with open('data/ch09.txt','w',encoding='UTF-8') as f:\n",
    "    #방법1 / 추천\n",
    "    f.write('홍길동, 30, 서울\\n')\n",
    "    f.write('김길동, 20, 수원\\n')\n",
    "    #방법2 / 비추\n",
    "    textlist=['홍길동, 30,서울\\n','김길동, 20, 부산\\n']\n",
    "    for line in textlist:\n",
    "        f.write(line)\n",
    "    # 방법3\n",
    "    f.writelines(textlist) #리스트를 한꺼번에 write / (히스토리 저장시 사용')"
   ]
  },
  {
   "cell_type": "code",
   "execution_count": 9,
   "id": "0a2e283f",
   "metadata": {},
   "outputs": [
    {
     "data": {
      "text/plain": [
       "'홍길동, 30, 서울\\n김길동, 20, 수원\\n홍길동, 30,서울\\n김길동, 20, 부산\\n홍길동, 30,서울\\n김길동, 20, 부산\\n'"
      ]
     },
     "execution_count": 9,
     "metadata": {},
     "output_type": "execute_result"
    }
   ],
   "source": [
    "#파일을 한꺼번에 읽어오기\n",
    "with open('data/ch09.txt','rt',encoding='UTf-8') as f:\n",
    "    filecontent = f.read()\n",
    "filecontent"
   ]
  },
  {
   "cell_type": "code",
   "execution_count": 10,
   "id": "c3463d23",
   "metadata": {},
   "outputs": [
    {
     "name": "stdout",
     "output_type": "stream",
     "text": [
      "홍길동, 30, 서울\n",
      "김길동, 20, 수원\n",
      "홍길동, 30,서울\n",
      "김길동, 20, 부산\n",
      "홍길동, 30,서울\n",
      "김길동, 20, 부산\n"
     ]
    }
   ],
   "source": [
    "# 방법 1. 파일을 한줄 읽고 출력하고, 한줄읽고 출력,...\n",
    "with open('data/ch09.txt','r',encoding='utf-8') as txtfile:\n",
    "    line = txtfile.readline()\n",
    "    while line != '':\n",
    "        print(line,end='') # line에 \\n이 포함되어 있어 출력시 개행은 제거\n",
    "        line = txtfile.readline()\n",
    "        "
   ]
  },
  {
   "cell_type": "code",
   "execution_count": 13,
   "id": "b304cd4c",
   "metadata": {},
   "outputs": [
    {
     "name": "stdout",
     "output_type": "stream",
     "text": [
      "['홍길동, 30, 서울\\n', '김길동, 20, 수원\\n', '홍길동, 30,서울\\n', '김길동, 20, 부산\\n', '홍길동, 30,서울\\n', '김길동, 20, 부산\\n']\n"
     ]
    }
   ],
   "source": [
    "# 방법2. 파일을 한꺼번에 여러줄 읽어, 한줄씩 list 담아 return\n",
    "with open ('data/ch09.txt','r', encoding = 'utf-8') as txtfile:\n",
    "    lines=txtfile.readlines()\n",
    "print(lines)"
   ]
  },
  {
   "cell_type": "code",
   "execution_count": 14,
   "id": "a70b0fec",
   "metadata": {},
   "outputs": [
    {
     "name": "stdout",
     "output_type": "stream",
     "text": [
      "홍길동, 30, 서울\n",
      "김길동, 20, 수원\n",
      "홍길동, 30,서울\n",
      "김길동, 20, 부산\n",
      "홍길동, 30,서울\n",
      "김길동, 20, 부산\n"
     ]
    }
   ],
   "source": [
    "for line in lines:\n",
    "  print(line,end='')  "
   ]
  },
  {
   "cell_type": "markdown",
   "id": "91b14da7",
   "metadata": {},
   "source": [
    "# 2절 피클을 이용한 객체 저장 불러오기\n",
    "\n",
    "- 머신러닝 모델저장, 배열저장, 객체저장\n",
    "\n",
    "## 2.1 형식이 있는 텍스트 데이터 불러오기"
   ]
  },
  {
   "cell_type": "markdown",
   "id": "ece3ac51",
   "metadata": {},
   "source": []
  },
  {
   "cell_type": "code",
   "execution_count": 18,
   "id": "fdb5d284",
   "metadata": {},
   "outputs": [
    {
     "name": "stdout",
     "output_type": "stream",
     "text": [
      "{'name': '홍길동', 'age': 20, 'email': 'kildong@hong.com', 'address': '서울시 관악구'}\n",
      "{'name': '홍길숙', 'age': 25, 'email': 'kilsuk1@hong.com', 'address': '서울시 영등포구'}\n",
      "{'name': '신길동', 'age': 30, 'email': 'shinkil@hong.com', 'address': '서울시 동작구'}\n"
     ]
    }
   ],
   "source": [
    "with open('data/ch09_member.txt','r', encoding='UTF-8') as f:\n",
    "    lines = f.readlines()\n",
    "# print(lines) 확인용\n",
    "for line in lines:\n",
    "#    print(line) 확인용\n",
    "    data = line.split(', ')\n",
    "   # print(data)\n",
    "    name = data[0]\n",
    "    age = int(data[1])\n",
    "    email = data[2]\n",
    "    address = data[3].strip()\n",
    "    print({'name':name,'age':age,'email':email,'address':address})"
   ]
  },
  {
   "cell_type": "code",
   "execution_count": 3,
   "id": "ae07c1a7",
   "metadata": {},
   "outputs": [],
   "source": [
    "class Member:\n",
    "    def __init__(self,name, age, email, address):\n",
    "        self.name = name\n",
    "        self.age = age\n",
    "        self.email = email\n",
    "        self.address = address\n",
    "    def __str__(self):\n",
    "        return \"{},{},{},{}\".format(self.name,self.age, self.email, self.address)\n",
    "#     def __eq__(self,other):\n",
    "#         return  self.name == other.name and \\\n",
    "#                 self.age == other.age and \\\n",
    "#                 self.email == other.email and \\\n",
    "#                 self.address == other.address\n",
    "    def __eq__(self,other):\n",
    "        return self.__str__() == other.__str__()\n",
    "#     def as_dict(self):\n",
    "#         '객체를 딕셔너리로 바꿔 return(json파일 저장시 필요)'\n",
    "#         return {'name':self.name,\n",
    "#                'age':self.age,\n",
    "#                'email':self.email,\n",
    "#                'adderess':self.address}\n",
    "    def as_dict(self):\n",
    "        '객체를 딕셔너리로 바꿔 return(json파일 저장시 필요)'\n",
    "        return self.__dict__"
   ]
  },
  {
   "cell_type": "code",
   "execution_count": 5,
   "id": "44a163a0",
   "metadata": {},
   "outputs": [
    {
     "name": "stdout",
     "output_type": "stream",
     "text": [
      "신길동,30,shinkil@hong.com,서울시 동작구\n",
      "신길동,30,shinkil@hong.com,서울시 동작구\n",
      "True\n",
      "True\n",
      "{'name': '신길동', 'age': 30, 'email': 'shinkil@hong.com', 'address': '서울시 동작구'}\n",
      "{'name': '신길동', 'age': 30, 'email': 'shinkil@hong.com', 'address': '서울시 동작구'}\n"
     ]
    }
   ],
   "source": [
    "member1 = Member(\"신길동\",30, 'shinkil@hong.com', '서울시 동작구')\n",
    "member2 = Member(\"신길동\",30, 'shinkil@hong.com', '서울시 동작구')\n",
    "print(member1) #print(member1.__str__())\n",
    "print(member2)\n",
    "print(member2==member1) # print(member2==member1) => print(member2.__eq__(member1)) 이런 의미 : 위에서 __eq__ 재정의\n",
    "print(member2.__eq__(member1))\n",
    "print(member1.__dict__)\n",
    "print(member1.as_dict())"
   ]
  },
  {
   "cell_type": "markdown",
   "id": "5678004f",
   "metadata": {},
   "source": [
    "## 2.2 피클링\n",
    "```\n",
    "- 객체리스트 -> 피클파일로 쓰기\n",
    "- 피클파일   -> 객체리스트로 읽기\n",
    "```\n"
   ]
  },
  {
   "cell_type": "code",
   "execution_count": 12,
   "id": "b3a3c0c3",
   "metadata": {},
   "outputs": [],
   "source": [
    "# ch09_member.txt 파일 -> 객체list, 딕셔너리list로 읽어오기\n",
    "member_list = []   # Member 객체 list\n",
    "dict_list   = []   # 딕셔너리 list\n",
    "with open('data/ch09_member.txt','r',encoding='UTF-8') as f:\n",
    "    lines = f.readlines()\n",
    "for line in lines:\n",
    "    # data = line.strip().split(', ')  아래보다는 이것으로..\n",
    "    data = line.strip().split(',') \n",
    "    data = [item.strip() for item in data]\n",
    "    name = data[0]\n",
    "    age = int(data[1])\n",
    "    email =data[2]\n",
    "    address = data[3]\n",
    "    member = Member(name,age,email,address)\n",
    "    member_list.append(member)\n",
    "    dict_list.append(member.__dict__)"
   ]
  },
  {
   "cell_type": "code",
   "execution_count": 13,
   "id": "d30e1c51",
   "metadata": {},
   "outputs": [
    {
     "name": "stdout",
     "output_type": "stream",
     "text": [
      "홍길동,20,kildong@hong.com,서울시 관악구\n",
      "홍길숙,25,kilsuk1@hong.com,서울시 영등포구\n",
      "신길동,30,shinkil@hong.com,서울시 동작구\n"
     ]
    }
   ],
   "source": [
    "for member in member_list:  # 객체 list\n",
    "    print(member)"
   ]
  },
  {
   "cell_type": "markdown",
   "id": "0d63395c",
   "metadata": {},
   "source": [
    "### *피클 쓰기"
   ]
  },
  {
   "cell_type": "code",
   "execution_count": 14,
   "id": "6d3bdd01",
   "metadata": {},
   "outputs": [],
   "source": [
    "# 피클링(확장자 : pkl, pickle, data)을 이용한 객체를 파일에 저장하기  : 메모장에서는 부를 수 없음. \n",
    "import pickle\n",
    "with open('data/ch09_member.pkl','wb') as f:\n",
    "    pickle.dump(member_list,f)"
   ]
  },
  {
   "cell_type": "markdown",
   "id": "30e7424f",
   "metadata": {},
   "source": [
    "### *피클 읽기"
   ]
  },
  {
   "cell_type": "code",
   "execution_count": 15,
   "id": "920a7030",
   "metadata": {},
   "outputs": [],
   "source": [
    "# 피클링을 이용한 파일을 객체리스트로 읽기\n",
    "with open('data/ch09_member.pkl','rb') as f:\n",
    "    load_member_list = pickle.load(f)"
   ]
  },
  {
   "cell_type": "code",
   "execution_count": 16,
   "id": "eefd9d7d",
   "metadata": {},
   "outputs": [
    {
     "data": {
      "text/plain": [
       "(2148247600704, 2148247032192)"
      ]
     },
     "execution_count": 16,
     "metadata": {},
     "output_type": "execute_result"
    }
   ],
   "source": [
    "id(member_list),id(load_member_list)"
   ]
  },
  {
   "cell_type": "code",
   "execution_count": 18,
   "id": "b80ce440",
   "metadata": {},
   "outputs": [
    {
     "name": "stdout",
     "output_type": "stream",
     "text": [
      "0 번째 비교 : True\n",
      "1 번째 비교 : True\n",
      "2 번째 비교 : True\n"
     ]
    }
   ],
   "source": [
    "# data가 소수일 때만.\n",
    "for idx in range(len(member_list)):\n",
    "    print(idx, '번째 비교 :',(member_list[idx])==load_member_list[idx])  # data가 소수일 때만."
   ]
  },
  {
   "cell_type": "code",
   "execution_count": 19,
   "id": "9d50a9c8",
   "metadata": {},
   "outputs": [
    {
     "name": "stdout",
     "output_type": "stream",
     "text": [
      "0 번째 비교 : True\n",
      "1 번째 비교 : True\n",
      "2 번째 비교 : True\n"
     ]
    }
   ],
   "source": [
    "# data가 소수일 때만.\n",
    "for idx,(member, load_member) in enumerate(zip(member_list,load_member_list)):\n",
    "    print(idx,'번째 비교 :', member==load_member)                       # data가 소수일 때만."
   ]
  },
  {
   "cell_type": "markdown",
   "id": "e7a6ac34",
   "metadata": {},
   "source": [
    "##  <font color=red>** 데이터가 같은지 비교</font>"
   ]
  },
  {
   "cell_type": "code",
   "execution_count": 20,
   "id": "959af0eb",
   "metadata": {},
   "outputs": [
    {
     "data": {
      "text/plain": [
       "[True, True, True]"
      ]
     },
     "execution_count": 20,
     "metadata": {},
     "output_type": "execute_result"
    }
   ],
   "source": [
    "# data가 빅데이터일 때.\n",
    "result = []  # 비교결과(True/False)를 append\n",
    "for member, load_member in zip(member_list,load_member_list):\n",
    "    result.append(member==load_member)\n",
    "result"
   ]
  },
  {
   "cell_type": "code",
   "execution_count": 21,
   "id": "18ab175d",
   "metadata": {},
   "outputs": [
    {
     "data": {
      "text/plain": [
       "True"
      ]
     },
     "execution_count": 21,
     "metadata": {},
     "output_type": "execute_result"
    }
   ],
   "source": [
    "all(result) # 모든 요소들이 True인지 여부"
   ]
  },
  {
   "cell_type": "code",
   "execution_count": 25,
   "id": "c238c26f",
   "metadata": {},
   "outputs": [
    {
     "data": {
      "text/plain": [
       "False"
      ]
     },
     "execution_count": 25,
     "metadata": {},
     "output_type": "execute_result"
    }
   ],
   "source": [
    "all([True,True,True,True,True,True,True,True,True,False])"
   ]
  },
  {
   "cell_type": "markdown",
   "id": "ac22e71f",
   "metadata": {},
   "source": [
    "#  3절 CSV파일 읽고 쓰기\n",
    "\n",
    "- CSV파일의 자료를 리스트 데이터로 읽고 쓰기 (3.1과 3.2)\n",
    "- CSV파일의 자료를 딕셔너리 데이터로 읽고 쓰기 (3.3과 3.4)\n",
    "\n",
    "## 3.1 reader"
   ]
  },
  {
   "cell_type": "code",
   "execution_count": 30,
   "id": "73b6859e",
   "metadata": {},
   "outputs": [
    {
     "data": {
      "text/plain": [
       "[['홍길동', '20', 'kildong@hong.com', '서울시 관악구'],\n",
       " ['김길동', '40', 'kimdong@hong.com', '서울시 영등포구'],\n",
       " ['신길동', '30', 'sindong@hong.com', '서울시 동작구']]"
      ]
     },
     "execution_count": 30,
     "metadata": {},
     "output_type": "execute_result"
    }
   ],
   "source": [
    "import csv\n",
    "with open('data/ch09_member1.csv','r', encoding='utf-8') as f:\n",
    "    reader = csv.reader(f)\n",
    "    result = list(reader)\n",
    "result"
   ]
  },
  {
   "cell_type": "markdown",
   "id": "7784573e",
   "metadata": {},
   "source": [
    "### * csv => list로 받기"
   ]
  },
  {
   "cell_type": "code",
   "execution_count": 31,
   "id": "1dde0d17",
   "metadata": {},
   "outputs": [
    {
     "name": "stdout",
     "output_type": "stream",
     "text": [
      "['홍길동', '20', 'kildong@hong.com', '서울시 관악구', '']\n",
      "['김길동', '40', 'kimdong@hong.com', '서울시 영등포구', '팀장']\n",
      "['신길동', '30', 'sindong@hong.com', '서울시 동작구', '']\n"
     ]
    }
   ],
   "source": [
    "# 기본은 모두 문자로 받아들임.\n",
    "with open('data/ch09_member1-cp.csv','r')  as f:\n",
    "    reader = csv.reader(f)\n",
    "    for row  in reader:\n",
    "        print(row)"
   ]
  },
  {
   "cell_type": "code",
   "execution_count": 37,
   "id": "660d9151",
   "metadata": {},
   "outputs": [
    {
     "name": "stdout",
     "output_type": "stream",
     "text": [
      "['홍길동', 20.0, 'kildong@hong.com', '서울시 관악구']\n",
      "['김길동', 40.0, 'kimdong@hong.com', '서울시 영등포구']\n",
      "['신길동', 30.0, 'sindong@hong.com', '서울시 동작구']\n"
     ]
    }
   ],
   "source": [
    "# \"\"(땀옴표)가 없는 데이터는 numeric으로 받아들이기\n",
    "import csv\n",
    "with open('data/ch09_member1.csv','r',encoding='utf-8')  as f:\n",
    "    reader = csv.reader(f,quoting=csv.QUOTE_NONNUMERIC)\n",
    "    for row  in reader:\n",
    "        print(row)"
   ]
  },
  {
   "cell_type": "markdown",
   "id": "c1e0271d",
   "metadata": {},
   "source": [
    "## 3.2 writer\n",
    "\n",
    "- list -> csv로 저장"
   ]
  },
  {
   "cell_type": "code",
   "execution_count": 38,
   "id": "3e12d8c4",
   "metadata": {},
   "outputs": [],
   "source": [
    "user_list= [['신길동', 30, 'sindong@hong.com', '서울시 관악구'],\n",
    "           ['홍길동', 20, 'sindong@hong.com', '서울시 동작구'],\n",
    "           ['박길동', 25, 'sindong@hong.com', '서울시 서초구']]"
   ]
  },
  {
   "cell_type": "code",
   "execution_count": 43,
   "id": "1689658c",
   "metadata": {},
   "outputs": [],
   "source": [
    "# newline='' 옵션을 빼면 개행이 2번(python 3.10)\n",
    "try:    \n",
    "    with open('data/ch09_member2-writer.csv','w', newline='')  as f:\n",
    "        writer = csv.writer(f)\n",
    "#         for user in user_list:\n",
    "#             writer.writerow(user)\n",
    "        writer.writerows(user_list)\n",
    "except FileNotFoundError as e:\n",
    "    print(e)"
   ]
  },
  {
   "cell_type": "markdown",
   "id": "c1100a27",
   "metadata": {},
   "source": [
    "## 3.3 DictReader\n",
    "\n",
    "- csv파일을 딕셔너리 데이터로 읽기"
   ]
  },
  {
   "cell_type": "code",
   "execution_count": 44,
   "id": "4471b460",
   "metadata": {},
   "outputs": [
    {
     "data": {
      "text/plain": [
       "[{'name': '홍길동',\n",
       "  'age': '20',\n",
       "  'email': 'h@h.com',\n",
       "  'address': '서울시 관악구',\n",
       "  'job': None},\n",
       " {'name': '신길동',\n",
       "  'age': '40',\n",
       "  'email': 's@h.com',\n",
       "  'address': '서울시 영등포구',\n",
       "  'job': '팀장'},\n",
       " {'name': '김길동',\n",
       "  'age': '30',\n",
       "  'email': 'k@h.com',\n",
       "  'address': '서울시 동작구',\n",
       "  'job': None}]"
      ]
     },
     "execution_count": 44,
     "metadata": {},
     "output_type": "execute_result"
    }
   ],
   "source": [
    "import  csv\n",
    "# header가 있는 csv파일을 딕셔너리로 읽기(ch09_member3.csv)\n",
    "with open('data/ch09_member3.csv','r', encoding='utf-8') as f:\n",
    "    dict_reader = csv.DictReader(f)\n",
    "    result = list(dict_reader)\n",
    "result"
   ]
  },
  {
   "cell_type": "code",
   "execution_count": 45,
   "id": "25f87c16",
   "metadata": {},
   "outputs": [
    {
     "name": "stdout",
     "output_type": "stream",
     "text": [
      "{'name': '홍길동', 'age': '20', 'email': 'h@h.com', 'address': '서울시 관악구', 'job': '없음'}\n",
      "{'name': '신길동', 'age': '40', 'email': 's@h.com', 'address': '서울시 영등포구', 'job': '팀장'}\n",
      "{'name': '김길동', 'age': '30', 'email': 'k@h.com', 'address': '서울시 동작구', 'job': '없음'}\n"
     ]
    }
   ],
   "source": [
    "import  csv\n",
    "# header가 있는 csv파일을 딕셔너리로 읽기(ch09_member3.csv)\n",
    "with open('data/ch09_member3.csv','r', encoding='utf-8') as f:\n",
    "    dict_reader = csv.DictReader(f,restval=\"없음\")\n",
    "    for row in dict_reader:\n",
    "        print(row)"
   ]
  },
  {
   "cell_type": "markdown",
   "id": "c1e6cb1e",
   "metadata": {},
   "source": [
    "### *csv파일을 <font color=red >데이터프레임</font> 데이터로 읽기"
   ]
  },
  {
   "cell_type": "code",
   "execution_count": 46,
   "id": "41b1c6f7",
   "metadata": {},
   "outputs": [
    {
     "data": {
      "text/html": [
       "<div>\n",
       "<style scoped>\n",
       "    .dataframe tbody tr th:only-of-type {\n",
       "        vertical-align: middle;\n",
       "    }\n",
       "\n",
       "    .dataframe tbody tr th {\n",
       "        vertical-align: top;\n",
       "    }\n",
       "\n",
       "    .dataframe thead th {\n",
       "        text-align: right;\n",
       "    }\n",
       "</style>\n",
       "<table border=\"1\" class=\"dataframe\">\n",
       "  <thead>\n",
       "    <tr style=\"text-align: right;\">\n",
       "      <th></th>\n",
       "      <th>name</th>\n",
       "      <th>age</th>\n",
       "      <th>email</th>\n",
       "      <th>address</th>\n",
       "      <th>job</th>\n",
       "    </tr>\n",
       "  </thead>\n",
       "  <tbody>\n",
       "    <tr>\n",
       "      <th>0</th>\n",
       "      <td>홍길동</td>\n",
       "      <td>20</td>\n",
       "      <td>h@h.com</td>\n",
       "      <td>서울시 관악구</td>\n",
       "      <td>NaN</td>\n",
       "    </tr>\n",
       "    <tr>\n",
       "      <th>1</th>\n",
       "      <td>신길동</td>\n",
       "      <td>40</td>\n",
       "      <td>s@h.com</td>\n",
       "      <td>서울시 영등포구</td>\n",
       "      <td>팀장</td>\n",
       "    </tr>\n",
       "    <tr>\n",
       "      <th>2</th>\n",
       "      <td>김길동</td>\n",
       "      <td>30</td>\n",
       "      <td>k@h.com</td>\n",
       "      <td>서울시 동작구</td>\n",
       "      <td>NaN</td>\n",
       "    </tr>\n",
       "  </tbody>\n",
       "</table>\n",
       "</div>"
      ],
      "text/plain": [
       "  name  age    email   address  job\n",
       "0  홍길동   20  h@h.com   서울시 관악구  NaN\n",
       "1  신길동   40  s@h.com  서울시 영등포구   팀장\n",
       "2  김길동   30  k@h.com   서울시 동작구  NaN"
      ]
     },
     "execution_count": 46,
     "metadata": {},
     "output_type": "execute_result"
    }
   ],
   "source": [
    "#csv파일을 데이터프레임 데이터로 읽기\n",
    "import pandas as pd  # pandas는 utf-8이 기본인코딩방식\n",
    "members = pd.read_csv('data/ch09_member3.csv') #기본인코딩방식이 encoding='utf-8'\n",
    "members"
   ]
  },
  {
   "cell_type": "code",
   "execution_count": 47,
   "id": "8d2d1c8f",
   "metadata": {},
   "outputs": [
    {
     "data": {
      "text/plain": [
       "pandas.core.frame.DataFrame"
      ]
     },
     "execution_count": 47,
     "metadata": {},
     "output_type": "execute_result"
    }
   ],
   "source": [
    "type(members)"
   ]
  },
  {
   "cell_type": "code",
   "execution_count": 48,
   "id": "fbbb4b93",
   "metadata": {},
   "outputs": [
    {
     "data": {
      "text/html": [
       "<div>\n",
       "<style scoped>\n",
       "    .dataframe tbody tr th:only-of-type {\n",
       "        vertical-align: middle;\n",
       "    }\n",
       "\n",
       "    .dataframe tbody tr th {\n",
       "        vertical-align: top;\n",
       "    }\n",
       "\n",
       "    .dataframe thead th {\n",
       "        text-align: right;\n",
       "    }\n",
       "</style>\n",
       "<table border=\"1\" class=\"dataframe\">\n",
       "  <thead>\n",
       "    <tr style=\"text-align: right;\">\n",
       "      <th></th>\n",
       "      <th>name</th>\n",
       "      <th>age</th>\n",
       "      <th>email</th>\n",
       "      <th>address</th>\n",
       "      <th>job</th>\n",
       "    </tr>\n",
       "  </thead>\n",
       "  <tbody>\n",
       "    <tr>\n",
       "      <th>0</th>\n",
       "      <td>홍길동</td>\n",
       "      <td>20</td>\n",
       "      <td>h@h.com</td>\n",
       "      <td>서울시 관악구</td>\n",
       "      <td>None</td>\n",
       "    </tr>\n",
       "    <tr>\n",
       "      <th>1</th>\n",
       "      <td>신길동</td>\n",
       "      <td>40</td>\n",
       "      <td>s@h.com</td>\n",
       "      <td>서울시 영등포구</td>\n",
       "      <td>팀장</td>\n",
       "    </tr>\n",
       "    <tr>\n",
       "      <th>2</th>\n",
       "      <td>김길동</td>\n",
       "      <td>30</td>\n",
       "      <td>k@h.com</td>\n",
       "      <td>서울시 동작구</td>\n",
       "      <td>None</td>\n",
       "    </tr>\n",
       "  </tbody>\n",
       "</table>\n",
       "</div>"
      ],
      "text/plain": [
       "  name age    email   address   job\n",
       "0  홍길동  20  h@h.com   서울시 관악구  None\n",
       "1  신길동  40  s@h.com  서울시 영등포구    팀장\n",
       "2  김길동  30  k@h.com   서울시 동작구  None"
      ]
     },
     "execution_count": 48,
     "metadata": {},
     "output_type": "execute_result"
    }
   ],
   "source": [
    "pd.DataFrame(data=result)"
   ]
  },
  {
   "cell_type": "markdown",
   "id": "60a4c38c",
   "metadata": {},
   "source": [
    "###  *header가 없을 시"
   ]
  },
  {
   "cell_type": "code",
   "execution_count": 50,
   "id": "6bdeff1d",
   "metadata": {},
   "outputs": [
    {
     "name": "stdout",
     "output_type": "stream",
     "text": [
      "{'Name': '홍길동', 'Age': '20', 'Email': 'kildong@hong.com', 'Address': '서울시 관악구', 'Job': ''}\n",
      "{'Name': '김길동', 'Age': '40', 'Email': 'kimdong@hong.com', 'Address': '서울시 영등포구', 'Job': '팀장'}\n",
      "{'Name': '신길동', 'Age': '30', 'Email': 'sindong@hong.com', 'Address': '서울시 동작구', 'Job': ''}\n"
     ]
    }
   ],
   "source": [
    "# header가 없는 csv파일을 딕셔너리 데이터로 읽기(ch09_member1-cp.csv)\n",
    "with open('data/ch09_member1-cp.csv','r') as f:\n",
    "    dict_reader = csv.DictReader(f,fieldnames=['Name','Age','Email','Address','Job'])  # header지정 fieldnames=\n",
    "    for row in dict_reader:\n",
    "        print(row)"
   ]
  },
  {
   "cell_type": "code",
   "execution_count": 52,
   "id": "7d9f4a38",
   "metadata": {},
   "outputs": [
    {
     "name": "stdout",
     "output_type": "stream",
     "text": [
      "{'Name': '홍길동', 'Age': '20', 'Email': 'kildong@hong.com', 'Address': '서울시 관악구', 'Job': ['']}\n",
      "{'Name': '김길동', 'Age': '40', 'Email': 'kimdong@hong.com', 'Address': '서울시 영등포구', 'Job': ['팀장']}\n",
      "{'Name': '신길동', 'Age': '30', 'Email': 'sindong@hong.com', 'Address': '서울시 동작구', 'Job': ['']}\n"
     ]
    }
   ],
   "source": [
    "# header가 없는 csv파일을 딕셔너리 데이터로 읽기(ch09_member1-cp.csv)\n",
    "with open('data/ch09_member1-cp.csv','r') as f:\n",
    "    dict_reader = csv.DictReader(f,fieldnames=['Name','Age','Email','Address'],restkey='Job')  \n",
    "    for row in dict_reader:\n",
    "        print(row)"
   ]
  },
  {
   "cell_type": "markdown",
   "id": "d11f7b23",
   "metadata": {},
   "source": [
    "## 3.4 DictWriter\n",
    "\n",
    "- 딕셔너리 데이터(딕셔너리 list)를 csv파일로 쓰기"
   ]
  },
  {
   "cell_type": "code",
   "execution_count": 53,
   "id": "66200f31",
   "metadata": {},
   "outputs": [
    {
     "data": {
      "text/plain": [
       "[{'Name': '신길동', 'Age': '30', 'Email': 'sg@hong.com', 'Address': '서울'},\n",
       " {'Name': '홍길동', 'Age': '20', 'Email': 'ho@hong.com', 'Address': '수원'},\n",
       " {'Name': '마길동', 'Age': '25', 'Email': 'ma@hong.com', 'Address': '안양'}]"
      ]
     },
     "execution_count": 53,
     "metadata": {},
     "output_type": "execute_result"
    }
   ],
   "source": [
    "user1={'Name': '신길동', 'Age': '30', 'Email': 'sg@hong.com', 'Address': '서울'}\n",
    "user2={'Name': '홍길동', 'Age': '20', 'Email': 'ho@hong.com', 'Address': '수원'}\n",
    "user3={'Name': '마길동', 'Age': '25', 'Email': 'ma@hong.com', 'Address': '안양'}\n",
    "user_list=[user1,user2,user3]\n",
    "user_list"
   ]
  },
  {
   "cell_type": "code",
   "execution_count": 57,
   "id": "a1ae250b",
   "metadata": {},
   "outputs": [
    {
     "data": {
      "text/plain": [
       "['Name', 'Age', 'Email', 'Address']"
      ]
     },
     "execution_count": 57,
     "metadata": {},
     "output_type": "execute_result"
    }
   ],
   "source": [
    "fieldnames=list(user1.keys())\n",
    "fieldnames"
   ]
  },
  {
   "cell_type": "code",
   "execution_count": 60,
   "id": "e0a4e402",
   "metadata": {},
   "outputs": [],
   "source": [
    "with open('data/ch09_member4.csv','w',encoding='utf-8',newline='') as f:\n",
    "    dict_writer = csv.DictWriter(f,fieldnames=fieldnames)\n",
    "    dict_writer.writeheader() # header 한줄 쓰기\n",
    "#     for row in user_list:\n",
    "#         dict_writer.writerow(user)\n",
    "    dict_writer.writerows(user_list)"
   ]
  },
  {
   "cell_type": "markdown",
   "id": "9e4d6241",
   "metadata": {},
   "source": [
    "# 4절 JSON파일에 저장하고 불러오기(dump,load)\n",
    "```\n",
    "     [{'title':'국가정보원 화재','url':'http://~','content':\"무시기무기시~\"},\n",
    "      {'title':'국가정보원 화재','url':'http://~','content':\"무시기무기시~\"},\n",
    "      {'title':'국가정보원 화재','url':'http://~','content':\"무시기무기시~\"}]\n",
    "```\n",
    "##  4.1 JSON dump(파일에 저장)\n",
    "```\n",
    "(1). 딕셔너리 list를 json파일로 저장\n",
    "(2). 객체 list를 json파일로 저장 ( 객체를 딕셔너리로 바꾸는 함수가 필요)\n",
    "```\n"
   ]
  },
  {
   "cell_type": "markdown",
   "id": "d3ba8323",
   "metadata": {},
   "source": [
    "### (1). 딕셔너리 list를 json파일로 저장"
   ]
  },
  {
   "cell_type": "code",
   "execution_count": 6,
   "id": "41c48b1e",
   "metadata": {},
   "outputs": [
    {
     "data": {
      "text/plain": [
       "[{'Name': '신길동', 'Age': 30, 'Email': 'sg@hong.com', 'Address': '서울'},\n",
       " {'Name': '홍길동', 'Age': 20, 'Email': 'ho@hong.com', 'Address': '수원'},\n",
       " {'Name': '마길동', 'Age': 25, 'Email': 'ma@hong.com', 'Address': '안양'}]"
      ]
     },
     "execution_count": 6,
     "metadata": {},
     "output_type": "execute_result"
    }
   ],
   "source": [
    "data = [ {'Name': '신길동', 'Age': 30, 'Email': 'sg@hong.com', 'Address': '서울'},\n",
    "         {'Name': '홍길동', 'Age': 20, 'Email': 'ho@hong.com', 'Address': '수원'},\n",
    "         {'Name': '마길동', 'Age': 25, 'Email': 'ma@hong.com', 'Address': '안양'}]\n",
    "data"
   ]
  },
  {
   "cell_type": "markdown",
   "id": "68f7c380",
   "metadata": {},
   "source": [
    "### *ensure_ascii 옵션의 역할"
   ]
  },
  {
   "cell_type": "code",
   "execution_count": 7,
   "id": "95208a16",
   "metadata": {},
   "outputs": [],
   "source": [
    "# ensure_ascii 옵션의 역할 : ASCII 코드를 넘어선 문자를 어떻게 처리할지\n",
    "# 기본값(True) : ASCII 코드 범위를 넘어선 글자는 유니코드로 저장\n",
    "# False : 비ASCII 문자는 원래 형태로 그대로 저장\n",
    "import json\n",
    "with open('data/ch09_member1.json', 'w') as jsonfile:\n",
    "    json.dump(data, # 딕셔너리 리스트\n",
    "             jsonfile, # 파일 스트림\n",
    "             ensure_ascii=False, # 비ASCII 코드 문자 처리 여부\n",
    "             indent='  ') # 들여쓰기 여부"
   ]
  },
  {
   "cell_type": "markdown",
   "id": "aca6d9c6",
   "metadata": {},
   "source": [
    "### (2). 객체 list를 json파일로 저장( 객체를 딕셔너리로 바꾸는 함수가 필요)"
   ]
  },
  {
   "cell_type": "code",
   "execution_count": 2,
   "id": "c422c79c",
   "metadata": {},
   "outputs": [],
   "source": [
    "class Member:\n",
    "    def __init__(self,name, age, email, address):\n",
    "        self.name = name\n",
    "        self.age = age\n",
    "        self.email = email\n",
    "        self.address = address\n",
    "    def __str__(self):\n",
    "        return \"{},{},{},{}\".format(self.name,self.age, self.email, self.address)\n",
    "    def __eq__(self,other):\n",
    "        return self.__str__() == other.__str__()\n",
    "    def as_dict(self):\n",
    "        '객체를 딕셔너리로 바꿔 return(json파일 저장시 필요)'\n",
    "        return self.__dict__"
   ]
  },
  {
   "cell_type": "code",
   "execution_count": 3,
   "id": "7a33eaf2",
   "metadata": {},
   "outputs": [
    {
     "data": {
      "text/plain": [
       "['홍길동,30,h@h.com,서울', '마길동,25,h@h.com,하남', '박길동,35,h@h.com,대전']"
      ]
     },
     "execution_count": 3,
     "metadata": {},
     "output_type": "execute_result"
    }
   ],
   "source": [
    "member_list=[Member('홍길동',30,'h@h.com','서울'),\n",
    "             Member('마길동',25,'h@h.com','하남'),\n",
    "             Member('박길동',35,'h@h.com','대전')]\n",
    "[member.__str__() for member in member_list]"
   ]
  },
  {
   "cell_type": "code",
   "execution_count": 5,
   "id": "055161ae",
   "metadata": {},
   "outputs": [],
   "source": [
    "with open('data/ch09_member2.json','w',encoding='utf-8') as jsonfile:\n",
    "    json.dump(member_list,            #저장할 리스트(객체리스트)\n",
    "              jsonfile,\n",
    "              ensure_ascii=False,\n",
    "              indent='\\t',\n",
    "              default=Member.as_dict)  # 객체를 딕셔너리 형태로 return하는 함수"
   ]
  },
  {
   "cell_type": "markdown",
   "id": "91160730",
   "metadata": {},
   "source": [
    "##  4.2 JSON load(파일읽기)\n",
    "```\n",
    "    (1) json파일을 딕셔너리 리스트로 읽기\n",
    "    (2)json파일을 객체리스트로 읽기 (딕셔너리를 객체로 return 하는 함수가 필요)\n",
    "```\n",
    " "
   ]
  },
  {
   "cell_type": "markdown",
   "id": "203338d1",
   "metadata": {},
   "source": [
    "### (1) json파일을 딕셔너리 리스트로 읽기"
   ]
  },
  {
   "cell_type": "code",
   "execution_count": 8,
   "id": "81031048",
   "metadata": {},
   "outputs": [
    {
     "data": {
      "text/plain": [
       "[{'Name': '신길동', 'Age': 30, 'Email': 'sg@hong.com', 'Address': '서울'},\n",
       " {'Name': '홍길동', 'Age': 20, 'Email': 'ho@hong.com', 'Address': '수원'},\n",
       " {'Name': '마길동', 'Age': 25, 'Email': 'ma@hong.com', 'Address': '안양'}]"
      ]
     },
     "execution_count": 8,
     "metadata": {},
     "output_type": "execute_result"
    }
   ],
   "source": [
    "with open('data/ch09_member1.json','r') as jsonfile:\n",
    "    load_data = json.load(jsonfile)\n",
    "load_data"
   ]
  },
  {
   "cell_type": "code",
   "execution_count": 9,
   "id": "b6fc8e26",
   "metadata": {},
   "outputs": [
    {
     "data": {
      "text/plain": [
       "(list, dict)"
      ]
     },
     "execution_count": 9,
     "metadata": {},
     "output_type": "execute_result"
    }
   ],
   "source": [
    "type(load_data),type(load_data[0])"
   ]
  },
  {
   "cell_type": "markdown",
   "id": "24e51eaa",
   "metadata": {},
   "source": [
    "### (2)json파일을 객체리스트로 읽기 (딕셔너리를 객체로 return 하는 함수가 필요)"
   ]
  },
  {
   "cell_type": "code",
   "execution_count": 13,
   "id": "d1c412b8",
   "metadata": {},
   "outputs": [],
   "source": [
    "# {'name': '신길동', 'age': 30, 'email': 'sg@hong.com', 'address': '서울'} => Member('홍길동',30,'sg@hong.com','서울')\n",
    "def as_member(dic):\n",
    "#     return Member(dic['name'],dic['age'],dic['email'],dic['address'])\n",
    "    return Member(dic.get('name'),\n",
    "                  dic.get('age'),\n",
    "                  dic.get('email'),\n",
    "                  dic.get('address'))"
   ]
  },
  {
   "cell_type": "code",
   "execution_count": 16,
   "id": "d51197e6",
   "metadata": {},
   "outputs": [
    {
     "name": "stdout",
     "output_type": "stream",
     "text": [
      "홍길동,30,h@h.com,서울\n",
      "마길동,25,h@h.com,하남\n",
      "박길동,35,h@h.com,대전\n"
     ]
    }
   ],
   "source": [
    "with open('data/ch09_member2.json','r',encoding='utf-8') as jsonfile:\n",
    "    load_member_list = json.load(jsonfile,object_hook=as_member)\n",
    "for load_member in load_member_list: # 딕셔너리를 객체로 return 함수\n",
    "    print(load_member)"
   ]
  },
  {
   "cell_type": "code",
   "execution_count": 20,
   "id": "db57722b",
   "metadata": {},
   "outputs": [],
   "source": [
    "# member_list => ch09_member2.json => load_member_list\n",
    "# member_list와 load_member_list가 같은 내용인지 검사"
   ]
  },
  {
   "cell_type": "markdown",
   "id": "26bfdb07",
   "metadata": {},
   "source": [
    "### **<font color=red>두 객체 리스트의 모든 데이터가 일치하는 지 여부</font>"
   ]
  },
  {
   "cell_type": "code",
   "execution_count": 22,
   "id": "26ddddbf",
   "metadata": {},
   "outputs": [
    {
     "name": "stdout",
     "output_type": "stream",
     "text": [
      "두 객체 리스트의 모든 데이터가 일치하는 지 여부 :  True\n"
     ]
    }
   ],
   "source": [
    "result = []  # 비교결과(True/False)를 append\n",
    "for member, load_member in zip(member_list,load_member_list):\n",
    "    result.append(member==load_member)\n",
    "print('두 객체 리스트의 모든 데이터가 일치하는 지 여부 : ',all(result))"
   ]
  },
  {
   "cell_type": "markdown",
   "id": "06b85240",
   "metadata": {},
   "source": [
    "### <font color=red>**False인 곳의 index</font>가 궁금"
   ]
  },
  {
   "cell_type": "markdown",
   "id": "cadef552",
   "metadata": {},
   "source": [
    "#### *np.array"
   ]
  },
  {
   "cell_type": "code",
   "execution_count": 26,
   "id": "8bd76252",
   "metadata": {},
   "outputs": [
    {
     "data": {
      "text/plain": [
       "(array([3, 5], dtype=int64),)"
      ]
     },
     "execution_count": 26,
     "metadata": {},
     "output_type": "execute_result"
    }
   ],
   "source": [
    "# False인 곳의 index가 궁금\n",
    "import numpy as np\n",
    "result=np.array([True,True,True,False,True,False])\n",
    "#type(result)\n",
    "np.where(result == False)"
   ]
  },
  {
   "cell_type": "code",
   "execution_count": 29,
   "id": "abf254c1",
   "metadata": {},
   "outputs": [
    {
     "data": {
      "text/plain": [
       "{True}"
      ]
     },
     "execution_count": 29,
     "metadata": {},
     "output_type": "execute_result"
    }
   ],
   "source": [
    "# 확인만 할 경우 : set 유용\n",
    "result = set() #빈 셋 / {} :빈딕셔너리\n",
    "for member, load_member in zip(member_list,load_member_list):\n",
    "    result.add(member==load_member)\n",
    "result"
   ]
  },
  {
   "cell_type": "code",
   "execution_count": null,
   "id": "4d92c5bd",
   "metadata": {},
   "outputs": [],
   "source": []
  },
  {
   "cell_type": "code",
   "execution_count": null,
   "id": "7ef7bb40",
   "metadata": {},
   "outputs": [],
   "source": []
  },
  {
   "cell_type": "code",
   "execution_count": null,
   "id": "87c97917",
   "metadata": {},
   "outputs": [],
   "source": []
  },
  {
   "cell_type": "code",
   "execution_count": null,
   "id": "f2f3f404",
   "metadata": {},
   "outputs": [],
   "source": []
  },
  {
   "cell_type": "markdown",
   "id": "28844caf",
   "metadata": {},
   "source": [
    "# 연습문제"
   ]
  },
  {
   "cell_type": "markdown",
   "id": "99704a26",
   "metadata": {},
   "source": [
    "## 실습형"
   ]
  },
  {
   "cell_type": "code",
   "execution_count": null,
   "id": "8d34c526",
   "metadata": {},
   "outputs": [],
   "source": []
  },
  {
   "cell_type": "code",
   "execution_count": null,
   "id": "7b1e1bf6",
   "metadata": {},
   "outputs": [],
   "source": []
  },
  {
   "cell_type": "code",
   "execution_count": null,
   "id": "e42fe31f",
   "metadata": {},
   "outputs": [],
   "source": []
  },
  {
   "cell_type": "code",
   "execution_count": null,
   "id": "a66abda7",
   "metadata": {},
   "outputs": [],
   "source": []
  }
 ],
 "metadata": {
  "kernelspec": {
   "display_name": "Python 3 (ipykernel)",
   "language": "python",
   "name": "python3"
  },
  "language_info": {
   "codemirror_mode": {
    "name": "ipython",
    "version": 3
   },
   "file_extension": ".py",
   "mimetype": "text/x-python",
   "name": "python",
   "nbconvert_exporter": "python",
   "pygments_lexer": "ipython3",
   "version": "3.10.9"
  },
  "toc": {
   "base_numbering": 1,
   "nav_menu": {},
   "number_sections": false,
   "sideBar": true,
   "skip_h1_title": false,
   "title_cell": "Table of Contents",
   "title_sidebar": "Contents",
   "toc_cell": false,
   "toc_position": {
    "height": "calc(100% - 180px)",
    "left": "10px",
    "top": "150px",
    "width": "313.8px"
   },
   "toc_section_display": true,
   "toc_window_display": true
  }
 },
 "nbformat": 4,
 "nbformat_minor": 5
}
