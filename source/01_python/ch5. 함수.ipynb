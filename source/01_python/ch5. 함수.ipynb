{
 "cells": [
  {
   "cell_type": "code",
   "execution_count": 1,
   "id": "57bdfa43",
   "metadata": {},
   "outputs": [
    {
     "data": {
      "text/html": [
       "\n",
       "<style>\n",
       "div.container{width:90% !important;}\n",
       "div.cell.code_cell.rendered{width:100%;}\n",
       "div.input_prompt{padding:0px;}\n",
       "div.CodeMirror {font-family:Consolas; font-size:12pt;}\n",
       "div.text_cell_render.rendered_html{font-size:12pt;}\n",
       "div.output {font-size:12pt; font-weight:bold;}\n",
       "div.input {font-family:Consolas; font-size:12pt;}\n",
       "div.prompt {min-width:70px;}\n",
       "div#toc-wrapper{padding-top:120px;}\n",
       "div.text_cell_render ul li{font-size:12pt;padding:5px;}\n",
       "table.dataframe{font-size:12px;}\n",
       "</style>\n"
      ],
      "text/plain": [
       "<IPython.core.display.HTML object>"
      ]
     },
     "metadata": {},
     "output_type": "display_data"
    }
   ],
   "source": [
    "from IPython.display import display, HTML\n",
    "display(HTML(\"\"\"\n",
    "<style>\n",
    "div.container{width:90% !important;}\n",
    "div.cell.code_cell.rendered{width:100%;}\n",
    "div.input_prompt{padding:0px;}\n",
    "div.CodeMirror {font-family:Consolas; font-size:12pt;}\n",
    "div.text_cell_render.rendered_html{font-size:12pt;}\n",
    "div.output {font-size:12pt; font-weight:bold;}\n",
    "div.input {font-family:Consolas; font-size:12pt;}\n",
    "div.prompt {min-width:70px;}\n",
    "div#toc-wrapper{padding-top:120px;}\n",
    "div.text_cell_render ul li{font-size:12pt;padding:5px;}\n",
    "table.dataframe{font-size:12px;}\n",
    "</style>\n",
    "\"\"\"))"
   ]
  },
  {
   "cell_type": "markdown",
   "id": "e30ebac8",
   "metadata": {},
   "source": [
    "<b><font size=\"6\"  color=\"red\">ch05.함수 </font></b>\n",
    "- 반복해서 사용할 코드를 묶어놓고 그것에 이름을 붙인 것\n",
    "- 오버로딩 불가(같은 이름의 함수는 덮어씀)\n",
    "- 함수 정의\n",
    "```\n",
    "def 함수명([매개변수1,매개변수2,...]) :\n",
    "    명령어1\n",
    "    명령어2.....\n",
    "```\n",
    "\n",
    "# 1절 함수의 정의 및 사용\n",
    "## 1.1 함수정의"
   ]
  },
  {
   "cell_type": "code",
   "execution_count": 2,
   "id": "be0ce406",
   "metadata": {},
   "outputs": [],
   "source": [
    "def my_message(x,msg) : #msg를 x번 출력하는 함수 정의\n",
    "    for i in range(x):\n",
    "        print(i,msg)"
   ]
  },
  {
   "cell_type": "code",
   "execution_count": 3,
   "id": "64eca94b",
   "metadata": {},
   "outputs": [
    {
     "name": "stdout",
     "output_type": "stream",
     "text": [
      "0 Hello\n",
      "1 Hello\n",
      "2 Hello\n"
     ]
    }
   ],
   "source": [
    "#함수 사용 ==함수 호출\n",
    "my_message(3,'Hello')"
   ]
  },
  {
   "cell_type": "code",
   "execution_count": 4,
   "id": "2ec9d6e0",
   "metadata": {},
   "outputs": [
    {
     "name": "stdout",
     "output_type": "stream",
     "text": [
      "0 Hello\n",
      "1 Hello\n",
      "0 Python\n",
      "1 Python\n",
      "2 Python\n"
     ]
    }
   ],
   "source": [
    "# 함수 이름 변경\n",
    "my_msg=my_message\n",
    "my_message(2,'Hello')\n",
    "my_msg(3,'Python')"
   ]
  },
  {
   "cell_type": "code",
   "execution_count": 5,
   "id": "fd3106c1",
   "metadata": {},
   "outputs": [
    {
     "data": {
      "text/plain": [
       "(function, function)"
      ]
     },
     "execution_count": 5,
     "metadata": {},
     "output_type": "execute_result"
    }
   ],
   "source": [
    "type(my_message),type(my_message)"
   ]
  },
  {
   "cell_type": "code",
   "execution_count": 6,
   "id": "7a9583ae",
   "metadata": {},
   "outputs": [
    {
     "name": "stdout",
     "output_type": "stream",
     "text": [
      "Hello\n"
     ]
    },
    {
     "ename": "TypeError",
     "evalue": "'int' object is not callable",
     "output_type": "error",
     "traceback": [
      "\u001b[1;31m---------------------------------------------------------------------------\u001b[0m",
      "\u001b[1;31mTypeError\u001b[0m                                 Traceback (most recent call last)",
      "Cell \u001b[1;32mIn[6], line 3\u001b[0m\n\u001b[0;32m      1\u001b[0m \u001b[38;5;28mprint\u001b[39m(\u001b[38;5;124m'\u001b[39m\u001b[38;5;124mHello\u001b[39m\u001b[38;5;124m'\u001b[39m) \u001b[38;5;66;03m#파이썬 내장 함수(impport하지 않고 사용할 수 있는 함수)\u001b[39;00m\n\u001b[0;32m      2\u001b[0m \u001b[38;5;28mprint\u001b[39m\u001b[38;5;241m=\u001b[39m\u001b[38;5;241m5\u001b[39m\n\u001b[1;32m----> 3\u001b[0m \u001b[38;5;28;43mprint\u001b[39;49m\u001b[43m(\u001b[49m\u001b[38;5;124;43m'\u001b[39;49m\u001b[38;5;124;43mHello\u001b[39;49m\u001b[38;5;124;43m'\u001b[39;49m\u001b[43m)\u001b[49m\n",
      "\u001b[1;31mTypeError\u001b[0m: 'int' object is not callable"
     ]
    }
   ],
   "source": [
    "print('Hello') #파이썬 내장 함수(impport하지 않고 사용할 수 있는 함수)\n",
    "print=5\n",
    "print('Hello')\n"
   ]
  },
  {
   "cell_type": "code",
   "execution_count": 7,
   "id": "0818cd76",
   "metadata": {},
   "outputs": [
    {
     "name": "stdout",
     "output_type": "stream",
     "text": [
      "Hello\n"
     ]
    }
   ],
   "source": [
    "del print\n",
    "print('Hello')"
   ]
  },
  {
   "cell_type": "code",
   "execution_count": 8,
   "id": "42284e85",
   "metadata": {},
   "outputs": [
    {
     "name": "stdout",
     "output_type": "stream",
     "text": [
      "0 Hello\n",
      "1 Hello\n"
     ]
    }
   ],
   "source": [
    "my_message(2,'Hello')"
   ]
  },
  {
   "cell_type": "code",
   "execution_count": 9,
   "id": "fc6b17e7",
   "metadata": {},
   "outputs": [
    {
     "name": "stdout",
     "output_type": "stream",
     "text": [
      "0 Hello\n",
      "1 Hello\n"
     ]
    }
   ],
   "source": [
    "my_message=5\n",
    "my_msg(2,'Hello')"
   ]
  },
  {
   "cell_type": "code",
   "execution_count": 10,
   "id": "55a6165b",
   "metadata": {},
   "outputs": [
    {
     "ename": "TypeError",
     "evalue": "'int' object is not callable",
     "output_type": "error",
     "traceback": [
      "\u001b[1;31m---------------------------------------------------------------------------\u001b[0m",
      "\u001b[1;31mTypeError\u001b[0m                                 Traceback (most recent call last)",
      "Cell \u001b[1;32mIn[10], line 1\u001b[0m\n\u001b[1;32m----> 1\u001b[0m \u001b[43mmy_message\u001b[49m\u001b[43m(\u001b[49m\u001b[38;5;241;43m2\u001b[39;49m\u001b[43m,\u001b[49m\u001b[38;5;124;43m'\u001b[39;49m\u001b[38;5;124;43mHello\u001b[39;49m\u001b[38;5;124;43m'\u001b[39;49m\u001b[43m)\u001b[49m\n",
      "\u001b[1;31mTypeError\u001b[0m: 'int' object is not callable"
     ]
    }
   ],
   "source": [
    "my_message(2,'Hello')"
   ]
  },
  {
   "cell_type": "code",
   "execution_count": 11,
   "id": "8256d608",
   "metadata": {},
   "outputs": [
    {
     "ename": "NameError",
     "evalue": "name 'my_message' is not defined",
     "output_type": "error",
     "traceback": [
      "\u001b[1;31m---------------------------------------------------------------------------\u001b[0m",
      "\u001b[1;31mNameError\u001b[0m                                 Traceback (most recent call last)",
      "Cell \u001b[1;32mIn[11], line 2\u001b[0m\n\u001b[0;32m      1\u001b[0m \u001b[38;5;28;01mdel\u001b[39;00m my_message \n\u001b[1;32m----> 2\u001b[0m \u001b[43mmy_message\u001b[49m(\u001b[38;5;241m2\u001b[39m,\u001b[38;5;124m'\u001b[39m\u001b[38;5;124mHello\u001b[39m\u001b[38;5;124m'\u001b[39m)\n",
      "\u001b[1;31mNameError\u001b[0m: name 'my_message' is not defined"
     ]
    }
   ],
   "source": [
    "del my_message \n",
    "my_message(2,'Hello')  # 변수 및 함수 제거하여도 사용자 정의 함수, 라이브러리 함수는 del하여도 사용불가"
   ]
  },
  {
   "cell_type": "code",
   "execution_count": 12,
   "id": "e8d5f6d1",
   "metadata": {},
   "outputs": [],
   "source": [
    "# 함수 중복 정의 불가(오버로딩 불가)\n",
    "def  my_hello():\n",
    "    print('Hello Python')\n",
    "    print('Hello world')\n",
    "def my_hello(cnt): #cnt번 출력\n",
    "    for i in range(cnt):\n",
    "            print('Hello, Python',end='\\t')\n",
    "            print('Hello,World')\n",
    "# 파이썬은 오버로딩이 되지 않음. 중복 정의가 안됨.            "
   ]
  },
  {
   "cell_type": "code",
   "execution_count": 13,
   "id": "84ae4358",
   "metadata": {},
   "outputs": [
    {
     "ename": "TypeError",
     "evalue": "my_hello() missing 1 required positional argument: 'cnt'",
     "output_type": "error",
     "traceback": [
      "\u001b[1;31m---------------------------------------------------------------------------\u001b[0m",
      "\u001b[1;31mTypeError\u001b[0m                                 Traceback (most recent call last)",
      "Cell \u001b[1;32mIn[13], line 1\u001b[0m\n\u001b[1;32m----> 1\u001b[0m \u001b[43mmy_hello\u001b[49m\u001b[43m(\u001b[49m\u001b[43m)\u001b[49m\n",
      "\u001b[1;31mTypeError\u001b[0m: my_hello() missing 1 required positional argument: 'cnt'"
     ]
    }
   ],
   "source": [
    "my_hello()"
   ]
  },
  {
   "cell_type": "code",
   "execution_count": 14,
   "id": "d16d8f63",
   "metadata": {},
   "outputs": [
    {
     "name": "stdout",
     "output_type": "stream",
     "text": [
      "Hello, Python\tHello,World\n",
      "Hello, Python\tHello,World\n"
     ]
    }
   ],
   "source": [
    "my_hello(2)"
   ]
  },
  {
   "cell_type": "code",
   "execution_count": 15,
   "id": "b4bd9793",
   "metadata": {},
   "outputs": [
    {
     "data": {
      "text/plain": [
       "<function __main__.my_hello(cnt)>"
      ]
     },
     "execution_count": 15,
     "metadata": {},
     "output_type": "execute_result"
    }
   ],
   "source": [
    "my_hello"
   ]
  },
  {
   "cell_type": "code",
   "execution_count": 16,
   "id": "1459fbfe",
   "metadata": {},
   "outputs": [
    {
     "data": {
      "text/plain": [
       "'__main__'"
      ]
     },
     "execution_count": 16,
     "metadata": {},
     "output_type": "execute_result"
    }
   ],
   "source": [
    "__name__"
   ]
  },
  {
   "cell_type": "code",
   "execution_count": 17,
   "id": "506984f8",
   "metadata": {},
   "outputs": [
    {
     "name": "stdout",
     "output_type": "stream",
     "text": [
      "Hello, Python\tHello,World\n",
      "Hello, Python\tHello,World\n"
     ]
    }
   ],
   "source": [
    "if __name__ == '__main__':\n",
    "    my_hello(2)"
   ]
  },
  {
   "cell_type": "code",
   "execution_count": 18,
   "id": "b15ef32d",
   "metadata": {},
   "outputs": [],
   "source": [
    "import ch05 #ch05모듈이 해석되서 메모리 로드"
   ]
  },
  {
   "cell_type": "code",
   "execution_count": 19,
   "id": "6cda791e",
   "metadata": {},
   "outputs": [
    {
     "name": "stdout",
     "output_type": "stream",
     "text": [
      "ch05\n",
      "Hello, Python\tHello,World\n",
      "Hello, Python\tHello,World\n",
      "Hello, Python\tHello,World\n"
     ]
    }
   ],
   "source": [
    "ch05.my_hello(3)"
   ]
  },
  {
   "cell_type": "code",
   "execution_count": 20,
   "id": "16958bb1",
   "metadata": {},
   "outputs": [],
   "source": [
    "from ch05 import my_hello #ch05 모듈 안에 my_hello만 메모리로드"
   ]
  },
  {
   "cell_type": "code",
   "execution_count": 21,
   "id": "e0cfb45a",
   "metadata": {},
   "outputs": [
    {
     "name": "stdout",
     "output_type": "stream",
     "text": [
      "ch05\n",
      "Hello, Python\tHello,World\n",
      "Hello, Python\tHello,World\n",
      "Hello, Python\tHello,World\n"
     ]
    }
   ],
   "source": [
    "my_hello(3)"
   ]
  },
  {
   "cell_type": "markdown",
   "id": "6d78daeb",
   "metadata": {},
   "source": [
    "## 1.2 docstring"
   ]
  },
  {
   "cell_type": "code",
   "execution_count": 22,
   "id": "19704c60",
   "metadata": {},
   "outputs": [],
   "source": [
    "def my_function():\n",
    "    \"\"\"\n",
    "    함수의 첫 라인에 독스트링을 포함할 수 있다.\n",
    "    독스트링은 함수의 설명서를 달아주는 역할\n",
    "    주석보다 많은 기능(함수호출시 shift+tab으로 독스트링을 볼 수 있음)\n",
    "    \"\"\"\n",
    "    pass"
   ]
  },
  {
   "cell_type": "code",
   "execution_count": 23,
   "id": "3a21044d",
   "metadata": {},
   "outputs": [
    {
     "name": "stdout",
     "output_type": "stream",
     "text": [
      "\n",
      "    함수의 첫 라인에 독스트링을 포함할 수 있다.\n",
      "    독스트링은 함수의 설명서를 달아주는 역할\n",
      "    주석보다 많은 기능(함수호출시 shift+tab으로 독스트링을 볼 수 있음)\n",
      "    \n"
     ]
    }
   ],
   "source": [
    "print(my_function.__doc__)"
   ]
  },
  {
   "cell_type": "markdown",
   "id": "b1722adc",
   "metadata": {},
   "source": [
    "### *fibonacci 피보나치함수"
   ]
  },
  {
   "cell_type": "code",
   "execution_count": 24,
   "id": "1760afb7",
   "metadata": {},
   "outputs": [],
   "source": [
    "def fibonacci(n):\n",
    "    '''\n",
    "    매개변수로 들어온 n값 미만의 피보나치 수열을 출력하는 함수\n",
    "    ex. n=10 :0 1 1 2 3 5 8\n",
    "        n=100:0 1 1 2 3 5 8 13 21 34 55 89\n",
    "    '''\n",
    "    a,b=0,1  # 함수 내에 선언한 변수 : 지역변수(반:전역변수)\n",
    "    while a<n:\n",
    "        print(a,end=' ')\n",
    "        a,b = b,a+b\n",
    "    print() #개행"
   ]
  },
  {
   "cell_type": "code",
   "execution_count": 25,
   "id": "1485c17e",
   "metadata": {},
   "outputs": [
    {
     "name": "stdout",
     "output_type": "stream",
     "text": [
      "0 1 1 2 3 5 8 13 21 34 55 89 144 233 377 610 987 1597 2584 4181 6765 \n"
     ]
    }
   ],
   "source": [
    "fibonacci(10000)"
   ]
  },
  {
   "cell_type": "code",
   "execution_count": 26,
   "id": "475e6d63",
   "metadata": {},
   "outputs": [
    {
     "ename": "NameError",
     "evalue": "name 'a' is not defined",
     "output_type": "error",
     "traceback": [
      "\u001b[1;31m---------------------------------------------------------------------------\u001b[0m",
      "\u001b[1;31mNameError\u001b[0m                                 Traceback (most recent call last)",
      "Cell \u001b[1;32mIn[26], line 1\u001b[0m\n\u001b[1;32m----> 1\u001b[0m \u001b[43ma\u001b[49m,b\n",
      "\u001b[1;31mNameError\u001b[0m: name 'a' is not defined"
     ]
    }
   ],
   "source": [
    "a,b #지역변수는 함수 내에서만 사용가능"
   ]
  },
  {
   "cell_type": "markdown",
   "id": "e60a4008",
   "metadata": {},
   "source": [
    "## 1.3 지역변수(local var)와 전역변수(global var)"
   ]
  },
  {
   "cell_type": "code",
   "execution_count": 27,
   "id": "66d05ab8",
   "metadata": {},
   "outputs": [
    {
     "name": "stdout",
     "output_type": "stream",
     "text": [
      "함수안 : 100\n",
      "함수밖 : 100\n"
     ]
    }
   ],
   "source": [
    "global_var=100\n",
    "def func1():\n",
    "    print('함수안 :',global_var)\n",
    "func1()\n",
    "print('함수밖 :',global_var)"
   ]
  },
  {
   "cell_type": "code",
   "execution_count": 28,
   "id": "86a4d774",
   "metadata": {},
   "outputs": [
    {
     "name": "stdout",
     "output_type": "stream",
     "text": [
      "함수안 : 200\n"
     ]
    }
   ],
   "source": [
    "def func2():\n",
    "    local_var=200 #지역변수(함수 내에서 할당)\n",
    "    print('함수안 :',local_var)\n",
    "func2()"
   ]
  },
  {
   "cell_type": "code",
   "execution_count": 29,
   "id": "1d070f5e",
   "metadata": {},
   "outputs": [],
   "source": [
    "# print('함수밖에서 지역변수 :',local_var) #에러"
   ]
  },
  {
   "cell_type": "code",
   "execution_count": 30,
   "id": "347da7cd",
   "metadata": {},
   "outputs": [
    {
     "name": "stdout",
     "output_type": "stream",
     "text": [
      "지역변수 g_var : 200\n",
      "전역변수 g_var : 100\n"
     ]
    }
   ],
   "source": [
    "g_var=100 #전역변수\n",
    "def func3():\n",
    "    g_var=200 # 지역변수 (함수 내에서 할당)\n",
    "    print('지역변수 g_var :',g_var)\n",
    "func3()\n",
    "print('전역변수 g_var :',g_var)"
   ]
  },
  {
   "cell_type": "markdown",
   "id": "4d81e847",
   "metadata": {},
   "source": [
    "### *렉시컬 스코프 (Lexical Scope): \n",
    "- 변수의 유효 범위가 코드가 작성된 위치에 의해 결정되는 방식입니다. \n",
    "- 파이썬은 렉시컬 스코프를 따릅니다. 즉, 어떤 변수를 어디서 정의했는지에 따라 그 변수를 어디서 사용할 수 있는지가 결정됩니다."
   ]
  },
  {
   "cell_type": "code",
   "execution_count": 31,
   "id": "0b83f599",
   "metadata": {},
   "outputs": [
    {
     "ename": "UnboundLocalError",
     "evalue": "local variable 'g_var' referenced before assignment",
     "output_type": "error",
     "traceback": [
      "\u001b[1;31m---------------------------------------------------------------------------\u001b[0m",
      "\u001b[1;31mUnboundLocalError\u001b[0m                         Traceback (most recent call last)",
      "Cell \u001b[1;32mIn[31], line 6\u001b[0m\n\u001b[0;32m      4\u001b[0m     \u001b[38;5;28mprint\u001b[39m(\u001b[38;5;124m'\u001b[39m\u001b[38;5;124m지역변수 g_var :\u001b[39m\u001b[38;5;124m'\u001b[39m,g_var)\n\u001b[0;32m      5\u001b[0m     g_var\u001b[38;5;241m=\u001b[39m\u001b[38;5;241m200\u001b[39m \u001b[38;5;66;03m# 지역변수 (함수 내에서 할당)\u001b[39;00m\n\u001b[1;32m----> 6\u001b[0m \u001b[43mfunc3\u001b[49m\u001b[43m(\u001b[49m\u001b[43m)\u001b[49m\n\u001b[0;32m      7\u001b[0m \u001b[38;5;28mprint\u001b[39m(\u001b[38;5;124m'\u001b[39m\u001b[38;5;124m전역변수 g_var :\u001b[39m\u001b[38;5;124m'\u001b[39m,g_var)\n",
      "Cell \u001b[1;32mIn[31], line 4\u001b[0m, in \u001b[0;36mfunc3\u001b[1;34m()\u001b[0m\n\u001b[0;32m      3\u001b[0m \u001b[38;5;28;01mdef\u001b[39;00m \u001b[38;5;21mfunc3\u001b[39m():\n\u001b[1;32m----> 4\u001b[0m     \u001b[38;5;28mprint\u001b[39m(\u001b[38;5;124m'\u001b[39m\u001b[38;5;124m지역변수 g_var :\u001b[39m\u001b[38;5;124m'\u001b[39m,\u001b[43mg_var\u001b[49m)\n\u001b[0;32m      5\u001b[0m     g_var\u001b[38;5;241m=\u001b[39m\u001b[38;5;241m200\u001b[39m\n",
      "\u001b[1;31mUnboundLocalError\u001b[0m: local variable 'g_var' referenced before assignment"
     ]
    }
   ],
   "source": [
    "# 렉시컬 특성 : 변수가 어디서 선언되었는지에 따라 변수의 범위가 정해짐(지역vs전역)\n",
    "g_var=100 #전역변수\n",
    "def func3():\n",
    "    print('지역변수 g_var :',g_var)\n",
    "    g_var=200 # 지역변수 (함수 내에서 할당)\n",
    "func3()\n",
    "print('전역변수 g_var :',g_var)"
   ]
  },
  {
   "cell_type": "code",
   "execution_count": null,
   "id": "10b78b99",
   "metadata": {},
   "outputs": [],
   "source": []
  },
  {
   "cell_type": "code",
   "execution_count": 32,
   "id": "d6db84da",
   "metadata": {},
   "outputs": [
    {
     "name": "stdout",
     "output_type": "stream",
     "text": [
      "전역변수 g_var : 100\n",
      "전역변수 g_var : 200\n"
     ]
    }
   ],
   "source": [
    "#렉시컬 특성\n",
    "g_var=100 #전역변수\n",
    "def func3():\n",
    "    global g_var # 함수 내에서의 g_var는 전역변수를 쓰겠다\n",
    "    global g_var1\n",
    "    print('전역변수 g_var :', g_var)\n",
    "    g_var=200 # 전역변수 g_var에 200할당\n",
    "func3()\n",
    "print('전역변수 g_var :', g_var)"
   ]
  },
  {
   "cell_type": "markdown",
   "id": "d2115536",
   "metadata": {},
   "source": [
    "## 1.4 값에 의한 호출(Call by Value)\n",
    "- 함수에 인수로 전달되는 변수가 스칼라변수(문자,숫자,논리형)일 때\n",
    "- **변경 불가능(Immutable) 객체: 정수(int), 실수(float), 문자열(str), 튜플(tuple), frozenset 등"
   ]
  },
  {
   "cell_type": "code",
   "execution_count": 33,
   "id": "6597cbac",
   "metadata": {},
   "outputs": [
    {
     "data": {
      "text/plain": [
       "2964941596592"
      ]
     },
     "execution_count": 33,
     "metadata": {},
     "output_type": "execute_result"
    }
   ],
   "source": [
    "foo = 'a' #전역변수\n",
    "id(foo)"
   ]
  },
  {
   "cell_type": "code",
   "execution_count": 34,
   "id": "de57701c",
   "metadata": {},
   "outputs": [
    {
     "name": "stdout",
     "output_type": "stream",
     "text": [
      "Before : a 의 주소는  2964941596592\n",
      "After : aaa 의 주소는  2965049408880\n"
     ]
    }
   ],
   "source": [
    "def func1(f): #매개변수는 지역변수 \n",
    "    print('Before :',f,'의 주소는 ',id(f))\n",
    "    f = f*3\n",
    "    print('After :',f,'의 주소는 ',id(f))\n",
    "func1(foo)"
   ]
  },
  {
   "cell_type": "code",
   "execution_count": 35,
   "id": "1635d5f7",
   "metadata": {},
   "outputs": [
    {
     "name": "stdout",
     "output_type": "stream",
     "text": [
      "foo =  a 의 주소는  2964941596592\n"
     ]
    }
   ],
   "source": [
    "print('foo = ',foo,'의 주소는 ',id(foo))"
   ]
  },
  {
   "cell_type": "markdown",
   "id": "becea252",
   "metadata": {},
   "source": [
    "## 1.5 참조에 의한 호출(Call by Reference)\n",
    "- 함수에 인수로 전달되는 변수가 리스트, 튜플, 셋, 딕셔너리, 기차 객체일 경우\n",
    "- **변경 가능(Mutable) 객체: 리스트(list), 딕셔너리(dict), 셋(set), 사용자 정의 객체 등\n"
   ]
  },
  {
   "cell_type": "code",
   "execution_count": 36,
   "id": "7784083d",
   "metadata": {},
   "outputs": [
    {
     "data": {
      "text/plain": [
       "2965049615360"
      ]
     },
     "execution_count": 36,
     "metadata": {},
     "output_type": "execute_result"
    }
   ],
   "source": [
    "L=[1,2,3,4,5]\n",
    "id(L)"
   ]
  },
  {
   "cell_type": "code",
   "execution_count": 37,
   "id": "cb70e55c",
   "metadata": {},
   "outputs": [
    {
     "name": "stdout",
     "output_type": "stream",
     "text": [
      "Before : [1, 2, 3, 4, 5] 의 주소는  2965049615360\n",
      "After : [1, 2, 3, 4, 5, 6] 의 주소는  2965049615360\n"
     ]
    }
   ],
   "source": [
    "def func2(f): #매개변수는 지역변수\n",
    "    print('Before :',f,'의 주소는 ',id(f))\n",
    "    f.append(6)\n",
    "    print('After :',f,'의 주소는 ',id(f))\n",
    "func2(L)"
   ]
  },
  {
   "cell_type": "code",
   "execution_count": 38,
   "id": "395f60c5",
   "metadata": {},
   "outputs": [
    {
     "name": "stdout",
     "output_type": "stream",
     "text": [
      "L= [1, 2, 3, 4, 5, 6] 의 주소는 2965049615360\n"
     ]
    }
   ],
   "source": [
    "print('L=', L,'의 주소는',id(L))"
   ]
  },
  {
   "cell_type": "markdown",
   "id": "c1d30d51",
   "metadata": {},
   "source": [
    "# 2절. 함수의 실행결과를 반환하는 return"
   ]
  },
  {
   "cell_type": "markdown",
   "id": "9b666469",
   "metadata": {},
   "source": [
    "### ** return있는 피보나치 수열 출력함수"
   ]
  },
  {
   "cell_type": "code",
   "execution_count": 39,
   "id": "09a1955b",
   "metadata": {},
   "outputs": [],
   "source": [
    "def fibonacci_print(n):\n",
    "    '매개변수로 들어온 n값 미만의 피보나치 수열을 출력하는 함수'\n",
    "    a, b = 0, 1 # 함수 내에 선언한 변수 : 지역변수 (반:전역변수)\n",
    "    while a < n:\n",
    "        print(a, end=' ') # 출력\n",
    "        a, b = b, a+b\n",
    "    print() # 개행\n",
    "def fibonacci(n):\n",
    "    \"n미만의 피보나치수열을 리스트로 return\"\n",
    "    result = [] # 피보나치수열을 append할 리스트\n",
    "    a, b = 0, 1\n",
    "    while a<n:\n",
    "        result.append(a) # 리스트에 append\n",
    "        a, b = b, a+b\n",
    "    return result"
   ]
  },
  {
   "cell_type": "code",
   "execution_count": 40,
   "id": "f0032d88",
   "metadata": {},
   "outputs": [
    {
     "name": "stdout",
     "output_type": "stream",
     "text": [
      "[0, 1, 1, 2, 3, 5, 8]\n",
      "<class 'list'>\n"
     ]
    }
   ],
   "source": [
    "x=fibonacci(10)\n",
    "print(x)\n",
    "print(type(x))"
   ]
  },
  {
   "cell_type": "code",
   "execution_count": 42,
   "id": "13cff95f",
   "metadata": {},
   "outputs": [
    {
     "name": "stdout",
     "output_type": "stream",
     "text": [
      "x= [0, 1, 1, 2, 3, 5, 8]\n",
      "<class 'list'>\n"
     ]
    }
   ],
   "source": [
    "x = fibonacci(10)\n",
    "print('x=',x)\n",
    "print(type(x))"
   ]
  },
  {
   "cell_type": "markdown",
   "id": "b05adecb",
   "metadata": {},
   "source": [
    "### *여러 개 값  return\n",
    "- 여러 개의 갑을 갖는 튜플로 return"
   ]
  },
  {
   "cell_type": "code",
   "execution_count": 43,
   "id": "e8948b50",
   "metadata": {},
   "outputs": [],
   "source": [
    "def swap(a,b):\n",
    "    '매개변수의 순서를 바꿔서 return'\n",
    "    return b,a #return (b,a)"
   ]
  },
  {
   "cell_type": "code",
   "execution_count": 49,
   "id": "2caca7c4",
   "metadata": {},
   "outputs": [
    {
     "name": "stdout",
     "output_type": "stream",
     "text": [
      "함수 실행 전 x,y = 5 10\n",
      "<class 'tuple'>\n",
      "함수 실행 후 x,y = 10 5\n"
     ]
    }
   ],
   "source": [
    "# x,y=5,10\n",
    "x=5; y=10\n",
    "print('함수 실행 전 x,y =',x,y)\n",
    "x,y=swap(x,y)\n",
    "print(type(swap(x,y)))\n",
    "print('함수 실행 후 x,y =',x,y)"
   ]
  },
  {
   "cell_type": "markdown",
   "id": "14635fe5",
   "metadata": {},
   "source": [
    "# 3절 ★함수 매개변수★\n",
    "\n",
    "## 3.1 기본값을 갖는 매개변수"
   ]
  },
  {
   "cell_type": "code",
   "execution_count": 50,
   "id": "97dc11af",
   "metadata": {},
   "outputs": [],
   "source": [
    "def make_url(ip,port=80): #순서인수 > 기본값을 갖는 매개변수\n",
    "    return \"http://{}:{}\".format(ip,port)"
   ]
  },
  {
   "cell_type": "code",
   "execution_count": 53,
   "id": "2068851b",
   "metadata": {},
   "outputs": [
    {
     "name": "stdout",
     "output_type": "stream",
     "text": [
      "http://localhost:8090\n",
      "http://www.naver.com:80\n",
      "http://localhost:9090\n"
     ]
    }
   ],
   "source": [
    "print(make_url(\"localhost\",8090))\n",
    "print(make_url(\"www.naver.com\"))\n",
    "print(make_url(port=9090,ip=\"localhost\"))"
   ]
  },
  {
   "cell_type": "code",
   "execution_count": 54,
   "id": "1ebd2ce5",
   "metadata": {},
   "outputs": [
    {
     "ename": "SyntaxError",
     "evalue": "non-default argument follows default argument (2936105837.py, line 1)",
     "output_type": "error",
     "traceback": [
      "\u001b[1;36m  Cell \u001b[1;32mIn[54], line 1\u001b[1;36m\u001b[0m\n\u001b[1;33m    def make_url(port=80,ip):\u001b[0m\n\u001b[1;37m                         ^\u001b[0m\n\u001b[1;31mSyntaxError\u001b[0m\u001b[1;31m:\u001b[0m non-default argument follows default argument\n"
     ]
    }
   ],
   "source": [
    "#에러남 : 순서인수가 먼저 나오고 기본값을 갖는 인수가 나오지않고 반대로 되면 에러남.\n",
    "# def make_url(port=80,ip):\n",
    "#     return \"http://{}:{}\".format(ip,port)"
   ]
  },
  {
   "cell_type": "code",
   "execution_count": 56,
   "id": "eec08473",
   "metadata": {},
   "outputs": [],
   "source": [
    "def make_url(port=80,ip='localhost'):\n",
    "    return \"http://{}:{}\".format(ip,port)"
   ]
  },
  {
   "cell_type": "markdown",
   "id": "f5f1628a",
   "metadata": {},
   "source": [
    "## 3.2 기본변수를 (기본값으로) 갖는 매개변수\n",
    "- 기본변수가 스칼라변수(문자,숫자,논리형)일 때\n",
    "- 기본변수가 리스트, 셋, 딕셔너리, 기타 객체일 때"
   ]
  },
  {
   "cell_type": "code",
   "execution_count": 64,
   "id": "edb68ff2",
   "metadata": {},
   "outputs": [],
   "source": [
    "i=80\n",
    "# 기본변수가 스칼라변수일 때 : 함수가 정의되는 싯점으로 기본값 셋팅\n",
    "def make_url(ip,port=i):\n",
    "    return \"http://{}:{}\".format(ip,port)"
   ]
  },
  {
   "cell_type": "code",
   "execution_count": 63,
   "id": "aee98e64",
   "metadata": {},
   "outputs": [
    {
     "data": {
      "text/plain": [
       "'http://localhost:80'"
      ]
     },
     "execution_count": 63,
     "metadata": {},
     "output_type": "execute_result"
    }
   ],
   "source": [
    "i=999999\n",
    "make_url(\"localhost\")"
   ]
  },
  {
   "cell_type": "code",
   "execution_count": 1,
   "id": "693a678e",
   "metadata": {},
   "outputs": [
    {
     "name": "stdout",
     "output_type": "stream",
     "text": [
      "[10]\n"
     ]
    }
   ],
   "source": [
    "list_=[]\n",
    "#기본변수가 리스트, 셋, 딕셔너리, 다른 기타 객체일 때: 함수가 실행되는 싯점으로 기본값 세팅\n",
    "def func3(a,L=list_):\n",
    "    L.append(a)\n",
    "    return L\n",
    "print(func3(10))"
   ]
  },
  {
   "cell_type": "code",
   "execution_count": 2,
   "id": "85f588d8",
   "metadata": {},
   "outputs": [
    {
     "name": "stdout",
     "output_type": "stream",
     "text": [
      "[10, 20]\n"
     ]
    }
   ],
   "source": [
    "print(func3(20))"
   ]
  },
  {
   "cell_type": "code",
   "execution_count": 3,
   "id": "8f85ad2b",
   "metadata": {},
   "outputs": [
    {
     "name": "stdout",
     "output_type": "stream",
     "text": [
      "list_=  [10, 20]\n"
     ]
    }
   ],
   "source": [
    "print(\"list_= \",list_)"
   ]
  },
  {
   "cell_type": "code",
   "execution_count": 4,
   "id": "362ed215",
   "metadata": {},
   "outputs": [
    {
     "name": "stdout",
     "output_type": "stream",
     "text": [
      "[10, 20, 50]\n"
     ]
    }
   ],
   "source": [
    "print(func3(50))"
   ]
  },
  {
   "cell_type": "markdown",
   "id": "89e309d2",
   "metadata": {},
   "source": [
    "### *실행할 때마다 L을 공유하는게 싫으면"
   ]
  },
  {
   "cell_type": "code",
   "execution_count": 10,
   "id": "15f0e46a",
   "metadata": {},
   "outputs": [
    {
     "name": "stdout",
     "output_type": "stream",
     "text": [
      "[10]\n",
      "[10]\n",
      "[10]\n",
      "[1, 2, 3, 10]\n"
     ]
    }
   ],
   "source": [
    "#실행할 때마다 L을 공유하는게 싫으면 \n",
    "def func3(a,L=None):\n",
    "    if L is None:\n",
    "        L=[]\n",
    "    L.append(a)\n",
    "    return L\n",
    "print(func3(10))\n",
    "print(func3(10))\n",
    "print(func3(10))\n",
    "print(func3(10,[1,2,3]))"
   ]
  },
  {
   "cell_type": "code",
   "execution_count": 7,
   "id": "34bf6004",
   "metadata": {},
   "outputs": [
    {
     "name": "stdout",
     "output_type": "stream",
     "text": [
      "[20]\n"
     ]
    }
   ],
   "source": [
    "print(func3(20))"
   ]
  },
  {
   "cell_type": "markdown",
   "id": "ac7b96af",
   "metadata": {},
   "source": [
    "## 3.3 순서인수,키워드인수\n",
    "- 순서인수 : 함수에 정의된 순서대로 전달방식\n",
    "- 키워드인수 : 인수의 이름을 명시하는 방식\n",
    "- 함수 정의시 순서인수와 키워드인수가 같이 올 때는 <font size=\"6\"  color=\"red\">순서인수 > 키워드인수 순</font>으로 와야 함."
   ]
  },
  {
   "cell_type": "code",
   "execution_count": 11,
   "id": "ba062001",
   "metadata": {},
   "outputs": [],
   "source": [
    "def func3(a,L=None):\n",
    "    if L is None:\n",
    "        L=[]\n",
    "    L.append(a)\n",
    "    return L"
   ]
  },
  {
   "cell_type": "code",
   "execution_count": 13,
   "id": "d7159be6",
   "metadata": {},
   "outputs": [
    {
     "name": "stdout",
     "output_type": "stream",
     "text": [
      "[10]\n",
      "[10, 20]\n"
     ]
    }
   ],
   "source": [
    "lst=[]\n",
    "print(func3(10,lst))     #순서인수: 함수 정의된 순서대로 전달하는 방식\n",
    "print(func3(L=lst,a=20)) #키워드 인수 : 인수의 이름을 명시하여 전달하는 방식\n",
    "# print(func3(L=lst,20)) 순서인수가 뒤에 올때 단순 값만 적으면 에러남"
   ]
  },
  {
   "cell_type": "markdown",
   "id": "6cec2a67",
   "metadata": {},
   "source": [
    "## 3.4 튜플매개변수를 이용한 가변인수 설정\n",
    "- 가변인수 : 매개변수의 갯수가 가변\n",
    "- <font size=\"6\"  color=\"red\">파이썬은 함수의 중복정의(오버로딩)을 지원하지 않음</font>"
   ]
  },
  {
   "cell_type": "code",
   "execution_count": 19,
   "id": "2925c405",
   "metadata": {},
   "outputs": [],
   "source": [
    "#파이썬은 함수의 중복정의(오버로딩)을 지원하지 않음\n",
    "def add(a,b):\n",
    "    return  a+b\n",
    "def add(a,b,c):\n",
    "    return a+b+c"
   ]
  },
  {
   "cell_type": "code",
   "execution_count": 17,
   "id": "134d9651",
   "metadata": {},
   "outputs": [
    {
     "data": {
      "text/plain": [
       "10"
      ]
     },
     "execution_count": 17,
     "metadata": {},
     "output_type": "execute_result"
    }
   ],
   "source": [
    "파이썬은 함수의 중복정의(오버로딩)을 지원하지 않음add(3,5,2)"
   ]
  },
  {
   "cell_type": "code",
   "execution_count": 18,
   "id": "5a6687b7",
   "metadata": {},
   "outputs": [
    {
     "ename": "TypeError",
     "evalue": "add() missing 1 required positional argument: 'c'",
     "output_type": "error",
     "traceback": [
      "\u001b[1;31m---------------------------------------------------------------------------\u001b[0m",
      "\u001b[1;31mTypeError\u001b[0m                                 Traceback (most recent call last)",
      "Cell \u001b[1;32mIn[18], line 1\u001b[0m\n\u001b[1;32m----> 1\u001b[0m \u001b[43madd\u001b[49m\u001b[43m(\u001b[49m\u001b[38;5;241;43m3\u001b[39;49m\u001b[43m,\u001b[49m\u001b[38;5;241;43m5\u001b[39;49m\u001b[43m)\u001b[49m\n",
      "\u001b[1;31mTypeError\u001b[0m: add() missing 1 required positional argument: 'c'"
     ]
    }
   ],
   "source": [
    "add(3,5)"
   ]
  },
  {
   "cell_type": "markdown",
   "id": "3caef73d",
   "metadata": {},
   "source": [
    "### **<font size=\"3\"  color=\"red\">args앞에 * :  args가 튜플로 전달받는다.</font>"
   ]
  },
  {
   "cell_type": "code",
   "execution_count": 26,
   "id": "dfa9c6e1",
   "metadata": {},
   "outputs": [],
   "source": [
    "# args앞에 * :args가 튜플로 전달받는다.\n",
    "def add(*args):\n",
    "    #print('args=',args)\n",
    "    '전달받은 매개변수들의 합을 return. 매개변수가 없는 경우 0을 return'\n",
    "    sum = 0 # 누적변수\n",
    "    for num in args:\n",
    "        sum+=num # sum=sum+num\n",
    "    return sum"
   ]
  },
  {
   "cell_type": "code",
   "execution_count": 30,
   "id": "fc24bd67",
   "metadata": {},
   "outputs": [
    {
     "name": "stdout",
     "output_type": "stream",
     "text": [
      "0\n",
      "1\n",
      "4\n",
      "25\n"
     ]
    }
   ],
   "source": [
    "print(add())\n",
    "print(add(1))\n",
    "print(add(1,3))\n",
    "print(add(1,2,5,7,9,1))"
   ]
  },
  {
   "cell_type": "code",
   "execution_count": 31,
   "id": "31bc0843",
   "metadata": {},
   "outputs": [
    {
     "data": {
      "text/plain": [
       "'Python-Html/CSS-JavaScript-Oracle/MySQL'"
      ]
     },
     "execution_count": 31,
     "metadata": {},
     "output_type": "execute_result"
    }
   ],
   "source": [
    "subject=('Python','Html/CSS','JavaScript','DBMS')\n",
    "'-'.join(subject)"
   ]
  },
  {
   "cell_type": "markdown",
   "id": "85936e16",
   "metadata": {},
   "source": [
    "###  **튜플 매개변수와 일반매개변수가 같이 있을 때"
   ]
  },
  {
   "cell_type": "code",
   "execution_count": 35,
   "id": "b4f25b40",
   "metadata": {},
   "outputs": [],
   "source": [
    "# 튜플 매개변수와 일반매개변수가 같이 있을 때\n",
    "def concat(*subject,sep):\n",
    "    return sep.join(subject)"
   ]
  },
  {
   "cell_type": "code",
   "execution_count": 84,
   "id": "95363346",
   "metadata": {},
   "outputs": [
    {
     "data": {
      "text/plain": [
       "'Html/CSSPythonJavaScriptPythonDBMSPython-'"
      ]
     },
     "execution_count": 84,
     "metadata": {},
     "output_type": "execute_result"
    }
   ],
   "source": [
    "concat('Python','Html/CSS','JavaScript','DBMS','-')\n",
    "#에러"
   ]
  },
  {
   "cell_type": "code",
   "execution_count": 39,
   "id": "6d152634",
   "metadata": {},
   "outputs": [
    {
     "data": {
      "text/plain": [
       "'Python-Html/CSS-JavaScript-DBMS'"
      ]
     },
     "execution_count": 39,
     "metadata": {},
     "output_type": "execute_result"
    }
   ],
   "source": [
    "# 해결책1 :매개변수 이름ㅇ늘 지정해서 호출\n",
    "concat('Python','Html/CSS','JavaScript','DBMS',sep='-')"
   ]
  },
  {
   "cell_type": "code",
   "execution_count": 43,
   "id": "81b8e5eb",
   "metadata": {},
   "outputs": [
    {
     "name": "stdout",
     "output_type": "stream",
     "text": [
      "Python ~ Html/CSS ~ JavaScript ~ DBMS\n",
      "Python-Html/CSS-JavaScript-DBMS\n"
     ]
    }
   ],
   "source": [
    "# 해결책2 : 기본값을 갖는 키워드 인수 사용\n",
    "def concat(*subject, sep=' ~ '): #튜플매개변수 > 키워드인수\n",
    "    return sep.join(subject)\n",
    "print(concat('Python','Html/CSS','JavaScript','DBMS'))\n",
    "print(concat('Python','Html/CSS','JavaScript','DBMS',sep='-'))"
   ]
  },
  {
   "cell_type": "code",
   "execution_count": 44,
   "id": "aafd5ca0",
   "metadata": {},
   "outputs": [
    {
     "name": "stdout",
     "output_type": "stream",
     "text": [
      "python=web=js\n"
     ]
    }
   ],
   "source": [
    "print('python','web','js',sep='=')"
   ]
  },
  {
   "cell_type": "markdown",
   "id": "534ab1dd",
   "metadata": {},
   "source": [
    "### **<font size=\"3\"  color=\"red\">튜플 매개변수와 일반매개변수가 같이 있을 때 : sep을 순서인수로 앞으로 </font>"
   ]
  },
  {
   "cell_type": "code",
   "execution_count": 45,
   "id": "656783af",
   "metadata": {},
   "outputs": [],
   "source": [
    "# 해결책3 (추천) : sep을 순서인수로 앞으로 \n",
    "def concat(sep,*subject):\n",
    "    return sep.join(subject)"
   ]
  },
  {
   "cell_type": "code",
   "execution_count": 46,
   "id": "bb7ae64b",
   "metadata": {},
   "outputs": [
    {
     "data": {
      "text/plain": [
       "'Python~Web~DB~MLDL'"
      ]
     },
     "execution_count": 46,
     "metadata": {},
     "output_type": "execute_result"
    }
   ],
   "source": [
    "concat('~','Python','Web','DB','MLDL')"
   ]
  },
  {
   "cell_type": "markdown",
   "id": "bd8a1270",
   "metadata": {},
   "source": [
    "## 3.5 딕셔너리 매개변수\n",
    "- 딕셔너리 인수 : 여러개의 키워드 인수를 딕셔너리 형태로 받아서 가변인수로 처리"
   ]
  },
  {
   "cell_type": "code",
   "execution_count": 82,
   "id": "e2492234",
   "metadata": {},
   "outputs": [],
   "source": [
    "def func5(**args):\n",
    "    print(args)\n",
    "    print(type(args))\n",
    "    if not 'address' in args: # args에 address 키가 없으면 if문 True\n",
    "        # args['address']='서울시 관악구'\n",
    "        # args.update({'address':'서울시 관악구'})\n",
    "        args.update(address='서울시 관악구')\n",
    "    for key, value in args.items():\n",
    "        print(\"{} : {}\".format(key,value))"
   ]
  },
  {
   "cell_type": "code",
   "execution_count": 83,
   "id": "2362edd2",
   "metadata": {},
   "outputs": [
    {
     "name": "stdout",
     "output_type": "stream",
     "text": [
      "{'nam': '홍길동', 'age': 30, 'tel': '010-9999-9999'}\n",
      "<class 'dict'>\n",
      "nam : 홍길동\n",
      "age : 30\n",
      "tel : 010-9999-9999\n",
      "address : 서울시 관악구\n"
     ]
    }
   ],
   "source": [
    "func5(nam='홍길동',\n",
    "      age=30,\n",
    "      tel='010-9999-9999')"
   ]
  },
  {
   "cell_type": "code",
   "execution_count": 76,
   "id": "9c34fdbe",
   "metadata": {},
   "outputs": [],
   "source": [
    "def func5(**args): # args : 딕셔너리로 전달받음\n",
    "    print('이름 :',args.get('name','몰라'))\n",
    "    print('나이 :',args.get('age',30))\n",
    "    print('전화 :',args.get('tel','없음'))\n",
    "    print('주소 :',args.get('address','서울 관악'))"
   ]
  },
  {
   "cell_type": "code",
   "execution_count": 77,
   "id": "ec3bf38a",
   "metadata": {},
   "outputs": [
    {
     "name": "stdout",
     "output_type": "stream",
     "text": [
      "이름 : 몰라\n",
      "나이 : 30\n",
      "전화 : 010-9999-9999\n",
      "주소 : 서울 관악\n"
     ]
    }
   ],
   "source": [
    "func5(nam='홍길동',\n",
    "      age=30,\n",
    "      tel='010-9999-9999')"
   ]
  },
  {
   "cell_type": "markdown",
   "id": "2fd18450",
   "metadata": {},
   "source": [
    "## 3.6 함수 정의 시 매개변수의 순서\n",
    "- **순서: 순서인수 -> 튜플인수(*) -> 키워드인수(기본값) -> 딕셔너리인수(**)"
   ]
  },
  {
   "cell_type": "code",
   "execution_count": 87,
   "id": "e3f477f6",
   "metadata": {},
   "outputs": [],
   "source": [
    "# 순서인수 -> 튜플인수(*) -> 딕셔너리인수(**)\n",
    "def func6(a,b,*c,**d):\n",
    "    print('순서인수     a = ',a)\n",
    "    print('순서인수     b = ',b)\n",
    "    print('튜플인수     c = ',c)\n",
    "    print('딕셔너리인수 d = ',d)"
   ]
  },
  {
   "cell_type": "code",
   "execution_count": 89,
   "id": "cd64d765",
   "metadata": {},
   "outputs": [
    {
     "name": "stdout",
     "output_type": "stream",
     "text": [
      "순서인수     a =  10\n",
      "순서인수     b =  20\n",
      "튜플인수     c =  (1, 2, 3, 4, 5, 6, 7, 8, 9, 'a', 'b', True)\n",
      "딕셔너리인수 d =  {'name': '홍', 'age': 30, 'address': '신림'}\n"
     ]
    }
   ],
   "source": [
    "func6(10,20,1,2,3,4,5,6,7,8,9,'a','b',True,name='홍',age=30,address='신림')"
   ]
  },
  {
   "cell_type": "markdown",
   "id": "fa2c107c",
   "metadata": {},
   "source": [
    "###  ** 예제)매개변수의 순서"
   ]
  },
  {
   "cell_type": "code",
   "execution_count": 100,
   "id": "99bcc9dc",
   "metadata": {},
   "outputs": [],
   "source": [
    "# 순서인수 -> 튜플인수(*) -> 키워드인수(기본값) -> 딕셔너리인수(**)\n",
    "def func7(a,b,c,*d,e=10,**f):\n",
    "    print('순서인수               a = ',a)\n",
    "    print('순서인수               b = ',b)\n",
    "    print('순서인수               c = ',c)\n",
    "    print('튜플인수               d = ',d)\n",
    "    print('키워드인수(기본값 10)  e = ',e)\n",
    "    print('딕셔너리인수           f = ',f)"
   ]
  },
  {
   "cell_type": "code",
   "execution_count": 101,
   "id": "aff2f942",
   "metadata": {},
   "outputs": [
    {
     "name": "stdout",
     "output_type": "stream",
     "text": [
      "순서인수               a =  10\n",
      "순서인수               b =  20\n",
      "순서인수               c =  30\n",
      "튜플인수               d =  (1, 2, 3, 4, 5)\n",
      "키워드인수(기본값 10)  e =  100\n",
      "딕셔너리인수           f =  {'shape': 'rect', 'width': 20, 'height': 30}\n"
     ]
    }
   ],
   "source": [
    "func7(10,20,30,1,2,3,4,5,e=100,shape='rect',width=20, height=30)"
   ]
  },
  {
   "cell_type": "code",
   "execution_count": 102,
   "id": "9aa3c3c4",
   "metadata": {},
   "outputs": [
    {
     "name": "stdout",
     "output_type": "stream",
     "text": [
      "순서인수               a =  10\n",
      "순서인수               b =  20\n",
      "순서인수               c =  30\n",
      "튜플인수               d =  ()\n",
      "키워드인수(기본값 10)  e =  10\n",
      "딕셔너리인수           f =  {}\n"
     ]
    }
   ],
   "source": [
    "func7(10,20,30)"
   ]
  },
  {
   "cell_type": "code",
   "execution_count": 103,
   "id": "4603bc7f",
   "metadata": {},
   "outputs": [
    {
     "name": "stdout",
     "output_type": "stream",
     "text": [
      "순서인수               a =  10\n",
      "순서인수               b =  20\n",
      "순서인수               c =  30\n",
      "튜플인수               d =  ()\n",
      "키워드인수(기본값 10)  e =  100\n",
      "딕셔너리인수           f =  {}\n"
     ]
    }
   ],
   "source": [
    "func7(10,20,30,e=100)"
   ]
  },
  {
   "cell_type": "markdown",
   "id": "a299f951",
   "metadata": {},
   "source": [
    "## 3.7 인수의 언패킹\n",
    "\n",
    "### 튜플인수 언패킹\n",
    "- 언패킹  : 함수 호출 시 매개변수 앞에 *붙임\n",
    "- 패킹    : 함수 정의시 매개변수 앞에 *붙임(튜플매개변수"
   ]
  },
  {
   "cell_type": "code",
   "execution_count": 111,
   "id": "1f72e01b",
   "metadata": {},
   "outputs": [],
   "source": [
    "def add(*args):\n",
    "    sum = 0\n",
    "    for num in args:\n",
    "        sum+=num\n",
    "    return sum"
   ]
  },
  {
   "cell_type": "code",
   "execution_count": 112,
   "id": "7ffad65a",
   "metadata": {},
   "outputs": [
    {
     "data": {
      "text/plain": [
       "6"
      ]
     },
     "execution_count": 112,
     "metadata": {},
     "output_type": "execute_result"
    }
   ],
   "source": [
    "add(1,2,3)"
   ]
  },
  {
   "cell_type": "code",
   "execution_count": 113,
   "id": "1fa0253e",
   "metadata": {},
   "outputs": [
    {
     "data": {
      "text/plain": [
       "6"
      ]
     },
     "execution_count": 113,
     "metadata": {},
     "output_type": "execute_result"
    }
   ],
   "source": [
    "numbers = (1,2,3)\n",
    "add(*numbers)"
   ]
  },
  {
   "cell_type": "code",
   "execution_count": 109,
   "id": "fc09a6f7",
   "metadata": {},
   "outputs": [
    {
     "name": "stdout",
     "output_type": "stream",
     "text": [
      "(1, 2, 3)\n",
      "((1, 2, 3),)\n"
     ]
    }
   ],
   "source": [
    "# 참조\n",
    "def add(*args):\n",
    "    print(args)\n",
    "add(1,2,3)\n",
    "numbers=(1,2,3)\n",
    "add(numbers)"
   ]
  },
  {
   "cell_type": "markdown",
   "id": "7f3d30e1",
   "metadata": {},
   "source": [
    "### 딕셔너리 인수 언패킹"
   ]
  },
  {
   "cell_type": "code",
   "execution_count": 115,
   "id": "c9e32932",
   "metadata": {},
   "outputs": [],
   "source": [
    "def func8(**data):\n",
    "    print(data)\n",
    "    for item in data.items():\n",
    "        print(item)"
   ]
  },
  {
   "cell_type": "code",
   "execution_count": 116,
   "id": "f3ce8cd9",
   "metadata": {},
   "outputs": [
    {
     "name": "stdout",
     "output_type": "stream",
     "text": [
      "{'shape': 'rect', 'width': 40, 'height': 30}\n",
      "('shape', 'rect')\n",
      "('width', 40)\n",
      "('height', 30)\n"
     ]
    }
   ],
   "source": [
    "func8(shape='rect',width=40,height=30)"
   ]
  },
  {
   "cell_type": "code",
   "execution_count": 118,
   "id": "31dcfcf6",
   "metadata": {},
   "outputs": [
    {
     "ename": "TypeError",
     "evalue": "func8() takes 0 positional arguments but 1 was given",
     "output_type": "error",
     "traceback": [
      "\u001b[1;31m---------------------------------------------------------------------------\u001b[0m",
      "\u001b[1;31mTypeError\u001b[0m                                 Traceback (most recent call last)",
      "Cell \u001b[1;32mIn[118], line 2\u001b[0m\n\u001b[0;32m      1\u001b[0m info \u001b[38;5;241m=\u001b[39m {\u001b[38;5;124m'\u001b[39m\u001b[38;5;124mshape\u001b[39m\u001b[38;5;124m'\u001b[39m:\u001b[38;5;124m'\u001b[39m\u001b[38;5;124mrect\u001b[39m\u001b[38;5;124m'\u001b[39m,\u001b[38;5;124m'\u001b[39m\u001b[38;5;124mwidth\u001b[39m\u001b[38;5;124m'\u001b[39m:\u001b[38;5;241m40\u001b[39m,\u001b[38;5;124m'\u001b[39m\u001b[38;5;124mheight\u001b[39m\u001b[38;5;124m'\u001b[39m:\u001b[38;5;241m30\u001b[39m}\n\u001b[1;32m----> 2\u001b[0m \u001b[43mfunc8\u001b[49m\u001b[43m(\u001b[49m\u001b[43minfo\u001b[49m\u001b[43m)\u001b[49m\n",
      "\u001b[1;31mTypeError\u001b[0m: func8() takes 0 positional arguments but 1 was given"
     ]
    }
   ],
   "source": [
    "info = {'shape':'rect','width':40,'height':30}\n",
    "func8(info) #에러"
   ]
  },
  {
   "cell_type": "code",
   "execution_count": 119,
   "id": "8db3abf7",
   "metadata": {},
   "outputs": [
    {
     "name": "stdout",
     "output_type": "stream",
     "text": [
      "{'shape': 'rect', 'width': 40, 'height': 30}\n",
      "('shape', 'rect')\n",
      "('width', 40)\n",
      "('height', 30)\n"
     ]
    }
   ],
   "source": [
    "info = {'shape':'rect','width':40,'height':30}\n",
    "func8(**info)"
   ]
  },
  {
   "cell_type": "markdown",
   "id": "aa1b06e8",
   "metadata": {},
   "source": [
    "# 4절 람다식\n",
    "- return 한 줄짜리 작은 익명함수\n",
    "\n",
    "## 4.1 람다식 연습"
   ]
  },
  {
   "cell_type": "code",
   "execution_count": 2,
   "id": "1f691fbc",
   "metadata": {},
   "outputs": [
    {
     "name": "stdout",
     "output_type": "stream",
     "text": [
      "8\n",
      "<class 'function'>\n"
     ]
    }
   ],
   "source": [
    "def add(a,b):\n",
    "    return a+b\n",
    "print(add(3,5))\n",
    "print(type(add))"
   ]
  },
  {
   "cell_type": "code",
   "execution_count": 3,
   "id": "49c9f520",
   "metadata": {},
   "outputs": [
    {
     "name": "stdout",
     "output_type": "stream",
     "text": [
      "8\n",
      "<class 'function'>\n"
     ]
    }
   ],
   "source": [
    "add2 = lambda a,b : a+b\n",
    "print(add2(3,5))\n",
    "print(type(add2))"
   ]
  },
  {
   "cell_type": "code",
   "execution_count": 6,
   "id": "9f364763",
   "metadata": {},
   "outputs": [
    {
     "data": {
      "text/plain": [
       "('홀수', '짝수')"
      ]
     },
     "execution_count": 6,
     "metadata": {},
     "output_type": "execute_result"
    }
   ],
   "source": [
    "# ex1. 매개변수로 들어온 값이 짝수인지 홀수인지 return하는 함수를 람다식으로 만들어보세요\n",
    "def even_odd_chk(num):\n",
    "    if num%2:\n",
    "        result = \"홀수\"\n",
    "    else:\n",
    "        result = \"짝수\"\n",
    "    return result\n",
    "even_odd_chk(5),even_odd_chk(-4)"
   ]
  },
  {
   "cell_type": "code",
   "execution_count": 10,
   "id": "c4b3336d",
   "metadata": {},
   "outputs": [
    {
     "data": {
      "text/plain": [
       "('홀수', '짝수')"
      ]
     },
     "execution_count": 10,
     "metadata": {},
     "output_type": "execute_result"
    }
   ],
   "source": [
    "def even_odd_chk(num):\n",
    "    return \"홀수\" if num%2 else \"짝수\"\n",
    "even_odd_chk1 = lambda num:\"홀수\" if num%2 else \"짝수\"\n",
    "even_odd_chk(5),even_odd_chk1(-4)"
   ]
  },
  {
   "cell_type": "code",
   "execution_count": 17,
   "id": "7da8656f",
   "metadata": {},
   "outputs": [
    {
     "data": {
      "text/plain": [
       "2"
      ]
     },
     "execution_count": 17,
     "metadata": {},
     "output_type": "execute_result"
    }
   ],
   "source": [
    "# ex2. 두 매개변수의 차이를 return하는 함수를 람다식으로 만들어보세요.\n",
    "def diff(a,b):\n",
    "    if a-b>0:\n",
    "        result = a-b\n",
    "    else:\n",
    "        result = b-a\n",
    "    return result\n",
    "diff(3,5)"
   ]
  },
  {
   "cell_type": "code",
   "execution_count": 36,
   "id": "06a10b8b",
   "metadata": {},
   "outputs": [
    {
     "data": {
      "text/plain": [
       "2"
      ]
     },
     "execution_count": 36,
     "metadata": {},
     "output_type": "execute_result"
    }
   ],
   "source": [
    "def diff(a,b):\n",
    "    return a-b if a>b else b-a\n",
    "diff(3,5)"
   ]
  },
  {
   "cell_type": "code",
   "execution_count": 21,
   "id": "f06b5e9b",
   "metadata": {},
   "outputs": [
    {
     "data": {
      "text/plain": [
       "(4, 4)"
      ]
     },
     "execution_count": 21,
     "metadata": {},
     "output_type": "execute_result"
    }
   ],
   "source": [
    "diff = lambda a,b : a-b if a>b else b-a\n",
    "diff(5,1), diff(1,5)"
   ]
  },
  {
   "cell_type": "code",
   "execution_count": 24,
   "id": "2c84134d",
   "metadata": {},
   "outputs": [
    {
     "data": {
      "text/plain": [
       "(1000, 'negative')"
      ]
     },
     "execution_count": 24,
     "metadata": {},
     "output_type": "execute_result"
    }
   ],
   "source": [
    "# ex3. 매개변수를 잔액을 받아, 잔액이 양수면 잔액을 return, 음수면 'negative'를 return\n",
    "ex3 = lambda balance : balance if balance>=0 else 'negative'\n",
    "ex3(1000),ex3(-100)"
   ]
  },
  {
   "cell_type": "code",
   "execution_count": 31,
   "id": "4b704f53",
   "metadata": {},
   "outputs": [
    {
     "data": {
      "text/plain": [
       "('재시험', '유효하지않음')"
      ]
     },
     "execution_count": 31,
     "metadata": {},
     "output_type": "execute_result"
    }
   ],
   "source": [
    "# ex4. 점수를 입력받아 80점 이상은 'A팀' , 60점이상은 'B팀' , 60점 미만은 '재시험'\n",
    "    # 100점 초과,0점미만은 '유효하지 않음'을 return\n",
    "def levelChk(score):\n",
    "    if 80<=score<=100:\n",
    "        return 'A팀'\n",
    "    elif 60<=score<80:\n",
    "        return 'B팀'\n",
    "    elif 0<=score<60:\n",
    "        return '재시험'\n",
    "    else:\n",
    "        return '유효하지 않음'\n",
    "ex4 = lambda score : 'A팀' if 80<=score<=100 else \\\n",
    "                     'B팀' if 60<=score<80 else \\\n",
    "                     '재시험'  if 0<=score<60 else \\\n",
    "                    '유효하지않음'\n",
    "levelChk(8), ex4(160)"
   ]
  },
  {
   "cell_type": "code",
   "execution_count": 33,
   "id": "959b1dba",
   "metadata": {},
   "outputs": [
    {
     "data": {
      "text/plain": [
       "('D학점', '유효하지 않는 점수')"
      ]
     },
     "execution_count": 33,
     "metadata": {},
     "output_type": "execute_result"
    }
   ],
   "source": [
    "# 점수를 입력받아 학점을 return\n",
    "score_grade = lambda score :   \"A학점\" if 90<=score<=100 else \\\n",
    "                                \"B학점\" if 80<=score<=90 else \\\n",
    "                                \"C학점\" if 70<=score<=80 else \\\n",
    "                                \"D학점\" if 60<=score<=70 else \\\n",
    "                                \"F학점\" if 0<=score<=60 else \\\n",
    "                                \"유효하지 않는 점수\"\n",
    "score_grade(60),score_grade(120)\n"
   ]
  },
  {
   "cell_type": "code",
   "execution_count": 35,
   "id": "fc4db54e",
   "metadata": {},
   "outputs": [
    {
     "data": {
      "text/plain": [
       "(-1, 2)"
      ]
     },
     "execution_count": 35,
     "metadata": {},
     "output_type": "execute_result"
    }
   ],
   "source": [
    "# ex5 safe_index함수를 람다식으로\n",
    "def safe_index(lst,item,start=0):\n",
    "    \"\"\"\n",
    "    첫번째 매개변수   lst: 리스트, 튜플\n",
    "    두번째 매개변수  item: 리스트나 튜플에서 찾을 데이터\n",
    "    세번째 매개변수 start: 몇번째 index부터 찾을지 index수(기본값:0)\n",
    "    \"\"\"\n",
    "    return lst.index(item,start) if item in lst[start:] else -1\n",
    "#     if item in lst[start:]:\n",
    "#         return lst.index(item,start) #start번째부터 item이 있는 index를 반환\n",
    "#     else:\n",
    "#         return -1\n",
    "ex5= lambda lst,item,start=0 : lst.index(item,start) if item in lst[start:] else -1\n",
    "lst=[1,2,3]\n",
    "safe_index(lst,4),ex5(lst,3,1)"
   ]
  },
  {
   "cell_type": "code",
   "execution_count": 37,
   "id": "aa20afa5",
   "metadata": {},
   "outputs": [
    {
     "data": {
      "text/plain": [
       "[25, 15, 100, 4.0]"
      ]
     },
     "execution_count": 37,
     "metadata": {},
     "output_type": "execute_result"
    }
   ],
   "source": [
    "# 람다식을 list에 들어갈 수 있음\n",
    "add = lambda a,b : a+b\n",
    "sub = lambda a,b : a-b\n",
    "mul = lambda a,b : a*b\n",
    "div = lambda a,b : a/b if b else '두번째 인자가 0이면 못나눠요'\n",
    "operations = [add,sub,mul,div] # 사칙연산 함수들\n",
    "\n",
    "def act_operations(a,b,operations=operations): # a,b의 연산 결과를 return\n",
    "    result =[]\n",
    "    for op in operations:\n",
    "        result.append(op(a,b))\n",
    "    return result\n",
    "\n",
    "act_operations(20,5)\n",
    "    "
   ]
  },
  {
   "cell_type": "code",
   "execution_count": 40,
   "id": "dd4d2397",
   "metadata": {},
   "outputs": [
    {
     "data": {
      "text/plain": [
       "[64, 82]"
      ]
     },
     "execution_count": 40,
     "metadata": {},
     "output_type": "execute_result"
    }
   ],
   "source": [
    "act_operations(8,2,[lambda x,y:x**y, lambda x,y:10*x+y])"
   ]
  },
  {
   "cell_type": "code",
   "execution_count": 42,
   "id": "36937515",
   "metadata": {},
   "outputs": [
    {
     "data": {
      "text/plain": [
       "53"
      ]
     },
     "execution_count": 42,
     "metadata": {},
     "output_type": "execute_result"
    }
   ],
   "source": [
    "(lambda x,y:10*x+y)(5,3)"
   ]
  },
  {
   "cell_type": "code",
   "execution_count": 44,
   "id": "6fd747a0",
   "metadata": {},
   "outputs": [
    {
     "name": "stdout",
     "output_type": "stream",
     "text": [
      "5\n",
      "6\n"
     ]
    }
   ],
   "source": [
    "print(len(operations))\n",
    "operations.append(lambda x,y:x**y)\n",
    "print(len(operations))"
   ]
  },
  {
   "cell_type": "code",
   "execution_count": 45,
   "id": "fa41bd32",
   "metadata": {},
   "outputs": [
    {
     "data": {
      "text/plain": [
       "[10, 6, 16, 4.0, 64, 64]"
      ]
     },
     "execution_count": 45,
     "metadata": {},
     "output_type": "execute_result"
    }
   ],
   "source": [
    "act_operations(8,2) # 기본값을 갖는 변수(기본변수)가 리스트면 기본값을 호출할 싯점"
   ]
  },
  {
   "cell_type": "markdown",
   "id": "8b7fc352",
   "metadata": {},
   "source": [
    "## 4.2 함수의 매개변수(인수)에 람다식 사용\n",
    "\n",
    "- 람다식을 사용하는 곳 : 함수의 매개변수 > return문\n",
    "\n",
    "### (1) **map"
   ]
  },
  {
   "cell_type": "code",
   "execution_count": 50,
   "id": "3b2c7f87",
   "metadata": {},
   "outputs": [],
   "source": [
    "def map_template(func,L=[]):\n",
    "    result = []\n",
    "    for item in L:\n",
    "        result.append(item)\n",
    "    return result"
   ]
  },
  {
   "cell_type": "code",
   "execution_count": 49,
   "id": "26a993ec",
   "metadata": {},
   "outputs": [
    {
     "data": {
      "text/plain": [
       "[1, 2, 3]"
      ]
     },
     "execution_count": 49,
     "metadata": {},
     "output_type": "execute_result"
    }
   ],
   "source": [
    "map_template(lambda a:a,[1,2,3])"
   ]
  },
  {
   "cell_type": "code",
   "execution_count": 52,
   "id": "5b6c210d",
   "metadata": {},
   "outputs": [],
   "source": [
    "def map_template(func,L=[]):\n",
    "    result = []\n",
    "    for item in L:\n",
    "        result.append(func(item))\n",
    "    return result"
   ]
  },
  {
   "cell_type": "code",
   "execution_count": 53,
   "id": "82d9abe1",
   "metadata": {},
   "outputs": [
    {
     "data": {
      "text/plain": [
       "[2, 4, 6, 8, 10, 12, 14, 16, 18]"
      ]
     },
     "execution_count": 53,
     "metadata": {},
     "output_type": "execute_result"
    }
   ],
   "source": [
    "list_data=[1,2,3,4,5,6,7,8,9]\n",
    "def x_2(x):\n",
    "    return x*2\n",
    "map_template(x_2,list_data)"
   ]
  },
  {
   "cell_type": "code",
   "execution_count": 54,
   "id": "fde29018",
   "metadata": {},
   "outputs": [
    {
     "data": {
      "text/plain": [
       "[2, 4, 6, 8, 10, 12, 14, 16, 18]"
      ]
     },
     "execution_count": 54,
     "metadata": {},
     "output_type": "execute_result"
    }
   ],
   "source": [
    "list_data=[1,2,3,4,5,6,7,8,9]\n",
    "#def x_2(x):\n",
    "#    return x*2\n",
    "x_2=lambda x : x*2\n",
    "map_template(x_2,list_data)"
   ]
  },
  {
   "cell_type": "code",
   "execution_count": 55,
   "id": "1e9b2e23",
   "metadata": {},
   "outputs": [
    {
     "data": {
      "text/plain": [
       "[2, 4, 6, 8, 10, 12, 14, 16, 18]"
      ]
     },
     "execution_count": 55,
     "metadata": {},
     "output_type": "execute_result"
    }
   ],
   "source": [
    "map_template(lambda x:x*2,list_data)"
   ]
  },
  {
   "cell_type": "code",
   "execution_count": 56,
   "id": "2605446c",
   "metadata": {},
   "outputs": [
    {
     "data": {
      "text/plain": [
       "[2, 4, 6, 8, 10, 12, 14, 16, 18]"
      ]
     },
     "execution_count": 56,
     "metadata": {},
     "output_type": "execute_result"
    }
   ],
   "source": [
    "# 리스트 컴프리헨션\n",
    "[item *2 for item in list_data]"
   ]
  },
  {
   "cell_type": "code",
   "execution_count": 58,
   "id": "4b584f69",
   "metadata": {},
   "outputs": [
    {
     "data": {
      "text/plain": [
       "[2, 4, 6, 8, 10, 12, 14, 16, 18]"
      ]
     },
     "execution_count": 58,
     "metadata": {},
     "output_type": "execute_result"
    }
   ],
   "source": [
    "map(lambda x:x*2,list_data)\n",
    "list(map(lambda x:x*2,list_data))"
   ]
  },
  {
   "cell_type": "code",
   "execution_count": 59,
   "id": "daaa316d",
   "metadata": {},
   "outputs": [
    {
     "name": "stdout",
     "output_type": "stream",
     "text": [
      "2 4 6 8 10 12 14 16 18 "
     ]
    }
   ],
   "source": [
    "for data in map(lambda x:x*2,list_data):\n",
    "    print(data,end=' ')"
   ]
  },
  {
   "cell_type": "markdown",
   "id": "fb8ae3cd",
   "metadata": {},
   "source": [
    "### **<font size=\"2\"  color=\"red\">중요예제 </font>"
   ]
  },
  {
   "cell_type": "markdown",
   "id": "ae6f3e8d",
   "metadata": {},
   "source": [
    "#### 예제1"
   ]
  },
  {
   "cell_type": "code",
   "execution_count": 68,
   "id": "30fffe68",
   "metadata": {},
   "outputs": [
    {
     "name": "stdout",
     "output_type": "stream",
     "text": [
      "5000 5000 6000 1000 5000 5000 6000 1000 "
     ]
    }
   ],
   "source": [
    "'''\n",
    "예제 1. prices = ['5,000', '5000', '6,000', '1000','5,000', '5000', '6,000', '1000’]를 [5000,5000,6000,1000]식으로 바꾸시오\n",
    "'''\n",
    "prices = ['5,000','5000','6,000','1000','5,000','5000','6,000','1000']\n",
    "def toint(value):\n",
    "    return int(value.replace(',',''))\n",
    "toint('5,000'),toint('1000')\n",
    "prices_int = map(lambda value:int(value.replace(',','')),prices)\n",
    "for price in prices_int:\n",
    "    print(price,end = \" \")"
   ]
  },
  {
   "cell_type": "markdown",
   "id": "e0aaa4cb",
   "metadata": {},
   "source": [
    "#### 예제2"
   ]
  },
  {
   "cell_type": "code",
   "execution_count": null,
   "id": "baa2ce31",
   "metadata": {},
   "outputs": [],
   "source": [
    "''' 예제 2. members1을 members2로 변환하세요.\n",
    "\n",
    "members1 = [{'name':'홍길동', 'birth':'2000-01-01’},\n",
    "            {'name':'신길동', 'birth':'1995-12-18'},]를\n",
    "\n",
    "members2 = [\n",
    "{'name':'홍길동', 'year':2000, 'month':1,'day':1},\n",
    "{'name':'신길동', 'year':1995, 'month':12, 'day':18},] 변환\n",
    "'''\n"
   ]
  },
  {
   "cell_type": "code",
   "execution_count": 69,
   "id": "045b7d52",
   "metadata": {},
   "outputs": [
    {
     "name": "stdout",
     "output_type": "stream",
     "text": [
      "[{'name': '홍길동', 'birth': '2000-01-01'}, {'name': '신길동', 'birth': '1995-12-18'}]\n"
     ]
    }
   ],
   "source": [
    "members1 = [{'name':'홍길동', 'birth':'2000-01-01'},\n",
    "            {'name':'신길동', 'birth':'1995-12-18'},]\n",
    "print(members1)"
   ]
  },
  {
   "cell_type": "code",
   "execution_count": 81,
   "id": "8a8825d4",
   "metadata": {},
   "outputs": [
    {
     "data": {
      "text/plain": [
       "({'year': 2025, 'month': 1, 'day': 1}, {'year': 1995, 'month': 12, 'day': 12})"
      ]
     },
     "execution_count": 81,
     "metadata": {},
     "output_type": "execute_result"
    }
   ],
   "source": [
    "# '2000-01-01' => {'year':2000, 'month':1,'day':1}\n",
    "def split_date(date):\n",
    "    split_date = date.split('-')\n",
    "    return {\n",
    "        'year': int(split_date[0]),\n",
    "        'month':int(split_date[1]),\n",
    "        'day':int(split_date[2])\n",
    "    }\n",
    "split_date('2025-01-01'), split_date('1995-12-12')"
   ]
  },
  {
   "cell_type": "code",
   "execution_count": 82,
   "id": "a4b4fb52",
   "metadata": {},
   "outputs": [
    {
     "data": {
      "text/plain": [
       "({'year': 2025, 'month': 1, 'day': 1}, {'year': 1995, 'month': 12, 'day': 12})"
      ]
     },
     "execution_count": 82,
     "metadata": {},
     "output_type": "execute_result"
    }
   ],
   "source": [
    "def split_date(date):\n",
    "    return {\n",
    "        'year': int(date.split('-')[0]),\n",
    "        'month':int(date.split('-')[1]),\n",
    "        'day':int(date.split('-')[2])\n",
    "    }\n",
    "split_date('2025-01-01'), split_date('1995-12-12')"
   ]
  },
  {
   "cell_type": "code",
   "execution_count": 83,
   "id": "dad876b2",
   "metadata": {},
   "outputs": [
    {
     "data": {
      "text/plain": [
       "{'year': 2025, 'month': 1, 'day': 1}"
      ]
     },
     "execution_count": 83,
     "metadata": {},
     "output_type": "execute_result"
    }
   ],
   "source": [
    "# {'birth':'2025-01-01'} => {'year':2000, 'month':1,'day':1} \n",
    "def split_date(data):\n",
    "    return {\n",
    "        'year': int(data['birth'].split('-')[0]),\n",
    "        'month':int(data['birth'].split('-')[1]),\n",
    "        'day':int(data['birth'].split('-')[2])\n",
    "    }\n",
    "split_date({'birth':'2025-01-01'})"
   ]
  },
  {
   "cell_type": "code",
   "execution_count": 87,
   "id": "7dbd12e6",
   "metadata": {},
   "outputs": [
    {
     "data": {
      "text/plain": [
       "{'name': '홍길동', 'year': 2000, 'month': 1, 'day': 1}"
      ]
     },
     "execution_count": 87,
     "metadata": {},
     "output_type": "execute_result"
    }
   ],
   "source": [
    "# {'name':'홍길동', 'birth':'2000-01-01’} =>{'name':'홍길동', 'year':2000, 'month':1,'day':1}\n",
    "def member_preprocessing(member):\n",
    "    return{\n",
    "        'name'  : member.get('name','이름없음'), #member['이름없음']\n",
    "        'year'  : int(member.get('birth').split('-')[0]),\n",
    "        'month' : int(member.get('birth').split('-')[1]),\n",
    "        'day'   : int(member.get('birth').split('-')[2]),\n",
    "    }\n",
    "member_preprocessing({'name':'홍길동', 'birth':'2000-01-01'})"
   ]
  },
  {
   "cell_type": "code",
   "execution_count": 90,
   "id": "0b34659f",
   "metadata": {},
   "outputs": [
    {
     "data": {
      "text/plain": [
       "[{'name': '홍길동', 'year': 2000, 'month': 1, 'day': 1},\n",
       " {'name': '신길동', 'year': 1995, 'month': 12, 'day': 18}]"
      ]
     },
     "execution_count": 90,
     "metadata": {},
     "output_type": "execute_result"
    }
   ],
   "source": [
    "members2=list(map(lambda member:{\n",
    "                                'name'  : member.get('name','이름없음'), \n",
    "                                'year'  : int(member.get('birth').split('-')[0]),\n",
    "                                'month' : int(member.get('birth').split('-')[1]),\n",
    "                                'day'   : int(member.get('birth').split('-')[2]),\n",
    "                                },members1\n",
    "                 )\n",
    "             )\n",
    "members2"
   ]
  },
  {
   "cell_type": "markdown",
   "id": "307440ae",
   "metadata": {},
   "source": [
    "#### 예제3"
   ]
  },
  {
   "cell_type": "code",
   "execution_count": 92,
   "id": "7e746a89",
   "metadata": {},
   "outputs": [
    {
     "data": {
      "text/plain": [
       "[{'name': '홍길동', 'birth': '2000-01-01'},\n",
       " {'name': '신길동', 'birth': '1995-12-18'}]"
      ]
     },
     "execution_count": 92,
     "metadata": {},
     "output_type": "execute_result"
    }
   ],
   "source": [
    "'''\n",
    "예제3. members2를 members1로 전환\n",
    "'''\n",
    "members1\n"
   ]
  },
  {
   "cell_type": "code",
   "execution_count": 97,
   "id": "d905e1fc",
   "metadata": {},
   "outputs": [
    {
     "name": "stdout",
     "output_type": "stream",
     "text": [
      "2000-1-1\n",
      "2000-10-11\n"
     ]
    }
   ],
   "source": [
    "# {'year':2000, 'month':1,'day':1} => '2000-01-01'\n",
    "# 1. 1자리일때 의도하지 않은 결과 나옴\n",
    "def join_date(data):\n",
    "    return \"{}-{}-{}\".format(data.get('year'),data.get('month'),data.get('day'))\n",
    "\n",
    "print(join_date({'year':2000,'month':1,'day':1}))\n",
    "print(join_date({'year':2000,'month':10,'day':11}))"
   ]
  },
  {
   "cell_type": "code",
   "execution_count": 101,
   "id": "41f06f22",
   "metadata": {},
   "outputs": [
    {
     "name": "stdout",
     "output_type": "stream",
     "text": [
      "2000-01-01\n",
      "2000-10-11\n"
     ]
    }
   ],
   "source": [
    "# 2. {}-{:02}-{:02}\n",
    "def join_date(data):\n",
    "    return \"{}-{:02}-{:02}\".format(data.get('year'),data.get('month'),data.get('day'))\n",
    "\n",
    "print(join_date({'year':2000,'month':1,'day':1}))\n",
    "print(join_date({'year':2000,'month':10,'day':11}))"
   ]
  },
  {
   "cell_type": "code",
   "execution_count": 103,
   "id": "cd2ba785",
   "metadata": {},
   "outputs": [
    {
     "name": "stdout",
     "output_type": "stream",
     "text": [
      "2000-01-01\n",
      "2000-10-11\n"
     ]
    }
   ],
   "source": [
    "# 3. \n",
    "def join_date(data):\n",
    "    return \"{year}-{month:02}-{day:02}\".format(year=data.get('year'),\n",
    "                                               month=data.get('month'),\n",
    "                                               day=data.get('day')\n",
    "                                              )\n",
    "\n",
    "print(join_date({'year':2000,'month':1,'day':1}))\n",
    "print(join_date({'year':2000,'month':10,'day':11}))"
   ]
  },
  {
   "cell_type": "code",
   "execution_count": 105,
   "id": "3d47c081",
   "metadata": {},
   "outputs": [
    {
     "name": "stdout",
     "output_type": "stream",
     "text": [
      "2000-01-01\n",
      "2000-10-11\n"
     ]
    }
   ],
   "source": [
    "# 4\n",
    "def join_date(data):\n",
    "    return \"{year}-{month:02}-{day:02}\".format(**data)\n",
    "\n",
    "print(join_date({'year':2000,'month':1,'day':1}))\n",
    "print(join_date({'year':2000,'month':10,'day':11}))"
   ]
  },
  {
   "cell_type": "code",
   "execution_count": 106,
   "id": "4a4c3e26",
   "metadata": {},
   "outputs": [
    {
     "name": "stdout",
     "output_type": "stream",
     "text": [
      "{'birth': '2000-01-01'}\n"
     ]
    }
   ],
   "source": [
    "# {'year':2000, 'month':1,'day':1} => {'birth':'2000-01-01'}\n",
    "def join_date(data):\n",
    "    return {\"birth\" : \"{year}-{month:02}-{day:02}\".format(**data)}\n",
    "\n",
    "print(join_date({'year':2000,'month':1,'day':1}))"
   ]
  },
  {
   "cell_type": "markdown",
   "id": "f78bfd10",
   "metadata": {},
   "source": [
    "#### *중요.."
   ]
  },
  {
   "cell_type": "code",
   "execution_count": 109,
   "id": "b1e119c0",
   "metadata": {},
   "outputs": [
    {
     "data": {
      "text/plain": [
       "{'name': 'hong', 'birth': '2000-01-01'}"
      ]
     },
     "execution_count": 109,
     "metadata": {},
     "output_type": "execute_result"
    }
   ],
   "source": [
    "# {'name':'hong','year':2000,'month':1,'day':1} => {'name':'hong','birth':'2025-01-01'}\n",
    "def members_preprocessing(member): \n",
    "    return{\n",
    "        'name':member.get('name'),\n",
    "        \"birth\" : \"{year}-{month:02}-{day:02}\".format(**member)\n",
    "    }\n",
    "members_preprocessing({'name':'hong','year':2000,'month':1,'day':1})\n",
    "    "
   ]
  },
  {
   "cell_type": "markdown",
   "id": "af1dc18d",
   "metadata": {},
   "source": [
    "#### 예제 3 답:<font size=\"2\"  color=\"red\">람다식 활용 </font>  "
   ]
  },
  {
   "cell_type": "code",
   "execution_count": 112,
   "id": "057f5212",
   "metadata": {},
   "outputs": [
    {
     "data": {
      "text/plain": [
       "[{'name': '홍길동', 'birth': '2000-01-01'},\n",
       " {'name': '신길동', 'birth': '1995-12-18'}]"
      ]
     },
     "execution_count": 112,
     "metadata": {},
     "output_type": "execute_result"
    }
   ],
   "source": [
    "#list(map(func,member2))\n",
    "list(map(lambda member:{\n",
    "         'name':member.get('name'),\n",
    "          \"birth\" : \"{year}-{month:02}-{day:02}\".format(**member)\n",
    "                        },members2\n",
    "         )\n",
    "     )"
   ]
  },
  {
   "cell_type": "markdown",
   "id": "3aba1ef9",
   "metadata": {},
   "source": [
    "### (2) filter"
   ]
  },
  {
   "cell_type": "code",
   "execution_count": 115,
   "id": "cd444a26",
   "metadata": {},
   "outputs": [],
   "source": [
    "def filter_template(func, L=[]):\n",
    "    result=[]\n",
    "    for item in L:\n",
    "        if func(item):\n",
    "            result.append(item)\n",
    "    return result"
   ]
  },
  {
   "cell_type": "code",
   "execution_count": 116,
   "id": "3bb02052",
   "metadata": {},
   "outputs": [
    {
     "data": {
      "text/plain": [
       "[1, 3, 5, 7, 9]"
      ]
     },
     "execution_count": 116,
     "metadata": {},
     "output_type": "execute_result"
    }
   ],
   "source": [
    "list=[1,2,3,4,5,6,7,8,9]\n",
    "def odd_chk(value):\n",
    "    return value%2!=0\n",
    "      #  if value%2:\n",
    "       #     return True\n",
    "       # else:\n",
    "      #      return False\n",
    "        \n",
    "filter_template(lambda value:value%2!=0,list_data)"
   ]
  },
  {
   "cell_type": "code",
   "execution_count": 118,
   "id": "94c1b746",
   "metadata": {},
   "outputs": [
    {
     "data": {
      "text/plain": [
       "[1, 3, 5, 7, 9]"
      ]
     },
     "execution_count": 118,
     "metadata": {},
     "output_type": "execute_result"
    }
   ],
   "source": [
    "# 리스트컴프리헨션\n",
    "[value for value in list_data if value%2!=0]"
   ]
  },
  {
   "cell_type": "markdown",
   "id": "a7fcc9b7",
   "metadata": {},
   "source": [
    "#### 예제"
   ]
  },
  {
   "cell_type": "code",
   "execution_count": 1,
   "id": "8a99c7c7",
   "metadata": {},
   "outputs": [
    {
     "name": "stdout",
     "output_type": "stream",
     "text": [
      "[1, 3, 5, 7, 9]\n"
     ]
    }
   ],
   "source": [
    "# 예제\n",
    "list_data=[1,2,3,4,5,6,7,8,9]\n",
    "print(list(filter(lambda value: value % 2 != 0, list_data)))"
   ]
  },
  {
   "cell_type": "code",
   "execution_count": 2,
   "id": "3364aa59",
   "metadata": {},
   "outputs": [
    {
     "data": {
      "text/plain": [
       "[1, 3.0, 100, -2.0]"
      ]
     },
     "execution_count": 2,
     "metadata": {},
     "output_type": "execute_result"
    }
   ],
   "source": [
    "# 예제 : 다음 리스트에서 소수점 이하가 0인 수만 추출하시오(filter)\n",
    "L=[1,1.2,1.5,3.0,10.5,100,-2.0,-12.2]\n",
    "list(filter(lambda x:x%1==0,L))"
   ]
  },
  {
   "cell_type": "code",
   "execution_count": 4,
   "id": "b17ba450",
   "metadata": {},
   "outputs": [
    {
     "data": {
      "text/plain": [
       "[1, 3.0, 100, -2.0]"
      ]
     },
     "execution_count": 4,
     "metadata": {},
     "output_type": "execute_result"
    }
   ],
   "source": [
    "# 리스트컴프리헨션\n",
    "[item for item in L if item%1==0]"
   ]
  },
  {
   "cell_type": "markdown",
   "id": "f7227dfa",
   "metadata": {},
   "source": [
    "### (3) sort"
   ]
  },
  {
   "cell_type": "code",
   "execution_count": 10,
   "id": "c61d3bb4",
   "metadata": {},
   "outputs": [
    {
     "name": "stdout",
     "output_type": "stream",
     "text": [
      "[1, 3, 6, 10]\n",
      "[10, 6, 3, 1]\n"
     ]
    }
   ],
   "source": [
    "p = [10,3,6,1]\n",
    "p.sort()\n",
    "print(p)\n",
    "p.sort(reverse=True)\n",
    "print(p)"
   ]
  },
  {
   "cell_type": "markdown",
   "id": "07f48eff",
   "metadata": {},
   "source": [
    "#### 예제(데이터별)"
   ]
  },
  {
   "cell_type": "markdown",
   "id": "0d1963b0",
   "metadata": {},
   "source": [
    "#### 튜플리스트"
   ]
  },
  {
   "cell_type": "code",
   "execution_count": 11,
   "id": "c559e2d2",
   "metadata": {},
   "outputs": [
    {
     "data": {
      "text/plain": [
       "[(1, 'one'), (2, 'two'), (3, 'there'), (4, 'four')]"
      ]
     },
     "execution_count": 11,
     "metadata": {},
     "output_type": "execute_result"
    }
   ],
   "source": [
    "# 무조건 0번째 item을 기준으로 오름차순 정렬\n",
    "pairs = [(2,'two'),(1,'one'),(3,'there'),(4,'four')]\n",
    "pairs.sort()\n",
    "pairs"
   ]
  },
  {
   "cell_type": "code",
   "execution_count": 12,
   "id": "1ae9fbd4",
   "metadata": {},
   "outputs": [
    {
     "data": {
      "text/plain": [
       "[(4, 'four'), (1, 'one'), (3, 'there'), (2, 'two')]"
      ]
     },
     "execution_count": 12,
     "metadata": {},
     "output_type": "execute_result"
    }
   ],
   "source": [
    "# 1번째 item을 기준으로 내림차순 정렬\n",
    "pairs.sort(key=lambda data:data[1])\n",
    "pairs"
   ]
  },
  {
   "cell_type": "code",
   "execution_count": 14,
   "id": "8e063d33",
   "metadata": {},
   "outputs": [
    {
     "data": {
      "text/plain": [
       "[(2, 'two'), (3, 'there'), (1, 'one'), (4, 'four')]"
      ]
     },
     "execution_count": 14,
     "metadata": {},
     "output_type": "execute_result"
    }
   ],
   "source": [
    "# 1번째 item을 기준으로 오름차순 정렬\n",
    "pairs.sort(key=lambda data:data[1],reverse=True)\n",
    "pairs"
   ]
  },
  {
   "cell_type": "markdown",
   "id": "31a1a58c",
   "metadata": {},
   "source": [
    "#### 리스트"
   ]
  },
  {
   "cell_type": "code",
   "execution_count": 21,
   "id": "9f32ca2f",
   "metadata": {},
   "outputs": [
    {
     "name": "stdout",
     "output_type": "stream",
     "text": [
      "[[1, 100], [9, 9], [10, 200, 2]]\n",
      "[[10, 200, 2], [1, 100], [9, 9]]\n"
     ]
    }
   ],
   "source": [
    "# 합이 큰 순으로 정렬\n",
    "number_2d = [[9,9],[1,100],[10,200,2]]\n",
    "number_2d.sort()\n",
    "print(number_2d)\n",
    "number_2d.sort(key=lambda items:sum(items),reverse=True)\n",
    "print(number_2d)"
   ]
  },
  {
   "cell_type": "markdown",
   "id": "c2514442",
   "metadata": {},
   "source": [
    "#### 딕셔너리 (sort하면 에러남)"
   ]
  },
  {
   "cell_type": "code",
   "execution_count": 22,
   "id": "c98ca33f",
   "metadata": {},
   "outputs": [
    {
     "ename": "TypeError",
     "evalue": "'<' not supported between instances of 'dict' and 'dict'",
     "output_type": "error",
     "traceback": [
      "\u001b[1;31m---------------------------------------------------------------------------\u001b[0m",
      "\u001b[1;31mTypeError\u001b[0m                                 Traceback (most recent call last)",
      "Cell \u001b[1;32mIn[22], line 6\u001b[0m\n\u001b[0;32m      1\u001b[0m students \u001b[38;5;241m=\u001b[39m [{\u001b[38;5;124m'\u001b[39m\u001b[38;5;124mname\u001b[39m\u001b[38;5;124m'\u001b[39m:\u001b[38;5;124m'\u001b[39m\u001b[38;5;124m홍\u001b[39m\u001b[38;5;124m'\u001b[39m,\u001b[38;5;124m'\u001b[39m\u001b[38;5;124mscore\u001b[39m\u001b[38;5;124m'\u001b[39m:\u001b[38;5;124m'\u001b[39m\u001b[38;5;124m99\u001b[39m\u001b[38;5;124m'\u001b[39m},\n\u001b[0;32m      2\u001b[0m             {\u001b[38;5;124m'\u001b[39m\u001b[38;5;124mname\u001b[39m\u001b[38;5;124m'\u001b[39m:\u001b[38;5;124m'\u001b[39m\u001b[38;5;124m김\u001b[39m\u001b[38;5;124m'\u001b[39m,\u001b[38;5;124m'\u001b[39m\u001b[38;5;124mscore\u001b[39m\u001b[38;5;124m'\u001b[39m:\u001b[38;5;124m'\u001b[39m\u001b[38;5;124m50\u001b[39m\u001b[38;5;124m'\u001b[39m},\n\u001b[0;32m      3\u001b[0m             {\u001b[38;5;124m'\u001b[39m\u001b[38;5;124mname\u001b[39m\u001b[38;5;124m'\u001b[39m:\u001b[38;5;124m'\u001b[39m\u001b[38;5;124m박\u001b[39m\u001b[38;5;124m'\u001b[39m,\u001b[38;5;124m'\u001b[39m\u001b[38;5;124mscore\u001b[39m\u001b[38;5;124m'\u001b[39m:\u001b[38;5;124m'\u001b[39m\u001b[38;5;124m77\u001b[39m\u001b[38;5;124m'\u001b[39m},\n\u001b[0;32m      4\u001b[0m             {\u001b[38;5;124m'\u001b[39m\u001b[38;5;124mscore\u001b[39m\u001b[38;5;124m'\u001b[39m:\u001b[38;5;124m'\u001b[39m\u001b[38;5;124m100\u001b[39m\u001b[38;5;124m'\u001b[39m},\n\u001b[0;32m      5\u001b[0m            ]\n\u001b[1;32m----> 6\u001b[0m \u001b[43mstudents\u001b[49m\u001b[38;5;241;43m.\u001b[39;49m\u001b[43msort\u001b[49m\u001b[43m(\u001b[49m\u001b[43m)\u001b[49m\n",
      "\u001b[1;31mTypeError\u001b[0m: '<' not supported between instances of 'dict' and 'dict'"
     ]
    }
   ],
   "source": [
    "students = [{'name':'홍','score':'99'},\n",
    "            {'name':'김','score':'50'},\n",
    "            {'name':'박','score':'77'},\n",
    "            {'score':'100'},\n",
    "           ]\n",
    "# students.sort()  딕셔너리 자체는 비교가 안되므로 sort하면 에러남.\n"
   ]
  },
  {
   "cell_type": "code",
   "execution_count": 24,
   "id": "08090f3e",
   "metadata": {},
   "outputs": [
    {
     "data": {
      "text/plain": [
       "'홍'"
      ]
     },
     "execution_count": 24,
     "metadata": {},
     "output_type": "execute_result"
    }
   ],
   "source": [
    "name_select=lambda data : data.get('name','')\n",
    "name_select({'name':'홍','score':99})"
   ]
  },
  {
   "cell_type": "code",
   "execution_count": 31,
   "id": "29fc07d1",
   "metadata": {},
   "outputs": [],
   "source": [
    "# data['name']\n",
    "# data.get('name','대체값')"
   ]
  },
  {
   "cell_type": "code",
   "execution_count": 29,
   "id": "74517f0c",
   "metadata": {},
   "outputs": [
    {
     "name": "stdout",
     "output_type": "stream",
     "text": [
      "[{'name': '김', 'score': '50'}, {'name': '박', 'score': '77'}, {'name': '홍', 'score': '99'}, {'score': '100'}]\n",
      "[{'score': '100'}, {'name': '김', 'score': '50'}, {'name': '박', 'score': '77'}, {'name': '홍', 'score': '99'}]\n"
     ]
    }
   ],
   "source": [
    "# students 를 name순으로 정렬(ㄱㄴㄷ순)\n",
    "students.sort(key =lambda data:data.get('name','힣'))\n",
    "print(students)\n",
    "students.sort(key =lambda data:data.get('name','가'))\n",
    "print(students)"
   ]
  },
  {
   "cell_type": "code",
   "execution_count": 30,
   "id": "c5201834",
   "metadata": {},
   "outputs": [
    {
     "data": {
      "text/plain": [
       "[{'name': '홍', 'score': '99'},\n",
       " {'name': '박', 'score': '77'},\n",
       " {'name': '김', 'score': '50'},\n",
       " {'score': '100'}]"
      ]
     },
     "execution_count": 30,
     "metadata": {},
     "output_type": "execute_result"
    }
   ],
   "source": [
    "# students 를 score 큰 순으로 정렬\n",
    "students.sort(key=lambda data:data.get('score',0),reverse=True)\n",
    "students"
   ]
  },
  {
   "cell_type": "markdown",
   "id": "d68602a0",
   "metadata": {},
   "source": [
    "#### *<font size=\"2\"  color=\"red\">예제 종합 </font> :books정렬(no,title,price)"
   ]
  },
  {
   "cell_type": "code",
   "execution_count": 36,
   "id": "4d8a0868",
   "metadata": {},
   "outputs": [],
   "source": [
    "books = \\\n",
    "   [{'no':2, 'title':'더트릭컬', 'writer':'폴빠','price':'19,800'},\n",
    "    {'no':1, 'title':'흔한남매', 'writer':'백난도', 'price':'15,120'},\n",
    "    {'no':3, 'title':'단 한 번의 삶', 'writer':'김영하', 'price':'15,120'},\n",
    "    {'no':4, 'title':'가격잘못', 'writer':'홍길동', 'price':'ㅁ'},\n",
    "    {'no':5, 'title':'가격이숫자', 'writer':'백난도', 'price':30200},\n",
    "    {'no':6, 'title':'가격이없음', 'writer':'이길동'},] "
   ]
  },
  {
   "cell_type": "code",
   "execution_count": 37,
   "id": "fa17f14d",
   "metadata": {},
   "outputs": [
    {
     "data": {
      "text/plain": [
       "[{'no': 2, 'title': '더트릭컬', 'writer': '폴빠', 'price': '19,800'},\n",
       " {'no': 1, 'title': '흔한남매', 'writer': '백난도', 'price': '15,120'},\n",
       " {'no': 3, 'title': '단 한 번의 삶', 'writer': '김영하', 'price': '15,120'},\n",
       " {'no': 4, 'title': '가격잘못', 'writer': '홍길동', 'price': 'ㅁ'},\n",
       " {'no': 5, 'title': '가격이숫자', 'writer': '백난도', 'price': 30200},\n",
       " {'no': 6, 'title': '가격이없음', 'writer': '이길동'}]"
      ]
     },
     "execution_count": 37,
     "metadata": {},
     "output_type": "execute_result"
    }
   ],
   "source": [
    "books"
   ]
  },
  {
   "cell_type": "code",
   "execution_count": 38,
   "id": "87c90fce",
   "metadata": {},
   "outputs": [
    {
     "data": {
      "text/plain": [
       "[{'no': 1, 'title': '흔한남매', 'writer': '백난도', 'price': '15,120'},\n",
       " {'no': 2, 'title': '더트릭컬', 'writer': '폴빠', 'price': '19,800'},\n",
       " {'no': 3, 'title': '단 한 번의 삶', 'writer': '김영하', 'price': '15,120'},\n",
       " {'no': 4, 'title': '가격잘못', 'writer': '홍길동', 'price': 'ㅁ'},\n",
       " {'no': 5, 'title': '가격이숫자', 'writer': '백난도', 'price': 30200},\n",
       " {'no': 6, 'title': '가격이없음', 'writer': '이길동'}]"
      ]
     },
     "execution_count": 38,
     "metadata": {},
     "output_type": "execute_result"
    }
   ],
   "source": [
    "# books를 no 큰순으로 정렬 \n",
    "books.sort(key=lambda book:book['no'])\n",
    "books"
   ]
  },
  {
   "cell_type": "code",
   "execution_count": 39,
   "id": "c7d007bb",
   "metadata": {},
   "outputs": [
    {
     "data": {
      "text/plain": [
       "[{'no': 5, 'title': '가격이숫자', 'writer': '백난도', 'price': 30200},\n",
       " {'no': 6, 'title': '가격이없음', 'writer': '이길동'},\n",
       " {'no': 4, 'title': '가격잘못', 'writer': '홍길동', 'price': 'ㅁ'},\n",
       " {'no': 3, 'title': '단 한 번의 삶', 'writer': '김영하', 'price': '15,120'},\n",
       " {'no': 2, 'title': '더트릭컬', 'writer': '폴빠', 'price': '19,800'},\n",
       " {'no': 1, 'title': '흔한남매', 'writer': '백난도', 'price': '15,120'}]"
      ]
     },
     "execution_count": 39,
     "metadata": {},
     "output_type": "execute_result"
    }
   ],
   "source": [
    "# books를 title 큰순으로 정렬 \n",
    "books.sort(key=lambda book:book['title'])\n",
    "books"
   ]
  },
  {
   "cell_type": "code",
   "execution_count": 45,
   "id": "c383a727",
   "metadata": {},
   "outputs": [
    {
     "ename": "TypeError",
     "evalue": "'<' not supported between instances of 'str' and 'int'",
     "output_type": "error",
     "traceback": [
      "\u001b[1;31m---------------------------------------------------------------------------\u001b[0m",
      "\u001b[1;31mTypeError\u001b[0m                                 Traceback (most recent call last)",
      "Cell \u001b[1;32mIn[45], line 6\u001b[0m\n\u001b[0;32m      1\u001b[0m \u001b[38;5;66;03m# books를 price 큰순으로 정렬 \u001b[39;00m\n\u001b[0;32m      2\u001b[0m \u001b[38;5;66;03m#1차 try\u001b[39;00m\n\u001b[0;32m      3\u001b[0m \u001b[38;5;66;03m#books.sort(key=lambda book:book['price'])\u001b[39;00m\n\u001b[0;32m      4\u001b[0m \u001b[38;5;66;03m#books\u001b[39;00m\n\u001b[0;32m      5\u001b[0m \u001b[38;5;66;03m#2차 try\u001b[39;00m\n\u001b[1;32m----> 6\u001b[0m \u001b[43mbooks\u001b[49m\u001b[38;5;241;43m.\u001b[39;49m\u001b[43msort\u001b[49m\u001b[43m(\u001b[49m\u001b[43mkey\u001b[49m\u001b[38;5;241;43m=\u001b[39;49m\u001b[38;5;28;43;01mlambda\u001b[39;49;00m\u001b[43m \u001b[49m\u001b[43mbook\u001b[49m\u001b[43m:\u001b[49m\u001b[43mbook\u001b[49m\u001b[38;5;241;43m.\u001b[39;49m\u001b[43mget\u001b[49m\u001b[43m(\u001b[49m\u001b[38;5;124;43m'\u001b[39;49m\u001b[38;5;124;43mprice\u001b[39;49m\u001b[38;5;124;43m'\u001b[39;49m\u001b[43m,\u001b[49m\u001b[38;5;241;43m0\u001b[39;49m\u001b[43m)\u001b[49m\u001b[43m)\u001b[49m\n\u001b[0;32m      7\u001b[0m books\n",
      "\u001b[1;31mTypeError\u001b[0m: '<' not supported between instances of 'str' and 'int'"
     ]
    }
   ],
   "source": [
    "# books를 price 큰순으로 정렬 \n",
    "#1차 try\n",
    "#books.sort(key=lambda book:book['price'])\n",
    "#books\n",
    "#2차 try\n",
    "books.sort(key=lambda book:book.get('price',0))\n",
    "books"
   ]
  },
  {
   "cell_type": "code",
   "execution_count": 61,
   "id": "2d0423e8",
   "metadata": {},
   "outputs": [
    {
     "name": "stdout",
     "output_type": "stream",
     "text": [
      "12000 30200 0 0\n"
     ]
    }
   ],
   "source": [
    "#3차 try : 30200,'12,000' ,'5000' ,'ㅁ' ,None  => (변환) 30200,12000,0,0\n",
    "def parse_int(price):\n",
    "    if isinstance(price,str) and price.replace(',','').isdigit():\n",
    "        return int(price.replace(',',''))\n",
    "    elif isinstance(price,int):\n",
    "        return price\n",
    "    else:\n",
    "        return 0\n",
    "print(parse_int('12,000'),parse_int(30200),parse_int('ㅁ'),parse_int(None))"
   ]
  },
  {
   "cell_type": "code",
   "execution_count": null,
   "id": "81246a62",
   "metadata": {},
   "outputs": [],
   "source": [
    "# 아직 안됨=>변경해야함\n",
    "# 먼저 price를 모두 str로 변경 => try : 30200,'12,000' ,'5000' ,'ㅁ' ,None  => (변환) 30200,12000,0,0\n",
    "def parse_int(price):\n",
    "    if  srt(price).replace(',','').isdigit():\n",
    "        return int(price.replace(',',''))\n",
    "    elif isinstance(price,int):\n",
    "        return price\n",
    "    else:\n",
    "        return 0\n",
    "print(parse_int('12,000'),parse_int(30200),parse_int('ㅁ'),parse_int(None))"
   ]
  },
  {
   "cell_type": "code",
   "execution_count": 64,
   "id": "a1707e1e",
   "metadata": {},
   "outputs": [
    {
     "name": "stdout",
     "output_type": "stream",
     "text": [
      "12000 30200 0 0\n"
     ]
    }
   ],
   "source": [
    "# 람다식으로 변경\n",
    "parse_int=lambda price:\\\n",
    "                    int(price.replace(',','')) if isinstance(price,str) and price.replace(',','').isdigit() \\\n",
    "                    else price if isinstance(price,int) \\\n",
    "                    else 0\n",
    "print(parse_int('12,000'),parse_int(30200),parse_int('ㅁ'),parse_int(None))               "
   ]
  },
  {
   "cell_type": "code",
   "execution_count": 70,
   "id": "a190a528",
   "metadata": {},
   "outputs": [
    {
     "data": {
      "text/plain": [
       "30200"
      ]
     },
     "execution_count": 70,
     "metadata": {},
     "output_type": "execute_result"
    }
   ],
   "source": [
    "# {'no': 5, 'title': '가격이숫자', 'writer': '백난도', 'price': 30200} => 30200\n",
    "parse_int=lambda book:\\\n",
    "                    int(book.get('price').replace(',','')) \\\n",
    "                    if isinstance(book.get('price'),str) and book.get('price').replace(',','').isdigit() \\\n",
    "                    else book.get('price') if isinstance(book.get('price'),int) \\\n",
    "                    else 0\n",
    "parse_int({'no': 5, 'title': '가격이숫자', 'writer': '백난도', 'price': 30200})"
   ]
  },
  {
   "cell_type": "markdown",
   "id": "42279056",
   "metadata": {},
   "source": [
    "#### **원본과 카피본 따로 관리"
   ]
  },
  {
   "cell_type": "code",
   "execution_count": 73,
   "id": "8e1c73ea",
   "metadata": {},
   "outputs": [
    {
     "data": {
      "text/plain": [
       "[{'no': 5, 'title': '가격이숫자', 'writer': '백난도', 'price': 30200},\n",
       " {'no': 2, 'title': '더트릭컬', 'writer': '폴빠', 'price': '19,800'},\n",
       " {'no': 3, 'title': '단 한 번의 삶', 'writer': '김영하', 'price': '15,120'},\n",
       " {'no': 1, 'title': '흔한남매', 'writer': '백난도', 'price': '15,120'},\n",
       " {'no': 6, 'title': '가격이없음', 'writer': '이길동'},\n",
       " {'no': 4, 'title': '가격잘못', 'writer': '홍길동', 'price': 'ㅁ'}]"
      ]
     },
     "execution_count": 73,
     "metadata": {},
     "output_type": "execute_result"
    }
   ],
   "source": [
    "# 원본과 카피본 따로 관리\n",
    "copyBooks = books.copy() #  복제\n",
    "#print(copyBooks)\n",
    "copyBooks.sort(key=lambda book:\\\n",
    "                    int(book.get('price').replace(',','')) \\\n",
    "                    if isinstance(book.get('price'),str) and book.get('price').replace(',','').isdigit() \\\n",
    "                    else book.get('price') if isinstance(book.get('price'),int) \\\n",
    "                    else 0,\n",
    "              reverse=True)\n",
    "copyBooks"
   ]
  },
  {
   "cell_type": "markdown",
   "id": "95a5a351",
   "metadata": {},
   "source": [
    "# 5절 파이썬 내장 함수\n",
    "\n",
    "- import 하지않고 바로 사용 가능한 함수\n",
    "- 키워드(if,while,..)처럼 간주되므로, 식별자(변수명, 함수명,클래스명)로 사용하는 것을 피한다."
   ]
  },
  {
   "cell_type": "code",
   "execution_count": 1,
   "id": "f987c3f4",
   "metadata": {},
   "outputs": [
    {
     "data": {
      "text/plain": [
       "{'__name__': '__main__',\n",
       " '__doc__': 'Automatically created module for IPython interactive environment',\n",
       " '__package__': None,\n",
       " '__loader__': None,\n",
       " '__spec__': None,\n",
       " '__builtin__': <module 'builtins' (built-in)>,\n",
       " '__builtins__': <module 'builtins' (built-in)>,\n",
       " '_ih': ['', 'globals() #전역변수리스트'],\n",
       " '_oh': {},\n",
       " '_dh': [WindowsPath('C:/ai/source/01_python')],\n",
       " 'In': ['', 'globals() #전역변수리스트'],\n",
       " 'Out': {},\n",
       " 'get_ipython': <bound method InteractiveShell.get_ipython of <ipykernel.zmqshell.ZMQInteractiveShell object at 0x0000023ADAFEF730>>,\n",
       " 'exit': <IPython.core.autocall.ZMQExitAutocall at 0x23adafffee0>,\n",
       " 'quit': <IPython.core.autocall.ZMQExitAutocall at 0x23adafffee0>,\n",
       " 'open': <function io.open(file, mode='r', buffering=-1, encoding=None, errors=None, newline=None, closefd=True, opener=None)>,\n",
       " '_': '',\n",
       " '__': '',\n",
       " '___': '',\n",
       " '_i': '',\n",
       " '_ii': '',\n",
       " '_iii': '',\n",
       " '_i1': 'globals() #전역변수리스트'}"
      ]
     },
     "execution_count": 1,
     "metadata": {},
     "output_type": "execute_result"
    }
   ],
   "source": [
    "globals() #전역변수리스트"
   ]
  },
  {
   "cell_type": "code",
   "execution_count": 2,
   "id": "f1c80750",
   "metadata": {},
   "outputs": [
    {
     "data": {
      "text/plain": [
       "False"
      ]
     },
     "execution_count": 2,
     "metadata": {},
     "output_type": "execute_result"
    }
   ],
   "source": [
    "all([True,True,True,False]) #모든 요소가 모두 True인지 여부"
   ]
  },
  {
   "cell_type": "markdown",
   "id": "301de578",
   "metadata": {},
   "source": [
    "# 6절 연습문제\n",
    "\n"
   ]
  },
  {
   "cell_type": "markdown",
   "id": "3c31c358",
   "metadata": {},
   "source": [
    "## 실습형"
   ]
  },
  {
   "cell_type": "code",
   "execution_count": 22,
   "id": "a5ffac8b",
   "metadata": {},
   "outputs": [
    {
     "name": "stdout",
     "output_type": "stream",
     "text": [
      "리스트[1, 10, 3, 4, 6]의 최대값은10이고, 최소값은 1입니다\n",
      "람다 함수를 사용한 리스트[1, 10, 3, 4, 6]의 최대값은 10이고, 최소값은 1입니다.\n"
     ]
    }
   ],
   "source": [
    "# 1. 함수의인자로 리스트를 받은 후 리스트 내에 있는 모든 정수값에 대한 최대값과 최소값을 리턴하는 함수를 작성하세요\n",
    "\n",
    "def get_max_min(data_list):\n",
    "    if not data_list:\n",
    "        print(\"리스트가 비어있습니다.\")\n",
    "        return None,None\n",
    "    max_value=max(data_list)\n",
    "    min_value=min(data_list)\n",
    "    return max_value,min_value\n",
    "\n",
    "data_list=[1,10,3,4,6]\n",
    "max_result,min_result=get_max_min(data_list)\n",
    "print(\"리스트{}의 최대값은{}이고, 최소값은 {}입니다\".format(data_list,max_result,min_result))\n",
    "\n",
    "#get_max_min= lambda \n",
    "get_max_min_lambda= lambda data_list:(max(data_list),min(data_list))\n",
    "my_number = [1, 10, 3, 4, 6]\n",
    "max_l, min_l = get_max_min_lambda(my_number)\n",
    "print(f\"람다 함수를 사용한 리스트{my_number}의 최대값은 {max_l}이고, 최소값은 {min_l}입니다.\")"
   ]
  },
  {
   "cell_type": "code",
   "execution_count": 31,
   "id": "a3d4a5f9",
   "metadata": {},
   "outputs": [
    {
     "name": "stdout",
     "output_type": "stream",
     "text": [
      "체중 45kg, 신장 1.70m -> 마른체형\n",
      "체중 80kg, 신장 1.70m -> 비만\n"
     ]
    }
   ],
   "source": [
    "#2.체질량 지수(Body Mass Index, BMI)는 체중과 키를 이용해 비만도를 나타내는 지수로 아래의 수식에 의해 계산됩니다. \n",
    "#함수의 인자로 체중(kg)과 신장(m)를입력받은 후 BMI값에 따라 ‘\n",
    "#마른 체형‘, ‘표준‘, ‘비만‘, ‘고도비만‘ 중 하나의 상태를 출력하는 함수를 구현해 보세요.\n",
    "#•getBMI(kg, m):\n",
    "#•BMI지수 = 체중(kg) / 신장(m)의 제곱\n",
    "#•BMI<18.5 : 마른체형\n",
    "#•18.5<=BMI<25 : 표준\n",
    "#•25<=BMI<30 : 비만\n",
    "#•BMI >=30 : 고도비만\n",
    "#1 def으로\n",
    "def getBMI(kg,m):\n",
    "    if not isinstance(kg,(int,float)) or not isinstance(m,(int,float)):\n",
    "        return \"체중(kg)과 신장(m)은 숫자여야 합니다.\"\n",
    "    if kg<=0 or m<=0:\n",
    "        return \"체중(kg)과 신장(m)은 0보다 커야 합니다.\"\n",
    "    bmi=kg/(m**2)\n",
    "    if bmi<18.5:\n",
    "        status = '마른체형'\n",
    "    elif 18.5<=BMI<25:\n",
    "        status = '표준'\n",
    "    elif 25<=BMI<30<25 :\n",
    "        status = '비만'\n",
    "    else: #bmi>=30 \n",
    "        status = '고도비만'\n",
    "    return status\n",
    "print(f\"체중 45kg, 신장 1.70m -> {getBMI(45, 1.70)}\")     \n",
    "getBMI_lambda=lambda kg,m:\\\n",
    "                '마른체형' if kg/(m**2)<18.5 else \\\n",
    "                ('표준' if 18.5<=kg/(m**2)<25 else \\\n",
    "                ('비만' if 25<=kg/(m**2)<30 else \\\n",
    "                '고도비만')) \n",
    "print(f\"체중 80kg, 신장 1.70m -> {getBMI_lambda(80, 1.70)}\")"
   ]
  },
  {
   "cell_type": "code",
   "execution_count": 6,
   "id": "ca6172d6",
   "metadata": {},
   "outputs": [
    {
     "data": {
      "text/plain": [
       "{'넓이': 6.0, '둘레': 12.0}"
      ]
     },
     "execution_count": 6,
     "metadata": {},
     "output_type": "execute_result"
    }
   ],
   "source": [
    "# 3: 직각삼각형  w, h로 area, perimeter(넓이,둘레)\n",
    "import math\n",
    "def get_triangle(w,h):\n",
    "    area = w*h*0.5\n",
    "    # math.sqrt() : 제곱근\n",
    "    perimeter = w + h +math.sqrt(w*w+h*h)\n",
    "    #return area, perimeter\n",
    "    return {'넓이': area,'둘레':perimeter}\n",
    "get_triangle(3,4)"
   ]
  },
  {
   "cell_type": "code",
   "execution_count": 33,
   "id": "aebf8670",
   "metadata": {},
   "outputs": [
    {
     "name": "stdout",
     "output_type": "stream",
     "text": [
      "1부터 10까지의 합: 55\n",
      "람다 함수로 (-3)부터 3까지의 합: 0\n"
     ]
    }
   ],
   "source": [
    "#4.함수의 인자로 시작과 끝 숫자가 주어질 때 시작부터 끝까지의 모든 정수값의 합을 리턴하는 함수를 작성하세요(시작값과 끝값 포함).\n",
    "#•def mysum(fRom, end):\n",
    "def mysum(fRom,end):\n",
    "    sum=0\n",
    "    for i in range(fRom,end+1):\n",
    "        sum+=i\n",
    "    return sum\n",
    "print(f\"1부터 10까지의 합: {mysum(1, 10)}\")\n",
    "\n",
    "sum_lambda=lambda fRom,end:sum(range(fRom,end+1))\n",
    "print(f\"람다 함수로 (-3)부터 3까지의 합: {sum_lambda(-3, 3)}\")"
   ]
  },
  {
   "cell_type": "code",
   "execution_count": 41,
   "id": "8da41628",
   "metadata": {},
   "outputs": [
    {
     "name": "stdout",
     "output_type": "stream",
     "text": [
      "입력된 리스트:['Seoul', 'Daegu', 'Kwangju', 'Jeju']는 ['Seo', 'Dae', 'Kwa', 'Jej']로 출력된다\n",
      "입력: ['Apple', 'Banana', 'Cat'] -> 람다/map 결과: ['App', 'Ban', 'Cat']\n"
     ]
    }
   ],
   "source": [
    "#5.함수의인자로 문자열을 포함하는 리스트가 입력될 때 각 문자열의 첫 세글자로만 구성된 리스트를 리턴하는 함수와 람다식을 작성하세요\n",
    "#•예를 들어 함수의 입력으로 [‘Seoul’, ‘Daegu’, ‘Kwangju’, ‘Jeju’]가 입력될 때 \n",
    "#함수의 리턴값은 [‘Seo’, ‘Dae’, ‘Kwa’,’Jej’]\n",
    "#•def get_abbrs(lst):\n",
    "def get_abbrs(lst):\n",
    "    \"\"\"\n",
    "    문자열 리스트를 입력받아 각 문자열의 첫 세 글자로만 구성된\n",
    "    새로운 리스트를 반환하는 함수입니다.\n",
    "    \"\"\"\n",
    "    if not lst:\n",
    "        return []\n",
    "    list_=[]\n",
    "    for item in lst:\n",
    "        list_.append(item[:3])\n",
    "    return list_\n",
    "\n",
    "list_=['Seoul', 'Daegu', 'Kwangju', 'Jeju']\n",
    "list_out=get_abbrs(list_)\n",
    "print(f\"입력된 리스트:{list_}는 {list_out}로 출력된다\")\n",
    "\n",
    "#lambda함수로 변환\n",
    "get_abbrs_lambda=lambda lst:list(map(lambda a:a[:3],lst))\n",
    "input_list2 = ['Apple', 'Banana', 'Cat']\n",
    "output_list2 = get_abbrs_lambda(input_list2)\n",
    "print(f\"입력: {input_list2} -> 람다/map 결과: {output_list2}\")\n",
    "\n"
   ]
  },
  {
   "cell_type": "code",
   "execution_count": 12,
   "id": "1cb350b5",
   "metadata": {},
   "outputs": [
    {
     "name": "stdout",
     "output_type": "stream",
     "text": [
      "8\n"
     ]
    },
    {
     "data": {
      "text/plain": [
       "81"
      ]
     },
     "execution_count": 12,
     "metadata": {},
     "output_type": "execute_result"
    }
   ],
   "source": [
    "#6다음 코드를 람다 함수 형태로 수정할 때 알맞은 코드를 작성하시오\n",
    "def f(x,y):\n",
    "    return x**y\n",
    "print(f(2,3))\n",
    "square = lambda x,y :x**y\n",
    "square(3,4)"
   ]
  },
  {
   "cell_type": "code",
   "execution_count": 44,
   "id": "fb668c21",
   "metadata": {},
   "outputs": [
    {
     "name": "stdout",
     "output_type": "stream",
     "text": [
      "[1, 4, 9, 16, 25]\n",
      "[1, 4, 9, 16, 25]\n"
     ]
    }
   ],
   "source": [
    "#7. ex = [1,2,3,4,5]를 [1,4,9,16,25]의 결과를 얻을 수 있도록 람다함수와 map()함수를 사용하여 구현과\n",
    "# 리스트 컴프리헨션으로 구현하시오\n",
    "ex=[1,2,3,4,5]\n",
    "dub_L =list(map(lambda x:x**2,ex))\n",
    "print(dub_L)\n",
    "dub_l=[num**2 for num in ex]\n",
    "print(dub_l)"
   ]
  },
  {
   "cell_type": "code",
   "execution_count": 3,
   "id": "2f4ffd5c",
   "metadata": {},
   "outputs": [
    {
     "name": "stdout",
     "output_type": "stream",
     "text": [
      "1 2 3\n",
      "[1, 2, 3]\n"
     ]
    }
   ],
   "source": [
    "#8. 다음코드를 각각 실행하면 서로 다른 결과가 나온다. 이런 결과가 나오는 이유를 서술하시오\n",
    "a=[1,2,3]\n",
    "print(*a)\n",
    "print(a)"
   ]
  },
  {
   "cell_type": "code",
   "execution_count": 5,
   "id": "07b4540a",
   "metadata": {},
   "outputs": [
    {
     "data": {
      "text/plain": [
       "'2024-9-6'"
      ]
     },
     "execution_count": 5,
     "metadata": {},
     "output_type": "execute_result"
    }
   ],
   "source": [
    "# 9. 다음 코드의 실행 결과는?\n",
    "date_info={'year':2024,'month':9,'day':6}\n",
    "result='{year}-{month}-{day}'.format(**date_info)\n",
    "result"
   ]
  },
  {
   "cell_type": "code",
   "execution_count": 2,
   "id": "fa5d4839",
   "metadata": {},
   "outputs": [
    {
     "name": "stdout",
     "output_type": "stream",
     "text": [
      "([1, 2], {10, 20}, {'name': '홍', 'age': 30}, (1,))\n"
     ]
    }
   ],
   "source": [
    "#10. n개의 벡터(리스트나 튜플, 셋등)들의 크기가 같은지 여부를 reutrn하는\n",
    "# vector_size_check(*vector _var) 를 한 줄의 코드(리스트 컴프리헨션 이용)로 작성하시오.\n",
    "def vector_size_check(*vector_var):\n",
    "    print(vector_var)\n",
    "vector_size_check([1,2],{10,20},{'name':'홍','age':30},(1,),{1,55},[33,44])"
   ]
  },
  {
   "cell_type": "code",
   "execution_count": null,
   "id": "d678523c",
   "metadata": {},
   "outputs": [],
   "source": [
    "#11. 다음과 같은 결과를 얻기 위해 하나의 스칼라값을 리스트나 튜플, 셋등 벡터에 곱하는 코드를 작성하시오.\n",
    "#(단 입력되는 벡터의 크기는 일정하지 않음)\n",
    "# scalar_vector_product(5,[1,2,3,4])\n",
    "#[5,10,15,20]"
   ]
  },
  {
   "cell_type": "code",
   "execution_count": null,
   "id": "501d9af3",
   "metadata": {},
   "outputs": [],
   "source": []
  },
  {
   "cell_type": "markdown",
   "id": "4789d3e7",
   "metadata": {},
   "source": [
    "## 서술형"
   ]
  },
  {
   "cell_type": "code",
   "execution_count": null,
   "id": "ed080f48",
   "metadata": {},
   "outputs": [],
   "source": []
  },
  {
   "cell_type": "code",
   "execution_count": null,
   "id": "229d89ae",
   "metadata": {},
   "outputs": [],
   "source": []
  },
  {
   "cell_type": "code",
   "execution_count": null,
   "id": "83f6a6c4",
   "metadata": {},
   "outputs": [],
   "source": []
  },
  {
   "cell_type": "code",
   "execution_count": null,
   "id": "42792c72",
   "metadata": {},
   "outputs": [],
   "source": []
  }
 ],
 "metadata": {
  "kernelspec": {
   "display_name": "Python 3 (ipykernel)",
   "language": "python",
   "name": "python3"
  },
  "language_info": {
   "codemirror_mode": {
    "name": "ipython",
    "version": 3
   },
   "file_extension": ".py",
   "mimetype": "text/x-python",
   "name": "python",
   "nbconvert_exporter": "python",
   "pygments_lexer": "ipython3",
   "version": "3.10.9"
  },
  "toc": {
   "base_numbering": 1,
   "nav_menu": {},
   "number_sections": false,
   "sideBar": true,
   "skip_h1_title": false,
   "title_cell": "Table of Contents",
   "title_sidebar": "Contents",
   "toc_cell": false,
   "toc_position": {
    "height": "calc(100% - 180px)",
    "left": "10px",
    "top": "150px",
    "width": "177.4px"
   },
   "toc_section_display": true,
   "toc_window_display": true
  }
 },
 "nbformat": 4,
 "nbformat_minor": 5
}
