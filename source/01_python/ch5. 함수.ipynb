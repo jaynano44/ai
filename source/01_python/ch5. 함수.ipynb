{
 "cells": [
  {
   "cell_type": "code",
   "execution_count": 1,
   "id": "57bdfa43",
   "metadata": {},
   "outputs": [
    {
     "data": {
      "text/html": [
       "\n",
       "<style>\n",
       "div.container{width:90% !important;}\n",
       "div.cell.code_cell.rendered{width:100%;}\n",
       "div.input_prompt{padding:0px;}\n",
       "div.CodeMirror {font-family:Consolas; font-size:12pt;}\n",
       "div.text_cell_render.rendered_html{font-size:12pt;}\n",
       "div.output {font-size:12pt; font-weight:bold;}\n",
       "div.input {font-family:Consolas; font-size:12pt;}\n",
       "div.prompt {min-width:70px;}\n",
       "div#toc-wrapper{padding-top:120px;}\n",
       "div.text_cell_render ul li{font-size:12pt;padding:5px;}\n",
       "table.dataframe{font-size:12px;}\n",
       "</style>\n"
      ],
      "text/plain": [
       "<IPython.core.display.HTML object>"
      ]
     },
     "metadata": {},
     "output_type": "display_data"
    }
   ],
   "source": [
    "from IPython.display import display, HTML\n",
    "display(HTML(\"\"\"\n",
    "<style>\n",
    "div.container{width:90% !important;}\n",
    "div.cell.code_cell.rendered{width:100%;}\n",
    "div.input_prompt{padding:0px;}\n",
    "div.CodeMirror {font-family:Consolas; font-size:12pt;}\n",
    "div.text_cell_render.rendered_html{font-size:12pt;}\n",
    "div.output {font-size:12pt; font-weight:bold;}\n",
    "div.input {font-family:Consolas; font-size:12pt;}\n",
    "div.prompt {min-width:70px;}\n",
    "div#toc-wrapper{padding-top:120px;}\n",
    "div.text_cell_render ul li{font-size:12pt;padding:5px;}\n",
    "table.dataframe{font-size:12px;}\n",
    "</style>\n",
    "\"\"\"))"
   ]
  },
  {
   "cell_type": "markdown",
   "id": "e30ebac8",
   "metadata": {},
   "source": [
    "<b><font size=\"6\"  color=\"red\">ch05.함수 </font></b>\n",
    "- 반복해서 사용할 코드를 묶어놓고 그것에 이름을 붙인 것\n",
    "- 오버로딩 불가(같은 이름의 함수는 덮어씀)\n",
    "- 함수 정의\n",
    "```\n",
    "def 함수명([매개변수1,매개변수2,...]) :\n",
    "    명령어1\n",
    "    명령어2.....\n",
    "```\n",
    "\n",
    "# 1절 함수의 정의 및 사용\n",
    "## 1.1 함수정의"
   ]
  },
  {
   "cell_type": "code",
   "execution_count": 2,
   "id": "be0ce406",
   "metadata": {},
   "outputs": [],
   "source": [
    "def my_message(x,msg) : #msg를 x번 출력하는 함수 정의\n",
    "    for i in range(x):\n",
    "        print(i,msg)"
   ]
  },
  {
   "cell_type": "code",
   "execution_count": 3,
   "id": "64eca94b",
   "metadata": {},
   "outputs": [
    {
     "name": "stdout",
     "output_type": "stream",
     "text": [
      "0 Hello\n",
      "1 Hello\n",
      "2 Hello\n"
     ]
    }
   ],
   "source": [
    "#함수 사용 ==함수 호출\n",
    "my_message(3,'Hello')"
   ]
  },
  {
   "cell_type": "code",
   "execution_count": 4,
   "id": "2ec9d6e0",
   "metadata": {},
   "outputs": [
    {
     "name": "stdout",
     "output_type": "stream",
     "text": [
      "0 Hello\n",
      "1 Hello\n",
      "0 Python\n",
      "1 Python\n",
      "2 Python\n"
     ]
    }
   ],
   "source": [
    "# 함수 이름 변경\n",
    "my_msg=my_message\n",
    "my_message(2,'Hello')\n",
    "my_msg(3,'Python')"
   ]
  },
  {
   "cell_type": "code",
   "execution_count": 5,
   "id": "fd3106c1",
   "metadata": {},
   "outputs": [
    {
     "data": {
      "text/plain": [
       "(function, function)"
      ]
     },
     "execution_count": 5,
     "metadata": {},
     "output_type": "execute_result"
    }
   ],
   "source": [
    "type(my_message),type(my_message)"
   ]
  },
  {
   "cell_type": "code",
   "execution_count": 6,
   "id": "7a9583ae",
   "metadata": {},
   "outputs": [
    {
     "name": "stdout",
     "output_type": "stream",
     "text": [
      "Hello\n"
     ]
    },
    {
     "ename": "TypeError",
     "evalue": "'int' object is not callable",
     "output_type": "error",
     "traceback": [
      "\u001b[1;31m---------------------------------------------------------------------------\u001b[0m",
      "\u001b[1;31mTypeError\u001b[0m                                 Traceback (most recent call last)",
      "Cell \u001b[1;32mIn[6], line 3\u001b[0m\n\u001b[0;32m      1\u001b[0m \u001b[38;5;28mprint\u001b[39m(\u001b[38;5;124m'\u001b[39m\u001b[38;5;124mHello\u001b[39m\u001b[38;5;124m'\u001b[39m) \u001b[38;5;66;03m#파이썬 내장 함수(impport하지 않고 사용할 수 있는 함수)\u001b[39;00m\n\u001b[0;32m      2\u001b[0m \u001b[38;5;28mprint\u001b[39m\u001b[38;5;241m=\u001b[39m\u001b[38;5;241m5\u001b[39m\n\u001b[1;32m----> 3\u001b[0m \u001b[38;5;28;43mprint\u001b[39;49m\u001b[43m(\u001b[49m\u001b[38;5;124;43m'\u001b[39;49m\u001b[38;5;124;43mHello\u001b[39;49m\u001b[38;5;124;43m'\u001b[39;49m\u001b[43m)\u001b[49m\n",
      "\u001b[1;31mTypeError\u001b[0m: 'int' object is not callable"
     ]
    }
   ],
   "source": [
    "print('Hello') #파이썬 내장 함수(impport하지 않고 사용할 수 있는 함수)\n",
    "print=5\n",
    "print('Hello')\n"
   ]
  },
  {
   "cell_type": "code",
   "execution_count": 7,
   "id": "0818cd76",
   "metadata": {},
   "outputs": [
    {
     "name": "stdout",
     "output_type": "stream",
     "text": [
      "Hello\n"
     ]
    }
   ],
   "source": [
    "del print\n",
    "print('Hello')"
   ]
  },
  {
   "cell_type": "code",
   "execution_count": 8,
   "id": "42284e85",
   "metadata": {},
   "outputs": [
    {
     "name": "stdout",
     "output_type": "stream",
     "text": [
      "0 Hello\n",
      "1 Hello\n"
     ]
    }
   ],
   "source": [
    "my_message(2,'Hello')"
   ]
  },
  {
   "cell_type": "code",
   "execution_count": 9,
   "id": "fc6b17e7",
   "metadata": {},
   "outputs": [
    {
     "name": "stdout",
     "output_type": "stream",
     "text": [
      "0 Hello\n",
      "1 Hello\n"
     ]
    }
   ],
   "source": [
    "my_message=5\n",
    "my_msg(2,'Hello')"
   ]
  },
  {
   "cell_type": "code",
   "execution_count": 10,
   "id": "55a6165b",
   "metadata": {},
   "outputs": [
    {
     "ename": "TypeError",
     "evalue": "'int' object is not callable",
     "output_type": "error",
     "traceback": [
      "\u001b[1;31m---------------------------------------------------------------------------\u001b[0m",
      "\u001b[1;31mTypeError\u001b[0m                                 Traceback (most recent call last)",
      "Cell \u001b[1;32mIn[10], line 1\u001b[0m\n\u001b[1;32m----> 1\u001b[0m \u001b[43mmy_message\u001b[49m\u001b[43m(\u001b[49m\u001b[38;5;241;43m2\u001b[39;49m\u001b[43m,\u001b[49m\u001b[38;5;124;43m'\u001b[39;49m\u001b[38;5;124;43mHello\u001b[39;49m\u001b[38;5;124;43m'\u001b[39;49m\u001b[43m)\u001b[49m\n",
      "\u001b[1;31mTypeError\u001b[0m: 'int' object is not callable"
     ]
    }
   ],
   "source": [
    "my_message(2,'Hello')"
   ]
  },
  {
   "cell_type": "code",
   "execution_count": 11,
   "id": "8256d608",
   "metadata": {},
   "outputs": [
    {
     "ename": "NameError",
     "evalue": "name 'my_message' is not defined",
     "output_type": "error",
     "traceback": [
      "\u001b[1;31m---------------------------------------------------------------------------\u001b[0m",
      "\u001b[1;31mNameError\u001b[0m                                 Traceback (most recent call last)",
      "Cell \u001b[1;32mIn[11], line 2\u001b[0m\n\u001b[0;32m      1\u001b[0m \u001b[38;5;28;01mdel\u001b[39;00m my_message \n\u001b[1;32m----> 2\u001b[0m \u001b[43mmy_message\u001b[49m(\u001b[38;5;241m2\u001b[39m,\u001b[38;5;124m'\u001b[39m\u001b[38;5;124mHello\u001b[39m\u001b[38;5;124m'\u001b[39m)\n",
      "\u001b[1;31mNameError\u001b[0m: name 'my_message' is not defined"
     ]
    }
   ],
   "source": [
    "del my_message \n",
    "my_message(2,'Hello')  # 변수 및 함수 제거하여도 사용자 정의 함수, 라이브러리 함수는 del하여도 사용불가"
   ]
  },
  {
   "cell_type": "code",
   "execution_count": 12,
   "id": "e8d5f6d1",
   "metadata": {},
   "outputs": [],
   "source": [
    "# 함수 중복 정의 불가(오버로딩 불가)\n",
    "def  my_hello():\n",
    "    print('Hello Python')\n",
    "    print('Hello world')\n",
    "def my_hello(cnt): #cnt번 출력\n",
    "    for i in range(cnt):\n",
    "            print('Hello, Python',end='\\t')\n",
    "            print('Hello,World')\n",
    "# 파이썬은 오버로딩이 되지 않음. 중복 정의가 안됨.            "
   ]
  },
  {
   "cell_type": "code",
   "execution_count": 13,
   "id": "84ae4358",
   "metadata": {},
   "outputs": [
    {
     "ename": "TypeError",
     "evalue": "my_hello() missing 1 required positional argument: 'cnt'",
     "output_type": "error",
     "traceback": [
      "\u001b[1;31m---------------------------------------------------------------------------\u001b[0m",
      "\u001b[1;31mTypeError\u001b[0m                                 Traceback (most recent call last)",
      "Cell \u001b[1;32mIn[13], line 1\u001b[0m\n\u001b[1;32m----> 1\u001b[0m \u001b[43mmy_hello\u001b[49m\u001b[43m(\u001b[49m\u001b[43m)\u001b[49m\n",
      "\u001b[1;31mTypeError\u001b[0m: my_hello() missing 1 required positional argument: 'cnt'"
     ]
    }
   ],
   "source": [
    "my_hello()"
   ]
  },
  {
   "cell_type": "code",
   "execution_count": 14,
   "id": "d16d8f63",
   "metadata": {},
   "outputs": [
    {
     "name": "stdout",
     "output_type": "stream",
     "text": [
      "Hello, Python\tHello,World\n",
      "Hello, Python\tHello,World\n"
     ]
    }
   ],
   "source": [
    "my_hello(2)"
   ]
  },
  {
   "cell_type": "code",
   "execution_count": 15,
   "id": "b4bd9793",
   "metadata": {},
   "outputs": [
    {
     "data": {
      "text/plain": [
       "<function __main__.my_hello(cnt)>"
      ]
     },
     "execution_count": 15,
     "metadata": {},
     "output_type": "execute_result"
    }
   ],
   "source": [
    "my_hello"
   ]
  },
  {
   "cell_type": "code",
   "execution_count": 16,
   "id": "1459fbfe",
   "metadata": {},
   "outputs": [
    {
     "data": {
      "text/plain": [
       "'__main__'"
      ]
     },
     "execution_count": 16,
     "metadata": {},
     "output_type": "execute_result"
    }
   ],
   "source": [
    "__name__"
   ]
  },
  {
   "cell_type": "code",
   "execution_count": 17,
   "id": "506984f8",
   "metadata": {},
   "outputs": [
    {
     "name": "stdout",
     "output_type": "stream",
     "text": [
      "Hello, Python\tHello,World\n",
      "Hello, Python\tHello,World\n"
     ]
    }
   ],
   "source": [
    "if __name__ == '__main__':\n",
    "    my_hello(2)"
   ]
  },
  {
   "cell_type": "code",
   "execution_count": 18,
   "id": "b15ef32d",
   "metadata": {},
   "outputs": [],
   "source": [
    "import ch05 #ch05모듈이 해석되서 메모리 로드"
   ]
  },
  {
   "cell_type": "code",
   "execution_count": 19,
   "id": "6cda791e",
   "metadata": {},
   "outputs": [
    {
     "name": "stdout",
     "output_type": "stream",
     "text": [
      "ch05\n",
      "Hello, Python\tHello,World\n",
      "Hello, Python\tHello,World\n",
      "Hello, Python\tHello,World\n"
     ]
    }
   ],
   "source": [
    "ch05.my_hello(3)"
   ]
  },
  {
   "cell_type": "code",
   "execution_count": 20,
   "id": "16958bb1",
   "metadata": {},
   "outputs": [],
   "source": [
    "from ch05 import my_hello #ch05 모듈 안에 my_hello만 메모리로드"
   ]
  },
  {
   "cell_type": "code",
   "execution_count": 21,
   "id": "e0cfb45a",
   "metadata": {},
   "outputs": [
    {
     "name": "stdout",
     "output_type": "stream",
     "text": [
      "ch05\n",
      "Hello, Python\tHello,World\n",
      "Hello, Python\tHello,World\n",
      "Hello, Python\tHello,World\n"
     ]
    }
   ],
   "source": [
    "my_hello(3)"
   ]
  },
  {
   "cell_type": "markdown",
   "id": "6d78daeb",
   "metadata": {},
   "source": [
    "## 1.2 docstring"
   ]
  },
  {
   "cell_type": "code",
   "execution_count": 22,
   "id": "19704c60",
   "metadata": {},
   "outputs": [],
   "source": [
    "def my_function():\n",
    "    \"\"\"\n",
    "    함수의 첫 라인에 독스트링을 포함할 수 있다.\n",
    "    독스트링은 함수의 설명서를 달아주는 역할\n",
    "    주석보다 많은 기능(함수호출시 shift+tab으로 독스트링을 볼 수 있음)\n",
    "    \"\"\"\n",
    "    pass"
   ]
  },
  {
   "cell_type": "code",
   "execution_count": 23,
   "id": "3a21044d",
   "metadata": {},
   "outputs": [
    {
     "name": "stdout",
     "output_type": "stream",
     "text": [
      "\n",
      "    함수의 첫 라인에 독스트링을 포함할 수 있다.\n",
      "    독스트링은 함수의 설명서를 달아주는 역할\n",
      "    주석보다 많은 기능(함수호출시 shift+tab으로 독스트링을 볼 수 있음)\n",
      "    \n"
     ]
    }
   ],
   "source": [
    "print(my_function.__doc__)"
   ]
  },
  {
   "cell_type": "markdown",
   "id": "b1722adc",
   "metadata": {},
   "source": [
    "### *fibonacci 피보나치함수"
   ]
  },
  {
   "cell_type": "code",
   "execution_count": 24,
   "id": "1760afb7",
   "metadata": {},
   "outputs": [],
   "source": [
    "def fibonacci(n):\n",
    "    '''\n",
    "    매개변수로 들어온 n값 미만의 피보나치 수열을 출력하는 함수\n",
    "    ex. n=10 :0 1 1 2 3 5 8\n",
    "        n=100:0 1 1 2 3 5 8 13 21 34 55 89\n",
    "    '''\n",
    "    a,b=0,1  # 함수 내에 선언한 변수 : 지역변수(반:전역변수)\n",
    "    while a<n:\n",
    "        print(a,end=' ')\n",
    "        a,b = b,a+b\n",
    "    print() #개행"
   ]
  },
  {
   "cell_type": "code",
   "execution_count": 25,
   "id": "1485c17e",
   "metadata": {},
   "outputs": [
    {
     "name": "stdout",
     "output_type": "stream",
     "text": [
      "0 1 1 2 3 5 8 13 21 34 55 89 144 233 377 610 987 1597 2584 4181 6765 \n"
     ]
    }
   ],
   "source": [
    "fibonacci(10000)"
   ]
  },
  {
   "cell_type": "code",
   "execution_count": 26,
   "id": "475e6d63",
   "metadata": {},
   "outputs": [
    {
     "ename": "NameError",
     "evalue": "name 'a' is not defined",
     "output_type": "error",
     "traceback": [
      "\u001b[1;31m---------------------------------------------------------------------------\u001b[0m",
      "\u001b[1;31mNameError\u001b[0m                                 Traceback (most recent call last)",
      "Cell \u001b[1;32mIn[26], line 1\u001b[0m\n\u001b[1;32m----> 1\u001b[0m \u001b[43ma\u001b[49m,b\n",
      "\u001b[1;31mNameError\u001b[0m: name 'a' is not defined"
     ]
    }
   ],
   "source": [
    "a,b #지역변수는 함수 내에서만 사용가능"
   ]
  },
  {
   "cell_type": "markdown",
   "id": "e60a4008",
   "metadata": {},
   "source": [
    "## 1.3 지역변수(local var)와 전역변수(global var)"
   ]
  },
  {
   "cell_type": "code",
   "execution_count": 27,
   "id": "66d05ab8",
   "metadata": {},
   "outputs": [
    {
     "name": "stdout",
     "output_type": "stream",
     "text": [
      "함수안 : 100\n",
      "함수밖 : 100\n"
     ]
    }
   ],
   "source": [
    "global_var=100\n",
    "def func1():\n",
    "    print('함수안 :',global_var)\n",
    "func1()\n",
    "print('함수밖 :',global_var)"
   ]
  },
  {
   "cell_type": "code",
   "execution_count": 28,
   "id": "86a4d774",
   "metadata": {},
   "outputs": [
    {
     "name": "stdout",
     "output_type": "stream",
     "text": [
      "함수안 : 200\n"
     ]
    }
   ],
   "source": [
    "def func2():\n",
    "    local_var=200 #지역변수(함수 내에서 할당)\n",
    "    print('함수안 :',local_var)\n",
    "func2()"
   ]
  },
  {
   "cell_type": "code",
   "execution_count": 29,
   "id": "1d070f5e",
   "metadata": {},
   "outputs": [],
   "source": [
    "# print('함수밖에서 지역변수 :',local_var) #에러"
   ]
  },
  {
   "cell_type": "code",
   "execution_count": 30,
   "id": "347da7cd",
   "metadata": {},
   "outputs": [
    {
     "name": "stdout",
     "output_type": "stream",
     "text": [
      "지역변수 g_var : 200\n",
      "전역변수 g_var : 100\n"
     ]
    }
   ],
   "source": [
    "g_var=100 #전역변수\n",
    "def func3():\n",
    "    g_var=200 # 지역변수 (함수 내에서 할당)\n",
    "    print('지역변수 g_var :',g_var)\n",
    "func3()\n",
    "print('전역변수 g_var :',g_var)"
   ]
  },
  {
   "cell_type": "markdown",
   "id": "4d81e847",
   "metadata": {},
   "source": [
    "### *렉시컬 스코프 (Lexical Scope): \n",
    "- 변수의 유효 범위가 코드가 작성된 위치에 의해 결정되는 방식입니다. \n",
    "- 파이썬은 렉시컬 스코프를 따릅니다. 즉, 어떤 변수를 어디서 정의했는지에 따라 그 변수를 어디서 사용할 수 있는지가 결정됩니다."
   ]
  },
  {
   "cell_type": "code",
   "execution_count": 31,
   "id": "0b83f599",
   "metadata": {},
   "outputs": [
    {
     "ename": "UnboundLocalError",
     "evalue": "local variable 'g_var' referenced before assignment",
     "output_type": "error",
     "traceback": [
      "\u001b[1;31m---------------------------------------------------------------------------\u001b[0m",
      "\u001b[1;31mUnboundLocalError\u001b[0m                         Traceback (most recent call last)",
      "Cell \u001b[1;32mIn[31], line 6\u001b[0m\n\u001b[0;32m      4\u001b[0m     \u001b[38;5;28mprint\u001b[39m(\u001b[38;5;124m'\u001b[39m\u001b[38;5;124m지역변수 g_var :\u001b[39m\u001b[38;5;124m'\u001b[39m,g_var)\n\u001b[0;32m      5\u001b[0m     g_var\u001b[38;5;241m=\u001b[39m\u001b[38;5;241m200\u001b[39m \u001b[38;5;66;03m# 지역변수 (함수 내에서 할당)\u001b[39;00m\n\u001b[1;32m----> 6\u001b[0m \u001b[43mfunc3\u001b[49m\u001b[43m(\u001b[49m\u001b[43m)\u001b[49m\n\u001b[0;32m      7\u001b[0m \u001b[38;5;28mprint\u001b[39m(\u001b[38;5;124m'\u001b[39m\u001b[38;5;124m전역변수 g_var :\u001b[39m\u001b[38;5;124m'\u001b[39m,g_var)\n",
      "Cell \u001b[1;32mIn[31], line 4\u001b[0m, in \u001b[0;36mfunc3\u001b[1;34m()\u001b[0m\n\u001b[0;32m      3\u001b[0m \u001b[38;5;28;01mdef\u001b[39;00m \u001b[38;5;21mfunc3\u001b[39m():\n\u001b[1;32m----> 4\u001b[0m     \u001b[38;5;28mprint\u001b[39m(\u001b[38;5;124m'\u001b[39m\u001b[38;5;124m지역변수 g_var :\u001b[39m\u001b[38;5;124m'\u001b[39m,\u001b[43mg_var\u001b[49m)\n\u001b[0;32m      5\u001b[0m     g_var\u001b[38;5;241m=\u001b[39m\u001b[38;5;241m200\u001b[39m\n",
      "\u001b[1;31mUnboundLocalError\u001b[0m: local variable 'g_var' referenced before assignment"
     ]
    }
   ],
   "source": [
    "# 렉시컬 특성 : 변수가 어디서 선언되었는지에 따라 변수의 범위가 정해짐(지역vs전역)\n",
    "g_var=100 #전역변수\n",
    "def func3():\n",
    "    print('지역변수 g_var :',g_var)\n",
    "    g_var=200 # 지역변수 (함수 내에서 할당)\n",
    "func3()\n",
    "print('전역변수 g_var :',g_var)"
   ]
  },
  {
   "cell_type": "code",
   "execution_count": null,
   "id": "10b78b99",
   "metadata": {},
   "outputs": [],
   "source": []
  },
  {
   "cell_type": "code",
   "execution_count": 32,
   "id": "d6db84da",
   "metadata": {},
   "outputs": [
    {
     "name": "stdout",
     "output_type": "stream",
     "text": [
      "전역변수 g_var : 100\n",
      "전역변수 g_var : 200\n"
     ]
    }
   ],
   "source": [
    "#렉시컬 특성\n",
    "g_var=100 #전역변수\n",
    "def func3():\n",
    "    global g_var # 함수 내에서의 g_var는 전역변수를 쓰겠다\n",
    "    global g_var1\n",
    "    print('전역변수 g_var :', g_var)\n",
    "    g_var=200 # 전역변수 g_var에 200할당\n",
    "func3()\n",
    "print('전역변수 g_var :', g_var)"
   ]
  },
  {
   "cell_type": "markdown",
   "id": "d2115536",
   "metadata": {},
   "source": [
    "## 1.4 값에 의한 호출(Call by Value)\n",
    "- 함수에 인수로 전달되는 변수가 스칼라변수(문자,숫자,논리형)일 때\n",
    "- **변경 불가능(Immutable) 객체: 정수(int), 실수(float), 문자열(str), 튜플(tuple), frozenset 등"
   ]
  },
  {
   "cell_type": "code",
   "execution_count": 33,
   "id": "6597cbac",
   "metadata": {},
   "outputs": [
    {
     "data": {
      "text/plain": [
       "2964941596592"
      ]
     },
     "execution_count": 33,
     "metadata": {},
     "output_type": "execute_result"
    }
   ],
   "source": [
    "foo = 'a' #전역변수\n",
    "id(foo)"
   ]
  },
  {
   "cell_type": "code",
   "execution_count": 34,
   "id": "de57701c",
   "metadata": {},
   "outputs": [
    {
     "name": "stdout",
     "output_type": "stream",
     "text": [
      "Before : a 의 주소는  2964941596592\n",
      "After : aaa 의 주소는  2965049408880\n"
     ]
    }
   ],
   "source": [
    "def func1(f): #매개변수는 지역변수 \n",
    "    print('Before :',f,'의 주소는 ',id(f))\n",
    "    f = f*3\n",
    "    print('After :',f,'의 주소는 ',id(f))\n",
    "func1(foo)"
   ]
  },
  {
   "cell_type": "code",
   "execution_count": 35,
   "id": "1635d5f7",
   "metadata": {},
   "outputs": [
    {
     "name": "stdout",
     "output_type": "stream",
     "text": [
      "foo =  a 의 주소는  2964941596592\n"
     ]
    }
   ],
   "source": [
    "print('foo = ',foo,'의 주소는 ',id(foo))"
   ]
  },
  {
   "cell_type": "markdown",
   "id": "becea252",
   "metadata": {},
   "source": [
    "## 1.5 참조에 의한 호출(Call by Reference)\n",
    "- 함수에 인수로 전달되는 변수가 리스트, 튜플, 셋, 딕셔너리, 기차 객체일 경우\n",
    "- **변경 가능(Mutable) 객체: 리스트(list), 딕셔너리(dict), 셋(set), 사용자 정의 객체 등\n"
   ]
  },
  {
   "cell_type": "code",
   "execution_count": 36,
   "id": "7784083d",
   "metadata": {},
   "outputs": [
    {
     "data": {
      "text/plain": [
       "2965049615360"
      ]
     },
     "execution_count": 36,
     "metadata": {},
     "output_type": "execute_result"
    }
   ],
   "source": [
    "L=[1,2,3,4,5]\n",
    "id(L)"
   ]
  },
  {
   "cell_type": "code",
   "execution_count": 37,
   "id": "cb70e55c",
   "metadata": {},
   "outputs": [
    {
     "name": "stdout",
     "output_type": "stream",
     "text": [
      "Before : [1, 2, 3, 4, 5] 의 주소는  2965049615360\n",
      "After : [1, 2, 3, 4, 5, 6] 의 주소는  2965049615360\n"
     ]
    }
   ],
   "source": [
    "def func2(f): #매개변수는 지역변수\n",
    "    print('Before :',f,'의 주소는 ',id(f))\n",
    "    f.append(6)\n",
    "    print('After :',f,'의 주소는 ',id(f))\n",
    "func2(L)"
   ]
  },
  {
   "cell_type": "code",
   "execution_count": 38,
   "id": "395f60c5",
   "metadata": {},
   "outputs": [
    {
     "name": "stdout",
     "output_type": "stream",
     "text": [
      "L= [1, 2, 3, 4, 5, 6] 의 주소는 2965049615360\n"
     ]
    }
   ],
   "source": [
    "print('L=', L,'의 주소는',id(L))"
   ]
  },
  {
   "cell_type": "markdown",
   "id": "c1d30d51",
   "metadata": {},
   "source": [
    "# 2절. 함수의 실행결과를 반환하는 return"
   ]
  },
  {
   "cell_type": "markdown",
   "id": "9b666469",
   "metadata": {},
   "source": [
    "### ** return있는 피보나치 수열 출력함수"
   ]
  },
  {
   "cell_type": "code",
   "execution_count": 39,
   "id": "09a1955b",
   "metadata": {},
   "outputs": [],
   "source": [
    "def fibonacci_print(n):\n",
    "    '매개변수로 들어온 n값 미만의 피보나치 수열을 출력하는 함수'\n",
    "    a, b = 0, 1 # 함수 내에 선언한 변수 : 지역변수 (반:전역변수)\n",
    "    while a < n:\n",
    "        print(a, end=' ') # 출력\n",
    "        a, b = b, a+b\n",
    "    print() # 개행\n",
    "def fibonacci(n):\n",
    "    \"n미만의 피보나치수열을 리스트로 return\"\n",
    "    result = [] # 피보나치수열을 append할 리스트\n",
    "    a, b = 0, 1\n",
    "    while a<n:\n",
    "        result.append(a) # 리스트에 append\n",
    "        a, b = b, a+b\n",
    "    return result"
   ]
  },
  {
   "cell_type": "code",
   "execution_count": 40,
   "id": "f0032d88",
   "metadata": {},
   "outputs": [
    {
     "name": "stdout",
     "output_type": "stream",
     "text": [
      "[0, 1, 1, 2, 3, 5, 8]\n",
      "<class 'list'>\n"
     ]
    }
   ],
   "source": [
    "x=fibonacci(10)\n",
    "print(x)\n",
    "print(type(x))"
   ]
  },
  {
   "cell_type": "code",
   "execution_count": 42,
   "id": "13cff95f",
   "metadata": {},
   "outputs": [
    {
     "name": "stdout",
     "output_type": "stream",
     "text": [
      "x= [0, 1, 1, 2, 3, 5, 8]\n",
      "<class 'list'>\n"
     ]
    }
   ],
   "source": [
    "x = fibonacci(10)\n",
    "print('x=',x)\n",
    "print(type(x))"
   ]
  },
  {
   "cell_type": "markdown",
   "id": "b05adecb",
   "metadata": {},
   "source": [
    "### *여러 개 값  return\n",
    "- 여러 개의 갑을 갖는 튜플로 return"
   ]
  },
  {
   "cell_type": "code",
   "execution_count": 43,
   "id": "e8948b50",
   "metadata": {},
   "outputs": [],
   "source": [
    "def swap(a,b):\n",
    "    '매개변수의 순서를 바꿔서 return'\n",
    "    return b,a #return (b,a)"
   ]
  },
  {
   "cell_type": "code",
   "execution_count": 49,
   "id": "2caca7c4",
   "metadata": {},
   "outputs": [
    {
     "name": "stdout",
     "output_type": "stream",
     "text": [
      "함수 실행 전 x,y = 5 10\n",
      "<class 'tuple'>\n",
      "함수 실행 후 x,y = 10 5\n"
     ]
    }
   ],
   "source": [
    "# x,y=5,10\n",
    "x=5; y=10\n",
    "print('함수 실행 전 x,y =',x,y)\n",
    "x,y=swap(x,y)\n",
    "print(type(swap(x,y)))\n",
    "print('함수 실행 후 x,y =',x,y)"
   ]
  },
  {
   "cell_type": "markdown",
   "id": "14635fe5",
   "metadata": {},
   "source": [
    "# 3절 ★함수 매개변수★\n",
    "\n",
    "## 3.1 기본값을 갖는 매개변수"
   ]
  },
  {
   "cell_type": "code",
   "execution_count": 50,
   "id": "97dc11af",
   "metadata": {},
   "outputs": [],
   "source": [
    "def make_url(ip,port=80): #순서인수 > 기본값을 갖는 매개변수\n",
    "    return \"http://{}:{}\".format(ip,port)"
   ]
  },
  {
   "cell_type": "code",
   "execution_count": 53,
   "id": "2068851b",
   "metadata": {},
   "outputs": [
    {
     "name": "stdout",
     "output_type": "stream",
     "text": [
      "http://localhost:8090\n",
      "http://www.naver.com:80\n",
      "http://localhost:9090\n"
     ]
    }
   ],
   "source": [
    "print(make_url(\"localhost\",8090))\n",
    "print(make_url(\"www.naver.com\"))\n",
    "print(make_url(port=9090,ip=\"localhost\"))"
   ]
  },
  {
   "cell_type": "code",
   "execution_count": 54,
   "id": "1ebd2ce5",
   "metadata": {},
   "outputs": [
    {
     "ename": "SyntaxError",
     "evalue": "non-default argument follows default argument (2936105837.py, line 1)",
     "output_type": "error",
     "traceback": [
      "\u001b[1;36m  Cell \u001b[1;32mIn[54], line 1\u001b[1;36m\u001b[0m\n\u001b[1;33m    def make_url(port=80,ip):\u001b[0m\n\u001b[1;37m                         ^\u001b[0m\n\u001b[1;31mSyntaxError\u001b[0m\u001b[1;31m:\u001b[0m non-default argument follows default argument\n"
     ]
    }
   ],
   "source": [
    "#에러남 : 순서인수가 먼저 나오고 기본값을 갖는 인수가 나오지않고 반대로 되면 에러남.\n",
    "# def make_url(port=80,ip):\n",
    "#     return \"http://{}:{}\".format(ip,port)"
   ]
  },
  {
   "cell_type": "code",
   "execution_count": 56,
   "id": "eec08473",
   "metadata": {},
   "outputs": [],
   "source": [
    "def make_url(port=80,ip='localhost'):\n",
    "    return \"http://{}:{}\".format(ip,port)"
   ]
  },
  {
   "cell_type": "markdown",
   "id": "f5f1628a",
   "metadata": {},
   "source": [
    "## 3.2 기본변수를 (기본값으로) 갖는 매개변수\n",
    "- 기본변수가 스칼라변수(문자,숫자,논리형)일 때\n",
    "- 기본변수가 리스트, 셋, 딕셔너리, 기타 객체일 때"
   ]
  },
  {
   "cell_type": "code",
   "execution_count": 64,
   "id": "edb68ff2",
   "metadata": {},
   "outputs": [],
   "source": [
    "i=80\n",
    "# 기본변수가 스칼라변수일 때 : 함수가 정의되는 싯점으로 기본값 셋팅\n",
    "def make_url(ip,port=i):\n",
    "    return \"http://{}:{}\".format(ip,port)"
   ]
  },
  {
   "cell_type": "code",
   "execution_count": 63,
   "id": "aee98e64",
   "metadata": {},
   "outputs": [
    {
     "data": {
      "text/plain": [
       "'http://localhost:80'"
      ]
     },
     "execution_count": 63,
     "metadata": {},
     "output_type": "execute_result"
    }
   ],
   "source": [
    "i=999999\n",
    "make_url(\"localhost\")"
   ]
  },
  {
   "cell_type": "code",
   "execution_count": 1,
   "id": "693a678e",
   "metadata": {},
   "outputs": [
    {
     "name": "stdout",
     "output_type": "stream",
     "text": [
      "[10]\n"
     ]
    }
   ],
   "source": [
    "list_=[]\n",
    "#기본변수가 리스트, 셋, 딕셔너리, 다른 기타 객체일 때: 함수가 실행되는 싯점으로 기본값 세팅\n",
    "def func3(a,L=list_):\n",
    "    L.append(a)\n",
    "    return L\n",
    "print(func3(10))"
   ]
  },
  {
   "cell_type": "code",
   "execution_count": 2,
   "id": "85f588d8",
   "metadata": {},
   "outputs": [
    {
     "name": "stdout",
     "output_type": "stream",
     "text": [
      "[10, 20]\n"
     ]
    }
   ],
   "source": [
    "print(func3(20))"
   ]
  },
  {
   "cell_type": "code",
   "execution_count": 3,
   "id": "8f85ad2b",
   "metadata": {},
   "outputs": [
    {
     "name": "stdout",
     "output_type": "stream",
     "text": [
      "list_=  [10, 20]\n"
     ]
    }
   ],
   "source": [
    "print(\"list_= \",list_)"
   ]
  },
  {
   "cell_type": "code",
   "execution_count": 4,
   "id": "362ed215",
   "metadata": {},
   "outputs": [
    {
     "name": "stdout",
     "output_type": "stream",
     "text": [
      "[10, 20, 50]\n"
     ]
    }
   ],
   "source": [
    "print(func3(50))"
   ]
  },
  {
   "cell_type": "markdown",
   "id": "89e309d2",
   "metadata": {},
   "source": [
    "### *실행할 때마다 L을 공유하는게 싫으면"
   ]
  },
  {
   "cell_type": "code",
   "execution_count": 10,
   "id": "15f0e46a",
   "metadata": {},
   "outputs": [
    {
     "name": "stdout",
     "output_type": "stream",
     "text": [
      "[10]\n",
      "[10]\n",
      "[10]\n",
      "[1, 2, 3, 10]\n"
     ]
    }
   ],
   "source": [
    "#실행할 때마다 L을 공유하는게 싫으면 \n",
    "def func3(a,L=None):\n",
    "    if L is None:\n",
    "        L=[]\n",
    "    L.append(a)\n",
    "    return L\n",
    "print(func3(10))\n",
    "print(func3(10))\n",
    "print(func3(10))\n",
    "print(func3(10,[1,2,3]))"
   ]
  },
  {
   "cell_type": "code",
   "execution_count": 7,
   "id": "34bf6004",
   "metadata": {},
   "outputs": [
    {
     "name": "stdout",
     "output_type": "stream",
     "text": [
      "[20]\n"
     ]
    }
   ],
   "source": [
    "print(func3(20))"
   ]
  },
  {
   "cell_type": "markdown",
   "id": "ac7b96af",
   "metadata": {},
   "source": [
    "## 3.3 순서인수,키워드인수\n",
    "- 순서인수 : 함수에 정의된 순서대로 전달방식\n",
    "- 키워드인수 : 인수의 이름을 명시하는 방식\n",
    "- 함수 정의시 순서인수와 키워드인수가 같이 올 때는 <font size=\"6\"  color=\"red\">순서인수 > 키워드인수 순</font>으로 와야 함."
   ]
  },
  {
   "cell_type": "code",
   "execution_count": 11,
   "id": "ba062001",
   "metadata": {},
   "outputs": [],
   "source": [
    "def func3(a,L=None):\n",
    "    if L is None:\n",
    "        L=[]\n",
    "    L.append(a)\n",
    "    return L"
   ]
  },
  {
   "cell_type": "code",
   "execution_count": 13,
   "id": "d7159be6",
   "metadata": {},
   "outputs": [
    {
     "name": "stdout",
     "output_type": "stream",
     "text": [
      "[10]\n",
      "[10, 20]\n"
     ]
    }
   ],
   "source": [
    "lst=[]\n",
    "print(func3(10,lst))     #순서인수: 함수 정의된 순서대로 전달하는 방식\n",
    "print(func3(L=lst,a=20)) #키워드 인수 : 인수의 이름을 명시하여 전달하는 방식\n",
    "# print(func3(L=lst,20)) 순서인수가 뒤에 올때 단순 값만 적으면 에러남"
   ]
  },
  {
   "cell_type": "markdown",
   "id": "6cec2a67",
   "metadata": {},
   "source": [
    "## 3.4 튜플매개변수를 이용한 가변인수 설정\n",
    "- 가변인수 : 매개변수의 갯수가 가변\n",
    "- <font size=\"6\"  color=\"red\">파이썬은 함수의 중복정의(오버로딩)을 지원하지 않음</font>"
   ]
  },
  {
   "cell_type": "code",
   "execution_count": 19,
   "id": "2925c405",
   "metadata": {},
   "outputs": [],
   "source": [
    "#파이썬은 함수의 중복정의(오버로딩)을 지원하지 않음\n",
    "def add(a,b):\n",
    "    return  a+b\n",
    "def add(a,b,c):\n",
    "    return a+b+c"
   ]
  },
  {
   "cell_type": "code",
   "execution_count": 17,
   "id": "134d9651",
   "metadata": {},
   "outputs": [
    {
     "data": {
      "text/plain": [
       "10"
      ]
     },
     "execution_count": 17,
     "metadata": {},
     "output_type": "execute_result"
    }
   ],
   "source": [
    "파이썬은 함수의 중복정의(오버로딩)을 지원하지 않음add(3,5,2)"
   ]
  },
  {
   "cell_type": "code",
   "execution_count": 18,
   "id": "5a6687b7",
   "metadata": {},
   "outputs": [
    {
     "ename": "TypeError",
     "evalue": "add() missing 1 required positional argument: 'c'",
     "output_type": "error",
     "traceback": [
      "\u001b[1;31m---------------------------------------------------------------------------\u001b[0m",
      "\u001b[1;31mTypeError\u001b[0m                                 Traceback (most recent call last)",
      "Cell \u001b[1;32mIn[18], line 1\u001b[0m\n\u001b[1;32m----> 1\u001b[0m \u001b[43madd\u001b[49m\u001b[43m(\u001b[49m\u001b[38;5;241;43m3\u001b[39;49m\u001b[43m,\u001b[49m\u001b[38;5;241;43m5\u001b[39;49m\u001b[43m)\u001b[49m\n",
      "\u001b[1;31mTypeError\u001b[0m: add() missing 1 required positional argument: 'c'"
     ]
    }
   ],
   "source": [
    "add(3,5)"
   ]
  },
  {
   "cell_type": "markdown",
   "id": "3caef73d",
   "metadata": {},
   "source": [
    "### **<font size=\"3\"  color=\"red\">args앞에 * :  args가 튜플로 전달받는다.</font>"
   ]
  },
  {
   "cell_type": "code",
   "execution_count": 26,
   "id": "dfa9c6e1",
   "metadata": {},
   "outputs": [],
   "source": [
    "# args앞에 * :args가 튜플로 전달받는다.\n",
    "def add(*args):\n",
    "    #print('args=',args)\n",
    "    '전달받은 매개변수들의 합을 return. 매개변수가 없는 경우 0을 return'\n",
    "    sum = 0 # 누적변수\n",
    "    for num in args:\n",
    "        sum+=num # sum=sum+num\n",
    "    return sum"
   ]
  },
  {
   "cell_type": "code",
   "execution_count": 30,
   "id": "fc24bd67",
   "metadata": {},
   "outputs": [
    {
     "name": "stdout",
     "output_type": "stream",
     "text": [
      "0\n",
      "1\n",
      "4\n",
      "25\n"
     ]
    }
   ],
   "source": [
    "print(add())\n",
    "print(add(1))\n",
    "print(add(1,3))\n",
    "print(add(1,2,5,7,9,1))"
   ]
  },
  {
   "cell_type": "code",
   "execution_count": 31,
   "id": "31bc0843",
   "metadata": {},
   "outputs": [
    {
     "data": {
      "text/plain": [
       "'Python-Html/CSS-JavaScript-Oracle/MySQL'"
      ]
     },
     "execution_count": 31,
     "metadata": {},
     "output_type": "execute_result"
    }
   ],
   "source": [
    "subject=('Python','Html/CSS','JavaScript','DBMS')\n",
    "'-'.join(subject)"
   ]
  },
  {
   "cell_type": "markdown",
   "id": "85936e16",
   "metadata": {},
   "source": [
    "###  **튜플 매개변수와 일반매개변수가 같이 있을 때"
   ]
  },
  {
   "cell_type": "code",
   "execution_count": 35,
   "id": "b4f25b40",
   "metadata": {},
   "outputs": [],
   "source": [
    "# 튜플 매개변수와 일반매개변수가 같이 있을 때\n",
    "def concat(*subject,sep):\n",
    "    return sep.join(subject)"
   ]
  },
  {
   "cell_type": "code",
   "execution_count": 84,
   "id": "95363346",
   "metadata": {},
   "outputs": [
    {
     "data": {
      "text/plain": [
       "'Html/CSSPythonJavaScriptPythonDBMSPython-'"
      ]
     },
     "execution_count": 84,
     "metadata": {},
     "output_type": "execute_result"
    }
   ],
   "source": [
    "concat('Python','Html/CSS','JavaScript','DBMS','-')\n",
    "#에러"
   ]
  },
  {
   "cell_type": "code",
   "execution_count": 39,
   "id": "6d152634",
   "metadata": {},
   "outputs": [
    {
     "data": {
      "text/plain": [
       "'Python-Html/CSS-JavaScript-DBMS'"
      ]
     },
     "execution_count": 39,
     "metadata": {},
     "output_type": "execute_result"
    }
   ],
   "source": [
    "# 해결책1 :매개변수 이름ㅇ늘 지정해서 호출\n",
    "concat('Python','Html/CSS','JavaScript','DBMS',sep='-')"
   ]
  },
  {
   "cell_type": "code",
   "execution_count": 43,
   "id": "81b8e5eb",
   "metadata": {},
   "outputs": [
    {
     "name": "stdout",
     "output_type": "stream",
     "text": [
      "Python ~ Html/CSS ~ JavaScript ~ DBMS\n",
      "Python-Html/CSS-JavaScript-DBMS\n"
     ]
    }
   ],
   "source": [
    "# 해결책2 : 기본값을 갖는 키워드 인수 사용\n",
    "def concat(*subject, sep=' ~ '): #튜플매개변수 > 키워드인수\n",
    "    return sep.join(subject)\n",
    "print(concat('Python','Html/CSS','JavaScript','DBMS'))\n",
    "print(concat('Python','Html/CSS','JavaScript','DBMS',sep='-'))"
   ]
  },
  {
   "cell_type": "code",
   "execution_count": 44,
   "id": "aafd5ca0",
   "metadata": {},
   "outputs": [
    {
     "name": "stdout",
     "output_type": "stream",
     "text": [
      "python=web=js\n"
     ]
    }
   ],
   "source": [
    "print('python','web','js',sep='=')"
   ]
  },
  {
   "cell_type": "markdown",
   "id": "534ab1dd",
   "metadata": {},
   "source": [
    "### **<font size=\"3\"  color=\"red\">튜플 매개변수와 일반매개변수가 같이 있을 때 : sep을 순서인수로 앞으로 </font>"
   ]
  },
  {
   "cell_type": "code",
   "execution_count": 45,
   "id": "656783af",
   "metadata": {},
   "outputs": [],
   "source": [
    "# 해결책3 (추천) : sep을 순서인수로 앞으로 \n",
    "def concat(sep,*subject):\n",
    "    return sep.join(subject)"
   ]
  },
  {
   "cell_type": "code",
   "execution_count": 46,
   "id": "bb7ae64b",
   "metadata": {},
   "outputs": [
    {
     "data": {
      "text/plain": [
       "'Python~Web~DB~MLDL'"
      ]
     },
     "execution_count": 46,
     "metadata": {},
     "output_type": "execute_result"
    }
   ],
   "source": [
    "concat('~','Python','Web','DB','MLDL')"
   ]
  },
  {
   "cell_type": "markdown",
   "id": "bd8a1270",
   "metadata": {},
   "source": [
    "## 3.5 딕셔너리 매개변수\n",
    "- 딕셔너리 인수 : 여러개의 키워드 인수를 딕셔너리 형태로 받아서 가변인수로 처리"
   ]
  },
  {
   "cell_type": "code",
   "execution_count": 82,
   "id": "e2492234",
   "metadata": {},
   "outputs": [],
   "source": [
    "def func5(**args):\n",
    "    print(args)\n",
    "    print(type(args))\n",
    "    if not 'address' in args: # args에 address 키가 없으면 if문 True\n",
    "        # args['address']='서울시 관악구'\n",
    "        # args.update({'address':'서울시 관악구'})\n",
    "        args.update(address='서울시 관악구')\n",
    "    for key, value in args.items():\n",
    "        print(\"{} : {}\".format(key,value))"
   ]
  },
  {
   "cell_type": "code",
   "execution_count": 83,
   "id": "2362edd2",
   "metadata": {},
   "outputs": [
    {
     "name": "stdout",
     "output_type": "stream",
     "text": [
      "{'nam': '홍길동', 'age': 30, 'tel': '010-9999-9999'}\n",
      "<class 'dict'>\n",
      "nam : 홍길동\n",
      "age : 30\n",
      "tel : 010-9999-9999\n",
      "address : 서울시 관악구\n"
     ]
    }
   ],
   "source": [
    "func5(nam='홍길동',\n",
    "      age=30,\n",
    "      tel='010-9999-9999')"
   ]
  },
  {
   "cell_type": "code",
   "execution_count": 76,
   "id": "9c34fdbe",
   "metadata": {},
   "outputs": [],
   "source": [
    "def func5(**args): # args : 딕셔너리로 전달받음\n",
    "    print('이름 :',args.get('name','몰라'))\n",
    "    print('나이 :',args.get('age',30))\n",
    "    print('전화 :',args.get('tel','없음'))\n",
    "    print('주소 :',args.get('address','서울 관악'))"
   ]
  },
  {
   "cell_type": "code",
   "execution_count": 77,
   "id": "ec3bf38a",
   "metadata": {},
   "outputs": [
    {
     "name": "stdout",
     "output_type": "stream",
     "text": [
      "이름 : 몰라\n",
      "나이 : 30\n",
      "전화 : 010-9999-9999\n",
      "주소 : 서울 관악\n"
     ]
    }
   ],
   "source": [
    "func5(nam='홍길동',\n",
    "      age=30,\n",
    "      tel='010-9999-9999')"
   ]
  },
  {
   "cell_type": "markdown",
   "id": "2fd18450",
   "metadata": {},
   "source": [
    "## 3.6 함수 정의 시 매개변수의 순서\n",
    "- **순서: 순서인수 -> 튜플인수(*) -> 키워드인수(기본값) -> 딕셔너리인수(**)"
   ]
  },
  {
   "cell_type": "code",
   "execution_count": 87,
   "id": "e3f477f6",
   "metadata": {},
   "outputs": [],
   "source": [
    "# 순서인수 -> 튜플인수(*) -> 딕셔너리인수(**)\n",
    "def func6(a,b,*c,**d):\n",
    "    print('순서인수     a = ',a)\n",
    "    print('순서인수     b = ',b)\n",
    "    print('튜플인수     c = ',c)\n",
    "    print('딕셔너리인수 d = ',d)"
   ]
  },
  {
   "cell_type": "code",
   "execution_count": 89,
   "id": "cd64d765",
   "metadata": {},
   "outputs": [
    {
     "name": "stdout",
     "output_type": "stream",
     "text": [
      "순서인수     a =  10\n",
      "순서인수     b =  20\n",
      "튜플인수     c =  (1, 2, 3, 4, 5, 6, 7, 8, 9, 'a', 'b', True)\n",
      "딕셔너리인수 d =  {'name': '홍', 'age': 30, 'address': '신림'}\n"
     ]
    }
   ],
   "source": [
    "func6(10,20,1,2,3,4,5,6,7,8,9,'a','b',True,name='홍',age=30,address='신림')"
   ]
  },
  {
   "cell_type": "markdown",
   "id": "fa2c107c",
   "metadata": {},
   "source": [
    "###  ** 예제)매개변수의 순서"
   ]
  },
  {
   "cell_type": "code",
   "execution_count": 100,
   "id": "99bcc9dc",
   "metadata": {},
   "outputs": [],
   "source": [
    "# 순서인수 -> 튜플인수(*) -> 키워드인수(기본값) -> 딕셔너리인수(**)\n",
    "def func7(a,b,c,*d,e=10,**f):\n",
    "    print('순서인수               a = ',a)\n",
    "    print('순서인수               b = ',b)\n",
    "    print('순서인수               c = ',c)\n",
    "    print('튜플인수               d = ',d)\n",
    "    print('키워드인수(기본값 10)  e = ',e)\n",
    "    print('딕셔너리인수           f = ',f)"
   ]
  },
  {
   "cell_type": "code",
   "execution_count": 101,
   "id": "aff2f942",
   "metadata": {},
   "outputs": [
    {
     "name": "stdout",
     "output_type": "stream",
     "text": [
      "순서인수               a =  10\n",
      "순서인수               b =  20\n",
      "순서인수               c =  30\n",
      "튜플인수               d =  (1, 2, 3, 4, 5)\n",
      "키워드인수(기본값 10)  e =  100\n",
      "딕셔너리인수           f =  {'shape': 'rect', 'width': 20, 'height': 30}\n"
     ]
    }
   ],
   "source": [
    "func7(10,20,30,1,2,3,4,5,e=100,shape='rect',width=20, height=30)"
   ]
  },
  {
   "cell_type": "code",
   "execution_count": 102,
   "id": "9aa3c3c4",
   "metadata": {},
   "outputs": [
    {
     "name": "stdout",
     "output_type": "stream",
     "text": [
      "순서인수               a =  10\n",
      "순서인수               b =  20\n",
      "순서인수               c =  30\n",
      "튜플인수               d =  ()\n",
      "키워드인수(기본값 10)  e =  10\n",
      "딕셔너리인수           f =  {}\n"
     ]
    }
   ],
   "source": [
    "func7(10,20,30)"
   ]
  },
  {
   "cell_type": "code",
   "execution_count": 103,
   "id": "4603bc7f",
   "metadata": {},
   "outputs": [
    {
     "name": "stdout",
     "output_type": "stream",
     "text": [
      "순서인수               a =  10\n",
      "순서인수               b =  20\n",
      "순서인수               c =  30\n",
      "튜플인수               d =  ()\n",
      "키워드인수(기본값 10)  e =  100\n",
      "딕셔너리인수           f =  {}\n"
     ]
    }
   ],
   "source": [
    "func7(10,20,30,e=100)"
   ]
  },
  {
   "cell_type": "markdown",
   "id": "a299f951",
   "metadata": {},
   "source": [
    "## 3.7 인수의 언패킹\n",
    "\n",
    "### 튜플인수 언패킹\n",
    "- 언패킹  : 함수 호출 시 매개변수 앞에 *붙임\n",
    "- 패킹    : 함수 정의시 매개변수 앞에 *붙임(튜플매개변수"
   ]
  },
  {
   "cell_type": "code",
   "execution_count": 111,
   "id": "1f72e01b",
   "metadata": {},
   "outputs": [],
   "source": [
    "def add(*args):\n",
    "    sum = 0\n",
    "    for num in args:\n",
    "        sum+=num\n",
    "    return sum"
   ]
  },
  {
   "cell_type": "code",
   "execution_count": 112,
   "id": "7ffad65a",
   "metadata": {},
   "outputs": [
    {
     "data": {
      "text/plain": [
       "6"
      ]
     },
     "execution_count": 112,
     "metadata": {},
     "output_type": "execute_result"
    }
   ],
   "source": [
    "add(1,2,3)"
   ]
  },
  {
   "cell_type": "code",
   "execution_count": 113,
   "id": "1fa0253e",
   "metadata": {},
   "outputs": [
    {
     "data": {
      "text/plain": [
       "6"
      ]
     },
     "execution_count": 113,
     "metadata": {},
     "output_type": "execute_result"
    }
   ],
   "source": [
    "numbers = (1,2,3)\n",
    "add(*numbers)"
   ]
  },
  {
   "cell_type": "code",
   "execution_count": 109,
   "id": "fc09a6f7",
   "metadata": {},
   "outputs": [
    {
     "name": "stdout",
     "output_type": "stream",
     "text": [
      "(1, 2, 3)\n",
      "((1, 2, 3),)\n"
     ]
    }
   ],
   "source": [
    "# 참조\n",
    "def add(*args):\n",
    "    print(args)\n",
    "add(1,2,3)\n",
    "numbers=(1,2,3)\n",
    "add(numbers)"
   ]
  },
  {
   "cell_type": "markdown",
   "id": "7f3d30e1",
   "metadata": {},
   "source": [
    "### 딕셔너리 인수 언패킹"
   ]
  },
  {
   "cell_type": "code",
   "execution_count": 115,
   "id": "c9e32932",
   "metadata": {},
   "outputs": [],
   "source": [
    "def func8(**data):\n",
    "    print(data)\n",
    "    for item in data.items():\n",
    "        print(item)"
   ]
  },
  {
   "cell_type": "code",
   "execution_count": 116,
   "id": "f3ce8cd9",
   "metadata": {},
   "outputs": [
    {
     "name": "stdout",
     "output_type": "stream",
     "text": [
      "{'shape': 'rect', 'width': 40, 'height': 30}\n",
      "('shape', 'rect')\n",
      "('width', 40)\n",
      "('height', 30)\n"
     ]
    }
   ],
   "source": [
    "func8(shape='rect',width=40,height=30)"
   ]
  },
  {
   "cell_type": "code",
   "execution_count": 118,
   "id": "31dcfcf6",
   "metadata": {},
   "outputs": [
    {
     "ename": "TypeError",
     "evalue": "func8() takes 0 positional arguments but 1 was given",
     "output_type": "error",
     "traceback": [
      "\u001b[1;31m---------------------------------------------------------------------------\u001b[0m",
      "\u001b[1;31mTypeError\u001b[0m                                 Traceback (most recent call last)",
      "Cell \u001b[1;32mIn[118], line 2\u001b[0m\n\u001b[0;32m      1\u001b[0m info \u001b[38;5;241m=\u001b[39m {\u001b[38;5;124m'\u001b[39m\u001b[38;5;124mshape\u001b[39m\u001b[38;5;124m'\u001b[39m:\u001b[38;5;124m'\u001b[39m\u001b[38;5;124mrect\u001b[39m\u001b[38;5;124m'\u001b[39m,\u001b[38;5;124m'\u001b[39m\u001b[38;5;124mwidth\u001b[39m\u001b[38;5;124m'\u001b[39m:\u001b[38;5;241m40\u001b[39m,\u001b[38;5;124m'\u001b[39m\u001b[38;5;124mheight\u001b[39m\u001b[38;5;124m'\u001b[39m:\u001b[38;5;241m30\u001b[39m}\n\u001b[1;32m----> 2\u001b[0m \u001b[43mfunc8\u001b[49m\u001b[43m(\u001b[49m\u001b[43minfo\u001b[49m\u001b[43m)\u001b[49m\n",
      "\u001b[1;31mTypeError\u001b[0m: func8() takes 0 positional arguments but 1 was given"
     ]
    }
   ],
   "source": [
    "info = {'shape':'rect','width':40,'height':30}\n",
    "func8(info) #에러"
   ]
  },
  {
   "cell_type": "code",
   "execution_count": 119,
   "id": "8db3abf7",
   "metadata": {},
   "outputs": [
    {
     "name": "stdout",
     "output_type": "stream",
     "text": [
      "{'shape': 'rect', 'width': 40, 'height': 30}\n",
      "('shape', 'rect')\n",
      "('width', 40)\n",
      "('height', 30)\n"
     ]
    }
   ],
   "source": [
    "info = {'shape':'rect','width':40,'height':30}\n",
    "func8(**info)"
   ]
  },
  {
   "cell_type": "code",
   "execution_count": null,
   "id": "0db6e96e",
   "metadata": {},
   "outputs": [],
   "source": []
  },
  {
   "cell_type": "code",
   "execution_count": null,
   "id": "83f6a6c4",
   "metadata": {},
   "outputs": [],
   "source": []
  },
  {
   "cell_type": "code",
   "execution_count": null,
   "id": "42792c72",
   "metadata": {},
   "outputs": [],
   "source": []
  }
 ],
 "metadata": {
  "kernelspec": {
   "display_name": "Python 3 (ipykernel)",
   "language": "python",
   "name": "python3"
  },
  "language_info": {
   "codemirror_mode": {
    "name": "ipython",
    "version": 3
   },
   "file_extension": ".py",
   "mimetype": "text/x-python",
   "name": "python",
   "nbconvert_exporter": "python",
   "pygments_lexer": "ipython3",
   "version": "3.10.9"
  },
  "toc": {
   "base_numbering": 1,
   "nav_menu": {},
   "number_sections": false,
   "sideBar": true,
   "skip_h1_title": false,
   "title_cell": "Table of Contents",
   "title_sidebar": "Contents",
   "toc_cell": false,
   "toc_position": {
    "height": "calc(100% - 180px)",
    "left": "10px",
    "top": "150px",
    "width": "165px"
   },
   "toc_section_display": true,
   "toc_window_display": true
  }
 },
 "nbformat": 4,
 "nbformat_minor": 5
}
